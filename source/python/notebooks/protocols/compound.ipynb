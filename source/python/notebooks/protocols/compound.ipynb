{
 "cells": [
  {
   "cell_type": "code",
   "execution_count": 1,
   "id": "b471e47a",
   "metadata": {
    "ExecuteTime": {
     "end_time": "2022-09-25T22:53:27.621054Z",
     "start_time": "2022-09-25T22:53:27.580815Z"
    }
   },
   "outputs": [],
   "source": [
    "from ctc.protocols import compound_utils"
   ]
  },
  {
   "cell_type": "code",
   "execution_count": 2,
   "id": "a1b1ffef",
   "metadata": {
    "ExecuteTime": {
     "end_time": "2022-09-25T22:53:27.626973Z",
     "start_time": "2022-09-25T22:53:27.624477Z"
    }
   },
   "outputs": [],
   "source": [
    "ctoken = '0x35a18000230da775cac24873d00ff85bccded550'"
   ]
  },
  {
   "cell_type": "markdown",
   "id": "76946c28",
   "metadata": {
    "ExecuteTime": {
     "end_time": "2022-04-27T02:39:14.395406Z",
     "start_time": "2022-04-27T02:39:14.392070Z"
    }
   },
   "source": [
    "## Get supply APY"
   ]
  },
  {
   "cell_type": "code",
   "execution_count": 3,
   "id": "01ecf1d5",
   "metadata": {
    "ExecuteTime": {
     "end_time": "2022-09-25T22:53:28.190194Z",
     "start_time": "2022-09-25T22:53:27.628818Z"
    }
   },
   "outputs": [
    {
     "data": {
      "text/plain": [
       "0.003777415895703129"
      ]
     },
     "execution_count": 3,
     "metadata": {},
     "output_type": "execute_result"
    }
   ],
   "source": [
    "await compound_utils.async_get_supply_apy(ctoken)"
   ]
  },
  {
   "cell_type": "markdown",
   "id": "f54759f3",
   "metadata": {
    "ExecuteTime": {
     "end_time": "2022-04-27T02:38:32.227681Z",
     "start_time": "2022-04-27T02:38:32.225866Z"
    }
   },
   "source": [
    "## Get borrow APY"
   ]
  },
  {
   "cell_type": "code",
   "execution_count": 4,
   "id": "47ac5e9a",
   "metadata": {
    "ExecuteTime": {
     "end_time": "2022-09-25T22:53:28.328143Z",
     "start_time": "2022-09-25T22:53:28.191407Z"
    }
   },
   "outputs": [
    {
     "data": {
      "text/plain": [
       "0.05932247119699485"
      ]
     },
     "execution_count": 4,
     "metadata": {},
     "output_type": "execute_result"
    }
   ],
   "source": [
    "await compound_utils.async_get_borrow_apy(ctoken)"
   ]
  },
  {
   "cell_type": "markdown",
   "id": "abb04b6a",
   "metadata": {
    "ExecuteTime": {
     "end_time": "2022-04-27T02:39:44.554525Z",
     "start_time": "2022-04-27T02:39:44.551947Z"
    }
   },
   "source": [
    "## Get supply APY by block"
   ]
  },
  {
   "cell_type": "code",
   "execution_count": 5,
   "id": "b211ee9e",
   "metadata": {
    "ExecuteTime": {
     "end_time": "2022-09-25T22:53:28.714500Z",
     "start_time": "2022-09-25T22:53:28.329408Z"
    }
   },
   "outputs": [
    {
     "data": {
      "text/plain": [
       "[0.0015700051686593497, 0.002428224167829729, 0.0017380529006516543]"
      ]
     },
     "execution_count": 5,
     "metadata": {},
     "output_type": "execute_result"
    }
   ],
   "source": [
    "blocks = [14000000, 14100000, 14200000]\n",
    "\n",
    "await compound_utils.async_get_supply_apy_by_block(ctoken, blocks=blocks)"
   ]
  },
  {
   "cell_type": "markdown",
   "id": "02e9355e",
   "metadata": {
    "ExecuteTime": {
     "end_time": "2022-04-27T02:40:33.108529Z",
     "start_time": "2022-04-27T02:40:33.104775Z"
    }
   },
   "source": [
    "## Get borrow APY by block"
   ]
  },
  {
   "cell_type": "code",
   "execution_count": 6,
   "id": "7c60f195",
   "metadata": {
    "ExecuteTime": {
     "end_time": "2022-09-25T22:53:29.227603Z",
     "start_time": "2022-09-25T22:53:28.715664Z"
    }
   },
   "outputs": [
    {
     "data": {
      "text/plain": [
       "[0.04338541891628256, 0.050325319640804, 0.04485273411875479]"
      ]
     },
     "execution_count": 6,
     "metadata": {},
     "output_type": "execute_result"
    }
   ],
   "source": [
    "blocks = [14000000, 14100000, 14200000]\n",
    "\n",
    "await compound_utils.async_get_borrow_apy_by_block(ctoken, blocks=blocks)"
   ]
  }
 ],
 "metadata": {
  "kernelspec": {
   "display_name": "Python 3",
   "language": "python",
   "name": "python3"
  },
  "language_info": {
   "codemirror_mode": {
    "name": "ipython",
    "version": 3
   },
   "file_extension": ".py",
   "mimetype": "text/x-python",
   "name": "python",
   "nbconvert_exporter": "python",
   "pygments_lexer": "ipython3",
   "version": "3.9.5"
  }
 },
 "nbformat": 4,
 "nbformat_minor": 5
}
