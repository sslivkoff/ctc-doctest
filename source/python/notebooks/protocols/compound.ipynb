{
 "cells": [
  {
   "cell_type": "code",
   "execution_count": 1,
   "id": "b471e47a",
   "metadata": {
    "ExecuteTime": {
     "end_time": "2022-09-22T19:36:53.510402Z",
     "start_time": "2022-09-22T19:36:53.493132Z"
    }
   },
   "outputs": [],
   "source": [
    "from ctc.protocols import compound_utils"
   ]
  },
  {
   "cell_type": "code",
   "execution_count": 2,
   "id": "a1b1ffef",
   "metadata": {
    "ExecuteTime": {
     "end_time": "2022-09-22T19:36:53.513528Z",
     "start_time": "2022-09-22T19:36:53.511749Z"
    }
   },
   "outputs": [],
   "source": [
    "ctoken = '0x35a18000230da775cac24873d00ff85bccded550'"
   ]
  },
  {
   "cell_type": "markdown",
   "id": "76946c28",
   "metadata": {
    "ExecuteTime": {
     "end_time": "2022-04-27T02:39:14.395406Z",
     "start_time": "2022-04-27T02:39:14.392070Z"
    }
   },
   "source": [
    "## Get supply APY"
   ]
  },
  {
   "cell_type": "code",
   "execution_count": 3,
   "id": "01ecf1d5",
   "metadata": {
    "ExecuteTime": {
     "end_time": "2022-09-22T19:37:00.990266Z",
     "start_time": "2022-09-22T19:36:53.514482Z"
    }
   },
   "outputs": [
    {
     "name": "stdout",
     "output_type": "stream",
     "text": [
      "fetching mainnet abi from etherscan: 0x35a18000230da775cac24873d00ff85bccded550\n",
      "etherscan ratelimit hit, sleeping for 4.269874572753906 seconds\n",
      "fetching mainnet abi from etherscan: 0x3363bae2fc44da742df13cd3ee94b6bb868ea376\n"
     ]
    },
    {
     "data": {
      "text/plain": [
       "0.004181193618984169"
      ]
     },
     "execution_count": 3,
     "metadata": {},
     "output_type": "execute_result"
    }
   ],
   "source": [
    "await compound_utils.async_get_supply_apy(ctoken)"
   ]
  },
  {
   "cell_type": "markdown",
   "id": "f54759f3",
   "metadata": {
    "ExecuteTime": {
     "end_time": "2022-04-27T02:38:32.227681Z",
     "start_time": "2022-04-27T02:38:32.225866Z"
    }
   },
   "source": [
    "## Get borrow APY"
   ]
  },
  {
   "cell_type": "code",
   "execution_count": 4,
   "id": "47ac5e9a",
   "metadata": {
    "ExecuteTime": {
     "end_time": "2022-09-22T19:37:01.192078Z",
     "start_time": "2022-09-22T19:37:00.993267Z"
    }
   },
   "outputs": [
    {
     "data": {
      "text/plain": [
       "0.061719086636421894"
      ]
     },
     "execution_count": 4,
     "metadata": {},
     "output_type": "execute_result"
    }
   ],
   "source": [
    "await compound_utils.async_get_borrow_apy(ctoken)"
   ]
  },
  {
   "cell_type": "markdown",
   "id": "abb04b6a",
   "metadata": {
    "ExecuteTime": {
     "end_time": "2022-04-27T02:39:44.554525Z",
     "start_time": "2022-04-27T02:39:44.551947Z"
    }
   },
   "source": [
    "## Get supply APY by block"
   ]
  },
  {
   "cell_type": "code",
   "execution_count": 5,
   "id": "b211ee9e",
   "metadata": {
    "ExecuteTime": {
     "end_time": "2022-09-22T19:37:01.562068Z",
     "start_time": "2022-09-22T19:37:01.195162Z"
    }
   },
   "outputs": [
    {
     "data": {
      "text/plain": [
       "[0.0015700051686593497, 0.002428224167829729, 0.0017380529006516543]"
      ]
     },
     "execution_count": 5,
     "metadata": {},
     "output_type": "execute_result"
    }
   ],
   "source": [
    "blocks = [14000000, 14100000, 14200000]\n",
    "\n",
    "await compound_utils.async_get_supply_apy_by_block(ctoken, blocks=blocks)"
   ]
  },
  {
   "cell_type": "markdown",
   "id": "02e9355e",
   "metadata": {
    "ExecuteTime": {
     "end_time": "2022-04-27T02:40:33.108529Z",
     "start_time": "2022-04-27T02:40:33.104775Z"
    }
   },
   "source": [
    "## Get borrow APY by block"
   ]
  },
  {
   "cell_type": "code",
   "execution_count": 6,
   "id": "7c60f195",
   "metadata": {
    "ExecuteTime": {
     "end_time": "2022-09-22T19:37:01.814093Z",
     "start_time": "2022-09-22T19:37:01.564132Z"
    }
   },
   "outputs": [
    {
     "data": {
      "text/plain": [
       "[0.04338541891628256, 0.050325319640804, 0.04485273411875479]"
      ]
     },
     "execution_count": 6,
     "metadata": {},
     "output_type": "execute_result"
    }
   ],
   "source": [
    "blocks = [14000000, 14100000, 14200000]\n",
    "\n",
    "await compound_utils.async_get_borrow_apy_by_block(ctoken, blocks=blocks)"
   ]
  }
 ],
 "metadata": {
  "kernelspec": {
   "display_name": "Python 3",
   "language": "python",
   "name": "python3"
  },
  "language_info": {
   "codemirror_mode": {
    "name": "ipython",
    "version": 3
   },
   "file_extension": ".py",
   "mimetype": "text/x-python",
   "name": "python",
   "nbconvert_exporter": "python",
   "pygments_lexer": "ipython3",
   "version": "3.9.5"
  }
 },
 "nbformat": 4,
 "nbformat_minor": 5
}
