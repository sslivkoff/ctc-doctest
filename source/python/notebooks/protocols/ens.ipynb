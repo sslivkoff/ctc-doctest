{
 "cells": [
  {
   "cell_type": "code",
   "execution_count": 1,
   "id": "f0f35bff",
   "metadata": {
    "ExecuteTime": {
     "end_time": "2022-09-23T03:27:25.497140Z",
     "start_time": "2022-09-23T03:27:25.479392Z"
    }
   },
   "outputs": [],
   "source": [
    "from ctc.protocols import ens_utils"
   ]
  },
  {
   "cell_type": "code",
   "execution_count": 2,
   "id": "43454877",
   "metadata": {
    "ExecuteTime": {
     "end_time": "2022-09-23T03:27:25.499846Z",
     "start_time": "2022-09-23T03:27:25.498228Z"
    }
   },
   "outputs": [],
   "source": [
    "address = '0xd8da6bf26964af9d7eed9e03e53415d37aa96045'\n",
    "name = 'vitalik.eth'"
   ]
  },
  {
   "cell_type": "markdown",
   "id": "f77a5fb3",
   "metadata": {
    "ExecuteTime": {
     "end_time": "2022-04-26T17:39:20.685886Z",
     "start_time": "2022-04-26T17:39:20.682189Z"
    }
   },
   "source": [
    "## Get owner of ENS name"
   ]
  },
  {
   "cell_type": "code",
   "execution_count": 3,
   "id": "51b79b0f",
   "metadata": {
    "ExecuteTime": {
     "end_time": "2022-09-23T03:27:25.692639Z",
     "start_time": "2022-09-23T03:27:25.500854Z"
    }
   },
   "outputs": [
    {
     "data": {
      "text/plain": [
       "'0xd8da6bf26964af9d7eed9e03e53415d37aa96045'"
      ]
     },
     "execution_count": 3,
     "metadata": {},
     "output_type": "execute_result"
    }
   ],
   "source": [
    "await ens_utils.async_get_owner(name)"
   ]
  },
  {
   "cell_type": "markdown",
   "id": "65ba10d3",
   "metadata": {
    "ExecuteTime": {
     "end_time": "2022-04-26T17:43:53.823141Z",
     "start_time": "2022-04-26T17:43:53.819783Z"
    }
   },
   "source": [
    "## Reverse lookup of ENS address"
   ]
  },
  {
   "cell_type": "code",
   "execution_count": 4,
   "id": "2d87effe",
   "metadata": {
    "ExecuteTime": {
     "end_time": "2022-09-23T03:27:25.749759Z",
     "start_time": "2022-09-23T03:27:25.694289Z"
    }
   },
   "outputs": [
    {
     "data": {
      "text/plain": [
       "'vitalik.eth'"
      ]
     },
     "execution_count": 4,
     "metadata": {},
     "output_type": "execute_result"
    }
   ],
   "source": [
    "await ens_utils.async_reverse_lookup(address)"
   ]
  },
  {
   "cell_type": "markdown",
   "id": "bdb56623",
   "metadata": {
    "ExecuteTime": {
     "end_time": "2022-04-26T17:39:48.628775Z",
     "start_time": "2022-04-26T17:39:48.627106Z"
    }
   },
   "source": [
    "## Get whether name record exists"
   ]
  },
  {
   "cell_type": "code",
   "execution_count": 5,
   "id": "3a4ddf9e",
   "metadata": {
    "ExecuteTime": {
     "end_time": "2022-09-23T03:27:25.817396Z",
     "start_time": "2022-09-23T03:27:25.751695Z"
    }
   },
   "outputs": [
    {
     "data": {
      "text/plain": [
       "True"
      ]
     },
     "execution_count": 5,
     "metadata": {},
     "output_type": "execute_result"
    }
   ],
   "source": [
    "await ens_utils.async_record_exists(name)"
   ]
  },
  {
   "cell_type": "markdown",
   "id": "2ce399ab",
   "metadata": {
    "ExecuteTime": {
     "end_time": "2022-04-26T17:43:23.846989Z",
     "start_time": "2022-04-26T17:43:23.843031Z"
    }
   },
   "source": [
    "## Get hash of ENS name"
   ]
  },
  {
   "cell_type": "code",
   "execution_count": 6,
   "id": "bb001b91",
   "metadata": {
    "ExecuteTime": {
     "end_time": "2022-09-23T03:27:25.824620Z",
     "start_time": "2022-09-23T03:27:25.819748Z"
    }
   },
   "outputs": [
    {
     "data": {
      "text/plain": [
       "'0xee6c4522aab0003e8d14cd40a6af439055fd2577951148c14b6cea9a53475835'"
      ]
     },
     "execution_count": 6,
     "metadata": {},
     "output_type": "execute_result"
    }
   ],
   "source": [
    "ens_utils.hash_name(name)"
   ]
  },
  {
   "cell_type": "markdown",
   "id": "f8db7266",
   "metadata": {
    "ExecuteTime": {
     "end_time": "2022-04-26T17:44:38.261683Z",
     "start_time": "2022-04-26T17:44:38.258512Z"
    }
   },
   "source": [
    "## Get text records of ENS name"
   ]
  },
  {
   "cell_type": "code",
   "execution_count": 7,
   "id": "9814d2ac",
   "metadata": {
    "ExecuteTime": {
     "end_time": "2022-09-23T03:27:30.433337Z",
     "start_time": "2022-09-23T03:27:25.826287Z"
    }
   },
   "outputs": [
    {
     "data": {
      "text/plain": [
       "{'email': 'foda@hey.com',\n",
       " 'url': 'https://just.is/foda',\n",
       " 'com.twitter': '0xFoda',\n",
       " 'avatar': 'eip155:1/erc721:0xe9edc636c70d2104df2a9d7444c94676fcbfe07f/0',\n",
       " 'description': 'ⓕ™',\n",
       " 'com.github': '',\n",
       " 'com.instagram': 'https://instagram.com/foda.farm',\n",
       " 'color': '#f0da91',\n",
       " 'eth.ens.delegate': 'https://discuss.ens.domains/t/ens-dao-delegate-applications/815/765?u=foda',\n",
       " 'snapshot': 'ipns://storage.snapshot.page/registry/0xF75Ed978170dFa5ee3d71d95979a34C91CD7042e/foda.eth'}"
      ]
     },
     "execution_count": 7,
     "metadata": {},
     "output_type": "execute_result"
    }
   ],
   "source": [
    "await ens_utils.async_get_text_records(name='foda.eth')"
   ]
  },
  {
   "cell_type": "markdown",
   "id": "0015a60d",
   "metadata": {
    "ExecuteTime": {
     "end_time": "2022-04-26T17:45:45.158847Z",
     "start_time": "2022-04-26T17:45:45.155258Z"
    }
   },
   "source": [
    "## Get ENS name expiration"
   ]
  },
  {
   "cell_type": "code",
   "execution_count": 8,
   "id": "5b85576c",
   "metadata": {
    "ExecuteTime": {
     "end_time": "2022-09-23T03:27:30.474993Z",
     "start_time": "2022-09-23T03:27:30.434984Z"
    }
   },
   "outputs": [
    {
     "data": {
      "text/plain": [
       "2030347728"
      ]
     },
     "execution_count": 8,
     "metadata": {},
     "output_type": "execute_result"
    }
   ],
   "source": [
    "timestamp = await ens_utils.async_get_expiration(name)\n",
    "\n",
    "timestamp"
   ]
  },
  {
   "cell_type": "markdown",
   "id": "a8134238",
   "metadata": {
    "ExecuteTime": {
     "end_time": "2022-04-26T17:41:29.487103Z",
     "start_time": "2022-04-26T17:41:29.485600Z"
    }
   },
   "source": [
    "## Get all registrations"
   ]
  },
  {
   "cell_type": "code",
   "execution_count": 9,
   "id": "e12c0035",
   "metadata": {
    "ExecuteTime": {
     "end_time": "2022-09-23T03:29:12.406943Z",
     "start_time": "2022-09-23T03:27:30.476517Z"
    }
   },
   "outputs": [
    {
     "data": {
      "text/html": [
       "<div>\n",
       "<style scoped>\n",
       "    .dataframe tbody tr th:only-of-type {\n",
       "        vertical-align: middle;\n",
       "    }\n",
       "\n",
       "    .dataframe tbody tr th {\n",
       "        vertical-align: top;\n",
       "    }\n",
       "\n",
       "    .dataframe thead th {\n",
       "        text-align: right;\n",
       "    }\n",
       "</style>\n",
       "<table border=\"1\" class=\"dataframe\">\n",
       "  <thead>\n",
       "    <tr style=\"text-align: right;\">\n",
       "      <th></th>\n",
       "      <th></th>\n",
       "      <th></th>\n",
       "      <th>address</th>\n",
       "      <th>block_hash</th>\n",
       "      <th>transaction_hash</th>\n",
       "      <th>contract_address</th>\n",
       "      <th>event_name</th>\n",
       "      <th>event_hash</th>\n",
       "      <th>arg__label</th>\n",
       "      <th>arg__owner</th>\n",
       "      <th>arg__parent_node</th>\n",
       "    </tr>\n",
       "    <tr>\n",
       "      <th>block_number</th>\n",
       "      <th>transaction_index</th>\n",
       "      <th>log_index</th>\n",
       "      <th></th>\n",
       "      <th></th>\n",
       "      <th></th>\n",
       "      <th></th>\n",
       "      <th></th>\n",
       "      <th></th>\n",
       "      <th></th>\n",
       "      <th></th>\n",
       "      <th></th>\n",
       "    </tr>\n",
       "  </thead>\n",
       "  <tbody>\n",
       "    <tr>\n",
       "      <th>9380415</th>\n",
       "      <th>22</th>\n",
       "      <th>33</th>\n",
       "      <td>0x00000000000c2e074ec69a0dfb2997ba6c7d2e1e</td>\n",
       "      <td>0xa1cae6357f471b005baa1065cd5631cfae9e0587c4aa...</td>\n",
       "      <td>0x36a8544bc597d7d74ca66c118345e500cfc1dca0dbac...</td>\n",
       "      <td>0x00000000000c2e074ec69a0dfb2997ba6c7d2e1e</td>\n",
       "      <td>NewOwner</td>\n",
       "      <td>0xce0457fe73731f824cc272376169235128c118b49d34...</td>\n",
       "      <td>0x4f5b812789fc606be1b3b16908db13fc7a9adf7ca726...</td>\n",
       "      <td>0x57f1887a8bf19b14fc0df6fd9b2acc9af147ea85</td>\n",
       "      <td>0x00000000000000000000000000000000000000000000...</td>\n",
       "    </tr>\n",
       "    <tr>\n",
       "      <th>9380428</th>\n",
       "      <th>34</th>\n",
       "      <th>21</th>\n",
       "      <td>0x00000000000c2e074ec69a0dfb2997ba6c7d2e1e</td>\n",
       "      <td>0x1191aa09f8d699c4cdc64efc64e9601034c9ace73217...</td>\n",
       "      <td>0x1842da220ed4eaf0ed21d5366ee800251feffbd1d281...</td>\n",
       "      <td>0x00000000000c2e074ec69a0dfb2997ba6c7d2e1e</td>\n",
       "      <td>NewOwner</td>\n",
       "      <td>0xce0457fe73731f824cc272376169235128c118b49d34...</td>\n",
       "      <td>0x7926fb9208a20417f0b848065c6fe289da455821d6fc...</td>\n",
       "      <td>0x0904dac3347ea47d208f3fd67402d039a3b99859</td>\n",
       "      <td>0x93cdeb708b7545dc668eb9280176169d1c33cfd8ed6f...</td>\n",
       "    </tr>\n",
       "    <tr>\n",
       "      <th>9380515</th>\n",
       "      <th>7</th>\n",
       "      <th>7</th>\n",
       "      <td>0x00000000000c2e074ec69a0dfb2997ba6c7d2e1e</td>\n",
       "      <td>0x11493f7456a83455b3fbf09ba6c4eb5d01455c2d8741...</td>\n",
       "      <td>0x6f410b83a468197dd0de7eb31e3f18fcfe6bf961080f...</td>\n",
       "      <td>0x00000000000c2e074ec69a0dfb2997ba6c7d2e1e</td>\n",
       "      <td>NewOwner</td>\n",
       "      <td>0xce0457fe73731f824cc272376169235128c118b49d34...</td>\n",
       "      <td>0xdec08c9dbbdd0890e300eb5062089b2d4b1c40e3673b...</td>\n",
       "      <td>0x4fe4e666be5752f1fdd210f4ab5de2cc26e3e0e8</td>\n",
       "      <td>0x00000000000000000000000000000000000000000000...</td>\n",
       "    </tr>\n",
       "    <tr>\n",
       "      <th>9380516</th>\n",
       "      <th>58</th>\n",
       "      <th>44</th>\n",
       "      <td>0x00000000000c2e074ec69a0dfb2997ba6c7d2e1e</td>\n",
       "      <td>0xb7106125148bd4b2e04af5c3fea3cec8cabf52f83e2d...</td>\n",
       "      <td>0x7311cdefc63aaf6226110ec9d682714f878ebdc115d0...</td>\n",
       "      <td>0x00000000000c2e074ec69a0dfb2997ba6c7d2e1e</td>\n",
       "      <td>NewOwner</td>\n",
       "      <td>0xce0457fe73731f824cc272376169235128c118b49d34...</td>\n",
       "      <td>0xe5e14487b78f85faa6e1808e89246cf57dd34831548f...</td>\n",
       "      <td>0x084b1c3c81545d370f3634392de611caabff8148</td>\n",
       "      <td>0xa097f6721ce401e757d1223a763fef49b8b5f90bb185...</td>\n",
       "    </tr>\n",
       "    <tr>\n",
       "      <th>9380533</th>\n",
       "      <th>12</th>\n",
       "      <th>8</th>\n",
       "      <td>0x00000000000c2e074ec69a0dfb2997ba6c7d2e1e</td>\n",
       "      <td>0x425b28e5b1d989e3f6f7392d6556d00aa08aed6a8c1f...</td>\n",
       "      <td>0xf296f9b8d5143c6fca65b010cb9d621d0574dca1950b...</td>\n",
       "      <td>0x00000000000c2e074ec69a0dfb2997ba6c7d2e1e</td>\n",
       "      <td>NewOwner</td>\n",
       "      <td>0xce0457fe73731f824cc272376169235128c118b49d34...</td>\n",
       "      <td>0x9dd2c369a187b4e6b9c402f030e50743e619301ea62a...</td>\n",
       "      <td>0xa2f428617a523837d4adc81c67a296d42fd95e86</td>\n",
       "      <td>0x00000000000000000000000000000000000000000000...</td>\n",
       "    </tr>\n",
       "    <tr>\n",
       "      <th>...</th>\n",
       "      <th>...</th>\n",
       "      <th>...</th>\n",
       "      <td>...</td>\n",
       "      <td>...</td>\n",
       "      <td>...</td>\n",
       "      <td>...</td>\n",
       "      <td>...</td>\n",
       "      <td>...</td>\n",
       "      <td>...</td>\n",
       "      <td>...</td>\n",
       "      <td>...</td>\n",
       "    </tr>\n",
       "    <tr>\n",
       "      <th rowspan=\"5\" valign=\"top\">15593354</th>\n",
       "      <th rowspan=\"2\" valign=\"top\">344</th>\n",
       "      <th>214</th>\n",
       "      <td>0x00000000000c2e074ec69a0dfb2997ba6c7d2e1e</td>\n",
       "      <td>0xa5a3c1be082b129ae1dc9871dbb82e79f01cfc57d136...</td>\n",
       "      <td>0x79a382b20d817aa94aae955c0e31912edf5c6af04bfd...</td>\n",
       "      <td>0x00000000000c2e074ec69a0dfb2997ba6c7d2e1e</td>\n",
       "      <td>NewOwner</td>\n",
       "      <td>0xce0457fe73731f824cc272376169235128c118b49d34...</td>\n",
       "      <td>0xeb1e4c9fb92b8851d2b0ab7a409ab0388804b124aa0a...</td>\n",
       "      <td>0x283af0b28c62c092c9727f1ee09c02ca627eb7f5</td>\n",
       "      <td>0x93cdeb708b7545dc668eb9280176169d1c33cfd8ed6f...</td>\n",
       "    </tr>\n",
       "    <tr>\n",
       "      <th>219</th>\n",
       "      <td>0x00000000000c2e074ec69a0dfb2997ba6c7d2e1e</td>\n",
       "      <td>0xa5a3c1be082b129ae1dc9871dbb82e79f01cfc57d136...</td>\n",
       "      <td>0x79a382b20d817aa94aae955c0e31912edf5c6af04bfd...</td>\n",
       "      <td>0x00000000000c2e074ec69a0dfb2997ba6c7d2e1e</td>\n",
       "      <td>NewOwner</td>\n",
       "      <td>0xce0457fe73731f824cc272376169235128c118b49d34...</td>\n",
       "      <td>0xeb1e4c9fb92b8851d2b0ab7a409ab0388804b124aa0a...</td>\n",
       "      <td>0xe11bb76e439969e9a44dc198dbb5dbdcb54897b6</td>\n",
       "      <td>0x93cdeb708b7545dc668eb9280176169d1c33cfd8ed6f...</td>\n",
       "    </tr>\n",
       "    <tr>\n",
       "      <th>350</th>\n",
       "      <th>226</th>\n",
       "      <td>0x00000000000c2e074ec69a0dfb2997ba6c7d2e1e</td>\n",
       "      <td>0xa5a3c1be082b129ae1dc9871dbb82e79f01cfc57d136...</td>\n",
       "      <td>0x99e848b55e520bf3306e39a1c59b9029ffb476b55295...</td>\n",
       "      <td>0x00000000000c2e074ec69a0dfb2997ba6c7d2e1e</td>\n",
       "      <td>NewOwner</td>\n",
       "      <td>0xce0457fe73731f824cc272376169235128c118b49d34...</td>\n",
       "      <td>0xa7aec4379fce91fb4d4d94f418158a705a65f54f559c...</td>\n",
       "      <td>0x6665ff08df4e8db4090a4a3137665a63aaa0dd13</td>\n",
       "      <td>0xcd2c07d336f7fc984bd4a59497c1d3ba6cdb9b6d748f...</td>\n",
       "    </tr>\n",
       "    <tr>\n",
       "      <th rowspan=\"2\" valign=\"top\">376</th>\n",
       "      <th>273</th>\n",
       "      <td>0x00000000000c2e074ec69a0dfb2997ba6c7d2e1e</td>\n",
       "      <td>0xa5a3c1be082b129ae1dc9871dbb82e79f01cfc57d136...</td>\n",
       "      <td>0x561fddbcb217f03201d16a463a4e608f6a1446868ba7...</td>\n",
       "      <td>0x00000000000c2e074ec69a0dfb2997ba6c7d2e1e</td>\n",
       "      <td>NewOwner</td>\n",
       "      <td>0xce0457fe73731f824cc272376169235128c118b49d34...</td>\n",
       "      <td>0x1fd5a8dc12d7006f373815ff248adcb071f43143660c...</td>\n",
       "      <td>0x283af0b28c62c092c9727f1ee09c02ca627eb7f5</td>\n",
       "      <td>0x93cdeb708b7545dc668eb9280176169d1c33cfd8ed6f...</td>\n",
       "    </tr>\n",
       "    <tr>\n",
       "      <th>278</th>\n",
       "      <td>0x00000000000c2e074ec69a0dfb2997ba6c7d2e1e</td>\n",
       "      <td>0xa5a3c1be082b129ae1dc9871dbb82e79f01cfc57d136...</td>\n",
       "      <td>0x561fddbcb217f03201d16a463a4e608f6a1446868ba7...</td>\n",
       "      <td>0x00000000000c2e074ec69a0dfb2997ba6c7d2e1e</td>\n",
       "      <td>NewOwner</td>\n",
       "      <td>0xce0457fe73731f824cc272376169235128c118b49d34...</td>\n",
       "      <td>0x1fd5a8dc12d7006f373815ff248adcb071f43143660c...</td>\n",
       "      <td>0xe11bb76e439969e9a44dc198dbb5dbdcb54897b6</td>\n",
       "      <td>0x93cdeb708b7545dc668eb9280176169d1c33cfd8ed6f...</td>\n",
       "    </tr>\n",
       "  </tbody>\n",
       "</table>\n",
       "<p>5105611 rows × 9 columns</p>\n",
       "</div>"
      ],
      "text/plain": [
       "                                                                             address  \\\n",
       "block_number transaction_index log_index                                               \n",
       "9380415      22                33         0x00000000000c2e074ec69a0dfb2997ba6c7d2e1e   \n",
       "9380428      34                21         0x00000000000c2e074ec69a0dfb2997ba6c7d2e1e   \n",
       "9380515      7                 7          0x00000000000c2e074ec69a0dfb2997ba6c7d2e1e   \n",
       "9380516      58                44         0x00000000000c2e074ec69a0dfb2997ba6c7d2e1e   \n",
       "9380533      12                8          0x00000000000c2e074ec69a0dfb2997ba6c7d2e1e   \n",
       "...                                                                              ...   \n",
       "15593354     344               214        0x00000000000c2e074ec69a0dfb2997ba6c7d2e1e   \n",
       "                               219        0x00000000000c2e074ec69a0dfb2997ba6c7d2e1e   \n",
       "             350               226        0x00000000000c2e074ec69a0dfb2997ba6c7d2e1e   \n",
       "             376               273        0x00000000000c2e074ec69a0dfb2997ba6c7d2e1e   \n",
       "                               278        0x00000000000c2e074ec69a0dfb2997ba6c7d2e1e   \n",
       "\n",
       "                                                                                 block_hash  \\\n",
       "block_number transaction_index log_index                                                      \n",
       "9380415      22                33         0xa1cae6357f471b005baa1065cd5631cfae9e0587c4aa...   \n",
       "9380428      34                21         0x1191aa09f8d699c4cdc64efc64e9601034c9ace73217...   \n",
       "9380515      7                 7          0x11493f7456a83455b3fbf09ba6c4eb5d01455c2d8741...   \n",
       "9380516      58                44         0xb7106125148bd4b2e04af5c3fea3cec8cabf52f83e2d...   \n",
       "9380533      12                8          0x425b28e5b1d989e3f6f7392d6556d00aa08aed6a8c1f...   \n",
       "...                                                                                     ...   \n",
       "15593354     344               214        0xa5a3c1be082b129ae1dc9871dbb82e79f01cfc57d136...   \n",
       "                               219        0xa5a3c1be082b129ae1dc9871dbb82e79f01cfc57d136...   \n",
       "             350               226        0xa5a3c1be082b129ae1dc9871dbb82e79f01cfc57d136...   \n",
       "             376               273        0xa5a3c1be082b129ae1dc9871dbb82e79f01cfc57d136...   \n",
       "                               278        0xa5a3c1be082b129ae1dc9871dbb82e79f01cfc57d136...   \n",
       "\n",
       "                                                                           transaction_hash  \\\n",
       "block_number transaction_index log_index                                                      \n",
       "9380415      22                33         0x36a8544bc597d7d74ca66c118345e500cfc1dca0dbac...   \n",
       "9380428      34                21         0x1842da220ed4eaf0ed21d5366ee800251feffbd1d281...   \n",
       "9380515      7                 7          0x6f410b83a468197dd0de7eb31e3f18fcfe6bf961080f...   \n",
       "9380516      58                44         0x7311cdefc63aaf6226110ec9d682714f878ebdc115d0...   \n",
       "9380533      12                8          0xf296f9b8d5143c6fca65b010cb9d621d0574dca1950b...   \n",
       "...                                                                                     ...   \n",
       "15593354     344               214        0x79a382b20d817aa94aae955c0e31912edf5c6af04bfd...   \n",
       "                               219        0x79a382b20d817aa94aae955c0e31912edf5c6af04bfd...   \n",
       "             350               226        0x99e848b55e520bf3306e39a1c59b9029ffb476b55295...   \n",
       "             376               273        0x561fddbcb217f03201d16a463a4e608f6a1446868ba7...   \n",
       "                               278        0x561fddbcb217f03201d16a463a4e608f6a1446868ba7...   \n",
       "\n",
       "                                                                    contract_address  \\\n",
       "block_number transaction_index log_index                                               \n",
       "9380415      22                33         0x00000000000c2e074ec69a0dfb2997ba6c7d2e1e   \n",
       "9380428      34                21         0x00000000000c2e074ec69a0dfb2997ba6c7d2e1e   \n",
       "9380515      7                 7          0x00000000000c2e074ec69a0dfb2997ba6c7d2e1e   \n",
       "9380516      58                44         0x00000000000c2e074ec69a0dfb2997ba6c7d2e1e   \n",
       "9380533      12                8          0x00000000000c2e074ec69a0dfb2997ba6c7d2e1e   \n",
       "...                                                                              ...   \n",
       "15593354     344               214        0x00000000000c2e074ec69a0dfb2997ba6c7d2e1e   \n",
       "                               219        0x00000000000c2e074ec69a0dfb2997ba6c7d2e1e   \n",
       "             350               226        0x00000000000c2e074ec69a0dfb2997ba6c7d2e1e   \n",
       "             376               273        0x00000000000c2e074ec69a0dfb2997ba6c7d2e1e   \n",
       "                               278        0x00000000000c2e074ec69a0dfb2997ba6c7d2e1e   \n",
       "\n",
       "                                         event_name  \\\n",
       "block_number transaction_index log_index              \n",
       "9380415      22                33          NewOwner   \n",
       "9380428      34                21          NewOwner   \n",
       "9380515      7                 7           NewOwner   \n",
       "9380516      58                44          NewOwner   \n",
       "9380533      12                8           NewOwner   \n",
       "...                                             ...   \n",
       "15593354     344               214         NewOwner   \n",
       "                               219         NewOwner   \n",
       "             350               226         NewOwner   \n",
       "             376               273         NewOwner   \n",
       "                               278         NewOwner   \n",
       "\n",
       "                                                                                 event_hash  \\\n",
       "block_number transaction_index log_index                                                      \n",
       "9380415      22                33         0xce0457fe73731f824cc272376169235128c118b49d34...   \n",
       "9380428      34                21         0xce0457fe73731f824cc272376169235128c118b49d34...   \n",
       "9380515      7                 7          0xce0457fe73731f824cc272376169235128c118b49d34...   \n",
       "9380516      58                44         0xce0457fe73731f824cc272376169235128c118b49d34...   \n",
       "9380533      12                8          0xce0457fe73731f824cc272376169235128c118b49d34...   \n",
       "...                                                                                     ...   \n",
       "15593354     344               214        0xce0457fe73731f824cc272376169235128c118b49d34...   \n",
       "                               219        0xce0457fe73731f824cc272376169235128c118b49d34...   \n",
       "             350               226        0xce0457fe73731f824cc272376169235128c118b49d34...   \n",
       "             376               273        0xce0457fe73731f824cc272376169235128c118b49d34...   \n",
       "                               278        0xce0457fe73731f824cc272376169235128c118b49d34...   \n",
       "\n",
       "                                                                                 arg__label  \\\n",
       "block_number transaction_index log_index                                                      \n",
       "9380415      22                33         0x4f5b812789fc606be1b3b16908db13fc7a9adf7ca726...   \n",
       "9380428      34                21         0x7926fb9208a20417f0b848065c6fe289da455821d6fc...   \n",
       "9380515      7                 7          0xdec08c9dbbdd0890e300eb5062089b2d4b1c40e3673b...   \n",
       "9380516      58                44         0xe5e14487b78f85faa6e1808e89246cf57dd34831548f...   \n",
       "9380533      12                8          0x9dd2c369a187b4e6b9c402f030e50743e619301ea62a...   \n",
       "...                                                                                     ...   \n",
       "15593354     344               214        0xeb1e4c9fb92b8851d2b0ab7a409ab0388804b124aa0a...   \n",
       "                               219        0xeb1e4c9fb92b8851d2b0ab7a409ab0388804b124aa0a...   \n",
       "             350               226        0xa7aec4379fce91fb4d4d94f418158a705a65f54f559c...   \n",
       "             376               273        0x1fd5a8dc12d7006f373815ff248adcb071f43143660c...   \n",
       "                               278        0x1fd5a8dc12d7006f373815ff248adcb071f43143660c...   \n",
       "\n",
       "                                                                          arg__owner  \\\n",
       "block_number transaction_index log_index                                               \n",
       "9380415      22                33         0x57f1887a8bf19b14fc0df6fd9b2acc9af147ea85   \n",
       "9380428      34                21         0x0904dac3347ea47d208f3fd67402d039a3b99859   \n",
       "9380515      7                 7          0x4fe4e666be5752f1fdd210f4ab5de2cc26e3e0e8   \n",
       "9380516      58                44         0x084b1c3c81545d370f3634392de611caabff8148   \n",
       "9380533      12                8          0xa2f428617a523837d4adc81c67a296d42fd95e86   \n",
       "...                                                                              ...   \n",
       "15593354     344               214        0x283af0b28c62c092c9727f1ee09c02ca627eb7f5   \n",
       "                               219        0xe11bb76e439969e9a44dc198dbb5dbdcb54897b6   \n",
       "             350               226        0x6665ff08df4e8db4090a4a3137665a63aaa0dd13   \n",
       "             376               273        0x283af0b28c62c092c9727f1ee09c02ca627eb7f5   \n",
       "                               278        0xe11bb76e439969e9a44dc198dbb5dbdcb54897b6   \n",
       "\n",
       "                                                                           arg__parent_node  \n",
       "block_number transaction_index log_index                                                     \n",
       "9380415      22                33         0x00000000000000000000000000000000000000000000...  \n",
       "9380428      34                21         0x93cdeb708b7545dc668eb9280176169d1c33cfd8ed6f...  \n",
       "9380515      7                 7          0x00000000000000000000000000000000000000000000...  \n",
       "9380516      58                44         0xa097f6721ce401e757d1223a763fef49b8b5f90bb185...  \n",
       "9380533      12                8          0x00000000000000000000000000000000000000000000...  \n",
       "...                                                                                     ...  \n",
       "15593354     344               214        0x93cdeb708b7545dc668eb9280176169d1c33cfd8ed6f...  \n",
       "                               219        0x93cdeb708b7545dc668eb9280176169d1c33cfd8ed6f...  \n",
       "             350               226        0xcd2c07d336f7fc984bd4a59497c1d3ba6cdb9b6d748f...  \n",
       "             376               273        0x93cdeb708b7545dc668eb9280176169d1c33cfd8ed6f...  \n",
       "                               278        0x93cdeb708b7545dc668eb9280176169d1c33cfd8ed6f...  \n",
       "\n",
       "[5105611 rows x 9 columns]"
      ]
     },
     "execution_count": 9,
     "metadata": {},
     "output_type": "execute_result"
    }
   ],
   "source": [
    "registrations = await ens_utils.async_get_registrations()\n",
    "\n",
    "registrations"
   ]
  },
  {
   "cell_type": "markdown",
   "id": "69a9b284",
   "metadata": {
    "ExecuteTime": {
     "end_time": "2022-04-26T17:41:58.598621Z",
     "start_time": "2022-04-26T17:41:58.595006Z"
    }
   },
   "source": [
    "## Get block number of when ENS name was registered"
   ]
  },
  {
   "cell_type": "code",
   "execution_count": 10,
   "id": "3c36a2bb",
   "metadata": {
    "ExecuteTime": {
     "end_time": "2022-09-23T03:31:09.049476Z",
     "start_time": "2022-09-23T03:29:12.408173Z"
    }
   },
   "outputs": [
    {
     "data": {
      "text/plain": [
       "9430706"
      ]
     },
     "execution_count": 10,
     "metadata": {},
     "output_type": "execute_result"
    }
   ],
   "source": [
    "await ens_utils.async_get_registration_block(name)"
   ]
  }
 ],
 "metadata": {
  "kernelspec": {
   "display_name": "Python 3",
   "language": "python",
   "name": "python3"
  },
  "language_info": {
   "codemirror_mode": {
    "name": "ipython",
    "version": 3
   },
   "file_extension": ".py",
   "mimetype": "text/x-python",
   "name": "python",
   "nbconvert_exporter": "python",
   "pygments_lexer": "ipython3",
   "version": "3.9.5"
  }
 },
 "nbformat": 4,
 "nbformat_minor": 5
}
