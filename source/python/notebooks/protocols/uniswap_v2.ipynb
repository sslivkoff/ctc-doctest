{
 "cells": [
  {
   "cell_type": "code",
   "execution_count": 1,
   "id": "4f090664",
   "metadata": {
    "ExecuteTime": {
     "end_time": "2022-09-25T22:55:25.191243Z",
     "start_time": "2022-09-25T22:55:25.159262Z"
    }
   },
   "outputs": [],
   "source": [
    "from ctc.protocols import uniswap_v2_utils\n",
    "from ctc.toolbox.defi_utils.dex_utils.amm_utils import cpmm"
   ]
  },
  {
   "cell_type": "code",
   "execution_count": 2,
   "id": "62ec0fbf",
   "metadata": {
    "ExecuteTime": {
     "end_time": "2022-09-25T22:55:25.194102Z",
     "start_time": "2022-09-25T22:55:25.192517Z"
    }
   },
   "outputs": [],
   "source": [
    "pool = '0x9928e4046d7c6513326ccea028cd3e7a91c7590a'"
   ]
  },
  {
   "cell_type": "markdown",
   "id": "612ff1b6",
   "metadata": {
    "ExecuteTime": {
     "end_time": "2022-04-26T17:22:40.904492Z",
     "start_time": "2022-04-26T17:22:40.901915Z"
    }
   },
   "source": [
    "## Get pool metadata"
   ]
  },
  {
   "cell_type": "code",
   "execution_count": 3,
   "id": "5749dd02",
   "metadata": {
    "ExecuteTime": {
     "end_time": "2022-09-25T22:55:26.270950Z",
     "start_time": "2022-09-25T22:55:25.195453Z"
    }
   },
   "outputs": [
    {
     "name": "stdout",
     "output_type": "stream",
     "text": [
      "pool_tokens: ['0x956f47f50a910163d8bf957cf5846d573e7f87ca', '0xc7283b66eb1eb5fb86327f08e1b5816b0720212b']\n",
      "pool_symbols: ['FEI', 'TRIBE']\n",
      "pool_decimals: [18, 18]\n"
     ]
    }
   ],
   "source": [
    "pool_tokens = await uniswap_v2_utils.async_get_pool_tokens(pool)\n",
    "pool_symbols = await uniswap_v2_utils.async_get_pool_symbols(pool)\n",
    "pool_decimals = await uniswap_v2_utils.async_get_pool_decimals(pool)\n",
    "\n",
    "print('pool_tokens:', pool_tokens)\n",
    "print('pool_symbols:', pool_symbols)\n",
    "print('pool_decimals:', pool_decimals)"
   ]
  },
  {
   "cell_type": "markdown",
   "id": "a5c225e6",
   "metadata": {
    "ExecuteTime": {
     "end_time": "2022-04-26T17:24:21.345878Z",
     "start_time": "2022-04-26T17:24:21.344200Z"
    }
   },
   "source": [
    "## Get pool state"
   ]
  },
  {
   "cell_type": "code",
   "execution_count": 4,
   "id": "bb2cff27",
   "metadata": {
    "ExecuteTime": {
     "end_time": "2022-09-25T22:55:27.125237Z",
     "start_time": "2022-09-25T22:55:26.271798Z"
    },
    "scrolled": true
   },
   "outputs": [
    {
     "data": {
      "text/plain": [
       "{'x_reserves': 13430875.390003089,\n",
       " 'y_reserves': 63585361.05796264,\n",
       " 'lp_total_supply': 44686131.153790146}"
      ]
     },
     "execution_count": 4,
     "metadata": {},
     "output_type": "execute_result"
    }
   ],
   "source": [
    "pool_state = await uniswap_v2_utils.async_get_pool_state(pool)\n",
    "\n",
    "pool_state"
   ]
  },
  {
   "cell_type": "markdown",
   "id": "ea8a4fb3",
   "metadata": {
    "ExecuteTime": {
     "end_time": "2022-04-26T17:25:30.251170Z",
     "start_time": "2022-04-26T17:25:30.247548Z"
    }
   },
   "source": [
    "## Get pool state at a specific block"
   ]
  },
  {
   "cell_type": "code",
   "execution_count": 5,
   "id": "a6f0dafa",
   "metadata": {
    "ExecuteTime": {
     "end_time": "2022-09-25T22:55:27.527352Z",
     "start_time": "2022-09-25T22:55:27.126129Z"
    }
   },
   "outputs": [
    {
     "data": {
      "text/plain": [
       "{'x_reserves': 153539933.09509552,\n",
       " 'y_reserves': 125886010.40488024,\n",
       " 'lp_total_supply': 215052578.20642424}"
      ]
     },
     "execution_count": 5,
     "metadata": {},
     "output_type": "execute_result"
    }
   ],
   "source": [
    "pool_state = await uniswap_v2_utils.async_get_pool_state(pool, block=14000000)\n",
    "\n",
    "pool_state"
   ]
  },
  {
   "cell_type": "markdown",
   "id": "e8eccd74",
   "metadata": {
    "ExecuteTime": {
     "end_time": "2022-04-26T17:25:49.778558Z",
     "start_time": "2022-04-26T17:25:49.775188Z"
    }
   },
   "source": [
    "## Get pool state across many historical blocks"
   ]
  },
  {
   "cell_type": "code",
   "execution_count": 6,
   "id": "8cdb242d",
   "metadata": {
    "ExecuteTime": {
     "end_time": "2022-09-25T22:55:28.153269Z",
     "start_time": "2022-09-25T22:55:27.528390Z"
    }
   },
   "outputs": [
    {
     "data": {
      "text/plain": [
       "{'x_reserves': [3902.2604757534364,\n",
       "  3646.5911759325286,\n",
       "  3320.412482258139,\n",
       "  2803.750690192395,\n",
       "  2753.4720320440665],\n",
       " 'y_reserves': [3199.4282721811446,\n",
       "  3031.4310322189203,\n",
       "  3246.3249589194047,\n",
       "  3832.6757137039026,\n",
       "  3891.8368311451377],\n",
       " 'lp_total_supply': [215052578.2064242,\n",
       "  202288486.47575706,\n",
       "  199698652.82397622,\n",
       "  199313423.07966512,\n",
       "  198957800.9702922]}"
      ]
     },
     "execution_count": 6,
     "metadata": {},
     "output_type": "execute_result"
    }
   ],
   "source": [
    "blocks = list(range(14000000, 14100000, 20000))\n",
    "\n",
    "pool_state_by_block = await uniswap_v2_utils.async_get_pool_state_by_block(\n",
    "    pool,\n",
    "    blocks=blocks,\n",
    ")\n",
    "\n",
    "pool_state_by_block"
   ]
  },
  {
   "cell_type": "markdown",
   "id": "cbda661a",
   "metadata": {
    "ExecuteTime": {
     "end_time": "2022-04-26T17:31:47.164244Z",
     "start_time": "2022-04-26T17:31:47.161128Z"
    }
   },
   "source": [
    "## Show pool Summary"
   ]
  },
  {
   "cell_type": "code",
   "execution_count": 7,
   "id": "031bc969",
   "metadata": {
    "ExecuteTime": {
     "end_time": "2022-09-25T22:55:28.195532Z",
     "start_time": "2022-09-25T22:55:28.154150Z"
    }
   },
   "outputs": [
    {
     "data": {
      "text/html": [
       "<pre style=\"white-space:pre;overflow-x:auto;line-height:normal;font-family:Menlo,'DejaVu Sans Mono',consolas,'Courier New',monospace\">- X reserves: 153.54M\n",
       "</pre>\n"
      ],
      "text/plain": [
       "- X reserves: 153.54M\n"
      ]
     },
     "metadata": {},
     "output_type": "display_data"
    },
    {
     "data": {
      "text/html": [
       "<pre style=\"white-space:pre;overflow-x:auto;line-height:normal;font-family:Menlo,'DejaVu Sans Mono',consolas,'Courier New',monospace\">- Y reserves: 125.89M\n",
       "</pre>\n"
      ],
      "text/plain": [
       "- Y reserves: 125.89M\n"
      ]
     },
     "metadata": {},
     "output_type": "display_data"
    },
    {
     "data": {
      "text/html": [
       "<pre style=\"white-space:pre;overflow-x:auto;line-height:normal;font-family:Menlo,'DejaVu Sans Mono',consolas,'Courier New',monospace\">- total lp tokens: 215.05M\n",
       "</pre>\n"
      ],
      "text/plain": [
       "- total lp tokens: 215.05M\n"
      ]
     },
     "metadata": {},
     "output_type": "display_data"
    },
    {
     "data": {
      "text/html": [
       "<pre style=\"white-space:pre;overflow-x:auto;line-height:normal;font-family:Menlo,'DejaVu Sans Mono',consolas,'Courier New',monospace\">- X / Y price: 1.22\n",
       "</pre>\n"
      ],
      "text/plain": [
       "- X / Y price: 1.22\n"
      ]
     },
     "metadata": {},
     "output_type": "display_data"
    },
    {
     "data": {
      "text/html": [
       "<pre style=\"white-space:pre;overflow-x:auto;line-height:normal;font-family:Menlo,'DejaVu Sans Mono',consolas,'Courier New',monospace\">- Y / X price: 0.819891\n",
       "</pre>\n"
      ],
      "text/plain": [
       "- Y / X price: 0.819891\n"
      ]
     },
     "metadata": {},
     "output_type": "display_data"
    },
    {
     "data": {
      "text/html": [
       "<pre style=\"white-space:pre;overflow-x:auto;line-height:normal;font-family:Menlo,'DejaVu Sans Mono',consolas,'Courier New',monospace\">- X / Y liquidity depth: \n",
       "</pre>\n"
      ],
      "text/plain": [
       "- X / Y liquidity depth: \n"
      ]
     },
     "metadata": {},
     "output_type": "display_data"
    },
    {
     "name": "stdout",
     "output_type": "stream",
     "text": [
      "\n"
     ]
    },
    {
     "data": {
      "text/html": [
       "<pre style=\"white-space:pre;overflow-x:auto;line-height:normal;font-family:Menlo,'DejaVu Sans Mono',consolas,'Courier New',monospace\">      depth  │   new price  │           X  │           Y  \n",
       "    ─────────┼──────────────┼──────────────┼──────────────\n",
       "       -10%  │   1.1 X / Y  │   buy 7.87M  │  sell 6.82M  \n",
       "        -5%  │  1.16 X / Y  │   buy 3.88M  │  sell 3.28M  \n",
       "        -2%  │   1.2 X / Y  │   buy 1.54M  │  sell 1.28M  \n",
       "         0%  │  1.22 X / Y  │        0.00  │        0.00  \n",
       "        +2%  │  1.24 X / Y  │  sell 1.53M  │   buy 1.24M  \n",
       "        +5%  │  1.28 X / Y  │   sell 3.8M  │   buy 3.03M  \n",
       "       +10%  │  1.34 X / Y  │  sell 7.51M  │   buy 5.85M  \n",
       "</pre>\n"
      ],
      "text/plain": [
       "      depth  │   new price  │           X  │           Y  \n",
       "    ─────────┼──────────────┼──────────────┼──────────────\n",
       "       -10%  │   1.1 X / Y  │   buy 7.87M  │  sell 6.82M  \n",
       "        -5%  │  1.16 X / Y  │   buy 3.88M  │  sell 3.28M  \n",
       "        -2%  │   1.2 X / Y  │   buy 1.54M  │  sell 1.28M  \n",
       "         0%  │  1.22 X / Y  │        0.00  │        0.00  \n",
       "        +2%  │  1.24 X / Y  │  sell 1.53M  │   buy 1.24M  \n",
       "        +5%  │  1.28 X / Y  │   sell 3.8M  │   buy 3.03M  \n",
       "       +10%  │  1.34 X / Y  │  sell 7.51M  │   buy 5.85M  \n"
      ]
     },
     "metadata": {},
     "output_type": "display_data"
    },
    {
     "name": "stdout",
     "output_type": "stream",
     "text": [
      "\n"
     ]
    },
    {
     "data": {
      "text/html": [
       "<pre style=\"white-space:pre;overflow-x:auto;line-height:normal;font-family:Menlo,'DejaVu Sans Mono',consolas,'Courier New',monospace\">- Y / X liquidity depth: \n",
       "</pre>\n"
      ],
      "text/plain": [
       "- Y / X liquidity depth: \n"
      ]
     },
     "metadata": {},
     "output_type": "display_data"
    },
    {
     "name": "stdout",
     "output_type": "stream",
     "text": [
      "\n"
     ]
    },
    {
     "data": {
      "text/html": [
       "<pre style=\"white-space:pre;overflow-x:auto;line-height:normal;font-family:Menlo,'DejaVu Sans Mono',consolas,'Courier New',monospace\">      depth  │       new price  │           Y  │           X  \n",
       "    ─────────┼──────────────────┼──────────────┼──────────────\n",
       "       -10%  │  0.737902 Y / X  │   buy 6.45M  │  sell 8.32M  \n",
       "        -5%  │  0.778896 Y / X  │   buy 3.18M  │  sell 3.99M  \n",
       "        -2%  │  0.803493 Y / X  │   buy 1.26M  │  sell 1.56M  \n",
       "         0%  │  0.819891 Y / X  │        0.00  │        0.00  \n",
       "        +2%  │  0.836289 Y / X  │  sell 1.25M  │   buy 1.51M  \n",
       "        +5%  │  0.860886 Y / X  │  sell 3.11M  │   buy 3.69M  \n",
       "       +10%  │   0.90188 Y / X  │  sell 6.15M  │   buy 7.14M  \n",
       "</pre>\n"
      ],
      "text/plain": [
       "      depth  │       new price  │           Y  │           X  \n",
       "    ─────────┼──────────────────┼──────────────┼──────────────\n",
       "       -10%  │  0.737902 Y / X  │   buy 6.45M  │  sell 8.32M  \n",
       "        -5%  │  0.778896 Y / X  │   buy 3.18M  │  sell 3.99M  \n",
       "        -2%  │  0.803493 Y / X  │   buy 1.26M  │  sell 1.56M  \n",
       "         0%  │  0.819891 Y / X  │        0.00  │        0.00  \n",
       "        +2%  │  0.836289 Y / X  │  sell 1.25M  │   buy 1.51M  \n",
       "        +5%  │  0.860886 Y / X  │  sell 3.11M  │   buy 3.69M  \n",
       "       +10%  │   0.90188 Y / X  │  sell 6.15M  │   buy 7.14M  \n"
      ]
     },
     "metadata": {},
     "output_type": "display_data"
    },
    {
     "name": "stdout",
     "output_type": "stream",
     "text": [
      "\n"
     ]
    }
   ],
   "source": [
    "cpmm.print_pool_summary(**pool_state)"
   ]
  },
  {
   "cell_type": "markdown",
   "id": "3218a8da",
   "metadata": {
    "ExecuteTime": {
     "end_time": "2022-04-26T17:32:56.813995Z",
     "start_time": "2022-04-26T17:32:56.810755Z"
    }
   },
   "source": [
    "## Model pool trade"
   ]
  },
  {
   "cell_type": "code",
   "execution_count": 8,
   "id": "165939ff",
   "metadata": {
    "ExecuteTime": {
     "end_time": "2022-09-25T22:55:28.200301Z",
     "start_time": "2022-09-25T22:55:28.196893Z"
    }
   },
   "outputs": [
    {
     "data": {
      "text/plain": [
       "{'x_bought': -500000,\n",
       " 'x_sold': 500000,\n",
       " 'y_bought': 407392.9793098554,\n",
       " 'y_sold': -407392.9793098554,\n",
       " 'fee_rate': 0.003,\n",
       " 'new_pool': {'x_reserves': 154039933.09509552,\n",
       "  'y_reserves': 125478617.42557038}}"
      ]
     },
     "execution_count": 8,
     "metadata": {},
     "output_type": "execute_result"
    }
   ],
   "source": [
    "trade = cpmm.trade(\n",
    "    x_sold=500000,\n",
    "    x_reserves=pool_state['x_reserves'],\n",
    "    y_reserves=pool_state['y_reserves'],\n",
    ")\n",
    "\n",
    "trade"
   ]
  },
  {
   "cell_type": "markdown",
   "id": "7382a588",
   "metadata": {
    "ExecuteTime": {
     "end_time": "2022-04-26T17:35:59.342664Z",
     "start_time": "2022-04-26T17:35:59.339248Z"
    }
   },
   "source": [
    "## Show trade summary"
   ]
  },
  {
   "cell_type": "code",
   "execution_count": 9,
   "id": "1db77830",
   "metadata": {
    "ExecuteTime": {
     "end_time": "2022-09-25T22:55:28.207832Z",
     "start_time": "2022-09-25T22:55:28.201194Z"
    }
   },
   "outputs": [
    {
     "name": "stdout",
     "output_type": "stream",
     "text": [
      "- FEI sold: 500,000\n",
      "- TRIBE bought: 407,392.98\n",
      "- fees: 1,500 FEI\n",
      "- prices:\n",
      "\n"
     ]
    },
    {
     "data": {
      "text/html": [
       "<pre style=\"white-space:pre;overflow-x:auto;line-height:normal;font-family:Menlo,'DejaVu Sans Mono',consolas,'Courier New',monospace\">                 │   P_mean │  P_start │    P_end │ mean slippage │ end slippage \n",
       "    ─────────────┼──────────┼──────────┼──────────┼───────────────┼──────────────\n",
       "     FEI / TRIBE │     1.23 │     1.22 │     1.23 │      0.006266 │     0.006514 \n",
       "     TRIBE / FEI │ 0.814786 │ 0.819891 │ 0.814585 │     -0.006226 │    -0.006472 \n",
       "</pre>\n"
      ],
      "text/plain": [
       "                 │   P_mean │  P_start │    P_end │ mean slippage │ end slippage \n",
       "    ─────────────┼──────────┼──────────┼──────────┼───────────────┼──────────────\n",
       "     FEI / TRIBE │     1.23 │     1.22 │     1.23 │      0.006266 │     0.006514 \n",
       "     TRIBE / FEI │ 0.814786 │ 0.819891 │ 0.814585 │     -0.006226 │    -0.006472 \n"
      ]
     },
     "metadata": {},
     "output_type": "display_data"
    },
    {
     "name": "stdout",
     "output_type": "stream",
     "text": [
      "\n",
      "- pool reserve sizes:\n",
      "\n"
     ]
    },
    {
     "data": {
      "text/html": [
       "<pre style=\"white-space:pre;overflow-x:auto;line-height:normal;font-family:Menlo,'DejaVu Sans Mono',consolas,'Courier New',monospace\">           │        before │          after │    change \n",
       "    ───────┼───────────────┼────────────────┼───────────\n",
       "       FEI │ 153,539,933.1 │  154,039,933.1 │  0.003256 \n",
       "     TRIBE │ 125,886,010.4 │ 125,478,617.43 │ -0.003236 \n",
       "</pre>\n"
      ],
      "text/plain": [
       "           │        before │          after │    change \n",
       "    ───────┼───────────────┼────────────────┼───────────\n",
       "       FEI │ 153,539,933.1 │  154,039,933.1 │  0.003256 \n",
       "     TRIBE │ 125,886,010.4 │ 125,478,617.43 │ -0.003236 \n"
      ]
     },
     "metadata": {},
     "output_type": "display_data"
    }
   ],
   "source": [
    "cpmm.print_trade_summary(\n",
    "    x_sold=500000,\n",
    "    x_reserves=pool_state['x_reserves'],\n",
    "    y_reserves=pool_state['y_reserves'],\n",
    "    x_name=pool_symbols[0],\n",
    "    y_name=pool_symbols[1],\n",
    ")"
   ]
  },
  {
   "cell_type": "markdown",
   "id": "ce41be02",
   "metadata": {
    "ExecuteTime": {
     "end_time": "2022-04-26T17:19:58.216262Z",
     "start_time": "2022-04-26T17:19:58.212380Z"
    }
   },
   "source": [
    "## Get pool swaps"
   ]
  },
  {
   "cell_type": "code",
   "execution_count": 10,
   "id": "129cbc1a",
   "metadata": {
    "ExecuteTime": {
     "end_time": "2022-09-25T22:55:31.780439Z",
     "start_time": "2022-09-25T22:55:28.208692Z"
    },
    "scrolled": false
   },
   "outputs": [
    {
     "data": {
      "text/html": [
       "<div>\n",
       "<style scoped>\n",
       "    .dataframe tbody tr th:only-of-type {\n",
       "        vertical-align: middle;\n",
       "    }\n",
       "\n",
       "    .dataframe tbody tr th {\n",
       "        vertical-align: top;\n",
       "    }\n",
       "\n",
       "    .dataframe thead th {\n",
       "        text-align: right;\n",
       "    }\n",
       "</style>\n",
       "<table border=\"1\" class=\"dataframe\">\n",
       "  <thead>\n",
       "    <tr style=\"text-align: right;\">\n",
       "      <th></th>\n",
       "      <th>transaction_hash</th>\n",
       "      <th>recipient</th>\n",
       "      <th>sold_id</th>\n",
       "      <th>bought_id</th>\n",
       "      <th>sold_amount</th>\n",
       "      <th>bought_amount</th>\n",
       "    </tr>\n",
       "    <tr>\n",
       "      <th>block_number</th>\n",
       "      <th></th>\n",
       "      <th></th>\n",
       "      <th></th>\n",
       "      <th></th>\n",
       "      <th></th>\n",
       "      <th></th>\n",
       "    </tr>\n",
       "  </thead>\n",
       "  <tbody>\n",
       "    <tr>\n",
       "      <th>12168368</th>\n",
       "      <td>0xc9851f374701f76024c1f44f7166e0ef8a9945675046...</td>\n",
       "      <td>0xbffb152b9392e38cddc275d818a3db7fe364596b</td>\n",
       "      <td>0</td>\n",
       "      <td>1</td>\n",
       "      <td>385878266.886967</td>\n",
       "      <td>119248224.557418</td>\n",
       "    </tr>\n",
       "    <tr>\n",
       "      <th>12168369</th>\n",
       "      <td>0x641b95d1f76a4a9e0101df94aab04aee23f95bca349f...</td>\n",
       "      <td>0x2ebd449e7b10b20135b6c1134b9e40c84f9fffde</td>\n",
       "      <td>1</td>\n",
       "      <td>0</td>\n",
       "      <td>469310.538337</td>\n",
       "      <td>1500858.802284</td>\n",
       "    </tr>\n",
       "    <tr>\n",
       "      <th>12168369</th>\n",
       "      <td>0x59e7772688fe9966abfeba79408ca9aedbf316bf4761...</td>\n",
       "      <td>0x94b0a3d511b6ecdb17ebf877278ab030acb0a878</td>\n",
       "      <td>1</td>\n",
       "      <td>0</td>\n",
       "      <td>305051.849919</td>\n",
       "      <td>966302.891883</td>\n",
       "    </tr>\n",
       "    <tr>\n",
       "      <th>12168369</th>\n",
       "      <td>0xb7dd780066a84cd1fc4716ed11673c64d8af03ca28ba...</td>\n",
       "      <td>0x155ab90755eefc6f521cb3bccba4c5aedcd4cdb7</td>\n",
       "      <td>1</td>\n",
       "      <td>0</td>\n",
       "      <td>207200.0</td>\n",
       "      <td>652232.187339</td>\n",
       "    </tr>\n",
       "    <tr>\n",
       "      <th>12168369</th>\n",
       "      <td>0x3a3fdaaa52f99c3004370494e2b0852f9c6fb9b02a4f...</td>\n",
       "      <td>0xe28b3058a2f7f251741a7289b633a902126260ea</td>\n",
       "      <td>1</td>\n",
       "      <td>0</td>\n",
       "      <td>7587.187036</td>\n",
       "      <td>23820.490941</td>\n",
       "    </tr>\n",
       "    <tr>\n",
       "      <th>...</th>\n",
       "      <td>...</td>\n",
       "      <td>...</td>\n",
       "      <td>...</td>\n",
       "      <td>...</td>\n",
       "      <td>...</td>\n",
       "      <td>...</td>\n",
       "    </tr>\n",
       "    <tr>\n",
       "      <th>15612495</th>\n",
       "      <td>0x69ae33f8e505e9c1b5abaa8260869fb057cea9602749...</td>\n",
       "      <td>0xc6cf51f57969129654c5014748e44e2a8f6ebd81</td>\n",
       "      <td>1</td>\n",
       "      <td>0</td>\n",
       "      <td>5262.738555</td>\n",
       "      <td>1104.225943</td>\n",
       "    </tr>\n",
       "    <tr>\n",
       "      <th>15612612</th>\n",
       "      <td>0xc91f8451da0f12c22349bb2fbafd48789d4cab599d49...</td>\n",
       "      <td>0xdde3e2024e270d6022d1bb4e8745e9dc6d82e0bc</td>\n",
       "      <td>0</td>\n",
       "      <td>1</td>\n",
       "      <td>564.466359</td>\n",
       "      <td>2674.236899</td>\n",
       "    </tr>\n",
       "    <tr>\n",
       "      <th>15612742</th>\n",
       "      <td>0xbeb5c2ad1d9839abd58014bc04a817de82b51a232c1f...</td>\n",
       "      <td>0xcbf181784a00459a9d2dec643e63d9f1565a1cee</td>\n",
       "      <td>0</td>\n",
       "      <td>1</td>\n",
       "      <td>24990.752129</td>\n",
       "      <td>118172.509804</td>\n",
       "    </tr>\n",
       "    <tr>\n",
       "      <th>15613010</th>\n",
       "      <td>0xd5a6c5231f6f1a8b67ae6a5399ea1d827b0ad3edecd5...</td>\n",
       "      <td>0xf2f400c138f9fb900576263af0bc7fcde2b1b8a8</td>\n",
       "      <td>1</td>\n",
       "      <td>0</td>\n",
       "      <td>880.67771</td>\n",
       "      <td>185.469717</td>\n",
       "    </tr>\n",
       "    <tr>\n",
       "      <th>15613067</th>\n",
       "      <td>0x992111315f732cb36397113171f30b12ab177cea53c1...</td>\n",
       "      <td>0x9435f1085584764b081177944033d4ed2cfd23ee</td>\n",
       "      <td>1</td>\n",
       "      <td>0</td>\n",
       "      <td>561.167131</td>\n",
       "      <td>118.178479</td>\n",
       "    </tr>\n",
       "  </tbody>\n",
       "</table>\n",
       "<p>42679 rows × 6 columns</p>\n",
       "</div>"
      ],
      "text/plain": [
       "                                               transaction_hash  \\\n",
       "block_number                                                      \n",
       "12168368      0xc9851f374701f76024c1f44f7166e0ef8a9945675046...   \n",
       "12168369      0x641b95d1f76a4a9e0101df94aab04aee23f95bca349f...   \n",
       "12168369      0x59e7772688fe9966abfeba79408ca9aedbf316bf4761...   \n",
       "12168369      0xb7dd780066a84cd1fc4716ed11673c64d8af03ca28ba...   \n",
       "12168369      0x3a3fdaaa52f99c3004370494e2b0852f9c6fb9b02a4f...   \n",
       "...                                                         ...   \n",
       "15612495      0x69ae33f8e505e9c1b5abaa8260869fb057cea9602749...   \n",
       "15612612      0xc91f8451da0f12c22349bb2fbafd48789d4cab599d49...   \n",
       "15612742      0xbeb5c2ad1d9839abd58014bc04a817de82b51a232c1f...   \n",
       "15613010      0xd5a6c5231f6f1a8b67ae6a5399ea1d827b0ad3edecd5...   \n",
       "15613067      0x992111315f732cb36397113171f30b12ab177cea53c1...   \n",
       "\n",
       "                                               recipient  sold_id  bought_id  \\\n",
       "block_number                                                                   \n",
       "12168368      0xbffb152b9392e38cddc275d818a3db7fe364596b        0          1   \n",
       "12168369      0x2ebd449e7b10b20135b6c1134b9e40c84f9fffde        1          0   \n",
       "12168369      0x94b0a3d511b6ecdb17ebf877278ab030acb0a878        1          0   \n",
       "12168369      0x155ab90755eefc6f521cb3bccba4c5aedcd4cdb7        1          0   \n",
       "12168369      0xe28b3058a2f7f251741a7289b633a902126260ea        1          0   \n",
       "...                                                  ...      ...        ...   \n",
       "15612495      0xc6cf51f57969129654c5014748e44e2a8f6ebd81        1          0   \n",
       "15612612      0xdde3e2024e270d6022d1bb4e8745e9dc6d82e0bc        0          1   \n",
       "15612742      0xcbf181784a00459a9d2dec643e63d9f1565a1cee        0          1   \n",
       "15613010      0xf2f400c138f9fb900576263af0bc7fcde2b1b8a8        1          0   \n",
       "15613067      0x9435f1085584764b081177944033d4ed2cfd23ee        1          0   \n",
       "\n",
       "                   sold_amount     bought_amount  \n",
       "block_number                                      \n",
       "12168368      385878266.886967  119248224.557418  \n",
       "12168369         469310.538337    1500858.802284  \n",
       "12168369         305051.849919     966302.891883  \n",
       "12168369              207200.0     652232.187339  \n",
       "12168369           7587.187036      23820.490941  \n",
       "...                        ...               ...  \n",
       "15612495           5262.738555       1104.225943  \n",
       "15612612            564.466359       2674.236899  \n",
       "15612742          24990.752129     118172.509804  \n",
       "15613010             880.67771        185.469717  \n",
       "15613067            561.167131        118.178479  \n",
       "\n",
       "[42679 rows x 6 columns]"
      ]
     },
     "execution_count": 10,
     "metadata": {},
     "output_type": "execute_result"
    }
   ],
   "source": [
    "swaps = await uniswap_v2_utils.async_get_pool_swaps(pool)\n",
    "\n",
    "swaps"
   ]
  },
  {
   "cell_type": "markdown",
   "id": "682916b2",
   "metadata": {
    "ExecuteTime": {
     "end_time": "2022-04-26T17:20:02.249113Z",
     "start_time": "2022-04-26T17:20:02.245702Z"
    }
   },
   "source": [
    "## Get pool mints"
   ]
  },
  {
   "cell_type": "code",
   "execution_count": 11,
   "id": "e74c9aed",
   "metadata": {
    "ExecuteTime": {
     "end_time": "2022-09-25T22:55:32.958237Z",
     "start_time": "2022-09-25T22:55:31.781671Z"
    }
   },
   "outputs": [
    {
     "data": {
      "text/html": [
       "<div>\n",
       "<style scoped>\n",
       "    .dataframe tbody tr th:only-of-type {\n",
       "        vertical-align: middle;\n",
       "    }\n",
       "\n",
       "    .dataframe tbody tr th {\n",
       "        vertical-align: top;\n",
       "    }\n",
       "\n",
       "    .dataframe thead th {\n",
       "        text-align: right;\n",
       "    }\n",
       "</style>\n",
       "<table border=\"1\" class=\"dataframe\">\n",
       "  <thead>\n",
       "    <tr style=\"text-align: right;\">\n",
       "      <th></th>\n",
       "      <th></th>\n",
       "      <th></th>\n",
       "      <th>address</th>\n",
       "      <th>block_hash</th>\n",
       "      <th>transaction_hash</th>\n",
       "      <th>contract_address</th>\n",
       "      <th>event_name</th>\n",
       "      <th>event_hash</th>\n",
       "      <th>arg__sender</th>\n",
       "      <th>arg__amount0</th>\n",
       "      <th>arg__amount1</th>\n",
       "    </tr>\n",
       "    <tr>\n",
       "      <th>block_number</th>\n",
       "      <th>transaction_index</th>\n",
       "      <th>log_index</th>\n",
       "      <th></th>\n",
       "      <th></th>\n",
       "      <th></th>\n",
       "      <th></th>\n",
       "      <th></th>\n",
       "      <th></th>\n",
       "      <th></th>\n",
       "      <th></th>\n",
       "      <th></th>\n",
       "    </tr>\n",
       "  </thead>\n",
       "  <tbody>\n",
       "    <tr>\n",
       "      <th>12168368</th>\n",
       "      <th>61</th>\n",
       "      <th>57</th>\n",
       "      <td>0x9928e4046d7c6513326ccea028cd3e7a91c7590a</td>\n",
       "      <td>0x3bce142af146fec596340d67569a44688690955a065f...</td>\n",
       "      <td>0xc9851f374701f76024c1f44f7166e0ef8a9945675046...</td>\n",
       "      <td>0x9928e4046d7c6513326ccea028cd3e7a91c7590a</td>\n",
       "      <td>Mint</td>\n",
       "      <td>0x4c209b5fc8ad50758f13e2e1088ba56a560dff690a1c...</td>\n",
       "      <td>0x7a250d5630b4cf539739df2c5dacb4c659f2488d</td>\n",
       "      <td>2.605227e+08</td>\n",
       "      <td>2.000000e+08</td>\n",
       "    </tr>\n",
       "    <tr>\n",
       "      <th>12168392</th>\n",
       "      <th>5</th>\n",
       "      <th>9</th>\n",
       "      <td>0x9928e4046d7c6513326ccea028cd3e7a91c7590a</td>\n",
       "      <td>0x650f7f511d4c36c5753e5c53a5a0a1be89c06ce04d88...</td>\n",
       "      <td>0xf23c71488efbcc9f7bb065aef33862a23f163e3a3e20...</td>\n",
       "      <td>0x9928e4046d7c6513326ccea028cd3e7a91c7590a</td>\n",
       "      <td>Mint</td>\n",
       "      <td>0x4c209b5fc8ad50758f13e2e1088ba56a560dff690a1c...</td>\n",
       "      <td>0x7a250d5630b4cf539739df2c5dacb4c659f2488d</td>\n",
       "      <td>1.673037e+04</td>\n",
       "      <td>7.179388e+03</td>\n",
       "    </tr>\n",
       "    <tr>\n",
       "      <th>12168405</th>\n",
       "      <th>44</th>\n",
       "      <th>48</th>\n",
       "      <td>0x9928e4046d7c6513326ccea028cd3e7a91c7590a</td>\n",
       "      <td>0xddd3da1acfddc7f772c6c80a3e765f88dd44f4037e08...</td>\n",
       "      <td>0x7f302eeb37edd1a429b6dd8b6a29064b77a30b3a88cd...</td>\n",
       "      <td>0x9928e4046d7c6513326ccea028cd3e7a91c7590a</td>\n",
       "      <td>Mint</td>\n",
       "      <td>0x4c209b5fc8ad50758f13e2e1088ba56a560dff690a1c...</td>\n",
       "      <td>0x7a250d5630b4cf539739df2c5dacb4c659f2488d</td>\n",
       "      <td>2.060025e+04</td>\n",
       "      <td>9.973594e+03</td>\n",
       "    </tr>\n",
       "    <tr>\n",
       "      <th>12168410</th>\n",
       "      <th>32</th>\n",
       "      <th>98</th>\n",
       "      <td>0x9928e4046d7c6513326ccea028cd3e7a91c7590a</td>\n",
       "      <td>0x2f0a0bc05f1c8d1b846fac07d3b92d3fbb8f6d8f04f9...</td>\n",
       "      <td>0xddd0c0cc624e7db2808217e98d37282e553f98e697f0...</td>\n",
       "      <td>0x9928e4046d7c6513326ccea028cd3e7a91c7590a</td>\n",
       "      <td>Mint</td>\n",
       "      <td>0x4c209b5fc8ad50758f13e2e1088ba56a560dff690a1c...</td>\n",
       "      <td>0x7a250d5630b4cf539739df2c5dacb4c659f2488d</td>\n",
       "      <td>4.751617e+03</td>\n",
       "      <td>2.356516e+03</td>\n",
       "    </tr>\n",
       "    <tr>\n",
       "      <th>12168414</th>\n",
       "      <th>222</th>\n",
       "      <th>59</th>\n",
       "      <td>0x9928e4046d7c6513326ccea028cd3e7a91c7590a</td>\n",
       "      <td>0x4989fc640b4044afa6ccaba2d25a5c6e3257cf9148c4...</td>\n",
       "      <td>0x5258f324dfdc6c083e5802ae0045e3f4b86661f350f2...</td>\n",
       "      <td>0x9928e4046d7c6513326ccea028cd3e7a91c7590a</td>\n",
       "      <td>Mint</td>\n",
       "      <td>0x4c209b5fc8ad50758f13e2e1088ba56a560dff690a1c...</td>\n",
       "      <td>0x7a250d5630b4cf539739df2c5dacb4c659f2488d</td>\n",
       "      <td>7.425795e+03</td>\n",
       "      <td>3.770426e+03</td>\n",
       "    </tr>\n",
       "    <tr>\n",
       "      <th>...</th>\n",
       "      <th>...</th>\n",
       "      <th>...</th>\n",
       "      <td>...</td>\n",
       "      <td>...</td>\n",
       "      <td>...</td>\n",
       "      <td>...</td>\n",
       "      <td>...</td>\n",
       "      <td>...</td>\n",
       "      <td>...</td>\n",
       "      <td>...</td>\n",
       "      <td>...</td>\n",
       "    </tr>\n",
       "    <tr>\n",
       "      <th>15121055</th>\n",
       "      <th>250</th>\n",
       "      <th>388</th>\n",
       "      <td>0x9928e4046d7c6513326ccea028cd3e7a91c7590a</td>\n",
       "      <td>0x8c5a19294d630ad01ed205a8fdb662252bad819cc705...</td>\n",
       "      <td>0xe77d40f1798594ffc93241a4d790824c85bd4d0c8665...</td>\n",
       "      <td>0x9928e4046d7c6513326ccea028cd3e7a91c7590a</td>\n",
       "      <td>Mint</td>\n",
       "      <td>0x4c209b5fc8ad50758f13e2e1088ba56a560dff690a1c...</td>\n",
       "      <td>0x7a250d5630b4cf539739df2c5dacb4c659f2488d</td>\n",
       "      <td>4.277380e-01</td>\n",
       "      <td>2.793056e+00</td>\n",
       "    </tr>\n",
       "    <tr>\n",
       "      <th>15153321</th>\n",
       "      <th>271</th>\n",
       "      <th>547</th>\n",
       "      <td>0x9928e4046d7c6513326ccea028cd3e7a91c7590a</td>\n",
       "      <td>0x920636c5b77319c5539da8c407d255b7eced244e9a7b...</td>\n",
       "      <td>0xadc0361d11d36ebac3647006a307494f1ff7343ff44a...</td>\n",
       "      <td>0x9928e4046d7c6513326ccea028cd3e7a91c7590a</td>\n",
       "      <td>Mint</td>\n",
       "      <td>0x4c209b5fc8ad50758f13e2e1088ba56a560dff690a1c...</td>\n",
       "      <td>0x7a250d5630b4cf539739df2c5dacb4c659f2488d</td>\n",
       "      <td>1.430650e+01</td>\n",
       "      <td>9.364430e+01</td>\n",
       "    </tr>\n",
       "    <tr>\n",
       "      <th>15328435</th>\n",
       "      <th>28</th>\n",
       "      <th>46</th>\n",
       "      <td>0x9928e4046d7c6513326ccea028cd3e7a91c7590a</td>\n",
       "      <td>0x12342787e07e1f6423763e91c6a129248a7eb8175f76...</td>\n",
       "      <td>0x3716e7ebc7097737b96a67c1ab54241ff9022a8ec811...</td>\n",
       "      <td>0x9928e4046d7c6513326ccea028cd3e7a91c7590a</td>\n",
       "      <td>Mint</td>\n",
       "      <td>0x4c209b5fc8ad50758f13e2e1088ba56a560dff690a1c...</td>\n",
       "      <td>0x7a250d5630b4cf539739df2c5dacb4c659f2488d</td>\n",
       "      <td>4.986920e+03</td>\n",
       "      <td>3.119037e+04</td>\n",
       "    </tr>\n",
       "    <tr>\n",
       "      <th>15397041</th>\n",
       "      <th>133</th>\n",
       "      <th>328</th>\n",
       "      <td>0x9928e4046d7c6513326ccea028cd3e7a91c7590a</td>\n",
       "      <td>0x4508a1d5ec7c01c3b427c554c9d3c7802c8e744a9190...</td>\n",
       "      <td>0x1dd407108ac0de55406f3ceaab2b1e1594ed3a12688e...</td>\n",
       "      <td>0x9928e4046d7c6513326ccea028cd3e7a91c7590a</td>\n",
       "      <td>Mint</td>\n",
       "      <td>0x4c209b5fc8ad50758f13e2e1088ba56a560dff690a1c...</td>\n",
       "      <td>0x7a250d5630b4cf539739df2c5dacb4c659f2488d</td>\n",
       "      <td>2.500589e+03</td>\n",
       "      <td>1.147334e+04</td>\n",
       "    </tr>\n",
       "    <tr>\n",
       "      <th>15557196</th>\n",
       "      <th>86</th>\n",
       "      <th>101</th>\n",
       "      <td>0x9928e4046d7c6513326ccea028cd3e7a91c7590a</td>\n",
       "      <td>0xbabc09363f96a7b99d1c6bec4d1bcf62572f21d4382d...</td>\n",
       "      <td>0x2470dcedbade0b9d7ee71677f1739211cf3520139555...</td>\n",
       "      <td>0x9928e4046d7c6513326ccea028cd3e7a91c7590a</td>\n",
       "      <td>Mint</td>\n",
       "      <td>0x4c209b5fc8ad50758f13e2e1088ba56a560dff690a1c...</td>\n",
       "      <td>0x7a250d5630b4cf539739df2c5dacb4c659f2488d</td>\n",
       "      <td>2.000000e+00</td>\n",
       "      <td>8.846706e+00</td>\n",
       "    </tr>\n",
       "  </tbody>\n",
       "</table>\n",
       "<p>10049 rows × 9 columns</p>\n",
       "</div>"
      ],
      "text/plain": [
       "                                                                             address  \\\n",
       "block_number transaction_index log_index                                               \n",
       "12168368     61                57         0x9928e4046d7c6513326ccea028cd3e7a91c7590a   \n",
       "12168392     5                 9          0x9928e4046d7c6513326ccea028cd3e7a91c7590a   \n",
       "12168405     44                48         0x9928e4046d7c6513326ccea028cd3e7a91c7590a   \n",
       "12168410     32                98         0x9928e4046d7c6513326ccea028cd3e7a91c7590a   \n",
       "12168414     222               59         0x9928e4046d7c6513326ccea028cd3e7a91c7590a   \n",
       "...                                                                              ...   \n",
       "15121055     250               388        0x9928e4046d7c6513326ccea028cd3e7a91c7590a   \n",
       "15153321     271               547        0x9928e4046d7c6513326ccea028cd3e7a91c7590a   \n",
       "15328435     28                46         0x9928e4046d7c6513326ccea028cd3e7a91c7590a   \n",
       "15397041     133               328        0x9928e4046d7c6513326ccea028cd3e7a91c7590a   \n",
       "15557196     86                101        0x9928e4046d7c6513326ccea028cd3e7a91c7590a   \n",
       "\n",
       "                                                                                 block_hash  \\\n",
       "block_number transaction_index log_index                                                      \n",
       "12168368     61                57         0x3bce142af146fec596340d67569a44688690955a065f...   \n",
       "12168392     5                 9          0x650f7f511d4c36c5753e5c53a5a0a1be89c06ce04d88...   \n",
       "12168405     44                48         0xddd3da1acfddc7f772c6c80a3e765f88dd44f4037e08...   \n",
       "12168410     32                98         0x2f0a0bc05f1c8d1b846fac07d3b92d3fbb8f6d8f04f9...   \n",
       "12168414     222               59         0x4989fc640b4044afa6ccaba2d25a5c6e3257cf9148c4...   \n",
       "...                                                                                     ...   \n",
       "15121055     250               388        0x8c5a19294d630ad01ed205a8fdb662252bad819cc705...   \n",
       "15153321     271               547        0x920636c5b77319c5539da8c407d255b7eced244e9a7b...   \n",
       "15328435     28                46         0x12342787e07e1f6423763e91c6a129248a7eb8175f76...   \n",
       "15397041     133               328        0x4508a1d5ec7c01c3b427c554c9d3c7802c8e744a9190...   \n",
       "15557196     86                101        0xbabc09363f96a7b99d1c6bec4d1bcf62572f21d4382d...   \n",
       "\n",
       "                                                                           transaction_hash  \\\n",
       "block_number transaction_index log_index                                                      \n",
       "12168368     61                57         0xc9851f374701f76024c1f44f7166e0ef8a9945675046...   \n",
       "12168392     5                 9          0xf23c71488efbcc9f7bb065aef33862a23f163e3a3e20...   \n",
       "12168405     44                48         0x7f302eeb37edd1a429b6dd8b6a29064b77a30b3a88cd...   \n",
       "12168410     32                98         0xddd0c0cc624e7db2808217e98d37282e553f98e697f0...   \n",
       "12168414     222               59         0x5258f324dfdc6c083e5802ae0045e3f4b86661f350f2...   \n",
       "...                                                                                     ...   \n",
       "15121055     250               388        0xe77d40f1798594ffc93241a4d790824c85bd4d0c8665...   \n",
       "15153321     271               547        0xadc0361d11d36ebac3647006a307494f1ff7343ff44a...   \n",
       "15328435     28                46         0x3716e7ebc7097737b96a67c1ab54241ff9022a8ec811...   \n",
       "15397041     133               328        0x1dd407108ac0de55406f3ceaab2b1e1594ed3a12688e...   \n",
       "15557196     86                101        0x2470dcedbade0b9d7ee71677f1739211cf3520139555...   \n",
       "\n",
       "                                                                    contract_address  \\\n",
       "block_number transaction_index log_index                                               \n",
       "12168368     61                57         0x9928e4046d7c6513326ccea028cd3e7a91c7590a   \n",
       "12168392     5                 9          0x9928e4046d7c6513326ccea028cd3e7a91c7590a   \n",
       "12168405     44                48         0x9928e4046d7c6513326ccea028cd3e7a91c7590a   \n",
       "12168410     32                98         0x9928e4046d7c6513326ccea028cd3e7a91c7590a   \n",
       "12168414     222               59         0x9928e4046d7c6513326ccea028cd3e7a91c7590a   \n",
       "...                                                                              ...   \n",
       "15121055     250               388        0x9928e4046d7c6513326ccea028cd3e7a91c7590a   \n",
       "15153321     271               547        0x9928e4046d7c6513326ccea028cd3e7a91c7590a   \n",
       "15328435     28                46         0x9928e4046d7c6513326ccea028cd3e7a91c7590a   \n",
       "15397041     133               328        0x9928e4046d7c6513326ccea028cd3e7a91c7590a   \n",
       "15557196     86                101        0x9928e4046d7c6513326ccea028cd3e7a91c7590a   \n",
       "\n",
       "                                         event_name  \\\n",
       "block_number transaction_index log_index              \n",
       "12168368     61                57              Mint   \n",
       "12168392     5                 9               Mint   \n",
       "12168405     44                48              Mint   \n",
       "12168410     32                98              Mint   \n",
       "12168414     222               59              Mint   \n",
       "...                                             ...   \n",
       "15121055     250               388             Mint   \n",
       "15153321     271               547             Mint   \n",
       "15328435     28                46              Mint   \n",
       "15397041     133               328             Mint   \n",
       "15557196     86                101             Mint   \n",
       "\n",
       "                                                                                 event_hash  \\\n",
       "block_number transaction_index log_index                                                      \n",
       "12168368     61                57         0x4c209b5fc8ad50758f13e2e1088ba56a560dff690a1c...   \n",
       "12168392     5                 9          0x4c209b5fc8ad50758f13e2e1088ba56a560dff690a1c...   \n",
       "12168405     44                48         0x4c209b5fc8ad50758f13e2e1088ba56a560dff690a1c...   \n",
       "12168410     32                98         0x4c209b5fc8ad50758f13e2e1088ba56a560dff690a1c...   \n",
       "12168414     222               59         0x4c209b5fc8ad50758f13e2e1088ba56a560dff690a1c...   \n",
       "...                                                                                     ...   \n",
       "15121055     250               388        0x4c209b5fc8ad50758f13e2e1088ba56a560dff690a1c...   \n",
       "15153321     271               547        0x4c209b5fc8ad50758f13e2e1088ba56a560dff690a1c...   \n",
       "15328435     28                46         0x4c209b5fc8ad50758f13e2e1088ba56a560dff690a1c...   \n",
       "15397041     133               328        0x4c209b5fc8ad50758f13e2e1088ba56a560dff690a1c...   \n",
       "15557196     86                101        0x4c209b5fc8ad50758f13e2e1088ba56a560dff690a1c...   \n",
       "\n",
       "                                                                         arg__sender  \\\n",
       "block_number transaction_index log_index                                               \n",
       "12168368     61                57         0x7a250d5630b4cf539739df2c5dacb4c659f2488d   \n",
       "12168392     5                 9          0x7a250d5630b4cf539739df2c5dacb4c659f2488d   \n",
       "12168405     44                48         0x7a250d5630b4cf539739df2c5dacb4c659f2488d   \n",
       "12168410     32                98         0x7a250d5630b4cf539739df2c5dacb4c659f2488d   \n",
       "12168414     222               59         0x7a250d5630b4cf539739df2c5dacb4c659f2488d   \n",
       "...                                                                              ...   \n",
       "15121055     250               388        0x7a250d5630b4cf539739df2c5dacb4c659f2488d   \n",
       "15153321     271               547        0x7a250d5630b4cf539739df2c5dacb4c659f2488d   \n",
       "15328435     28                46         0x7a250d5630b4cf539739df2c5dacb4c659f2488d   \n",
       "15397041     133               328        0x7a250d5630b4cf539739df2c5dacb4c659f2488d   \n",
       "15557196     86                101        0x7a250d5630b4cf539739df2c5dacb4c659f2488d   \n",
       "\n",
       "                                          arg__amount0  arg__amount1  \n",
       "block_number transaction_index log_index                              \n",
       "12168368     61                57         2.605227e+08  2.000000e+08  \n",
       "12168392     5                 9          1.673037e+04  7.179388e+03  \n",
       "12168405     44                48         2.060025e+04  9.973594e+03  \n",
       "12168410     32                98         4.751617e+03  2.356516e+03  \n",
       "12168414     222               59         7.425795e+03  3.770426e+03  \n",
       "...                                                ...           ...  \n",
       "15121055     250               388        4.277380e-01  2.793056e+00  \n",
       "15153321     271               547        1.430650e+01  9.364430e+01  \n",
       "15328435     28                46         4.986920e+03  3.119037e+04  \n",
       "15397041     133               328        2.500589e+03  1.147334e+04  \n",
       "15557196     86                101        2.000000e+00  8.846706e+00  \n",
       "\n",
       "[10049 rows x 9 columns]"
      ]
     },
     "execution_count": 11,
     "metadata": {},
     "output_type": "execute_result"
    }
   ],
   "source": [
    "mints = await uniswap_v2_utils.async_get_pool_mints(pool)\n",
    "\n",
    "mints"
   ]
  },
  {
   "cell_type": "markdown",
   "id": "74ce9d7d",
   "metadata": {
    "ExecuteTime": {
     "end_time": "2022-04-26T17:20:07.209063Z",
     "start_time": "2022-04-26T17:20:07.207556Z"
    }
   },
   "source": [
    "## Get pool burns"
   ]
  },
  {
   "cell_type": "code",
   "execution_count": 12,
   "id": "266ddf90",
   "metadata": {
    "ExecuteTime": {
     "end_time": "2022-09-25T22:55:39.675778Z",
     "start_time": "2022-09-25T22:55:32.959666Z"
    }
   },
   "outputs": [
    {
     "name": "stdout",
     "output_type": "stream",
     "text": [
      "getting events from node, block range: [12125707, 15613506]\n",
      "saving events to file: /home/storm/ctc_data/evm/networks/mainnet/events/contract__0x9928e4046d7c6513326ccea028cd3e7a91c7590a/event__0xdccd412f0b1252819cb1fd330b93224ca42612892bb3f4f789976e6d81936496/12125707__to__15613506.csv\n"
     ]
    },
    {
     "data": {
      "text/html": [
       "<div>\n",
       "<style scoped>\n",
       "    .dataframe tbody tr th:only-of-type {\n",
       "        vertical-align: middle;\n",
       "    }\n",
       "\n",
       "    .dataframe tbody tr th {\n",
       "        vertical-align: top;\n",
       "    }\n",
       "\n",
       "    .dataframe thead th {\n",
       "        text-align: right;\n",
       "    }\n",
       "</style>\n",
       "<table border=\"1\" class=\"dataframe\">\n",
       "  <thead>\n",
       "    <tr style=\"text-align: right;\">\n",
       "      <th></th>\n",
       "      <th></th>\n",
       "      <th></th>\n",
       "      <th>address</th>\n",
       "      <th>block_hash</th>\n",
       "      <th>transaction_hash</th>\n",
       "      <th>contract_address</th>\n",
       "      <th>event_name</th>\n",
       "      <th>event_hash</th>\n",
       "      <th>arg__sender</th>\n",
       "      <th>arg__to</th>\n",
       "      <th>arg__amount0</th>\n",
       "      <th>arg__amount1</th>\n",
       "    </tr>\n",
       "    <tr>\n",
       "      <th>block_number</th>\n",
       "      <th>transaction_index</th>\n",
       "      <th>log_index</th>\n",
       "      <th></th>\n",
       "      <th></th>\n",
       "      <th></th>\n",
       "      <th></th>\n",
       "      <th></th>\n",
       "      <th></th>\n",
       "      <th></th>\n",
       "      <th></th>\n",
       "      <th></th>\n",
       "      <th></th>\n",
       "    </tr>\n",
       "  </thead>\n",
       "  <tbody>\n",
       "    <tr>\n",
       "      <th>12168478</th>\n",
       "      <th>71</th>\n",
       "      <th>92</th>\n",
       "      <td>0x9928e4046d7c6513326ccea028cd3e7a91c7590a</td>\n",
       "      <td>0x9cbf1e47301905b3c876acc2c2db8762f333e3d1bbfa...</td>\n",
       "      <td>0x71d8939b4edf07087a69fd646bfaf509527ed9211411...</td>\n",
       "      <td>0x9928e4046d7c6513326ccea028cd3e7a91c7590a</td>\n",
       "      <td>Burn</td>\n",
       "      <td>0xdccd412f0b1252819cb1fd330b93224ca42612892bb3...</td>\n",
       "      <td>0x7a250d5630b4cf539739df2c5dacb4c659f2488d</td>\n",
       "      <td>0xc01b33ae2e3a4cb75d0e3bcee2f0cc3eb3fe668a</td>\n",
       "      <td>148271.937203</td>\n",
       "      <td>89795.087503</td>\n",
       "    </tr>\n",
       "    <tr>\n",
       "      <th>12168483</th>\n",
       "      <th>123</th>\n",
       "      <th>157</th>\n",
       "      <td>0x9928e4046d7c6513326ccea028cd3e7a91c7590a</td>\n",
       "      <td>0xbd0256f088eeb51f8101a1b3b20d53fc35b532be0ebc...</td>\n",
       "      <td>0xab4f3a45eab31aa9a75ee961afba7b2b5b3bef745bca...</td>\n",
       "      <td>0x9928e4046d7c6513326ccea028cd3e7a91c7590a</td>\n",
       "      <td>Burn</td>\n",
       "      <td>0xdccd412f0b1252819cb1fd330b93224ca42612892bb3...</td>\n",
       "      <td>0x7a250d5630b4cf539739df2c5dacb4c659f2488d</td>\n",
       "      <td>0xd683b78e988ba4bdb9fa0e2012c4c36b7cc96aad</td>\n",
       "      <td>4723.992545</td>\n",
       "      <td>2879.302038</td>\n",
       "    </tr>\n",
       "    <tr>\n",
       "      <th>12168529</th>\n",
       "      <th>140</th>\n",
       "      <th>297</th>\n",
       "      <td>0x9928e4046d7c6513326ccea028cd3e7a91c7590a</td>\n",
       "      <td>0x0614693238887091262a3d86adddcd88e3020708ad1e...</td>\n",
       "      <td>0xbd4f8703249967542414af4246fb3433c222deafc122...</td>\n",
       "      <td>0x9928e4046d7c6513326ccea028cd3e7a91c7590a</td>\n",
       "      <td>Burn</td>\n",
       "      <td>0xdccd412f0b1252819cb1fd330b93224ca42612892bb3...</td>\n",
       "      <td>0x7a250d5630b4cf539739df2c5dacb4c659f2488d</td>\n",
       "      <td>0x18a5d209d58852499abc1ee73cbb27cc743dd317</td>\n",
       "      <td>18653.702095</td>\n",
       "      <td>9522.864220</td>\n",
       "    </tr>\n",
       "    <tr>\n",
       "      <th>12168537</th>\n",
       "      <th>55</th>\n",
       "      <th>35</th>\n",
       "      <td>0x9928e4046d7c6513326ccea028cd3e7a91c7590a</td>\n",
       "      <td>0x7c3f742344556505b91508e12fe45183553c5d575224...</td>\n",
       "      <td>0xd3bd1f7dc5453ac1ff625f8bfebbf2816e99f3bcc3ce...</td>\n",
       "      <td>0x9928e4046d7c6513326ccea028cd3e7a91c7590a</td>\n",
       "      <td>Burn</td>\n",
       "      <td>0xdccd412f0b1252819cb1fd330b93224ca42612892bb3...</td>\n",
       "      <td>0x7a250d5630b4cf539739df2c5dacb4c659f2488d</td>\n",
       "      <td>0x4042f4142b026c9f980c7906060a80f57090d63b</td>\n",
       "      <td>8471.241203</td>\n",
       "      <td>4303.648906</td>\n",
       "    </tr>\n",
       "    <tr>\n",
       "      <th>12168561</th>\n",
       "      <th>104</th>\n",
       "      <th>149</th>\n",
       "      <td>0x9928e4046d7c6513326ccea028cd3e7a91c7590a</td>\n",
       "      <td>0x7dd20b35ff12825a70eb73bab51cbb5f3902c6cc5bb1...</td>\n",
       "      <td>0xea3807c8e6a2a26e245c74a8f32f6b1834471549acf2...</td>\n",
       "      <td>0x9928e4046d7c6513326ccea028cd3e7a91c7590a</td>\n",
       "      <td>Burn</td>\n",
       "      <td>0xdccd412f0b1252819cb1fd330b93224ca42612892bb3...</td>\n",
       "      <td>0x7a250d5630b4cf539739df2c5dacb4c659f2488d</td>\n",
       "      <td>0xbfe890aac8d9d8dd840115dcd2cff3c99089779d</td>\n",
       "      <td>96329.571186</td>\n",
       "      <td>44065.409781</td>\n",
       "    </tr>\n",
       "    <tr>\n",
       "      <th>...</th>\n",
       "      <th>...</th>\n",
       "      <th>...</th>\n",
       "      <td>...</td>\n",
       "      <td>...</td>\n",
       "      <td>...</td>\n",
       "      <td>...</td>\n",
       "      <td>...</td>\n",
       "      <td>...</td>\n",
       "      <td>...</td>\n",
       "      <td>...</td>\n",
       "      <td>...</td>\n",
       "      <td>...</td>\n",
       "    </tr>\n",
       "    <tr>\n",
       "      <th>15551821</th>\n",
       "      <th>71</th>\n",
       "      <th>136</th>\n",
       "      <td>0x9928e4046d7c6513326ccea028cd3e7a91c7590a</td>\n",
       "      <td>0x901b3422c33ce7e6818a8432a4accfdc196cb400af4c...</td>\n",
       "      <td>0xcfa991c54911b7e355105bcf618e2d952093f0449ff7...</td>\n",
       "      <td>0x9928e4046d7c6513326ccea028cd3e7a91c7590a</td>\n",
       "      <td>Burn</td>\n",
       "      <td>0xdccd412f0b1252819cb1fd330b93224ca42612892bb3...</td>\n",
       "      <td>0x7a250d5630b4cf539739df2c5dacb4c659f2488d</td>\n",
       "      <td>0x7e2e5d94f11f358345a4ee14c4f1a8521315c03b</td>\n",
       "      <td>85.255637</td>\n",
       "      <td>374.935175</td>\n",
       "    </tr>\n",
       "    <tr>\n",
       "      <th>15559412</th>\n",
       "      <th>174</th>\n",
       "      <th>390</th>\n",
       "      <td>0x9928e4046d7c6513326ccea028cd3e7a91c7590a</td>\n",
       "      <td>0xddd9480f4feede79b255b19101cd3e4fc6b6e013702e...</td>\n",
       "      <td>0x03b721863a7419ebb4714c3764939763856e601d1f66...</td>\n",
       "      <td>0x9928e4046d7c6513326ccea028cd3e7a91c7590a</td>\n",
       "      <td>Burn</td>\n",
       "      <td>0xdccd412f0b1252819cb1fd330b93224ca42612892bb3...</td>\n",
       "      <td>0x7a250d5630b4cf539739df2c5dacb4c659f2488d</td>\n",
       "      <td>0x885d26765a096136cfeb1d216713ade4289641e0</td>\n",
       "      <td>64.535703</td>\n",
       "      <td>285.569863</td>\n",
       "    </tr>\n",
       "    <tr>\n",
       "      <th>15574518</th>\n",
       "      <th>215</th>\n",
       "      <th>386</th>\n",
       "      <td>0x9928e4046d7c6513326ccea028cd3e7a91c7590a</td>\n",
       "      <td>0xdccc0a9212e3f39ed6d48f5113bfa76b0ba9a02d7f79...</td>\n",
       "      <td>0x8e816ea1fe6abb4da0031f3ac9b5d617c310e23e384b...</td>\n",
       "      <td>0x9928e4046d7c6513326ccea028cd3e7a91c7590a</td>\n",
       "      <td>Burn</td>\n",
       "      <td>0xdccd412f0b1252819cb1fd330b93224ca42612892bb3...</td>\n",
       "      <td>0x7a250d5630b4cf539739df2c5dacb4c659f2488d</td>\n",
       "      <td>0xdf632ea5ba8283488aae8538e17a2f802243a61a</td>\n",
       "      <td>596.256976</td>\n",
       "      <td>2739.482104</td>\n",
       "    </tr>\n",
       "    <tr>\n",
       "      <th>15612326</th>\n",
       "      <th>17</th>\n",
       "      <th>54</th>\n",
       "      <td>0x9928e4046d7c6513326ccea028cd3e7a91c7590a</td>\n",
       "      <td>0x9debdfcc6e2dc0bbecc377447257cd2c2e13210a417c...</td>\n",
       "      <td>0x2f9d506a91b1b65b0bab47f2fe08109956fd3812e361...</td>\n",
       "      <td>0x9928e4046d7c6513326ccea028cd3e7a91c7590a</td>\n",
       "      <td>Burn</td>\n",
       "      <td>0xdccd412f0b1252819cb1fd330b93224ca42612892bb3...</td>\n",
       "      <td>0x7a250d5630b4cf539739df2c5dacb4c659f2488d</td>\n",
       "      <td>0xd2de083018d93c6a7c4fb154bf6f36e6f1833796</td>\n",
       "      <td>5756.744803</td>\n",
       "      <td>27333.163245</td>\n",
       "    </tr>\n",
       "    <tr>\n",
       "      <th>15613063</th>\n",
       "      <th>96</th>\n",
       "      <th>266</th>\n",
       "      <td>0x9928e4046d7c6513326ccea028cd3e7a91c7590a</td>\n",
       "      <td>0x18107b4cd7d0f7271fa0a7acff48b39d50c0b765e06a...</td>\n",
       "      <td>0x0a249e10c1e5e74a08cb1f34313eeccc8d0208c4de08...</td>\n",
       "      <td>0x9928e4046d7c6513326ccea028cd3e7a91c7590a</td>\n",
       "      <td>Burn</td>\n",
       "      <td>0xdccd412f0b1252819cb1fd330b93224ca42612892bb3...</td>\n",
       "      <td>0x7a250d5630b4cf539739df2c5dacb4c659f2488d</td>\n",
       "      <td>0x9435f1085584764b081177944033d4ed2cfd23ee</td>\n",
       "      <td>82.440313</td>\n",
       "      <td>390.287643</td>\n",
       "    </tr>\n",
       "  </tbody>\n",
       "</table>\n",
       "<p>5272 rows × 10 columns</p>\n",
       "</div>"
      ],
      "text/plain": [
       "                                                                             address  \\\n",
       "block_number transaction_index log_index                                               \n",
       "12168478     71                92         0x9928e4046d7c6513326ccea028cd3e7a91c7590a   \n",
       "12168483     123               157        0x9928e4046d7c6513326ccea028cd3e7a91c7590a   \n",
       "12168529     140               297        0x9928e4046d7c6513326ccea028cd3e7a91c7590a   \n",
       "12168537     55                35         0x9928e4046d7c6513326ccea028cd3e7a91c7590a   \n",
       "12168561     104               149        0x9928e4046d7c6513326ccea028cd3e7a91c7590a   \n",
       "...                                                                              ...   \n",
       "15551821     71                136        0x9928e4046d7c6513326ccea028cd3e7a91c7590a   \n",
       "15559412     174               390        0x9928e4046d7c6513326ccea028cd3e7a91c7590a   \n",
       "15574518     215               386        0x9928e4046d7c6513326ccea028cd3e7a91c7590a   \n",
       "15612326     17                54         0x9928e4046d7c6513326ccea028cd3e7a91c7590a   \n",
       "15613063     96                266        0x9928e4046d7c6513326ccea028cd3e7a91c7590a   \n",
       "\n",
       "                                                                                 block_hash  \\\n",
       "block_number transaction_index log_index                                                      \n",
       "12168478     71                92         0x9cbf1e47301905b3c876acc2c2db8762f333e3d1bbfa...   \n",
       "12168483     123               157        0xbd0256f088eeb51f8101a1b3b20d53fc35b532be0ebc...   \n",
       "12168529     140               297        0x0614693238887091262a3d86adddcd88e3020708ad1e...   \n",
       "12168537     55                35         0x7c3f742344556505b91508e12fe45183553c5d575224...   \n",
       "12168561     104               149        0x7dd20b35ff12825a70eb73bab51cbb5f3902c6cc5bb1...   \n",
       "...                                                                                     ...   \n",
       "15551821     71                136        0x901b3422c33ce7e6818a8432a4accfdc196cb400af4c...   \n",
       "15559412     174               390        0xddd9480f4feede79b255b19101cd3e4fc6b6e013702e...   \n",
       "15574518     215               386        0xdccc0a9212e3f39ed6d48f5113bfa76b0ba9a02d7f79...   \n",
       "15612326     17                54         0x9debdfcc6e2dc0bbecc377447257cd2c2e13210a417c...   \n",
       "15613063     96                266        0x18107b4cd7d0f7271fa0a7acff48b39d50c0b765e06a...   \n",
       "\n",
       "                                                                           transaction_hash  \\\n",
       "block_number transaction_index log_index                                                      \n",
       "12168478     71                92         0x71d8939b4edf07087a69fd646bfaf509527ed9211411...   \n",
       "12168483     123               157        0xab4f3a45eab31aa9a75ee961afba7b2b5b3bef745bca...   \n",
       "12168529     140               297        0xbd4f8703249967542414af4246fb3433c222deafc122...   \n",
       "12168537     55                35         0xd3bd1f7dc5453ac1ff625f8bfebbf2816e99f3bcc3ce...   \n",
       "12168561     104               149        0xea3807c8e6a2a26e245c74a8f32f6b1834471549acf2...   \n",
       "...                                                                                     ...   \n",
       "15551821     71                136        0xcfa991c54911b7e355105bcf618e2d952093f0449ff7...   \n",
       "15559412     174               390        0x03b721863a7419ebb4714c3764939763856e601d1f66...   \n",
       "15574518     215               386        0x8e816ea1fe6abb4da0031f3ac9b5d617c310e23e384b...   \n",
       "15612326     17                54         0x2f9d506a91b1b65b0bab47f2fe08109956fd3812e361...   \n",
       "15613063     96                266        0x0a249e10c1e5e74a08cb1f34313eeccc8d0208c4de08...   \n",
       "\n",
       "                                                                    contract_address  \\\n",
       "block_number transaction_index log_index                                               \n",
       "12168478     71                92         0x9928e4046d7c6513326ccea028cd3e7a91c7590a   \n",
       "12168483     123               157        0x9928e4046d7c6513326ccea028cd3e7a91c7590a   \n",
       "12168529     140               297        0x9928e4046d7c6513326ccea028cd3e7a91c7590a   \n",
       "12168537     55                35         0x9928e4046d7c6513326ccea028cd3e7a91c7590a   \n",
       "12168561     104               149        0x9928e4046d7c6513326ccea028cd3e7a91c7590a   \n",
       "...                                                                              ...   \n",
       "15551821     71                136        0x9928e4046d7c6513326ccea028cd3e7a91c7590a   \n",
       "15559412     174               390        0x9928e4046d7c6513326ccea028cd3e7a91c7590a   \n",
       "15574518     215               386        0x9928e4046d7c6513326ccea028cd3e7a91c7590a   \n",
       "15612326     17                54         0x9928e4046d7c6513326ccea028cd3e7a91c7590a   \n",
       "15613063     96                266        0x9928e4046d7c6513326ccea028cd3e7a91c7590a   \n",
       "\n",
       "                                         event_name  \\\n",
       "block_number transaction_index log_index              \n",
       "12168478     71                92              Burn   \n",
       "12168483     123               157             Burn   \n",
       "12168529     140               297             Burn   \n",
       "12168537     55                35              Burn   \n",
       "12168561     104               149             Burn   \n",
       "...                                             ...   \n",
       "15551821     71                136             Burn   \n",
       "15559412     174               390             Burn   \n",
       "15574518     215               386             Burn   \n",
       "15612326     17                54              Burn   \n",
       "15613063     96                266             Burn   \n",
       "\n",
       "                                                                                 event_hash  \\\n",
       "block_number transaction_index log_index                                                      \n",
       "12168478     71                92         0xdccd412f0b1252819cb1fd330b93224ca42612892bb3...   \n",
       "12168483     123               157        0xdccd412f0b1252819cb1fd330b93224ca42612892bb3...   \n",
       "12168529     140               297        0xdccd412f0b1252819cb1fd330b93224ca42612892bb3...   \n",
       "12168537     55                35         0xdccd412f0b1252819cb1fd330b93224ca42612892bb3...   \n",
       "12168561     104               149        0xdccd412f0b1252819cb1fd330b93224ca42612892bb3...   \n",
       "...                                                                                     ...   \n",
       "15551821     71                136        0xdccd412f0b1252819cb1fd330b93224ca42612892bb3...   \n",
       "15559412     174               390        0xdccd412f0b1252819cb1fd330b93224ca42612892bb3...   \n",
       "15574518     215               386        0xdccd412f0b1252819cb1fd330b93224ca42612892bb3...   \n",
       "15612326     17                54         0xdccd412f0b1252819cb1fd330b93224ca42612892bb3...   \n",
       "15613063     96                266        0xdccd412f0b1252819cb1fd330b93224ca42612892bb3...   \n",
       "\n",
       "                                                                         arg__sender  \\\n",
       "block_number transaction_index log_index                                               \n",
       "12168478     71                92         0x7a250d5630b4cf539739df2c5dacb4c659f2488d   \n",
       "12168483     123               157        0x7a250d5630b4cf539739df2c5dacb4c659f2488d   \n",
       "12168529     140               297        0x7a250d5630b4cf539739df2c5dacb4c659f2488d   \n",
       "12168537     55                35         0x7a250d5630b4cf539739df2c5dacb4c659f2488d   \n",
       "12168561     104               149        0x7a250d5630b4cf539739df2c5dacb4c659f2488d   \n",
       "...                                                                              ...   \n",
       "15551821     71                136        0x7a250d5630b4cf539739df2c5dacb4c659f2488d   \n",
       "15559412     174               390        0x7a250d5630b4cf539739df2c5dacb4c659f2488d   \n",
       "15574518     215               386        0x7a250d5630b4cf539739df2c5dacb4c659f2488d   \n",
       "15612326     17                54         0x7a250d5630b4cf539739df2c5dacb4c659f2488d   \n",
       "15613063     96                266        0x7a250d5630b4cf539739df2c5dacb4c659f2488d   \n",
       "\n",
       "                                                                             arg__to  \\\n",
       "block_number transaction_index log_index                                               \n",
       "12168478     71                92         0xc01b33ae2e3a4cb75d0e3bcee2f0cc3eb3fe668a   \n",
       "12168483     123               157        0xd683b78e988ba4bdb9fa0e2012c4c36b7cc96aad   \n",
       "12168529     140               297        0x18a5d209d58852499abc1ee73cbb27cc743dd317   \n",
       "12168537     55                35         0x4042f4142b026c9f980c7906060a80f57090d63b   \n",
       "12168561     104               149        0xbfe890aac8d9d8dd840115dcd2cff3c99089779d   \n",
       "...                                                                              ...   \n",
       "15551821     71                136        0x7e2e5d94f11f358345a4ee14c4f1a8521315c03b   \n",
       "15559412     174               390        0x885d26765a096136cfeb1d216713ade4289641e0   \n",
       "15574518     215               386        0xdf632ea5ba8283488aae8538e17a2f802243a61a   \n",
       "15612326     17                54         0xd2de083018d93c6a7c4fb154bf6f36e6f1833796   \n",
       "15613063     96                266        0x9435f1085584764b081177944033d4ed2cfd23ee   \n",
       "\n",
       "                                           arg__amount0  arg__amount1  \n",
       "block_number transaction_index log_index                               \n",
       "12168478     71                92         148271.937203  89795.087503  \n",
       "12168483     123               157          4723.992545   2879.302038  \n",
       "12168529     140               297         18653.702095   9522.864220  \n",
       "12168537     55                35           8471.241203   4303.648906  \n",
       "12168561     104               149         96329.571186  44065.409781  \n",
       "...                                                 ...           ...  \n",
       "15551821     71                136            85.255637    374.935175  \n",
       "15559412     174               390            64.535703    285.569863  \n",
       "15574518     215               386           596.256976   2739.482104  \n",
       "15612326     17                54           5756.744803  27333.163245  \n",
       "15613063     96                266            82.440313    390.287643  \n",
       "\n",
       "[5272 rows x 10 columns]"
      ]
     },
     "execution_count": 12,
     "metadata": {},
     "output_type": "execute_result"
    }
   ],
   "source": [
    "burns = await uniswap_v2_utils.async_get_pool_burns(pool)\n",
    "\n",
    "burns"
   ]
  }
 ],
 "metadata": {
  "kernelspec": {
   "display_name": "Python 3",
   "language": "python",
   "name": "python3"
  },
  "language_info": {
   "codemirror_mode": {
    "name": "ipython",
    "version": 3
   },
   "file_extension": ".py",
   "mimetype": "text/x-python",
   "name": "python",
   "nbconvert_exporter": "python",
   "pygments_lexer": "ipython3",
   "version": "3.9.5"
  }
 },
 "nbformat": 4,
 "nbformat_minor": 5
}
