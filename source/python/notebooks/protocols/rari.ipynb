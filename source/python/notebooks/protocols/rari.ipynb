{
 "cells": [
  {
   "cell_type": "code",
   "execution_count": 1,
   "id": "fa24d2df",
   "metadata": {
    "ExecuteTime": {
     "end_time": "2022-09-23T03:33:45.684795Z",
     "start_time": "2022-09-23T03:33:45.571894Z"
    }
   },
   "outputs": [],
   "source": [
    "from ctc.protocols import rari_utils"
   ]
  },
  {
   "cell_type": "code",
   "execution_count": 2,
   "id": "a2e948a9",
   "metadata": {
    "ExecuteTime": {
     "end_time": "2022-09-23T03:33:45.687320Z",
     "start_time": "2022-09-23T03:33:45.685926Z"
    }
   },
   "outputs": [],
   "source": [
    "comptroller = '0xc54172e34046c1653d1920d40333dd358c7a1af4'\n",
    "ctoken = '0xd8553552f8868c1ef160eedf031cf0bcf9686945'\n",
    "underlying_token = '0x956f47f50a910163d8bf957cf5846d573e7f87ca'"
   ]
  },
  {
   "cell_type": "markdown",
   "id": "a007b391",
   "metadata": {
    "ExecuteTime": {
     "end_time": "2022-04-26T23:35:18.470529Z",
     "start_time": "2022-04-26T23:35:18.468572Z"
    }
   },
   "source": [
    "## Get all pools"
   ]
  },
  {
   "cell_type": "code",
   "execution_count": 3,
   "id": "9e463b16",
   "metadata": {
    "ExecuteTime": {
     "end_time": "2022-09-23T03:33:45.877559Z",
     "start_time": "2022-09-23T03:33:45.689239Z"
    }
   },
   "outputs": [
    {
     "data": {
      "text/plain": [
       "202"
      ]
     },
     "execution_count": 3,
     "metadata": {},
     "output_type": "execute_result"
    }
   ],
   "source": [
    "fuse_pools = await rari_utils.async_get_all_pools()\n",
    "\n",
    "len(fuse_pools)"
   ]
  },
  {
   "cell_type": "markdown",
   "id": "5144cabc",
   "metadata": {
    "ExecuteTime": {
     "end_time": "2022-04-26T23:36:21.756346Z",
     "start_time": "2022-04-26T23:36:21.752935Z"
    }
   },
   "source": [
    "## Get pool metadata"
   ]
  },
  {
   "cell_type": "code",
   "execution_count": 4,
   "id": "ea7c7ca1",
   "metadata": {
    "ExecuteTime": {
     "end_time": "2022-09-23T03:33:45.921228Z",
     "start_time": "2022-09-23T03:33:45.878360Z"
    }
   },
   "outputs": [
    {
     "data": {
      "text/plain": [
       "('0xd8553552f8868c1ef160eedf031cf0bcf9686945',\n",
       " '0xfd3300a9a74b3250f1b2abc12b47611171910b07',\n",
       " '0xbb025d470162cc5ea24daf7d4566064ee7f5f111',\n",
       " '0x7e9ce3caa9910cc048590801e64174957ed41d43',\n",
       " '0x5ca8ffe4dad9452ed880fa429dd0a08574225936',\n",
       " '0xbfb6f7532d2db0fe4d83abb001c5c2b0842af4db',\n",
       " '0x30fa046ba48c193230722ec9068ba7234e40ffd2',\n",
       " '0xb723e1dbd267d215b40c2be756b158f83b68503b',\n",
       " '0x7259ee19d6b5e755e7c65cecfd2466c09e251185',\n",
       " '0x647a36d421183a0a9fa62717a64b664a24e469c7',\n",
       " '0x0d54596900df651e6954226e1e1141f1e4980258')"
      ]
     },
     "execution_count": 4,
     "metadata": {},
     "output_type": "execute_result"
    }
   ],
   "source": [
    "ctokens = await rari_utils.async_get_pool_ctokens(comptroller=comptroller)\n",
    "\n",
    "ctokens"
   ]
  },
  {
   "cell_type": "code",
   "execution_count": 5,
   "id": "c518d9f5",
   "metadata": {
    "ExecuteTime": {
     "end_time": "2022-09-23T03:34:01.529466Z",
     "start_time": "2022-09-23T03:33:45.922323Z"
    }
   },
   "outputs": [
    {
     "data": {
      "text/plain": [
       "{'0xd8553552f8868c1ef160eedf031cf0bcf9686945': '0x956f47f50a910163d8bf957cf5846d573e7f87ca',\n",
       " '0xfd3300a9a74b3250f1b2abc12b47611171910b07': '0xc7283b66eb1eb5fb86327f08e1b5816b0720212b',\n",
       " '0xbb025d470162cc5ea24daf7d4566064ee7f5f111': '0x0000000000000000000000000000000000000000',\n",
       " '0x7e9ce3caa9910cc048590801e64174957ed41d43': '0x6b175474e89094c44da98b954eedeac495271d0f',\n",
       " '0x5ca8ffe4dad9452ed880fa429dd0a08574225936': '0xbaaa1f5dba42c3389bdbc2c9d2de134f5cd0dc89',\n",
       " '0xbfb6f7532d2db0fe4d83abb001c5c2b0842af4db': '0x06cb22615ba53e60d67bf6c341a0fd5e718e1655',\n",
       " '0x30fa046ba48c193230722ec9068ba7234e40ffd2': '0x3d1556e84783672f2a3bd187a592520291442539',\n",
       " '0xb723e1dbd267d215b40c2be756b158f83b68503b': '0xcf84a3dc12319531e3debd48c86e68eaeaff224a',\n",
       " '0x7259ee19d6b5e755e7c65cecfd2466c09e251185': '0x7f39c581f595b53c5cb19bd0b3f8da6c935e2ca0',\n",
       " '0x647a36d421183a0a9fa62717a64b664a24e469c7': '0x5f98805a4e8be255a32880fdec7f6728c6568ba0',\n",
       " '0x0d54596900df651e6954226e1e1141f1e4980258': '0x559ebc30b0e58a45cc9ff573f77ef1e5eb1b3e18'}"
      ]
     },
     "execution_count": 5,
     "metadata": {},
     "output_type": "execute_result"
    }
   ],
   "source": [
    "underlying_tokens = await rari_utils.async_get_pool_underlying_tokens(comptroller=comptroller)\n",
    "\n",
    "underlying_tokens"
   ]
  },
  {
   "cell_type": "markdown",
   "id": "e953bec0",
   "metadata": {
    "ExecuteTime": {
     "end_time": "2022-04-26T23:38:36.015424Z",
     "start_time": "2022-04-26T23:38:36.013523Z"
    }
   },
   "source": [
    "## Get pool state"
   ]
  },
  {
   "cell_type": "code",
   "execution_count": 6,
   "id": "cc9cd8b5",
   "metadata": {
    "ExecuteTime": {
     "end_time": "2022-09-23T03:34:02.841063Z",
     "start_time": "2022-09-23T03:34:01.530373Z"
    }
   },
   "outputs": [
    {
     "data": {
      "text/plain": [
       "{'tvl': 22231999.9258879, 'tvb': 18567882.57647751}"
      ]
     },
     "execution_count": 6,
     "metadata": {},
     "output_type": "execute_result"
    }
   ],
   "source": [
    "tvl_and_tvb = await rari_utils.async_get_pool_tvl_and_tvb(comptroller=comptroller)\n",
    "\n",
    "tvl_and_tvb"
   ]
  },
  {
   "cell_type": "code",
   "execution_count": 7,
   "id": "ed4e1950",
   "metadata": {
    "ExecuteTime": {
     "end_time": "2022-09-23T03:34:02.985196Z",
     "start_time": "2022-09-23T03:34:02.841930Z"
    }
   },
   "outputs": [
    {
     "data": {
      "text/plain": [
       "{'0xd8553552f8868c1ef160eedf031cf0bcf9686945': 1.0068885321,\n",
       " '0xfd3300a9a74b3250f1b2abc12b47611171910b07': 0.2111465281447763,\n",
       " '0xbb025d470162cc5ea24daf7d4566064ee7f5f111': 1341.57,\n",
       " '0x7e9ce3caa9910cc048590801e64174957ed41d43': 1.0090048648553291,\n",
       " '0x5ca8ffe4dad9452ed880fa429dd0a08574225936': 1.0052137392803073,\n",
       " '0xbfb6f7532d2db0fe4d83abb001c5c2b0842af4db': 1.0120053639073776,\n",
       " '0x30fa046ba48c193230722ec9068ba7234e40ffd2': 0.010669793255186818,\n",
       " '0xb723e1dbd267d215b40c2be756b158f83b68503b': 519.0505443959124,\n",
       " '0x7259ee19d6b5e755e7c65cecfd2466c09e251185': 1447.5621461952533,\n",
       " '0x647a36d421183a0a9fa62717a64b664a24e469c7': 1.0286053799999997,\n",
       " '0x0d54596900df651e6954226e1e1141f1e4980258': 1.0594131586349258}"
      ]
     },
     "execution_count": 7,
     "metadata": {},
     "output_type": "execute_result"
    }
   ],
   "source": [
    "prices = await rari_utils.async_get_pool_prices(comptroller=comptroller)\n",
    "\n",
    "prices"
   ]
  },
  {
   "cell_type": "markdown",
   "id": "813c9931",
   "metadata": {
    "ExecuteTime": {
     "end_time": "2022-04-26T23:37:08.164442Z",
     "start_time": "2022-04-26T23:37:08.162845Z"
    }
   },
   "source": [
    "## Get ctoken state"
   ]
  },
  {
   "cell_type": "code",
   "execution_count": 8,
   "id": "d4de3e50",
   "metadata": {
    "ExecuteTime": {
     "end_time": "2022-09-23T03:34:03.122135Z",
     "start_time": "2022-09-23T03:34:02.986119Z"
    }
   },
   "outputs": [
    {
     "data": {
      "text/plain": [
       "{'tvl': 12267213.541680371,\n",
       " 'tvb': 12267213.541680371,\n",
       " 'supply_apy': 0.024947221966542532,\n",
       " 'borrow_apy': 0.026546236787341915}"
      ]
     },
     "execution_count": 8,
     "metadata": {},
     "output_type": "execute_result"
    }
   ],
   "source": [
    "await rari_utils.async_get_ctoken_state(ctoken)"
   ]
  },
  {
   "cell_type": "markdown",
   "id": "e3669ff5",
   "metadata": {
    "ExecuteTime": {
     "end_time": "2022-04-26T23:46:42.679292Z",
     "start_time": "2022-04-26T23:46:42.677726Z"
    }
   },
   "source": [
    "## Get ctoken state across multiple blocks"
   ]
  },
  {
   "cell_type": "code",
   "execution_count": 9,
   "id": "def6e0c9",
   "metadata": {
    "ExecuteTime": {
     "end_time": "2022-09-23T03:34:03.492400Z",
     "start_time": "2022-09-23T03:34:03.122854Z"
    }
   },
   "outputs": [
    {
     "data": {
      "text/plain": [
       "{'tvl': [25592342.86812161, 27846764.4866587, 26131727.36829893],\n",
       " 'tvb': [21279628.94118887, 25522233.17882379, 21041419.8055125],\n",
       " 'supply_apy': [0.1577145831367548, 0.5777531640145352, 0.06528371436195024],\n",
       " 'borrow_apy': [0.20572510722810078, 0.6961907149308775, 0.08695883809682425]}"
      ]
     },
     "execution_count": 9,
     "metadata": {},
     "output_type": "execute_result"
    }
   ],
   "source": [
    "blocks = [14000000, 14100000, 14200000]\n",
    "\n",
    "await rari_utils.async_get_ctoken_state_by_block(ctoken, blocks=blocks)"
   ]
  },
  {
   "cell_type": "markdown",
   "id": "34209475",
   "metadata": {
    "ExecuteTime": {
     "end_time": "2022-04-26T23:43:07.542658Z",
     "start_time": "2022-04-26T23:43:07.538634Z"
    }
   },
   "source": [
    "## Print Fuse summmary"
   ]
  },
  {
   "cell_type": "code",
   "execution_count": 10,
   "id": "b351189a",
   "metadata": {
    "ExecuteTime": {
     "end_time": "2022-09-23T03:37:19.259517Z",
     "start_time": "2022-09-23T03:34:03.493114Z"
    }
   },
   "outputs": [
    {
     "data": {
      "text/html": [
       "<pre style=\"white-space:pre;overflow-x:auto;line-height:normal;font-family:Menlo,'DejaVu Sans Mono',consolas,'Courier New',monospace\">Rari Fuse\n",
       "─────────\n",
       "</pre>\n"
      ],
      "text/plain": [
       "Rari Fuse\n",
       "─────────\n"
      ]
     },
     "metadata": {},
     "output_type": "display_data"
    },
    {
     "name": "stdout",
     "output_type": "stream",
     "text": [
      "- TVL: $177.58M\n",
      "- TVB: $150.61M\n",
      "- block: 15593387\n",
      "\n"
     ]
    },
    {
     "data": {
      "text/html": [
       "<pre style=\"white-space:pre;overflow-x:auto;line-height:normal;font-family:Menlo,'DejaVu Sans Mono',consolas,'Courier New',monospace\">    #  │                     pool  │       TVL  │       TVB  \n",
       "───────┼───────────────────────────┼────────────┼────────────\n",
       "  136  │                ICHI Pool  │   $64.96M  │   $63.83M  \n",
       "    8  │   FeiRari (Fei DAO Pool)  │   $22.23M  │   $18.57M  \n",
       "   18  │       Olympus Pool Party  │   $21.24M  │   $18.22M  \n",
       "  156  │        Tribe Convex Pool  │   $14.55M  │    $14.4M  \n",
       "  127  │      0xb1's Kitchen Sink  │   $13.69M  │   $13.49M  \n",
       "    6  │         Tetranode's Pool  │   $12.86M  │    $2.71M  \n",
       "   27  │           Stake DAO Pool  │    $5.61M  │     $4.3M  \n",
       "    7  │     Tetranode's ETH Pool  │     $4.8M  │    $1.09M  \n",
       "  144  │    Babylon's Gold Lender  │    $4.55M  │    $4.53M  \n",
       "   90  │      Float Protocol Pool  │    $4.41M  │    $4.41M  \n",
       "  146  │           Tribe ETH Pool  │    $3.26M  │    $3.26M  \n",
       "  102  │  DeFiGeek Community Pool  │    $2.21M  │  $344.59K  \n",
       "    9  │     FRAX RAI Stable Pool  │    $1.51M  │  $836.95K  \n",
       "  116  │          handle globalFX  │  $873.15K  │        $0  \n",
       "   23  │              Vesper Pool  │  $820.76K  │  $632.11K  \n",
       "</pre>\n"
      ],
      "text/plain": [
       "    #  │                     pool  │       TVL  │       TVB  \n",
       "───────┼───────────────────────────┼────────────┼────────────\n",
       "  136  │                ICHI Pool  │   $64.96M  │   $63.83M  \n",
       "    8  │   FeiRari (Fei DAO Pool)  │   $22.23M  │   $18.57M  \n",
       "   18  │       Olympus Pool Party  │   $21.24M  │   $18.22M  \n",
       "  156  │        Tribe Convex Pool  │   $14.55M  │    $14.4M  \n",
       "  127  │      0xb1's Kitchen Sink  │   $13.69M  │   $13.49M  \n",
       "    6  │         Tetranode's Pool  │   $12.86M  │    $2.71M  \n",
       "   27  │           Stake DAO Pool  │    $5.61M  │     $4.3M  \n",
       "    7  │     Tetranode's ETH Pool  │     $4.8M  │    $1.09M  \n",
       "  144  │    Babylon's Gold Lender  │    $4.55M  │    $4.53M  \n",
       "   90  │      Float Protocol Pool  │    $4.41M  │    $4.41M  \n",
       "  146  │           Tribe ETH Pool  │    $3.26M  │    $3.26M  \n",
       "  102  │  DeFiGeek Community Pool  │    $2.21M  │  $344.59K  \n",
       "    9  │     FRAX RAI Stable Pool  │    $1.51M  │  $836.95K  \n",
       "  116  │          handle globalFX  │  $873.15K  │        $0  \n",
       "   23  │              Vesper Pool  │  $820.76K  │  $632.11K  \n"
      ]
     },
     "metadata": {},
     "output_type": "display_data"
    }
   ],
   "source": [
    "await rari_utils.async_print_all_pool_summary()"
   ]
  },
  {
   "cell_type": "markdown",
   "id": "85398e56",
   "metadata": {
    "ExecuteTime": {
     "end_time": "2022-04-26T23:41:12.934115Z",
     "start_time": "2022-04-26T23:41:12.930711Z"
    }
   },
   "source": [
    "## Print single token stats across multiple pools"
   ]
  },
  {
   "cell_type": "code",
   "execution_count": 11,
   "id": "b6697cf7",
   "metadata": {
    "ExecuteTime": {
     "end_time": "2022-09-23T03:39:35.142199Z",
     "start_time": "2022-09-23T03:37:19.260794Z"
    }
   },
   "outputs": [
    {
     "data": {
      "text/html": [
       "<pre style=\"white-space:pre;overflow-x:auto;line-height:normal;font-family:Menlo,'DejaVu Sans Mono',consolas,'Courier New',monospace\">FEI Token Fuse Usage\n",
       "────────────────────\n",
       "</pre>\n"
      ],
      "text/plain": [
       "FEI Token Fuse Usage\n",
       "────────────────────\n"
      ]
     },
     "metadata": {},
     "output_type": "display_data"
    },
    {
     "name": "stdout",
     "output_type": "stream",
     "text": [
      "- TVL: $24.76M\n",
      "- TVB: $24.56M\n",
      "- block: 15593402\n",
      "\n"
     ]
    },
    {
     "data": {
      "text/html": [
       "<pre style=\"white-space:pre;overflow-x:auto;line-height:normal;font-family:Menlo,'DejaVu Sans Mono',consolas,'Courier New',monospace\">                               pool  │       TVL  │         TVB  │    supply %  │   borrow %  │  util %  \n",
       "─────────────────────────────────────┼────────────┼──────────────┼──────────────┼─────────────┼──────────\n",
       "    Tetranode's Flavor of the Month  │   $12.27M  │     $12.27M  │       2.49%  │      2.65%  │    100%  \n",
       "                  Tribe Convex Pool  │    $8.54M  │      $8.54M  │     124.35%  │    143.57%  │    100%  \n",
       "                     Stake DAO Pool  │     $1.3M  │       $1.3M  │       2.15%  │      2.65%  │    100%  \n",
       "              Babylon's Gold Lender  │   $857.3K  │    $857.01K  │     118.74%  │    159.82%  │  99.97%  \n",
       "               Tetranode's ETH Pool  │   $715.6K  │    $715.17K  │     149.16%  │    168.52%  │  99.94%  \n",
       "                Float Protocol Pool  │  $712.92K  │    $712.92K  │     853.32%  │  1,063.27%  │    100%  \n",
       "                   Tetranode's Pool  │  $246.37K  │     $100.4K  │        3.1%  │      8.59%  │  40.75%  \n",
       "                 Olympus Pool Party  │   $39.88K  │     $25.75K  │      789.1%  │     726.7%  │  64.57%  \n",
       "                 UMA Community Pool  │   $32.27K  │      $28.4K  │     153.18%  │    238.92%  │     88%  \n",
       "                      Fox and Frens  │   $31.36K  │      $3.92K  │        inf%  │       inf%  │  12.49%  \n",
       "                        Badger Pool  │    $5.69K  │      $2.99K  │        inf%  │     31.65%  │  52.62%  \n",
       "                          NFTX Pool  │    $4.02K  │      $49.59  │   0.002473%  │  0.248939%  │   1.23%  \n",
       "                    Barnbridge pool  │    $1.37K  │     $887.71  │        3.2%  │      5.39%  │   64.6%  \n",
       "                  Harvest FARMstead  │    $1.13K  │      $31.73  │        inf%  │       inf%  │   2.81%  \n",
       "                     troopersGarage  │   $485.22  │  $2.679e-13  │          0%  │      2.53%  │      0%  \n",
       "          Token Mass Injection Pool  │    $122.4  │   $1.04e-12  │     683.91%  │     31.65%  │      0%  \n",
       "                    Index Coop Pool  │    $85.41  │  $1.568e-12  │          0%  │  0.000123%  │      0%  \n",
       "                              G-UNI  │    $49.81  │  $2.585e-13  │  50,616.83%  │  1,151.29%  │      0%  \n",
       "  Frax &amp; Reflexer Stable Asset Pool  │     $10.3  │  $5.645e-13  │          0%  │  0.000003%  │      0%  \n",
       "</pre>\n"
      ],
      "text/plain": [
       "                               pool  │       TVL  │         TVB  │    supply %  │   borrow %  │  util %  \n",
       "─────────────────────────────────────┼────────────┼──────────────┼──────────────┼─────────────┼──────────\n",
       "    Tetranode's Flavor of the Month  │   $12.27M  │     $12.27M  │       2.49%  │      2.65%  │    100%  \n",
       "                  Tribe Convex Pool  │    $8.54M  │      $8.54M  │     124.35%  │    143.57%  │    100%  \n",
       "                     Stake DAO Pool  │     $1.3M  │       $1.3M  │       2.15%  │      2.65%  │    100%  \n",
       "              Babylon's Gold Lender  │   $857.3K  │    $857.01K  │     118.74%  │    159.82%  │  99.97%  \n",
       "               Tetranode's ETH Pool  │   $715.6K  │    $715.17K  │     149.16%  │    168.52%  │  99.94%  \n",
       "                Float Protocol Pool  │  $712.92K  │    $712.92K  │     853.32%  │  1,063.27%  │    100%  \n",
       "                   Tetranode's Pool  │  $246.37K  │     $100.4K  │        3.1%  │      8.59%  │  40.75%  \n",
       "                 Olympus Pool Party  │   $39.88K  │     $25.75K  │      789.1%  │     726.7%  │  64.57%  \n",
       "                 UMA Community Pool  │   $32.27K  │      $28.4K  │     153.18%  │    238.92%  │     88%  \n",
       "                      Fox and Frens  │   $31.36K  │      $3.92K  │        inf%  │       inf%  │  12.49%  \n",
       "                        Badger Pool  │    $5.69K  │      $2.99K  │        inf%  │     31.65%  │  52.62%  \n",
       "                          NFTX Pool  │    $4.02K  │      $49.59  │   0.002473%  │  0.248939%  │   1.23%  \n",
       "                    Barnbridge pool  │    $1.37K  │     $887.71  │        3.2%  │      5.39%  │   64.6%  \n",
       "                  Harvest FARMstead  │    $1.13K  │      $31.73  │        inf%  │       inf%  │   2.81%  \n",
       "                     troopersGarage  │   $485.22  │  $2.679e-13  │          0%  │      2.53%  │      0%  \n",
       "          Token Mass Injection Pool  │    $122.4  │   $1.04e-12  │     683.91%  │     31.65%  │      0%  \n",
       "                    Index Coop Pool  │    $85.41  │  $1.568e-12  │          0%  │  0.000123%  │      0%  \n",
       "                              G-UNI  │    $49.81  │  $2.585e-13  │  50,616.83%  │  1,151.29%  │      0%  \n",
       "  Frax & Reflexer Stable Asset Pool  │     $10.3  │  $5.645e-13  │          0%  │  0.000003%  │      0%  \n"
      ]
     },
     "metadata": {},
     "output_type": "display_data"
    }
   ],
   "source": [
    "await rari_utils.async_print_fuse_token_summary(underlying_token)"
   ]
  },
  {
   "cell_type": "markdown",
   "id": "9ee12a5d",
   "metadata": {
    "ExecuteTime": {
     "end_time": "2022-04-26T23:39:41.205071Z",
     "start_time": "2022-04-26T23:39:41.203313Z"
    }
   },
   "source": [
    "## Get token stats across multiple pools"
   ]
  },
  {
   "cell_type": "code",
   "execution_count": 12,
   "id": "f11c55fe",
   "metadata": {
    "ExecuteTime": {
     "end_time": "2022-09-23T03:42:55.561858Z",
     "start_time": "2022-09-23T03:39:35.143233Z"
    }
   },
   "outputs": [
    {
     "name": "stdout",
     "output_type": "stream",
     "text": [
      "- aggregate stats: {'tvl': 24756906.451886974, 'tvb': 24555679.00375075}\n",
      "- # pools: 42\n",
      "- stats given for each pool: ['tvl', 'tvb', 'ctoken', 'matches', 'supply_apy', 'borrow_apy', 'name', 'pool_index']\n"
     ]
    }
   ],
   "source": [
    "token_stats = await rari_utils.async_get_token_multipool_stats('0x956f47f50a910163d8bf957cf5846d573e7f87ca')\n",
    "\n",
    "print('- aggregate stats:', token_stats['total'])\n",
    "print('- # pools:', len(token_stats['per_pool']))\n",
    "print('- stats given for each pool:', list(token_stats['per_pool'][comptroller].keys()))"
   ]
  }
 ],
 "metadata": {
  "kernelspec": {
   "display_name": "Python 3",
   "language": "python",
   "name": "python3"
  },
  "language_info": {
   "codemirror_mode": {
    "name": "ipython",
    "version": 3
   },
   "file_extension": ".py",
   "mimetype": "text/x-python",
   "name": "python",
   "nbconvert_exporter": "python",
   "pygments_lexer": "ipython3",
   "version": "3.9.5"
  }
 },
 "nbformat": 4,
 "nbformat_minor": 5
}
