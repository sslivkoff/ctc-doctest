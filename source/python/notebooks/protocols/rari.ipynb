{
 "cells": [
  {
   "cell_type": "code",
   "execution_count": 1,
   "id": "fa24d2df",
   "metadata": {
    "ExecuteTime": {
     "end_time": "2022-04-27T00:00:54.718316Z",
     "start_time": "2022-04-27T00:00:54.459360Z"
    }
   },
   "outputs": [],
   "source": [
    "from ctc.protocols import rari_utils"
   ]
  },
  {
   "cell_type": "code",
   "execution_count": 2,
   "id": "a2e948a9",
   "metadata": {
    "ExecuteTime": {
     "end_time": "2022-04-27T00:00:54.720842Z",
     "start_time": "2022-04-27T00:00:54.719326Z"
    }
   },
   "outputs": [],
   "source": [
    "comptroller = '0xc54172e34046c1653d1920d40333dd358c7a1af4'\n",
    "ctoken = '0xd8553552f8868c1ef160eedf031cf0bcf9686945'\n",
    "underlying_token = '0x956f47f50a910163d8bf957cf5846d573e7f87ca'"
   ]
  },
  {
   "cell_type": "markdown",
   "id": "a007b391",
   "metadata": {
    "ExecuteTime": {
     "end_time": "2022-04-26T23:35:18.470529Z",
     "start_time": "2022-04-26T23:35:18.468572Z"
    }
   },
   "source": [
    "## Get all pools"
   ]
  },
  {
   "cell_type": "code",
   "execution_count": 3,
   "id": "9e463b16",
   "metadata": {
    "ExecuteTime": {
     "end_time": "2022-04-27T00:00:55.391158Z",
     "start_time": "2022-04-27T00:00:54.721975Z"
    }
   },
   "outputs": [
    {
     "data": {
      "text/plain": [
       "199"
      ]
     },
     "execution_count": 3,
     "metadata": {},
     "output_type": "execute_result"
    }
   ],
   "source": [
    "fuse_pools = await rari_utils.async_get_all_pools()\n",
    "\n",
    "len(fuse_pools)"
   ]
  },
  {
   "cell_type": "markdown",
   "id": "5144cabc",
   "metadata": {
    "ExecuteTime": {
     "end_time": "2022-04-26T23:36:21.756346Z",
     "start_time": "2022-04-26T23:36:21.752935Z"
    }
   },
   "source": [
    "## Get pool metadata"
   ]
  },
  {
   "cell_type": "code",
   "execution_count": 4,
   "id": "ea7c7ca1",
   "metadata": {
    "ExecuteTime": {
     "end_time": "2022-04-27T00:00:55.516411Z",
     "start_time": "2022-04-27T00:00:55.392187Z"
    }
   },
   "outputs": [
    {
     "data": {
      "text/plain": [
       "('0xd8553552f8868c1ef160eedf031cf0bcf9686945',\n",
       " '0xfd3300a9a74b3250f1b2abc12b47611171910b07',\n",
       " '0xbb025d470162cc5ea24daf7d4566064ee7f5f111',\n",
       " '0x7e9ce3caa9910cc048590801e64174957ed41d43',\n",
       " '0x5ca8ffe4dad9452ed880fa429dd0a08574225936',\n",
       " '0xbfb6f7532d2db0fe4d83abb001c5c2b0842af4db',\n",
       " '0x30fa046ba48c193230722ec9068ba7234e40ffd2',\n",
       " '0xb723e1dbd267d215b40c2be756b158f83b68503b',\n",
       " '0x7259ee19d6b5e755e7c65cecfd2466c09e251185',\n",
       " '0x647a36d421183a0a9fa62717a64b664a24e469c7',\n",
       " '0x0d54596900df651e6954226e1e1141f1e4980258')"
      ]
     },
     "execution_count": 4,
     "metadata": {},
     "output_type": "execute_result"
    }
   ],
   "source": [
    "ctokens = await rari_utils.async_get_pool_ctokens(comptroller=comptroller)\n",
    "\n",
    "ctokens"
   ]
  },
  {
   "cell_type": "code",
   "execution_count": 5,
   "id": "c518d9f5",
   "metadata": {
    "ExecuteTime": {
     "end_time": "2022-04-27T00:00:56.031015Z",
     "start_time": "2022-04-27T00:00:55.519227Z"
    }
   },
   "outputs": [
    {
     "data": {
      "text/plain": [
       "{'0xd8553552f8868c1ef160eedf031cf0bcf9686945': '0x956f47f50a910163d8bf957cf5846d573e7f87ca',\n",
       " '0xfd3300a9a74b3250f1b2abc12b47611171910b07': '0xc7283b66eb1eb5fb86327f08e1b5816b0720212b',\n",
       " '0xbb025d470162cc5ea24daf7d4566064ee7f5f111': '0x0000000000000000000000000000000000000000',\n",
       " '0x7e9ce3caa9910cc048590801e64174957ed41d43': '0x6b175474e89094c44da98b954eedeac495271d0f',\n",
       " '0x5ca8ffe4dad9452ed880fa429dd0a08574225936': '0xbaaa1f5dba42c3389bdbc2c9d2de134f5cd0dc89',\n",
       " '0xbfb6f7532d2db0fe4d83abb001c5c2b0842af4db': '0x06cb22615ba53e60d67bf6c341a0fd5e718e1655',\n",
       " '0x30fa046ba48c193230722ec9068ba7234e40ffd2': '0x3d1556e84783672f2a3bd187a592520291442539',\n",
       " '0xb723e1dbd267d215b40c2be756b158f83b68503b': '0xcf84a3dc12319531e3debd48c86e68eaeaff224a',\n",
       " '0x7259ee19d6b5e755e7c65cecfd2466c09e251185': '0x7f39c581f595b53c5cb19bd0b3f8da6c935e2ca0',\n",
       " '0x647a36d421183a0a9fa62717a64b664a24e469c7': '0x5f98805a4e8be255a32880fdec7f6728c6568ba0',\n",
       " '0x0d54596900df651e6954226e1e1141f1e4980258': '0x559ebc30b0e58a45cc9ff573f77ef1e5eb1b3e18'}"
      ]
     },
     "execution_count": 5,
     "metadata": {},
     "output_type": "execute_result"
    }
   ],
   "source": [
    "underlying_tokens = await rari_utils.async_get_pool_underlying_tokens(comptroller=comptroller)\n",
    "\n",
    "underlying_tokens"
   ]
  },
  {
   "cell_type": "markdown",
   "id": "e953bec0",
   "metadata": {
    "ExecuteTime": {
     "end_time": "2022-04-26T23:38:36.015424Z",
     "start_time": "2022-04-26T23:38:36.013523Z"
    }
   },
   "source": [
    "## Get pool state"
   ]
  },
  {
   "cell_type": "code",
   "execution_count": 6,
   "id": "cc9cd8b5",
   "metadata": {
    "ExecuteTime": {
     "end_time": "2022-04-27T00:00:56.774822Z",
     "start_time": "2022-04-27T00:00:56.032062Z"
    }
   },
   "outputs": [
    {
     "data": {
      "text/plain": [
       "{'tvl': 384503474.89800626, 'tvb': 30519883.893904917}"
      ]
     },
     "execution_count": 6,
     "metadata": {},
     "output_type": "execute_result"
    }
   ],
   "source": [
    "tvl_and_tvb = await rari_utils.async_get_pool_tvl_and_tvb(comptroller=comptroller)\n",
    "\n",
    "tvl_and_tvb"
   ]
  },
  {
   "cell_type": "code",
   "execution_count": 7,
   "id": "ed4e1950",
   "metadata": {
    "ExecuteTime": {
     "end_time": "2022-04-27T00:00:57.196422Z",
     "start_time": "2022-04-27T00:00:56.775582Z"
    }
   },
   "outputs": [
    {
     "data": {
      "text/plain": [
       "{'0xd8553552f8868c1ef160eedf031cf0bcf9686945': 0.9876456099258846,\n",
       " '0xfd3300a9a74b3250f1b2abc12b47611171910b07': 0.4934567526295613,\n",
       " '0xbb025d470162cc5ea24daf7d4566064ee7f5f111': 2805.42867398,\n",
       " '0x7e9ce3caa9910cc048590801e64174957ed41d43': 1.0042958619936315,\n",
       " '0x5ca8ffe4dad9452ed880fa429dd0a08574225936': 0.9893449560695989,\n",
       " '0xbfb6f7532d2db0fe4d83abb001c5c2b0842af4db': 0.9901949859663026,\n",
       " '0x30fa046ba48c193230722ec9068ba7234e40ffd2': 0.010226083648026392,\n",
       " '0xb723e1dbd267d215b40c2be756b158f83b68503b': 494.5446588275783,\n",
       " '0x7259ee19d6b5e755e7c65cecfd2466c09e251185': 2996.739633348175,\n",
       " '0x647a36d421183a0a9fa62717a64b664a24e469c7': 0.9994024599999978,\n",
       " '0x0d54596900df651e6954226e1e1141f1e4980258': 1.0198612661311361}"
      ]
     },
     "execution_count": 7,
     "metadata": {},
     "output_type": "execute_result"
    }
   ],
   "source": [
    "prices = await rari_utils.async_get_pool_prices(comptroller=comptroller)\n",
    "\n",
    "prices"
   ]
  },
  {
   "cell_type": "markdown",
   "id": "813c9931",
   "metadata": {
    "ExecuteTime": {
     "end_time": "2022-04-26T23:37:08.164442Z",
     "start_time": "2022-04-26T23:37:08.162845Z"
    }
   },
   "source": [
    "## Get ctoken state"
   ]
  },
  {
   "cell_type": "code",
   "execution_count": 8,
   "id": "d4de3e50",
   "metadata": {
    "ExecuteTime": {
     "end_time": "2022-04-27T00:00:57.657925Z",
     "start_time": "2022-04-27T00:00:57.199776Z"
    }
   },
   "outputs": [
    {
     "data": {
      "text/plain": [
       "{'tvl': 33437032.962967757,\n",
       " 'tvb': 21183921.00506379,\n",
       " 'supply_apy': 0.026874972827010346,\n",
       " 'borrow_apy': 0.04544217360713887}"
      ]
     },
     "execution_count": 8,
     "metadata": {},
     "output_type": "execute_result"
    }
   ],
   "source": [
    "await rari_utils.async_get_ctoken_state(ctoken)"
   ]
  },
  {
   "cell_type": "markdown",
   "id": "e3669ff5",
   "metadata": {
    "ExecuteTime": {
     "end_time": "2022-04-26T23:46:42.679292Z",
     "start_time": "2022-04-26T23:46:42.677726Z"
    }
   },
   "source": [
    "## Get ctoken state across multiple blocks"
   ]
  },
  {
   "cell_type": "code",
   "execution_count": 9,
   "id": "def6e0c9",
   "metadata": {
    "ExecuteTime": {
     "end_time": "2022-04-27T00:00:58.247270Z",
     "start_time": "2022-04-27T00:00:57.660236Z"
    }
   },
   "outputs": [
    {
     "data": {
      "text/plain": [
       "{'tvl': [25592342.86812161, 27846764.4866587, 26131727.36829893],\n",
       " 'tvb': [21279628.94118887, 25522233.17882379, 21041419.8055125],\n",
       " 'supply_apy': [0.1577145831367548, 0.5777531640145352, 0.06528371436195024],\n",
       " 'borrow_apy': [0.20572510722810078, 0.6961907149308775, 0.08695883809682425]}"
      ]
     },
     "execution_count": 9,
     "metadata": {},
     "output_type": "execute_result"
    }
   ],
   "source": [
    "blocks = [14000000, 14100000, 14200000]\n",
    "\n",
    "await rari_utils.async_get_ctoken_state_by_block(ctoken, blocks=blocks)"
   ]
  },
  {
   "cell_type": "markdown",
   "id": "34209475",
   "metadata": {
    "ExecuteTime": {
     "end_time": "2022-04-26T23:43:07.542658Z",
     "start_time": "2022-04-26T23:43:07.538634Z"
    }
   },
   "source": [
    "## Print Fuse summmary"
   ]
  },
  {
   "cell_type": "code",
   "execution_count": 10,
   "id": "b351189a",
   "metadata": {
    "ExecuteTime": {
     "end_time": "2022-04-27T00:01:03.383740Z",
     "start_time": "2022-04-27T00:00:58.250111Z"
    }
   },
   "outputs": [
    {
     "name": "stdout",
     "output_type": "stream",
     "text": [
      "Rari Fuse\n",
      "─────────\n",
      "- TVL: $821.94M\n",
      "- TVB: $167.21M\n",
      "- block: 14663179\n",
      "\n",
      "  #    │  pool                      │  TVL       │  TVB       \n",
      "───────┼────────────────────────────┼────────────┼────────────\n",
      "  8    │  FeiRari (Fei DAO Pool)    │  $384.5M   │  $30.52M   \n",
      "  6    │  Tetranode's Pool          │  $123.17M  │  $27.28M   \n",
      "  136  │  ICHI Pool                 │  $67.61M   │  $66.4M    \n",
      "  7    │  Tetranode's ETH Pool      │  $49.42M   │  $10.93M   \n",
      "  156  │  Tribe Convex Pool         │  $48.84M   │  $8.81M    \n",
      "  18   │  Olympus Pool Party        │  $36.71M   │  $3.96M    \n",
      "  127  │  0xb1's Kitchen Sink       │  $22.12M   │  $7.19M    \n",
      "  36   │  Fraximalist Money Market  │  $18.7M    │  $3.11M    \n",
      "  9    │  FRAX RAI Stable Pool      │  $16.96M   │  $2.68M    \n",
      "  171  │  Tribe Turbo Pool          │  $10.87M   │  $0        \n",
      "  27   │  Stake DAO Pool            │  $10.61M   │  $1.2M     \n",
      "  144  │  Babylon's Gold Lender     │  $8.66M    │  $2.07M    \n",
      "  22   │  Badger Pool               │  $8.43M    │  $1.65M    \n",
      "  31   │  NFTX Pool                 │  $7.89M    │  $1.12M    \n",
      "  146  │  Tribe ETH Pool            │  $7.43M    │  $305.18K  \n"
     ]
    }
   ],
   "source": [
    "await rari_utils.async_print_all_pool_summary()"
   ]
  },
  {
   "cell_type": "markdown",
   "id": "85398e56",
   "metadata": {
    "ExecuteTime": {
     "end_time": "2022-04-26T23:41:12.934115Z",
     "start_time": "2022-04-26T23:41:12.930711Z"
    }
   },
   "source": [
    "## Print single token stats across multiple pools"
   ]
  },
  {
   "cell_type": "code",
   "execution_count": 11,
   "id": "b6697cf7",
   "metadata": {
    "ExecuteTime": {
     "end_time": "2022-04-27T00:01:20.342246Z",
     "start_time": "2022-04-27T00:01:03.384809Z"
    }
   },
   "outputs": [
    {
     "name": "stdout",
     "output_type": "stream",
     "text": [
      "FEI Token Fuse Usage\n",
      "────────────────────\n",
      "- TVL: $72.21M\n",
      "- TVB: $30.81M\n",
      "- block: 14663180\n",
      "\n",
      "  pool                               │  TVL       │  TVB         │  supply %    │  borrow %   │  util %  \n",
      "─────────────────────────────────────┼────────────┼──────────────┼──────────────┼─────────────┼──────────\n",
      "  Tetranode's Flavor of the Month    │  $33.44M   │  $21.18M     │  2.69%       │  4.54%      │  63.35%  \n",
      "  Tribe Turbo Pool                   │  $10.87M   │  $0          │  0%          │  0%         │  0%      \n",
      "  Tribe Convex Pool                  │  $9.9M     │  $2.99M      │  0.575021%   │  2.13%      │  30.16%  \n",
      "  Tetranode's ETH Pool               │  $5.76M    │  $2.42M      │  1.6%        │  4.29%      │  41.94%  \n",
      "  Tetranode's Pool                   │  $3.74M    │  $983.68K    │  1.28%       │  5.46%      │  26.3%   \n",
      "  Fox and Frens                      │  $2.53M    │  $1.67M      │  2.64%       │  4.75%      │  65.91%  \n",
      "  Stake DAO Pool                     │  $1.3M     │  $102.33K    │  0.101968%   │  1.61%      │  7.9%    \n",
      "  Babylon's Gold Lender              │  $1.06M    │  $580.35K    │  1.7%        │  3.92%      │  54.87%  \n",
      "  UMA Community Pool                 │  $988.16K  │  $24.96K     │  0.066499%   │  3.34%      │  2.53%   \n",
      "  Olympus Pool Party                 │  $833.44K  │  $304.66K    │  2.36%       │  7.99%      │  36.55%  \n",
      "  Index Coop Pool                    │  $592.82K  │  $1.538e-12  │  0%          │  0%         │  0%      \n",
      "  Harvest FARMstead                  │  $448.89K  │  $113.68K    │  1.02%       │  4.4%       │  25.32%  \n",
      "  Float Protocol Pool                │  $352.03K  │  $352.03K    │  413.06%     │  583.43%    │  100%    \n",
      "  Badger Pool                        │  $153.51K  │  $88.29K     │  3.22%       │  6.12%      │  57.51%  \n",
      "  troopersGarage                     │  $151.84K  │  $2.615e-13  │  0%          │  2.53%      │  0%      \n",
      "  Barnbridge pool                    │  $49.56K   │  $1.3K       │  0.003909%   │  0.185122%  │  2.63%   \n",
      "  NFTX Pool                          │  $49.43K   │  $3.87K      │  0.098403%   │  1.58%      │  7.84%   \n",
      "  Token Mass Injection Pool          │  $120.06   │  $1.02e-12   │  683.91%     │  31.65%     │  0%      \n",
      "  G-UNI                              │  $48.86    │  $2.536e-13  │  50,616.83%  │  1,151.29%  │  0%      \n",
      "  Frax & Reflexer Stable Asset Pool  │  $10.1     │  $5.537e-13  │  0%          │  0.000003%  │  0%      \n"
     ]
    }
   ],
   "source": [
    "await rari_utils.async_print_fuse_token_summary(underlying_token)"
   ]
  },
  {
   "cell_type": "markdown",
   "id": "9ee12a5d",
   "metadata": {
    "ExecuteTime": {
     "end_time": "2022-04-26T23:39:41.205071Z",
     "start_time": "2022-04-26T23:39:41.203313Z"
    }
   },
   "source": [
    "## Get token stats across multiple pools"
   ]
  },
  {
   "cell_type": "code",
   "execution_count": 12,
   "id": "f11c55fe",
   "metadata": {
    "ExecuteTime": {
     "end_time": "2022-04-27T00:01:37.184363Z",
     "start_time": "2022-04-27T00:01:20.343180Z"
    }
   },
   "outputs": [
    {
     "name": "stdout",
     "output_type": "stream",
     "text": [
      "- aggregate stats: {'tvl': 72210029.4080428, 'tvb': 30809701.356009685}\n",
      "- # pools: 42\n",
      "- stats given for each pool: ['tvl', 'tvb', 'ctoken', 'matches', 'supply_apy', 'borrow_apy', 'name', 'pool_index']\n"
     ]
    }
   ],
   "source": [
    "token_stats = await rari_utils.async_get_token_multipool_stats('0x956f47f50a910163d8bf957cf5846d573e7f87ca')\n",
    "\n",
    "print('- aggregate stats:', token_stats['total'])\n",
    "print('- # pools:', len(token_stats['per_pool']))\n",
    "print('- stats given for each pool:', list(token_stats['per_pool'][comptroller].keys()))"
   ]
  }
 ],
 "metadata": {
  "kernelspec": {
   "display_name": "Python 3",
   "language": "python",
   "name": "python3"
  },
  "language_info": {
   "codemirror_mode": {
    "name": "ipython",
    "version": 3
   },
   "file_extension": ".py",
   "mimetype": "text/x-python",
   "name": "python",
   "nbconvert_exporter": "python",
   "pygments_lexer": "ipython3",
   "version": "3.9.5"
  }
 },
 "nbformat": 4,
 "nbformat_minor": 5
}
