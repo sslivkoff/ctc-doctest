{
 "cells": [
  {
   "cell_type": "code",
   "execution_count": 1,
   "id": "69747c36",
   "metadata": {
    "ExecuteTime": {
     "end_time": "2022-09-25T22:53:10.036904Z",
     "start_time": "2022-09-25T22:53:09.940550Z"
    }
   },
   "outputs": [],
   "source": [
    "from ctc.protocols import fourbyte_utils"
   ]
  },
  {
   "cell_type": "markdown",
   "id": "7ca17315",
   "metadata": {
    "ExecuteTime": {
     "end_time": "2022-04-26T17:39:21.835386Z",
     "start_time": "2022-04-26T17:39:21.833719Z"
    }
   },
   "source": [
    "## Query function signature"
   ]
  },
  {
   "cell_type": "code",
   "execution_count": 2,
   "id": "a7384a97",
   "metadata": {
    "ExecuteTime": {
     "end_time": "2022-09-25T22:53:10.119709Z",
     "start_time": "2022-09-25T22:53:10.037875Z"
    }
   },
   "outputs": [
    {
     "data": {
      "text/plain": [
       "[{'id': 179,\n",
       "  'created_at': '2016-07-09T03:58:45.230129Z',\n",
       "  'hex_signature': '0x18160ddd',\n",
       "  'text_signature': 'totalSupply()',\n",
       "  'bytes_signature': '\\x18\\x16\\rÝ'},\n",
       " {'id': 166702,\n",
       "  'created_at': '2019-10-03T12:55:14.688679Z',\n",
       "  'hex_signature': '0x18160ddd',\n",
       "  'text_signature': 'voting_var(address,uint256,int128,int128)',\n",
       "  'bytes_signature': '\\x18\\x16\\rÝ'}]"
      ]
     },
     "execution_count": 2,
     "metadata": {},
     "output_type": "execute_result"
    }
   ],
   "source": [
    "await fourbyte_utils.async_query_function_signatures('0x18160ddd')"
   ]
  },
  {
   "cell_type": "markdown",
   "id": "23c44a62",
   "metadata": {
    "ExecuteTime": {
     "end_time": "2022-04-26T17:39:21.839277Z",
     "start_time": "2022-04-26T17:39:21.836361Z"
    }
   },
   "source": [
    "## Query event signature"
   ]
  },
  {
   "cell_type": "code",
   "execution_count": 3,
   "id": "882bb6f9",
   "metadata": {
    "ExecuteTime": {
     "end_time": "2022-09-25T22:53:10.127678Z",
     "start_time": "2022-09-25T22:53:10.120499Z"
    }
   },
   "outputs": [
    {
     "data": {
      "text/plain": [
       "[{'id': 1,\n",
       "  'created_at': '2020-11-30T22:38:00.801049Z',\n",
       "  'hex_signature': '0xddf252ad1be2c89b69c2b068fc378daa952ba7f163c4a11628f55a4df523b3ef',\n",
       "  'text_signature': 'Transfer(address,address,uint256)',\n",
       "  'bytes_signature': 'ÝòR\\xad\\x1bâÈ\\x9biÂ°hü7\\x8dª\\x95+§ñcÄ¡\\x16(õZMõ#³ï'}]"
      ]
     },
     "execution_count": 3,
     "metadata": {},
     "output_type": "execute_result"
    }
   ],
   "source": [
    "event_hash = '0xddf252ad1be2c89b69c2b068fc378daa952ba7f163c4a11628f55a4df523b3ef'\n",
    "\n",
    "await fourbyte_utils.async_query_event_signatures(event_hash)"
   ]
  }
 ],
 "metadata": {
  "kernelspec": {
   "display_name": "Python 3",
   "language": "python",
   "name": "python3"
  },
  "language_info": {
   "codemirror_mode": {
    "name": "ipython",
    "version": 3
   },
   "file_extension": ".py",
   "mimetype": "text/x-python",
   "name": "python",
   "nbconvert_exporter": "python",
   "pygments_lexer": "ipython3",
   "version": "3.9.5"
  }
 },
 "nbformat": 4,
 "nbformat_minor": 5
}
