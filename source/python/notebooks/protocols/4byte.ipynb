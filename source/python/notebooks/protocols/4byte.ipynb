{
 "cells": [
  {
   "cell_type": "code",
   "execution_count": 1,
   "id": "69747c36",
   "metadata": {
    "ExecuteTime": {
     "end_time": "2022-09-22T19:39:41.395290Z",
     "start_time": "2022-09-22T19:39:41.291814Z"
    }
   },
   "outputs": [],
   "source": [
    "from ctc.protocols import fourbyte_utils"
   ]
  },
  {
   "cell_type": "markdown",
   "id": "9ab416e8",
   "metadata": {
    "ExecuteTime": {
     "end_time": "2022-04-26T17:14:55.792880Z",
     "start_time": "2022-04-26T17:14:55.791295Z"
    }
   },
   "source": [
    "## Build local copy of 4byte database"
   ]
  },
  {
   "cell_type": "code",
   "execution_count": 2,
   "id": "6eec0740",
   "metadata": {
    "ExecuteTime": {
     "end_time": "2022-09-22T19:40:57.876420Z",
     "start_time": "2022-09-22T19:39:42.805795Z"
    }
   },
   "outputs": [
    {
     "name": "stdout",
     "output_type": "stream",
     "text": [
      "(building function signatures db from scratch, may take awhile\n",
      "scraped 10000 results\n",
      "scraped 20000 results\n"
     ]
    },
    {
     "ename": "CancelledError",
     "evalue": "",
     "output_type": "error",
     "traceback": [
      "\u001b[0;31m---------------------------------------------------------------------------\u001b[0m",
      "\u001b[0;31mCancelledError\u001b[0m                            Traceback (most recent call last)",
      "Input \u001b[0;32mIn [2]\u001b[0m, in \u001b[0;36m<cell line: 1>\u001b[0;34m()\u001b[0m\n\u001b[0;32m----> 1\u001b[0m \u001b[38;5;28;01mawait\u001b[39;00m fourbyte_utils\u001b[38;5;241m.\u001b[39masync_build_function_signatures_dataset()\n\u001b[1;32m      2\u001b[0m \u001b[38;5;28;01mawait\u001b[39;00m fourbyte_utils\u001b[38;5;241m.\u001b[39masync_build_event_signatures_dataset()\n",
      "File \u001b[0;32m~/repos/checkthechain/src/ctc/protocols/fourbyte_utils/fourbyte_scrape.py:23\u001b[0m, in \u001b[0;36masync_build_function_signatures_dataset\u001b[0;34m(signature_data)\u001b[0m\n\u001b[1;32m     20\u001b[0m \u001b[38;5;28;01mif\u001b[39;00m signature_data \u001b[38;5;129;01mis\u001b[39;00m \u001b[38;5;28;01mNone\u001b[39;00m:\n\u001b[1;32m     21\u001b[0m     \u001b[38;5;66;03m# TODO: smarter detection of what is currently in database\u001b[39;00m\n\u001b[1;32m     22\u001b[0m     \u001b[38;5;28mprint\u001b[39m(\u001b[38;5;124m'\u001b[39m\u001b[38;5;124mbuilding function signatures db from scratch, may take awhile\u001b[39m\u001b[38;5;124m'\u001b[39m)\n\u001b[0;32m---> 23\u001b[0m     signature_data \u001b[38;5;241m=\u001b[39m \u001b[38;5;28;01mawait\u001b[39;00m async_scrape_function_signatures()\n\u001b[1;32m     25\u001b[0m \u001b[38;5;28;01mawait\u001b[39;00m fourbyte_db\u001b[38;5;241m.\u001b[39masync_intake_function_signatures(\n\u001b[1;32m     26\u001b[0m     function_signatures\u001b[38;5;241m=\u001b[39msignature_data\n\u001b[1;32m     27\u001b[0m )\n",
      "File \u001b[0;32m~/repos/checkthechain/src/ctc/protocols/fourbyte_utils/fourbyte_scrape.py:58\u001b[0m, in \u001b[0;36masync_scrape_function_signatures\u001b[0;34m(wait_time, print_every, min_id)\u001b[0m\n\u001b[1;32m     51\u001b[0m \u001b[38;5;28;01masync\u001b[39;00m \u001b[38;5;28;01mdef\u001b[39;00m \u001b[38;5;21masync_scrape_function_signatures\u001b[39m(\n\u001b[1;32m     52\u001b[0m     \u001b[38;5;241m*\u001b[39m,\n\u001b[1;32m     53\u001b[0m     wait_time: typing\u001b[38;5;241m.\u001b[39mOptional[\u001b[38;5;28mint\u001b[39m] \u001b[38;5;241m=\u001b[39m \u001b[38;5;28;01mNone\u001b[39;00m,\n\u001b[1;32m     54\u001b[0m     print_every: typing\u001b[38;5;241m.\u001b[39mOptional[\u001b[38;5;28mint\u001b[39m] \u001b[38;5;241m=\u001b[39m \u001b[38;5;241m10000\u001b[39m,\n\u001b[1;32m     55\u001b[0m     min_id: typing\u001b[38;5;241m.\u001b[39mOptional[\u001b[38;5;28mint\u001b[39m] \u001b[38;5;241m=\u001b[39m \u001b[38;5;28;01mNone\u001b[39;00m,\n\u001b[1;32m     56\u001b[0m ) \u001b[38;5;241m-\u001b[39m\u001b[38;5;241m>\u001b[39m typing\u001b[38;5;241m.\u001b[39mSequence[fourbyte_spec\u001b[38;5;241m.\u001b[39mEntry]:\n\u001b[0;32m---> 58\u001b[0m     \u001b[38;5;28;01mreturn\u001b[39;00m \u001b[38;5;28;01mawait\u001b[39;00m async_scrape_set(\n\u001b[1;32m     59\u001b[0m         url\u001b[38;5;241m=\u001b[39mfourbyte_spec\u001b[38;5;241m.\u001b[39mendpoints[\u001b[38;5;124m'\u001b[39m\u001b[38;5;124mfunctions\u001b[39m\u001b[38;5;124m'\u001b[39m],\n\u001b[1;32m     60\u001b[0m         wait_time\u001b[38;5;241m=\u001b[39mwait_time,\n\u001b[1;32m     61\u001b[0m         print_every\u001b[38;5;241m=\u001b[39mprint_every,\n\u001b[1;32m     62\u001b[0m         min_id\u001b[38;5;241m=\u001b[39mmin_id,\n\u001b[1;32m     63\u001b[0m     )\n",
      "File \u001b[0;32m~/repos/checkthechain/src/ctc/protocols/fourbyte_utils/fourbyte_scrape.py:101\u001b[0m, in \u001b[0;36masync_scrape_set\u001b[0;34m(url, wait_time, print_every, min_id)\u001b[0m\n\u001b[1;32m     97\u001b[0m \u001b[38;5;28;01masync\u001b[39;00m \u001b[38;5;28;01mwith\u001b[39;00m aiohttp\u001b[38;5;241m.\u001b[39mClientSession() \u001b[38;5;28;01mas\u001b[39;00m session:\n\u001b[1;32m     98\u001b[0m     \u001b[38;5;28;01mwhile\u001b[39;00m \u001b[38;5;28;01mTrue\u001b[39;00m:\n\u001b[1;32m     99\u001b[0m \n\u001b[1;32m    100\u001b[0m         \u001b[38;5;66;03m# get page\u001b[39;00m\n\u001b[0;32m--> 101\u001b[0m         \u001b[38;5;28;01masync\u001b[39;00m \u001b[38;5;28;01mwith\u001b[39;00m session\u001b[38;5;241m.\u001b[39mget(url) \u001b[38;5;28;01mas\u001b[39;00m response_object:\n\u001b[1;32m    102\u001b[0m             response \u001b[38;5;241m=\u001b[39m \u001b[38;5;28;01mawait\u001b[39;00m response_object\u001b[38;5;241m.\u001b[39mjson()\n\u001b[1;32m    103\u001b[0m             results\u001b[38;5;241m.\u001b[39mextend(response[\u001b[38;5;124m'\u001b[39m\u001b[38;5;124mresults\u001b[39m\u001b[38;5;124m'\u001b[39m])\n",
      "File \u001b[0;32m~/.local/lib/python3.9/site-packages/aiohttp/client.py:1117\u001b[0m, in \u001b[0;36m_BaseRequestContextManager.__aenter__\u001b[0;34m(self)\u001b[0m\n\u001b[1;32m   1116\u001b[0m \u001b[38;5;28;01masync\u001b[39;00m \u001b[38;5;28;01mdef\u001b[39;00m \u001b[38;5;21m__aenter__\u001b[39m(\u001b[38;5;28mself\u001b[39m) \u001b[38;5;241m-\u001b[39m\u001b[38;5;241m>\u001b[39m _RetType:\n\u001b[0;32m-> 1117\u001b[0m     \u001b[38;5;28mself\u001b[39m\u001b[38;5;241m.\u001b[39m_resp \u001b[38;5;241m=\u001b[39m \u001b[38;5;28;01mawait\u001b[39;00m \u001b[38;5;28mself\u001b[39m\u001b[38;5;241m.\u001b[39m_coro\n\u001b[1;32m   1118\u001b[0m     \u001b[38;5;28;01mreturn\u001b[39;00m \u001b[38;5;28mself\u001b[39m\u001b[38;5;241m.\u001b[39m_resp\n",
      "File \u001b[0;32m~/.local/lib/python3.9/site-packages/aiohttp/client.py:544\u001b[0m, in \u001b[0;36mClientSession._request\u001b[0;34m(self, method, str_or_url, params, data, json, cookies, headers, skip_auto_headers, auth, allow_redirects, max_redirects, compress, chunked, expect100, raise_for_status, read_until_eof, proxy, proxy_auth, timeout, verify_ssl, fingerprint, ssl_context, ssl, proxy_headers, trace_request_ctx, read_bufsize)\u001b[0m\n\u001b[1;32m    542\u001b[0m resp \u001b[38;5;241m=\u001b[39m \u001b[38;5;28;01mawait\u001b[39;00m req\u001b[38;5;241m.\u001b[39msend(conn)\n\u001b[1;32m    543\u001b[0m \u001b[38;5;28;01mtry\u001b[39;00m:\n\u001b[0;32m--> 544\u001b[0m     \u001b[38;5;28;01mawait\u001b[39;00m resp\u001b[38;5;241m.\u001b[39mstart(conn)\n\u001b[1;32m    545\u001b[0m \u001b[38;5;28;01mexcept\u001b[39;00m \u001b[38;5;167;01mBaseException\u001b[39;00m:\n\u001b[1;32m    546\u001b[0m     resp\u001b[38;5;241m.\u001b[39mclose()\n",
      "File \u001b[0;32m~/.local/lib/python3.9/site-packages/aiohttp/client_reqrep.py:890\u001b[0m, in \u001b[0;36mClientResponse.start\u001b[0;34m(self, connection)\u001b[0m\n\u001b[1;32m    887\u001b[0m \u001b[38;5;28;01mwhile\u001b[39;00m \u001b[38;5;28;01mTrue\u001b[39;00m:\n\u001b[1;32m    888\u001b[0m     \u001b[38;5;66;03m# read response\u001b[39;00m\n\u001b[1;32m    889\u001b[0m     \u001b[38;5;28;01mtry\u001b[39;00m:\n\u001b[0;32m--> 890\u001b[0m         message, payload \u001b[38;5;241m=\u001b[39m \u001b[38;5;28;01mawait\u001b[39;00m \u001b[38;5;28mself\u001b[39m\u001b[38;5;241m.\u001b[39m_protocol\u001b[38;5;241m.\u001b[39mread()  \u001b[38;5;66;03m# type: ignore\u001b[39;00m\n\u001b[1;32m    891\u001b[0m     \u001b[38;5;28;01mexcept\u001b[39;00m http\u001b[38;5;241m.\u001b[39mHttpProcessingError \u001b[38;5;28;01mas\u001b[39;00m exc:\n\u001b[1;32m    892\u001b[0m         \u001b[38;5;28;01mraise\u001b[39;00m ClientResponseError(\n\u001b[1;32m    893\u001b[0m             \u001b[38;5;28mself\u001b[39m\u001b[38;5;241m.\u001b[39mrequest_info,\n\u001b[1;32m    894\u001b[0m             \u001b[38;5;28mself\u001b[39m\u001b[38;5;241m.\u001b[39mhistory,\n\u001b[0;32m   (...)\u001b[0m\n\u001b[1;32m    897\u001b[0m             headers\u001b[38;5;241m=\u001b[39mexc\u001b[38;5;241m.\u001b[39mheaders,\n\u001b[1;32m    898\u001b[0m         ) \u001b[38;5;28;01mfrom\u001b[39;00m \u001b[38;5;21;01mexc\u001b[39;00m\n",
      "File \u001b[0;32m~/.local/lib/python3.9/site-packages/aiohttp/streams.py:604\u001b[0m, in \u001b[0;36mDataQueue.read\u001b[0;34m(self)\u001b[0m\n\u001b[1;32m    602\u001b[0m \u001b[38;5;28mself\u001b[39m\u001b[38;5;241m.\u001b[39m_waiter \u001b[38;5;241m=\u001b[39m \u001b[38;5;28mself\u001b[39m\u001b[38;5;241m.\u001b[39m_loop\u001b[38;5;241m.\u001b[39mcreate_future()\n\u001b[1;32m    603\u001b[0m \u001b[38;5;28;01mtry\u001b[39;00m:\n\u001b[0;32m--> 604\u001b[0m     \u001b[38;5;28;01mawait\u001b[39;00m \u001b[38;5;28mself\u001b[39m\u001b[38;5;241m.\u001b[39m_waiter\n\u001b[1;32m    605\u001b[0m \u001b[38;5;28;01mexcept\u001b[39;00m (asyncio\u001b[38;5;241m.\u001b[39mCancelledError, asyncio\u001b[38;5;241m.\u001b[39mTimeoutError):\n\u001b[1;32m    606\u001b[0m     \u001b[38;5;28mself\u001b[39m\u001b[38;5;241m.\u001b[39m_waiter \u001b[38;5;241m=\u001b[39m \u001b[38;5;28;01mNone\u001b[39;00m\n",
      "\u001b[0;31mCancelledError\u001b[0m: "
     ]
    }
   ],
   "source": [
    "await fourbyte_utils.async_build_function_signatures_dataset()\n",
    "await fourbyte_utils.async_build_event_signatures_dataset()"
   ]
  },
  {
   "cell_type": "markdown",
   "id": "7ca17315",
   "metadata": {
    "ExecuteTime": {
     "end_time": "2022-04-26T17:39:21.835386Z",
     "start_time": "2022-04-26T17:39:21.833719Z"
    }
   },
   "source": [
    "## Query function signature"
   ]
  },
  {
   "cell_type": "code",
   "execution_count": null,
   "id": "a7384a97",
   "metadata": {
    "ExecuteTime": {
     "start_time": "2022-09-22T19:38:16.148Z"
    }
   },
   "outputs": [],
   "source": [
    "await fourbyte_utils.async_query_function_signatures('0x18160ddd')"
   ]
  },
  {
   "cell_type": "markdown",
   "id": "23c44a62",
   "metadata": {
    "ExecuteTime": {
     "end_time": "2022-04-26T17:39:21.839277Z",
     "start_time": "2022-04-26T17:39:21.836361Z"
    }
   },
   "source": [
    "## Query event signature"
   ]
  },
  {
   "cell_type": "code",
   "execution_count": null,
   "id": "882bb6f9",
   "metadata": {
    "ExecuteTime": {
     "start_time": "2022-09-22T19:38:16.150Z"
    }
   },
   "outputs": [],
   "source": [
    "event_hash = '0xddf252ad1be2c89b69c2b068fc378daa952ba7f163c4a11628f55a4df523b3ef'\n",
    "\n",
    "await fourbyte_utils.async_query_event_signatures(event_hash)"
   ]
  }
 ],
 "metadata": {
  "kernelspec": {
   "display_name": "Python 3",
   "language": "python",
   "name": "python3"
  },
  "language_info": {
   "codemirror_mode": {
    "name": "ipython",
    "version": 3
   },
   "file_extension": ".py",
   "mimetype": "text/x-python",
   "name": "python",
   "nbconvert_exporter": "python",
   "pygments_lexer": "ipython3",
   "version": "3.9.5"
  }
 },
 "nbformat": 4,
 "nbformat_minor": 5
}
