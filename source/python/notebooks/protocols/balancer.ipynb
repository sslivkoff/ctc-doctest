{
 "cells": [
  {
   "cell_type": "code",
   "execution_count": 1,
   "id": "7d94d868",
   "metadata": {
    "ExecuteTime": {
     "end_time": "2022-04-27T02:59:56.654983Z",
     "start_time": "2022-04-27T02:59:56.409111Z"
    }
   },
   "outputs": [],
   "source": [
    "from ctc.protocols import balancer_utils"
   ]
  },
  {
   "cell_type": "code",
   "execution_count": 2,
   "id": "4bf3f80c",
   "metadata": {
    "ExecuteTime": {
     "end_time": "2022-04-27T02:59:56.657629Z",
     "start_time": "2022-04-27T02:59:56.656095Z"
    }
   },
   "outputs": [],
   "source": [
    "pool_id = '0xc35bdda2e93c401c6645e0d8a0b2c86906c51710000200000000000000000111'\n",
    "pool_address = '0xc35bdda2e93c401c6645e0d8a0b2c86906c51710'"
   ]
  },
  {
   "cell_type": "markdown",
   "id": "b543f48b",
   "metadata": {
    "ExecuteTime": {
     "end_time": "2022-04-27T02:47:05.000575Z",
     "start_time": "2022-04-27T02:47:04.997716Z"
    }
   },
   "source": [
    "## Get pool metadata"
   ]
  },
  {
   "cell_type": "code",
   "execution_count": 3,
   "id": "ac1ef66a",
   "metadata": {
    "ExecuteTime": {
     "end_time": "2022-04-27T02:59:57.276670Z",
     "start_time": "2022-04-27T02:59:56.660637Z"
    }
   },
   "outputs": [
    {
     "data": {
      "text/plain": [
       "'0xc35bdda2e93c401c6645e0d8a0b2c86906c51710'"
      ]
     },
     "execution_count": 3,
     "metadata": {},
     "output_type": "execute_result"
    }
   ],
   "source": [
    "await balancer_utils.async_get_pool_address(pool_id)"
   ]
  },
  {
   "cell_type": "code",
   "execution_count": 4,
   "id": "4a7260ab",
   "metadata": {
    "ExecuteTime": {
     "end_time": "2022-04-27T02:59:57.421049Z",
     "start_time": "2022-04-27T02:59:57.278206Z"
    }
   },
   "outputs": [
    {
     "data": {
      "text/plain": [
       "'0xc35bdda2e93c401c6645e0d8a0b2c86906c51710000200000000000000000111'"
      ]
     },
     "execution_count": 4,
     "metadata": {},
     "output_type": "execute_result"
    }
   ],
   "source": [
    "await balancer_utils.async_get_pool_id(pool_address)"
   ]
  },
  {
   "cell_type": "code",
   "execution_count": 5,
   "id": "2a6a36fa",
   "metadata": {
    "ExecuteTime": {
     "end_time": "2022-04-27T02:59:57.675534Z",
     "start_time": "2022-04-27T02:59:57.423498Z"
    }
   },
   "outputs": [
    {
     "data": {
      "text/plain": [
       "['0x956f47f50a910163d8bf957cf5846d573e7f87ca',\n",
       " '0xc7283b66eb1eb5fb86327f08e1b5816b0720212b']"
      ]
     },
     "execution_count": 5,
     "metadata": {},
     "output_type": "execute_result"
    }
   ],
   "source": [
    "await balancer_utils.async_get_pool_tokens(pool_address=pool_address)"
   ]
  },
  {
   "cell_type": "code",
   "execution_count": 6,
   "id": "fa868285",
   "metadata": {
    "ExecuteTime": {
     "end_time": "2022-04-27T02:59:57.794307Z",
     "start_time": "2022-04-27T02:59:57.677484Z"
    }
   },
   "outputs": [
    {
     "data": {
      "text/plain": [
       "0.003"
      ]
     },
     "execution_count": 6,
     "metadata": {},
     "output_type": "execute_result"
    }
   ],
   "source": [
    "await balancer_utils.async_get_pool_fees(pool_address=pool_address)"
   ]
  },
  {
   "cell_type": "markdown",
   "id": "42962d6c",
   "metadata": {
    "ExecuteTime": {
     "end_time": "2022-04-27T02:49:48.238950Z",
     "start_time": "2022-04-27T02:49:48.236119Z"
    }
   },
   "source": [
    "## Get pool weights"
   ]
  },
  {
   "cell_type": "code",
   "execution_count": 7,
   "id": "bd794bf4",
   "metadata": {
    "ExecuteTime": {
     "end_time": "2022-04-27T02:59:58.184949Z",
     "start_time": "2022-04-27T02:59:57.797645Z"
    }
   },
   "outputs": [
    {
     "data": {
      "text/plain": [
       "{'0x956f47f50a910163d8bf957cf5846d573e7f87ca': 0.10000762951094835,\n",
       " '0xc7283b66eb1eb5fb86327f08e1b5816b0720212b': 0.9000076295109484}"
      ]
     },
     "execution_count": 7,
     "metadata": {},
     "output_type": "execute_result"
    }
   ],
   "source": [
    "await balancer_utils.async_get_pool_weights(pool_address=pool_address)"
   ]
  },
  {
   "cell_type": "markdown",
   "id": "de2f7ecf",
   "metadata": {
    "ExecuteTime": {
     "end_time": "2022-04-27T02:57:15.816991Z",
     "start_time": "2022-04-27T02:57:15.814038Z"
    }
   },
   "source": [
    "## Get pool weights over time"
   ]
  },
  {
   "cell_type": "code",
   "execution_count": 8,
   "id": "92cdb83a",
   "metadata": {
    "ExecuteTime": {
     "end_time": "2022-04-27T02:59:58.327385Z",
     "start_time": "2022-04-27T02:59:58.188411Z"
    }
   },
   "outputs": [
    {
     "data": {
      "text/plain": [
       "{13900000: [0.4740023386036203, 0.5260129205271249],\n",
       " 14000000: [0.378524825351098, 0.6214904337518591],\n",
       " 14100000: [0.2143885819218613, 0.7856266771333252],\n",
       " 14200000: [0.10000762951094835, 0.9000076295109484]}"
      ]
     },
     "execution_count": 8,
     "metadata": {},
     "output_type": "execute_result"
    }
   ],
   "source": [
    "blocks = [13900000, 14000000, 14100000, 14200000]\n",
    "\n",
    "await balancer_utils.async_get_pool_weights_by_block(\n",
    "    pool_address=pool_address, blocks=blocks\n",
    ")"
   ]
  },
  {
   "cell_type": "markdown",
   "id": "c3ea8c52",
   "metadata": {
    "ExecuteTime": {
     "end_time": "2022-04-27T02:50:45.500668Z",
     "start_time": "2022-04-27T02:50:45.497521Z"
    }
   },
   "source": [
    "## Get pool balances"
   ]
  },
  {
   "cell_type": "code",
   "execution_count": 9,
   "id": "4739c04e",
   "metadata": {
    "ExecuteTime": {
     "end_time": "2022-04-27T02:59:58.677444Z",
     "start_time": "2022-04-27T02:59:58.330145Z"
    }
   },
   "outputs": [
    {
     "data": {
      "text/plain": [
       "{'0x956f47f50a910163d8bf957cf5846d573e7f87ca': 111019.40503592695,\n",
       " '0xc7283b66eb1eb5fb86327f08e1b5816b0720212b': 2023617.6245529042}"
      ]
     },
     "execution_count": 9,
     "metadata": {},
     "output_type": "execute_result"
    }
   ],
   "source": [
    "await balancer_utils.async_get_pool_balances(pool_address=pool_address)"
   ]
  },
  {
   "cell_type": "markdown",
   "id": "cc090bef",
   "metadata": {
    "ExecuteTime": {
     "end_time": "2022-04-27T02:45:10.925575Z",
     "start_time": "2022-04-27T02:45:10.921340Z"
    }
   },
   "source": [
    "## Get pool summary"
   ]
  },
  {
   "cell_type": "code",
   "execution_count": 10,
   "id": "5c1f6b0e",
   "metadata": {
    "ExecuteTime": {
     "end_time": "2022-04-27T02:59:59.698607Z",
     "start_time": "2022-04-27T02:59:58.680266Z"
    }
   },
   "outputs": [
    {
     "data": {
      "text/plain": [
       "{'pool_tokens': ['0x956f47f50a910163d8bf957cf5846d573e7f87ca',\n",
       "  '0xc7283b66eb1eb5fb86327f08e1b5816b0720212b'],\n",
       " 'pool_fees': 0.003,\n",
       " 'pool_weights': {'0x956f47f50a910163d8bf957cf5846d573e7f87ca': 0.10000762951094835,\n",
       "  '0xc7283b66eb1eb5fb86327f08e1b5816b0720212b': 0.9000076295109484},\n",
       " 'pool_balances': {'0x956f47f50a910163d8bf957cf5846d573e7f87ca': 111019.40503592695,\n",
       "  '0xc7283b66eb1eb5fb86327f08e1b5816b0720212b': 2023617.6245529042},\n",
       " 'block': 14663993}"
      ]
     },
     "execution_count": 10,
     "metadata": {},
     "output_type": "execute_result"
    }
   ],
   "source": [
    "await balancer_utils.async_summarize_pool_state(pool_address=pool_address)"
   ]
  },
  {
   "cell_type": "markdown",
   "id": "b99b23b7",
   "metadata": {
    "ExecuteTime": {
     "end_time": "2022-04-27T02:51:24.831480Z",
     "start_time": "2022-04-27T02:51:24.828106Z"
    }
   },
   "source": [
    "## Get pool swaps"
   ]
  },
  {
   "cell_type": "code",
   "execution_count": 11,
   "id": "56940a27",
   "metadata": {
    "ExecuteTime": {
     "end_time": "2022-04-27T03:00:07.136855Z",
     "start_time": "2022-04-27T02:59:59.701389Z"
    }
   },
   "outputs": [
    {
     "data": {
      "text/html": [
       "<div>\n",
       "<style scoped>\n",
       "    .dataframe tbody tr th:only-of-type {\n",
       "        vertical-align: middle;\n",
       "    }\n",
       "\n",
       "    .dataframe tbody tr th {\n",
       "        vertical-align: top;\n",
       "    }\n",
       "\n",
       "    .dataframe thead th {\n",
       "        text-align: right;\n",
       "    }\n",
       "</style>\n",
       "<table border=\"1\" class=\"dataframe\">\n",
       "  <thead>\n",
       "    <tr style=\"text-align: right;\">\n",
       "      <th></th>\n",
       "      <th></th>\n",
       "      <th></th>\n",
       "      <th>block_hash</th>\n",
       "      <th>transaction_hash</th>\n",
       "      <th>contract_address</th>\n",
       "      <th>event_name</th>\n",
       "      <th>arg__poolId</th>\n",
       "      <th>arg__tokenIn</th>\n",
       "      <th>arg__tokenOut</th>\n",
       "      <th>arg__amountIn</th>\n",
       "      <th>arg__amountOut</th>\n",
       "      <th>address</th>\n",
       "      <th>event_hash</th>\n",
       "    </tr>\n",
       "    <tr>\n",
       "      <th>block_number</th>\n",
       "      <th>transaction_index</th>\n",
       "      <th>log_index</th>\n",
       "      <th></th>\n",
       "      <th></th>\n",
       "      <th></th>\n",
       "      <th></th>\n",
       "      <th></th>\n",
       "      <th></th>\n",
       "      <th></th>\n",
       "      <th></th>\n",
       "      <th></th>\n",
       "      <th></th>\n",
       "      <th></th>\n",
       "    </tr>\n",
       "  </thead>\n",
       "  <tbody>\n",
       "    <tr>\n",
       "      <th>13875964</th>\n",
       "      <th>204</th>\n",
       "      <th>312</th>\n",
       "      <td>0xee9f76842a8564480f150c8564baa42fa251fcdeb04e...</td>\n",
       "      <td>0x0b09e9be1e29d6784f1ec65b02e2a33e189d4dc8fddb...</td>\n",
       "      <td>0xba12222222228d8ba445958a75a0704d566bf2c8</td>\n",
       "      <td>Swap</td>\n",
       "      <td>0xc35bdda2e93c401c6645e0d8a0b2c86906c517100002...</td>\n",
       "      <td>0x956f47f50a910163d8bf957cf5846d573e7f87ca</td>\n",
       "      <td>0xc7283b66eb1eb5fb86327f08e1b5816b0720212b</td>\n",
       "      <td>9282037308505057802273</td>\n",
       "      <td>8862947236144171799780</td>\n",
       "      <td>0xba12222222228d8ba445958a75a0704d566bf2c8</td>\n",
       "      <td>0x2170c741c41531aec20e7c107c24eecfdd15e69c9bb0...</td>\n",
       "    </tr>\n",
       "    <tr>\n",
       "      <th>13876219</th>\n",
       "      <th>130</th>\n",
       "      <th>155</th>\n",
       "      <td>0x80c1942ea8f77e4c7efeacfe8faa695f013ac194dfec...</td>\n",
       "      <td>0xedaa5fa750337f247e955e753341d1c6bee8f4a58ce6...</td>\n",
       "      <td>0xba12222222228d8ba445958a75a0704d566bf2c8</td>\n",
       "      <td>Swap</td>\n",
       "      <td>0xc35bdda2e93c401c6645e0d8a0b2c86906c517100002...</td>\n",
       "      <td>0xc7283b66eb1eb5fb86327f08e1b5816b0720212b</td>\n",
       "      <td>0x956f47f50a910163d8bf957cf5846d573e7f87ca</td>\n",
       "      <td>6770515949298292329779</td>\n",
       "      <td>7425664489255906163987</td>\n",
       "      <td>0xba12222222228d8ba445958a75a0704d566bf2c8</td>\n",
       "      <td>0x2170c741c41531aec20e7c107c24eecfdd15e69c9bb0...</td>\n",
       "    </tr>\n",
       "    <tr>\n",
       "      <th>13876260</th>\n",
       "      <th>152</th>\n",
       "      <th>199</th>\n",
       "      <td>0xb4bd4ec34dca399c3550d0a022ad4239bd35de7da96f...</td>\n",
       "      <td>0x4f18f6cb47daf4f18efcea52f1cac7f37e5795a4d1d7...</td>\n",
       "      <td>0xba12222222228d8ba445958a75a0704d566bf2c8</td>\n",
       "      <td>Swap</td>\n",
       "      <td>0xc35bdda2e93c401c6645e0d8a0b2c86906c517100002...</td>\n",
       "      <td>0xc7283b66eb1eb5fb86327f08e1b5816b0720212b</td>\n",
       "      <td>0x956f47f50a910163d8bf957cf5846d573e7f87ca</td>\n",
       "      <td>14130662641515379930887</td>\n",
       "      <td>15214927899208771740928</td>\n",
       "      <td>0xba12222222228d8ba445958a75a0704d566bf2c8</td>\n",
       "      <td>0x2170c741c41531aec20e7c107c24eecfdd15e69c9bb0...</td>\n",
       "    </tr>\n",
       "    <tr>\n",
       "      <th>13876558</th>\n",
       "      <th>263</th>\n",
       "      <th>498</th>\n",
       "      <td>0x2417372e1cb5569d55524d5a74948d96add4396d34ba...</td>\n",
       "      <td>0x150eaf7b7271da325fa067c6512fb16b681c6b03d2cf...</td>\n",
       "      <td>0xba12222222228d8ba445958a75a0704d566bf2c8</td>\n",
       "      <td>Swap</td>\n",
       "      <td>0xc35bdda2e93c401c6645e0d8a0b2c86906c517100002...</td>\n",
       "      <td>0xc7283b66eb1eb5fb86327f08e1b5816b0720212b</td>\n",
       "      <td>0x956f47f50a910163d8bf957cf5846d573e7f87ca</td>\n",
       "      <td>14181099804346772686440</td>\n",
       "      <td>15589833329021211807661</td>\n",
       "      <td>0xba12222222228d8ba445958a75a0704d566bf2c8</td>\n",
       "      <td>0x2170c741c41531aec20e7c107c24eecfdd15e69c9bb0...</td>\n",
       "    </tr>\n",
       "    <tr>\n",
       "      <th>13876669</th>\n",
       "      <th>124</th>\n",
       "      <th>219</th>\n",
       "      <td>0x7b78aa102ae489e65aadc43aa36a0405c74136166cc0...</td>\n",
       "      <td>0x0f467d14428523705970c40c9f6a6a0767518c8b0ca2...</td>\n",
       "      <td>0xba12222222228d8ba445958a75a0704d566bf2c8</td>\n",
       "      <td>Swap</td>\n",
       "      <td>0xc35bdda2e93c401c6645e0d8a0b2c86906c517100002...</td>\n",
       "      <td>0xc7283b66eb1eb5fb86327f08e1b5816b0720212b</td>\n",
       "      <td>0x956f47f50a910163d8bf957cf5846d573e7f87ca</td>\n",
       "      <td>93485409984034479616</td>\n",
       "      <td>103028232766980855821</td>\n",
       "      <td>0xba12222222228d8ba445958a75a0704d566bf2c8</td>\n",
       "      <td>0x2170c741c41531aec20e7c107c24eecfdd15e69c9bb0...</td>\n",
       "    </tr>\n",
       "    <tr>\n",
       "      <th>...</th>\n",
       "      <th>...</th>\n",
       "      <th>...</th>\n",
       "      <td>...</td>\n",
       "      <td>...</td>\n",
       "      <td>...</td>\n",
       "      <td>...</td>\n",
       "      <td>...</td>\n",
       "      <td>...</td>\n",
       "      <td>...</td>\n",
       "      <td>...</td>\n",
       "      <td>...</td>\n",
       "      <td>...</td>\n",
       "      <td>...</td>\n",
       "    </tr>\n",
       "    <tr>\n",
       "      <th>14636573</th>\n",
       "      <th>6</th>\n",
       "      <th>50</th>\n",
       "      <td>0x2b6918b7e8eaff6f9019293bf494a43f9f3b28da8074...</td>\n",
       "      <td>0xc4b4fa98e1c618dda0b1b86ee6abf75a8b37fc828c25...</td>\n",
       "      <td>0xba12222222228d8ba445958a75a0704d566bf2c8</td>\n",
       "      <td>Swap</td>\n",
       "      <td>0xc35bdda2e93c401c6645e0d8a0b2c86906c517100002...</td>\n",
       "      <td>0xc7283b66eb1eb5fb86327f08e1b5816b0720212b</td>\n",
       "      <td>0x956f47f50a910163d8bf957cf5846d573e7f87ca</td>\n",
       "      <td>5159197448322710340236</td>\n",
       "      <td>2774430228940154573297</td>\n",
       "      <td>0xba12222222228d8ba445958a75a0704d566bf2c8</td>\n",
       "      <td>0x2170c741c41531aec20e7c107c24eecfdd15e69c9bb0...</td>\n",
       "    </tr>\n",
       "    <tr>\n",
       "      <th>14641823</th>\n",
       "      <th>106</th>\n",
       "      <th>279</th>\n",
       "      <td>0x7231d795d3b4c713d502005531e2cf5e7b2d29e3c1b9...</td>\n",
       "      <td>0xffe73387d018b07b54f8eb3e8f9824bb24aeaeda1b81...</td>\n",
       "      <td>0xba12222222228d8ba445958a75a0704d566bf2c8</td>\n",
       "      <td>Swap</td>\n",
       "      <td>0xc35bdda2e93c401c6645e0d8a0b2c86906c517100002...</td>\n",
       "      <td>0xc7283b66eb1eb5fb86327f08e1b5816b0720212b</td>\n",
       "      <td>0x956f47f50a910163d8bf957cf5846d573e7f87ca</td>\n",
       "      <td>1188222535896967413760</td>\n",
       "      <td>628967589231019938843</td>\n",
       "      <td>0xba12222222228d8ba445958a75a0704d566bf2c8</td>\n",
       "      <td>0x2170c741c41531aec20e7c107c24eecfdd15e69c9bb0...</td>\n",
       "    </tr>\n",
       "    <tr>\n",
       "      <th>14646802</th>\n",
       "      <th>4</th>\n",
       "      <th>31</th>\n",
       "      <td>0x5ac9a75ea721363022f0c4a92c7b388303a6cf1c7acc...</td>\n",
       "      <td>0xc317340d5af919477df40599ab6563affb694df05596...</td>\n",
       "      <td>0xba12222222228d8ba445958a75a0704d566bf2c8</td>\n",
       "      <td>Swap</td>\n",
       "      <td>0xc35bdda2e93c401c6645e0d8a0b2c86906c517100002...</td>\n",
       "      <td>0xc7283b66eb1eb5fb86327f08e1b5816b0720212b</td>\n",
       "      <td>0x956f47f50a910163d8bf957cf5846d573e7f87ca</td>\n",
       "      <td>1054834260263239497771</td>\n",
       "      <td>555261217885857205352</td>\n",
       "      <td>0xba12222222228d8ba445958a75a0704d566bf2c8</td>\n",
       "      <td>0x2170c741c41531aec20e7c107c24eecfdd15e69c9bb0...</td>\n",
       "    </tr>\n",
       "    <tr>\n",
       "      <th>14647029</th>\n",
       "      <th>4</th>\n",
       "      <th>16</th>\n",
       "      <td>0xb8751966c41ca1a7130deaddc306f42945a9a23fd6b6...</td>\n",
       "      <td>0x2edd81d2aa6c6a21c9a8bfb63ee55fb0fa43cb585a97...</td>\n",
       "      <td>0xba12222222228d8ba445958a75a0704d566bf2c8</td>\n",
       "      <td>Swap</td>\n",
       "      <td>0xc35bdda2e93c401c6645e0d8a0b2c86906c517100002...</td>\n",
       "      <td>0xc7283b66eb1eb5fb86327f08e1b5816b0720212b</td>\n",
       "      <td>0x956f47f50a910163d8bf957cf5846d573e7f87ca</td>\n",
       "      <td>4678661652473749510444</td>\n",
       "      <td>2428139446237334604643</td>\n",
       "      <td>0xba12222222228d8ba445958a75a0704d566bf2c8</td>\n",
       "      <td>0x2170c741c41531aec20e7c107c24eecfdd15e69c9bb0...</td>\n",
       "    </tr>\n",
       "    <tr>\n",
       "      <th>14652687</th>\n",
       "      <th>12</th>\n",
       "      <th>96</th>\n",
       "      <td>0x53975276ef22320a9c38815a675b828065f2588e1f2b...</td>\n",
       "      <td>0x0ad95c0c3d0f754040d22638847f4f5ae3d96eae4285...</td>\n",
       "      <td>0xba12222222228d8ba445958a75a0704d566bf2c8</td>\n",
       "      <td>Swap</td>\n",
       "      <td>0xc35bdda2e93c401c6645e0d8a0b2c86906c517100002...</td>\n",
       "      <td>0xc7283b66eb1eb5fb86327f08e1b5816b0720212b</td>\n",
       "      <td>0x956f47f50a910163d8bf957cf5846d573e7f87ca</td>\n",
       "      <td>8360697099756845473960</td>\n",
       "      <td>4201592054258335691210</td>\n",
       "      <td>0xba12222222228d8ba445958a75a0704d566bf2c8</td>\n",
       "      <td>0x2170c741c41531aec20e7c107c24eecfdd15e69c9bb0...</td>\n",
       "    </tr>\n",
       "  </tbody>\n",
       "</table>\n",
       "<p>1521 rows × 11 columns</p>\n",
       "</div>"
      ],
      "text/plain": [
       "                                                                                 block_hash  \\\n",
       "block_number transaction_index log_index                                                      \n",
       "13875964     204               312        0xee9f76842a8564480f150c8564baa42fa251fcdeb04e...   \n",
       "13876219     130               155        0x80c1942ea8f77e4c7efeacfe8faa695f013ac194dfec...   \n",
       "13876260     152               199        0xb4bd4ec34dca399c3550d0a022ad4239bd35de7da96f...   \n",
       "13876558     263               498        0x2417372e1cb5569d55524d5a74948d96add4396d34ba...   \n",
       "13876669     124               219        0x7b78aa102ae489e65aadc43aa36a0405c74136166cc0...   \n",
       "...                                                                                     ...   \n",
       "14636573     6                 50         0x2b6918b7e8eaff6f9019293bf494a43f9f3b28da8074...   \n",
       "14641823     106               279        0x7231d795d3b4c713d502005531e2cf5e7b2d29e3c1b9...   \n",
       "14646802     4                 31         0x5ac9a75ea721363022f0c4a92c7b388303a6cf1c7acc...   \n",
       "14647029     4                 16         0xb8751966c41ca1a7130deaddc306f42945a9a23fd6b6...   \n",
       "14652687     12                96         0x53975276ef22320a9c38815a675b828065f2588e1f2b...   \n",
       "\n",
       "                                                                           transaction_hash  \\\n",
       "block_number transaction_index log_index                                                      \n",
       "13875964     204               312        0x0b09e9be1e29d6784f1ec65b02e2a33e189d4dc8fddb...   \n",
       "13876219     130               155        0xedaa5fa750337f247e955e753341d1c6bee8f4a58ce6...   \n",
       "13876260     152               199        0x4f18f6cb47daf4f18efcea52f1cac7f37e5795a4d1d7...   \n",
       "13876558     263               498        0x150eaf7b7271da325fa067c6512fb16b681c6b03d2cf...   \n",
       "13876669     124               219        0x0f467d14428523705970c40c9f6a6a0767518c8b0ca2...   \n",
       "...                                                                                     ...   \n",
       "14636573     6                 50         0xc4b4fa98e1c618dda0b1b86ee6abf75a8b37fc828c25...   \n",
       "14641823     106               279        0xffe73387d018b07b54f8eb3e8f9824bb24aeaeda1b81...   \n",
       "14646802     4                 31         0xc317340d5af919477df40599ab6563affb694df05596...   \n",
       "14647029     4                 16         0x2edd81d2aa6c6a21c9a8bfb63ee55fb0fa43cb585a97...   \n",
       "14652687     12                96         0x0ad95c0c3d0f754040d22638847f4f5ae3d96eae4285...   \n",
       "\n",
       "                                                                    contract_address  \\\n",
       "block_number transaction_index log_index                                               \n",
       "13875964     204               312        0xba12222222228d8ba445958a75a0704d566bf2c8   \n",
       "13876219     130               155        0xba12222222228d8ba445958a75a0704d566bf2c8   \n",
       "13876260     152               199        0xba12222222228d8ba445958a75a0704d566bf2c8   \n",
       "13876558     263               498        0xba12222222228d8ba445958a75a0704d566bf2c8   \n",
       "13876669     124               219        0xba12222222228d8ba445958a75a0704d566bf2c8   \n",
       "...                                                                              ...   \n",
       "14636573     6                 50         0xba12222222228d8ba445958a75a0704d566bf2c8   \n",
       "14641823     106               279        0xba12222222228d8ba445958a75a0704d566bf2c8   \n",
       "14646802     4                 31         0xba12222222228d8ba445958a75a0704d566bf2c8   \n",
       "14647029     4                 16         0xba12222222228d8ba445958a75a0704d566bf2c8   \n",
       "14652687     12                96         0xba12222222228d8ba445958a75a0704d566bf2c8   \n",
       "\n",
       "                                         event_name  \\\n",
       "block_number transaction_index log_index              \n",
       "13875964     204               312             Swap   \n",
       "13876219     130               155             Swap   \n",
       "13876260     152               199             Swap   \n",
       "13876558     263               498             Swap   \n",
       "13876669     124               219             Swap   \n",
       "...                                             ...   \n",
       "14636573     6                 50              Swap   \n",
       "14641823     106               279             Swap   \n",
       "14646802     4                 31              Swap   \n",
       "14647029     4                 16              Swap   \n",
       "14652687     12                96              Swap   \n",
       "\n",
       "                                                                                arg__poolId  \\\n",
       "block_number transaction_index log_index                                                      \n",
       "13875964     204               312        0xc35bdda2e93c401c6645e0d8a0b2c86906c517100002...   \n",
       "13876219     130               155        0xc35bdda2e93c401c6645e0d8a0b2c86906c517100002...   \n",
       "13876260     152               199        0xc35bdda2e93c401c6645e0d8a0b2c86906c517100002...   \n",
       "13876558     263               498        0xc35bdda2e93c401c6645e0d8a0b2c86906c517100002...   \n",
       "13876669     124               219        0xc35bdda2e93c401c6645e0d8a0b2c86906c517100002...   \n",
       "...                                                                                     ...   \n",
       "14636573     6                 50         0xc35bdda2e93c401c6645e0d8a0b2c86906c517100002...   \n",
       "14641823     106               279        0xc35bdda2e93c401c6645e0d8a0b2c86906c517100002...   \n",
       "14646802     4                 31         0xc35bdda2e93c401c6645e0d8a0b2c86906c517100002...   \n",
       "14647029     4                 16         0xc35bdda2e93c401c6645e0d8a0b2c86906c517100002...   \n",
       "14652687     12                96         0xc35bdda2e93c401c6645e0d8a0b2c86906c517100002...   \n",
       "\n",
       "                                                                        arg__tokenIn  \\\n",
       "block_number transaction_index log_index                                               \n",
       "13875964     204               312        0x956f47f50a910163d8bf957cf5846d573e7f87ca   \n",
       "13876219     130               155        0xc7283b66eb1eb5fb86327f08e1b5816b0720212b   \n",
       "13876260     152               199        0xc7283b66eb1eb5fb86327f08e1b5816b0720212b   \n",
       "13876558     263               498        0xc7283b66eb1eb5fb86327f08e1b5816b0720212b   \n",
       "13876669     124               219        0xc7283b66eb1eb5fb86327f08e1b5816b0720212b   \n",
       "...                                                                              ...   \n",
       "14636573     6                 50         0xc7283b66eb1eb5fb86327f08e1b5816b0720212b   \n",
       "14641823     106               279        0xc7283b66eb1eb5fb86327f08e1b5816b0720212b   \n",
       "14646802     4                 31         0xc7283b66eb1eb5fb86327f08e1b5816b0720212b   \n",
       "14647029     4                 16         0xc7283b66eb1eb5fb86327f08e1b5816b0720212b   \n",
       "14652687     12                96         0xc7283b66eb1eb5fb86327f08e1b5816b0720212b   \n",
       "\n",
       "                                                                       arg__tokenOut  \\\n",
       "block_number transaction_index log_index                                               \n",
       "13875964     204               312        0xc7283b66eb1eb5fb86327f08e1b5816b0720212b   \n",
       "13876219     130               155        0x956f47f50a910163d8bf957cf5846d573e7f87ca   \n",
       "13876260     152               199        0x956f47f50a910163d8bf957cf5846d573e7f87ca   \n",
       "13876558     263               498        0x956f47f50a910163d8bf957cf5846d573e7f87ca   \n",
       "13876669     124               219        0x956f47f50a910163d8bf957cf5846d573e7f87ca   \n",
       "...                                                                              ...   \n",
       "14636573     6                 50         0x956f47f50a910163d8bf957cf5846d573e7f87ca   \n",
       "14641823     106               279        0x956f47f50a910163d8bf957cf5846d573e7f87ca   \n",
       "14646802     4                 31         0x956f47f50a910163d8bf957cf5846d573e7f87ca   \n",
       "14647029     4                 16         0x956f47f50a910163d8bf957cf5846d573e7f87ca   \n",
       "14652687     12                96         0x956f47f50a910163d8bf957cf5846d573e7f87ca   \n",
       "\n",
       "                                                    arg__amountIn  \\\n",
       "block_number transaction_index log_index                            \n",
       "13875964     204               312         9282037308505057802273   \n",
       "13876219     130               155         6770515949298292329779   \n",
       "13876260     152               199        14130662641515379930887   \n",
       "13876558     263               498        14181099804346772686440   \n",
       "13876669     124               219           93485409984034479616   \n",
       "...                                                           ...   \n",
       "14636573     6                 50          5159197448322710340236   \n",
       "14641823     106               279         1188222535896967413760   \n",
       "14646802     4                 31          1054834260263239497771   \n",
       "14647029     4                 16          4678661652473749510444   \n",
       "14652687     12                96          8360697099756845473960   \n",
       "\n",
       "                                                   arg__amountOut  \\\n",
       "block_number transaction_index log_index                            \n",
       "13875964     204               312         8862947236144171799780   \n",
       "13876219     130               155         7425664489255906163987   \n",
       "13876260     152               199        15214927899208771740928   \n",
       "13876558     263               498        15589833329021211807661   \n",
       "13876669     124               219          103028232766980855821   \n",
       "...                                                           ...   \n",
       "14636573     6                 50          2774430228940154573297   \n",
       "14641823     106               279          628967589231019938843   \n",
       "14646802     4                 31           555261217885857205352   \n",
       "14647029     4                 16          2428139446237334604643   \n",
       "14652687     12                96          4201592054258335691210   \n",
       "\n",
       "                                                                             address  \\\n",
       "block_number transaction_index log_index                                               \n",
       "13875964     204               312        0xba12222222228d8ba445958a75a0704d566bf2c8   \n",
       "13876219     130               155        0xba12222222228d8ba445958a75a0704d566bf2c8   \n",
       "13876260     152               199        0xba12222222228d8ba445958a75a0704d566bf2c8   \n",
       "13876558     263               498        0xba12222222228d8ba445958a75a0704d566bf2c8   \n",
       "13876669     124               219        0xba12222222228d8ba445958a75a0704d566bf2c8   \n",
       "...                                                                              ...   \n",
       "14636573     6                 50         0xba12222222228d8ba445958a75a0704d566bf2c8   \n",
       "14641823     106               279        0xba12222222228d8ba445958a75a0704d566bf2c8   \n",
       "14646802     4                 31         0xba12222222228d8ba445958a75a0704d566bf2c8   \n",
       "14647029     4                 16         0xba12222222228d8ba445958a75a0704d566bf2c8   \n",
       "14652687     12                96         0xba12222222228d8ba445958a75a0704d566bf2c8   \n",
       "\n",
       "                                                                                 event_hash  \n",
       "block_number transaction_index log_index                                                     \n",
       "13875964     204               312        0x2170c741c41531aec20e7c107c24eecfdd15e69c9bb0...  \n",
       "13876219     130               155        0x2170c741c41531aec20e7c107c24eecfdd15e69c9bb0...  \n",
       "13876260     152               199        0x2170c741c41531aec20e7c107c24eecfdd15e69c9bb0...  \n",
       "13876558     263               498        0x2170c741c41531aec20e7c107c24eecfdd15e69c9bb0...  \n",
       "13876669     124               219        0x2170c741c41531aec20e7c107c24eecfdd15e69c9bb0...  \n",
       "...                                                                                     ...  \n",
       "14636573     6                 50         0x2170c741c41531aec20e7c107c24eecfdd15e69c9bb0...  \n",
       "14641823     106               279        0x2170c741c41531aec20e7c107c24eecfdd15e69c9bb0...  \n",
       "14646802     4                 31         0x2170c741c41531aec20e7c107c24eecfdd15e69c9bb0...  \n",
       "14647029     4                 16         0x2170c741c41531aec20e7c107c24eecfdd15e69c9bb0...  \n",
       "14652687     12                96         0x2170c741c41531aec20e7c107c24eecfdd15e69c9bb0...  \n",
       "\n",
       "[1521 rows x 11 columns]"
      ]
     },
     "execution_count": 11,
     "metadata": {},
     "output_type": "execute_result"
    }
   ],
   "source": [
    "swaps = await balancer_utils.async_get_pool_swaps(pool_address=pool_address)\n",
    "\n",
    "swaps"
   ]
  }
 ],
 "metadata": {
  "kernelspec": {
   "display_name": "Python 3",
   "language": "python",
   "name": "python3"
  },
  "language_info": {
   "codemirror_mode": {
    "name": "ipython",
    "version": 3
   },
   "file_extension": ".py",
   "mimetype": "text/x-python",
   "name": "python",
   "nbconvert_exporter": "python",
   "pygments_lexer": "ipython3",
   "version": "3.9.5"
  }
 },
 "nbformat": 4,
 "nbformat_minor": 5
}
