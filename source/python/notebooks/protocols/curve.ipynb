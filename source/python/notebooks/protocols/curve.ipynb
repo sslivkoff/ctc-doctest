{
 "cells": [
  {
   "cell_type": "code",
   "execution_count": 1,
   "id": "1e862ef7",
   "metadata": {
    "ExecuteTime": {
     "end_time": "2022-09-22T19:41:16.025774Z",
     "start_time": "2022-09-22T19:41:16.000591Z"
    }
   },
   "outputs": [],
   "source": [
    "from ctc.protocols import curve_utils"
   ]
  },
  {
   "cell_type": "code",
   "execution_count": 2,
   "id": "5f7ddb4a",
   "metadata": {
    "ExecuteTime": {
     "end_time": "2022-09-22T19:41:16.029038Z",
     "start_time": "2022-09-22T19:41:16.027511Z"
    }
   },
   "outputs": [],
   "source": [
    "factory_pool = '0x06cb22615ba53e60d67bf6c341a0fd5e718e1655'"
   ]
  },
  {
   "cell_type": "markdown",
   "id": "876b2bf7",
   "metadata": {
    "ExecuteTime": {
     "end_time": "2022-04-27T03:07:12.163222Z",
     "start_time": "2022-04-27T03:07:12.159682Z"
    }
   },
   "source": [
    "## Get pool metadata"
   ]
  },
  {
   "cell_type": "code",
   "execution_count": 3,
   "id": "4f676878",
   "metadata": {
    "ExecuteTime": {
     "end_time": "2022-09-22T19:41:16.969624Z",
     "start_time": "2022-09-22T19:41:16.030281Z"
    }
   },
   "outputs": [
    {
     "data": {
      "text/plain": [
       "{'token_addresses': ['0x956f47f50a910163d8bf957cf5846d573e7f87ca',\n",
       "  '0x6c3f90f043a72fa612cbac8115ee7e52bde6e490'],\n",
       " 'token_symbols': ['FEI', '3Crv'],\n",
       " 'token_decimals': [18, 18],\n",
       " 'A': 100}"
      ]
     },
     "execution_count": 3,
     "metadata": {},
     "output_type": "execute_result"
    }
   ],
   "source": [
    "await curve_utils.async_get_pool_metadata(pool=factory_pool)"
   ]
  },
  {
   "cell_type": "markdown",
   "id": "f5f87df8",
   "metadata": {
    "ExecuteTime": {
     "end_time": "2022-04-27T03:07:42.418161Z",
     "start_time": "2022-04-27T03:07:42.414157Z"
    }
   },
   "source": [
    "## Get pool state"
   ]
  },
  {
   "cell_type": "code",
   "execution_count": 4,
   "id": "3b111f50",
   "metadata": {
    "ExecuteTime": {
     "end_time": "2022-09-22T19:41:17.873256Z",
     "start_time": "2022-09-22T19:41:16.970459Z"
    }
   },
   "outputs": [
    {
     "data": {
      "text/plain": [
       "{'lp_total_supply': 1545685.4540038493,\n",
       " 'token_balances': [794198.037213809, 743270.6684152874],\n",
       " 'A': 100}"
      ]
     },
     "execution_count": 4,
     "metadata": {},
     "output_type": "execute_result"
    }
   ],
   "source": [
    "await curve_utils.async_get_pool_state(pool=factory_pool)"
   ]
  },
  {
   "cell_type": "markdown",
   "id": "c444f50d",
   "metadata": {
    "ExecuteTime": {
     "end_time": "2022-04-27T03:09:28.108755Z",
     "start_time": "2022-04-27T03:09:28.105993Z"
    }
   },
   "source": [
    "## Get pool state in a specific block"
   ]
  },
  {
   "cell_type": "code",
   "execution_count": 5,
   "id": "35c8bc09",
   "metadata": {
    "ExecuteTime": {
     "end_time": "2022-09-22T19:41:18.954885Z",
     "start_time": "2022-09-22T19:41:17.875707Z"
    }
   },
   "outputs": [
    {
     "data": {
      "text/plain": [
       "{'lp_total_supply': 253036543.47482586,\n",
       " 'token_balances': [126538335.35590503, 124462159.0647215],\n",
       " 'A': 10}"
      ]
     },
     "execution_count": 5,
     "metadata": {},
     "output_type": "execute_result"
    }
   ],
   "source": [
    "await curve_utils.async_get_pool_state(pool=factory_pool, block=14000000)"
   ]
  },
  {
   "cell_type": "markdown",
   "id": "e14b1e9e",
   "metadata": {
    "ExecuteTime": {
     "end_time": "2022-04-27T03:08:35.276820Z",
     "start_time": "2022-04-27T03:08:35.272717Z"
    }
   },
   "source": [
    "## Get virtual price"
   ]
  },
  {
   "cell_type": "code",
   "execution_count": 6,
   "id": "4a59db8b",
   "metadata": {
    "ExecuteTime": {
     "end_time": "2022-09-22T19:41:18.993362Z",
     "start_time": "2022-09-22T19:41:18.955987Z"
    }
   },
   "outputs": [
    {
     "data": {
      "text/plain": [
       "1005081480003206543"
      ]
     },
     "execution_count": 6,
     "metadata": {},
     "output_type": "execute_result"
    }
   ],
   "source": [
    "await curve_utils.async_get_virtual_price(pool=factory_pool)"
   ]
  },
  {
   "cell_type": "markdown",
   "id": "7e4d05b1",
   "metadata": {
    "ExecuteTime": {
     "end_time": "2022-04-27T03:06:31.579308Z",
     "start_time": "2022-04-27T03:06:31.575626Z"
    }
   },
   "source": [
    "## Get base pools"
   ]
  },
  {
   "cell_type": "code",
   "execution_count": 7,
   "id": "7ccc6488",
   "metadata": {
    "ExecuteTime": {
     "end_time": "2022-09-22T19:41:21.662114Z",
     "start_time": "2022-09-22T19:41:18.994189Z"
    }
   },
   "outputs": [
    {
     "data": {
      "text/html": [
       "<div>\n",
       "<style scoped>\n",
       "    .dataframe tbody tr th:only-of-type {\n",
       "        vertical-align: middle;\n",
       "    }\n",
       "\n",
       "    .dataframe tbody tr th {\n",
       "        vertical-align: top;\n",
       "    }\n",
       "\n",
       "    .dataframe thead th {\n",
       "        text-align: right;\n",
       "    }\n",
       "</style>\n",
       "<table border=\"1\" class=\"dataframe\">\n",
       "  <thead>\n",
       "    <tr style=\"text-align: right;\">\n",
       "      <th></th>\n",
       "      <th></th>\n",
       "      <th></th>\n",
       "      <th>factory</th>\n",
       "      <th>transaction_hash</th>\n",
       "      <th>pool</th>\n",
       "    </tr>\n",
       "    <tr>\n",
       "      <th>block_number</th>\n",
       "      <th>transaction_index</th>\n",
       "      <th>log_index</th>\n",
       "      <th></th>\n",
       "      <th></th>\n",
       "      <th></th>\n",
       "    </tr>\n",
       "  </thead>\n",
       "  <tbody>\n",
       "    <tr>\n",
       "      <th>12904539</th>\n",
       "      <th>152</th>\n",
       "      <th>213</th>\n",
       "      <td>0xb9fc157394af804a3578134a6585c0dc9cc990d4</td>\n",
       "      <td>0xedfeb49642fb5c9f2220bbf3eddca5a3ef50a68713b8...</td>\n",
       "      <td>0xbebc44782c7db0a1a60cb6fe97d0b483032ff1c7</td>\n",
       "    </tr>\n",
       "    <tr>\n",
       "      <th>12904585</th>\n",
       "      <th>85</th>\n",
       "      <th>220</th>\n",
       "      <td>0xb9fc157394af804a3578134a6585c0dc9cc990d4</td>\n",
       "      <td>0xcb6be4a26a2c224a32bad4fc9ba88652be0235dc82d5...</td>\n",
       "      <td>0x7fc77b5c7614e1533320ea6ddc2eb61fa00a9714</td>\n",
       "    </tr>\n",
       "    <tr>\n",
       "      <th>13495769</th>\n",
       "      <th>105</th>\n",
       "      <th>194</th>\n",
       "      <td>0xb9fc157394af804a3578134a6585c0dc9cc990d4</td>\n",
       "      <td>0xad288f471da6aca0625173e19030d80f3e02e4d736da...</td>\n",
       "      <td>0x93054188d876f558f4a66b2ef1d97d16edf0895b</td>\n",
       "    </tr>\n",
       "    <tr>\n",
       "      <th>15038268</th>\n",
       "      <th>13</th>\n",
       "      <th>26</th>\n",
       "      <td>0xb9fc157394af804a3578134a6585c0dc9cc990d4</td>\n",
       "      <td>0x7396aaa9548e8b67e85d9c39bac86becdd0f6bcb80d2...</td>\n",
       "      <td>0xdcef968d416a41cdac0ed8702fac8128a64241a2</td>\n",
       "    </tr>\n",
       "  </tbody>\n",
       "</table>\n",
       "</div>"
      ],
      "text/plain": [
       "                                                                             factory  \\\n",
       "block_number transaction_index log_index                                               \n",
       "12904539     152               213        0xb9fc157394af804a3578134a6585c0dc9cc990d4   \n",
       "12904585     85                220        0xb9fc157394af804a3578134a6585c0dc9cc990d4   \n",
       "13495769     105               194        0xb9fc157394af804a3578134a6585c0dc9cc990d4   \n",
       "15038268     13                26         0xb9fc157394af804a3578134a6585c0dc9cc990d4   \n",
       "\n",
       "                                                                           transaction_hash  \\\n",
       "block_number transaction_index log_index                                                      \n",
       "12904539     152               213        0xedfeb49642fb5c9f2220bbf3eddca5a3ef50a68713b8...   \n",
       "12904585     85                220        0xcb6be4a26a2c224a32bad4fc9ba88652be0235dc82d5...   \n",
       "13495769     105               194        0xad288f471da6aca0625173e19030d80f3e02e4d736da...   \n",
       "15038268     13                26         0x7396aaa9548e8b67e85d9c39bac86becdd0f6bcb80d2...   \n",
       "\n",
       "                                                                                pool  \n",
       "block_number transaction_index log_index                                              \n",
       "12904539     152               213        0xbebc44782c7db0a1a60cb6fe97d0b483032ff1c7  \n",
       "12904585     85                220        0x7fc77b5c7614e1533320ea6ddc2eb61fa00a9714  \n",
       "13495769     105               194        0x93054188d876f558f4a66b2ef1d97d16edf0895b  \n",
       "15038268     13                26         0xdcef968d416a41cdac0ed8702fac8128a64241a2  "
      ]
     },
     "execution_count": 7,
     "metadata": {},
     "output_type": "execute_result"
    }
   ],
   "source": [
    "await curve_utils.async_get_base_pools()"
   ]
  },
  {
   "cell_type": "markdown",
   "id": "fdca9cf4",
   "metadata": {
    "ExecuteTime": {
     "end_time": "2022-04-27T03:06:03.840108Z",
     "start_time": "2022-04-27T03:06:03.836691Z"
    }
   },
   "source": [
    "## Get meta pools"
   ]
  },
  {
   "cell_type": "code",
   "execution_count": 8,
   "id": "b86fd586",
   "metadata": {
    "ExecuteTime": {
     "end_time": "2022-09-22T19:41:23.692769Z",
     "start_time": "2022-09-22T19:41:21.663067Z"
    }
   },
   "outputs": [
    {
     "data": {
      "text/html": [
       "<div>\n",
       "<style scoped>\n",
       "    .dataframe tbody tr th:only-of-type {\n",
       "        vertical-align: middle;\n",
       "    }\n",
       "\n",
       "    .dataframe tbody tr th {\n",
       "        vertical-align: top;\n",
       "    }\n",
       "\n",
       "    .dataframe thead th {\n",
       "        text-align: right;\n",
       "    }\n",
       "</style>\n",
       "<table border=\"1\" class=\"dataframe\">\n",
       "  <thead>\n",
       "    <tr style=\"text-align: right;\">\n",
       "      <th></th>\n",
       "      <th></th>\n",
       "      <th></th>\n",
       "      <th>transaction_hash</th>\n",
       "      <th>factory</th>\n",
       "      <th>coin</th>\n",
       "      <th>base_pool</th>\n",
       "      <th>A</th>\n",
       "      <th>fee</th>\n",
       "      <th>deployer</th>\n",
       "    </tr>\n",
       "    <tr>\n",
       "      <th>block_number</th>\n",
       "      <th>transaction_index</th>\n",
       "      <th>log_index</th>\n",
       "      <th></th>\n",
       "      <th></th>\n",
       "      <th></th>\n",
       "      <th></th>\n",
       "      <th></th>\n",
       "      <th></th>\n",
       "      <th></th>\n",
       "    </tr>\n",
       "  </thead>\n",
       "  <tbody>\n",
       "    <tr>\n",
       "      <th>11955325</th>\n",
       "      <th>16</th>\n",
       "      <th>25</th>\n",
       "      <td>0xfcf2e192b7fe9e094a111e7df4c00bef20af78056278...</td>\n",
       "      <td>0x0959158b6040d32d04c301a72cbfd6b39e21c9ae</td>\n",
       "      <td>0x865377367054516e17014ccded1e7d814edc9ce4</td>\n",
       "      <td>0xbebc44782c7db0a1a60cb6fe97d0b483032ff1c7</td>\n",
       "      <td>10</td>\n",
       "      <td>4000000</td>\n",
       "      <td>0x3fcb35a1cbfb6007f9bc638d388958bc4550cb28</td>\n",
       "    </tr>\n",
       "    <tr>\n",
       "      <th>11955333</th>\n",
       "      <th>61</th>\n",
       "      <th>73</th>\n",
       "      <td>0x298f34b7b6c496352effba8fdb91f5249e1cfbee24d9...</td>\n",
       "      <td>0x0959158b6040d32d04c301a72cbfd6b39e21c9ae</td>\n",
       "      <td>0xbc6da0fe9ad5f3b0d58160288917aa56653660e9</td>\n",
       "      <td>0xbebc44782c7db0a1a60cb6fe97d0b483032ff1c7</td>\n",
       "      <td>60</td>\n",
       "      <td>4000000</td>\n",
       "      <td>0xef422dbbf46120de627ffb913c9afad44c735618</td>\n",
       "    </tr>\n",
       "    <tr>\n",
       "      <th>11968730</th>\n",
       "      <th>110</th>\n",
       "      <th>187</th>\n",
       "      <td>0x1f2a0d4e1c1eca594bd7f27f9952480ccda422c3453e...</td>\n",
       "      <td>0x0959158b6040d32d04c301a72cbfd6b39e21c9ae</td>\n",
       "      <td>0x853d955acef822db058eb8505911ed77f175b99e</td>\n",
       "      <td>0xbebc44782c7db0a1a60cb6fe97d0b483032ff1c7</td>\n",
       "      <td>100</td>\n",
       "      <td>4000000</td>\n",
       "      <td>0x234d953a9404bf9dbc3b526271d440cd2870bcd2</td>\n",
       "    </tr>\n",
       "    <tr>\n",
       "      <th>11975574</th>\n",
       "      <th>213</th>\n",
       "      <th>33</th>\n",
       "      <td>0x4aeacf4bf11becac10f2bfbe3319e182af520927c91f...</td>\n",
       "      <td>0x0959158b6040d32d04c301a72cbfd6b39e21c9ae</td>\n",
       "      <td>0xa774ffb4af6b0a91331c084e1aebae6ad535e6f3</td>\n",
       "      <td>0xbebc44782c7db0a1a60cb6fe97d0b483032ff1c7</td>\n",
       "      <td>200</td>\n",
       "      <td>4000000</td>\n",
       "      <td>0x60cc20c5ff95cc46b4ed606d940f657ad054c309</td>\n",
       "    </tr>\n",
       "    <tr>\n",
       "      <th>11976084</th>\n",
       "      <th>132</th>\n",
       "      <th>152</th>\n",
       "      <td>0xd1db8f97364aed51707e7ec7abf158d43627b75decdc...</td>\n",
       "      <td>0x0959158b6040d32d04c301a72cbfd6b39e21c9ae</td>\n",
       "      <td>0x71df9dd3e658f0136c40e2e8ec3988a5226e9a67</td>\n",
       "      <td>0xbebc44782c7db0a1a60cb6fe97d0b483032ff1c7</td>\n",
       "      <td>200</td>\n",
       "      <td>4000000</td>\n",
       "      <td>0x60cc20c5ff95cc46b4ed606d940f657ad054c309</td>\n",
       "    </tr>\n",
       "    <tr>\n",
       "      <th>...</th>\n",
       "      <th>...</th>\n",
       "      <th>...</th>\n",
       "      <td>...</td>\n",
       "      <td>...</td>\n",
       "      <td>...</td>\n",
       "      <td>...</td>\n",
       "      <td>...</td>\n",
       "      <td>...</td>\n",
       "      <td>...</td>\n",
       "    </tr>\n",
       "    <tr>\n",
       "      <th>15533460</th>\n",
       "      <th>103</th>\n",
       "      <th>158</th>\n",
       "      <td>0x8a22bb0e79e20ce8df95ffe8a1aa139042c1f990d88a...</td>\n",
       "      <td>0xb9fc157394af804a3578134a6585c0dc9cc990d4</td>\n",
       "      <td>0x0bc529c00c6401aef6d220be8c6ea1667f6ad93e</td>\n",
       "      <td>0xbebc44782c7db0a1a60cb6fe97d0b483032ff1c7</td>\n",
       "      <td>10</td>\n",
       "      <td>4000000</td>\n",
       "      <td>0x3ad578af2e96aad62088dc0b4350e1e3a7c7c1c3</td>\n",
       "    </tr>\n",
       "    <tr>\n",
       "      <th>15533481</th>\n",
       "      <th>45</th>\n",
       "      <th>64</th>\n",
       "      <td>0x84e9ab1f02821166c92643c1bf040b4de249c491af5d...</td>\n",
       "      <td>0xb9fc157394af804a3578134a6585c0dc9cc990d4</td>\n",
       "      <td>0x0bc529c00c6401aef6d220be8c6ea1667f6ad93e</td>\n",
       "      <td>0xbebc44782c7db0a1a60cb6fe97d0b483032ff1c7</td>\n",
       "      <td>10</td>\n",
       "      <td>4000000</td>\n",
       "      <td>0x3ad578af2e96aad62088dc0b4350e1e3a7c7c1c3</td>\n",
       "    </tr>\n",
       "    <tr>\n",
       "      <th>15563580</th>\n",
       "      <th>58</th>\n",
       "      <th>104</th>\n",
       "      <td>0x1b3c187bbca6f8e7857d8a9485438705854e84c47ff5...</td>\n",
       "      <td>0xb9fc157394af804a3578134a6585c0dc9cc990d4</td>\n",
       "      <td>0x3236a63c21fc524a51001ea2627697fdca86e897</td>\n",
       "      <td>0xbebc44782c7db0a1a60cb6fe97d0b483032ff1c7</td>\n",
       "      <td>10</td>\n",
       "      <td>98000000</td>\n",
       "      <td>0x34e2f0c6775afd9e8daf1dbc05194884e22721cd</td>\n",
       "    </tr>\n",
       "    <tr>\n",
       "      <th>15567683</th>\n",
       "      <th>128</th>\n",
       "      <th>138</th>\n",
       "      <td>0x939fb60fb569f88d0a692b148616c6e600a3699f6f12...</td>\n",
       "      <td>0xb9fc157394af804a3578134a6585c0dc9cc990d4</td>\n",
       "      <td>0x3236a63c21fc524a51001ea2627697fdca86e897</td>\n",
       "      <td>0xbebc44782c7db0a1a60cb6fe97d0b483032ff1c7</td>\n",
       "      <td>10</td>\n",
       "      <td>100000000</td>\n",
       "      <td>0x34e2f0c6775afd9e8daf1dbc05194884e22721cd</td>\n",
       "    </tr>\n",
       "    <tr>\n",
       "      <th>15567841</th>\n",
       "      <th>236</th>\n",
       "      <th>446</th>\n",
       "      <td>0x3428bd9d19faaa9cc9719d42348b35077ab47a07f6be...</td>\n",
       "      <td>0xb9fc157394af804a3578134a6585c0dc9cc990d4</td>\n",
       "      <td>0x3236a63c21fc524a51001ea2627697fdca86e897</td>\n",
       "      <td>0xbebc44782c7db0a1a60cb6fe97d0b483032ff1c7</td>\n",
       "      <td>10</td>\n",
       "      <td>100000000</td>\n",
       "      <td>0x34e2f0c6775afd9e8daf1dbc05194884e22721cd</td>\n",
       "    </tr>\n",
       "  </tbody>\n",
       "</table>\n",
       "<p>199 rows × 7 columns</p>\n",
       "</div>"
      ],
      "text/plain": [
       "                                                                           transaction_hash  \\\n",
       "block_number transaction_index log_index                                                      \n",
       "11955325     16                25         0xfcf2e192b7fe9e094a111e7df4c00bef20af78056278...   \n",
       "11955333     61                73         0x298f34b7b6c496352effba8fdb91f5249e1cfbee24d9...   \n",
       "11968730     110               187        0x1f2a0d4e1c1eca594bd7f27f9952480ccda422c3453e...   \n",
       "11975574     213               33         0x4aeacf4bf11becac10f2bfbe3319e182af520927c91f...   \n",
       "11976084     132               152        0xd1db8f97364aed51707e7ec7abf158d43627b75decdc...   \n",
       "...                                                                                     ...   \n",
       "15533460     103               158        0x8a22bb0e79e20ce8df95ffe8a1aa139042c1f990d88a...   \n",
       "15533481     45                64         0x84e9ab1f02821166c92643c1bf040b4de249c491af5d...   \n",
       "15563580     58                104        0x1b3c187bbca6f8e7857d8a9485438705854e84c47ff5...   \n",
       "15567683     128               138        0x939fb60fb569f88d0a692b148616c6e600a3699f6f12...   \n",
       "15567841     236               446        0x3428bd9d19faaa9cc9719d42348b35077ab47a07f6be...   \n",
       "\n",
       "                                                                             factory  \\\n",
       "block_number transaction_index log_index                                               \n",
       "11955325     16                25         0x0959158b6040d32d04c301a72cbfd6b39e21c9ae   \n",
       "11955333     61                73         0x0959158b6040d32d04c301a72cbfd6b39e21c9ae   \n",
       "11968730     110               187        0x0959158b6040d32d04c301a72cbfd6b39e21c9ae   \n",
       "11975574     213               33         0x0959158b6040d32d04c301a72cbfd6b39e21c9ae   \n",
       "11976084     132               152        0x0959158b6040d32d04c301a72cbfd6b39e21c9ae   \n",
       "...                                                                              ...   \n",
       "15533460     103               158        0xb9fc157394af804a3578134a6585c0dc9cc990d4   \n",
       "15533481     45                64         0xb9fc157394af804a3578134a6585c0dc9cc990d4   \n",
       "15563580     58                104        0xb9fc157394af804a3578134a6585c0dc9cc990d4   \n",
       "15567683     128               138        0xb9fc157394af804a3578134a6585c0dc9cc990d4   \n",
       "15567841     236               446        0xb9fc157394af804a3578134a6585c0dc9cc990d4   \n",
       "\n",
       "                                                                                coin  \\\n",
       "block_number transaction_index log_index                                               \n",
       "11955325     16                25         0x865377367054516e17014ccded1e7d814edc9ce4   \n",
       "11955333     61                73         0xbc6da0fe9ad5f3b0d58160288917aa56653660e9   \n",
       "11968730     110               187        0x853d955acef822db058eb8505911ed77f175b99e   \n",
       "11975574     213               33         0xa774ffb4af6b0a91331c084e1aebae6ad535e6f3   \n",
       "11976084     132               152        0x71df9dd3e658f0136c40e2e8ec3988a5226e9a67   \n",
       "...                                                                              ...   \n",
       "15533460     103               158        0x0bc529c00c6401aef6d220be8c6ea1667f6ad93e   \n",
       "15533481     45                64         0x0bc529c00c6401aef6d220be8c6ea1667f6ad93e   \n",
       "15563580     58                104        0x3236a63c21fc524a51001ea2627697fdca86e897   \n",
       "15567683     128               138        0x3236a63c21fc524a51001ea2627697fdca86e897   \n",
       "15567841     236               446        0x3236a63c21fc524a51001ea2627697fdca86e897   \n",
       "\n",
       "                                                                           base_pool  \\\n",
       "block_number transaction_index log_index                                               \n",
       "11955325     16                25         0xbebc44782c7db0a1a60cb6fe97d0b483032ff1c7   \n",
       "11955333     61                73         0xbebc44782c7db0a1a60cb6fe97d0b483032ff1c7   \n",
       "11968730     110               187        0xbebc44782c7db0a1a60cb6fe97d0b483032ff1c7   \n",
       "11975574     213               33         0xbebc44782c7db0a1a60cb6fe97d0b483032ff1c7   \n",
       "11976084     132               152        0xbebc44782c7db0a1a60cb6fe97d0b483032ff1c7   \n",
       "...                                                                              ...   \n",
       "15533460     103               158        0xbebc44782c7db0a1a60cb6fe97d0b483032ff1c7   \n",
       "15533481     45                64         0xbebc44782c7db0a1a60cb6fe97d0b483032ff1c7   \n",
       "15563580     58                104        0xbebc44782c7db0a1a60cb6fe97d0b483032ff1c7   \n",
       "15567683     128               138        0xbebc44782c7db0a1a60cb6fe97d0b483032ff1c7   \n",
       "15567841     236               446        0xbebc44782c7db0a1a60cb6fe97d0b483032ff1c7   \n",
       "\n",
       "                                            A        fee  \\\n",
       "block_number transaction_index log_index                   \n",
       "11955325     16                25          10    4000000   \n",
       "11955333     61                73          60    4000000   \n",
       "11968730     110               187        100    4000000   \n",
       "11975574     213               33         200    4000000   \n",
       "11976084     132               152        200    4000000   \n",
       "...                                       ...        ...   \n",
       "15533460     103               158         10    4000000   \n",
       "15533481     45                64          10    4000000   \n",
       "15563580     58                104         10   98000000   \n",
       "15567683     128               138         10  100000000   \n",
       "15567841     236               446         10  100000000   \n",
       "\n",
       "                                                                            deployer  \n",
       "block_number transaction_index log_index                                              \n",
       "11955325     16                25         0x3fcb35a1cbfb6007f9bc638d388958bc4550cb28  \n",
       "11955333     61                73         0xef422dbbf46120de627ffb913c9afad44c735618  \n",
       "11968730     110               187        0x234d953a9404bf9dbc3b526271d440cd2870bcd2  \n",
       "11975574     213               33         0x60cc20c5ff95cc46b4ed606d940f657ad054c309  \n",
       "11976084     132               152        0x60cc20c5ff95cc46b4ed606d940f657ad054c309  \n",
       "...                                                                              ...  \n",
       "15533460     103               158        0x3ad578af2e96aad62088dc0b4350e1e3a7c7c1c3  \n",
       "15533481     45                64         0x3ad578af2e96aad62088dc0b4350e1e3a7c7c1c3  \n",
       "15563580     58                104        0x34e2f0c6775afd9e8daf1dbc05194884e22721cd  \n",
       "15567683     128               138        0x34e2f0c6775afd9e8daf1dbc05194884e22721cd  \n",
       "15567841     236               446        0x34e2f0c6775afd9e8daf1dbc05194884e22721cd  \n",
       "\n",
       "[199 rows x 7 columns]"
      ]
     },
     "execution_count": 8,
     "metadata": {},
     "output_type": "execute_result"
    }
   ],
   "source": [
    "await curve_utils.async_get_meta_pools()"
   ]
  },
  {
   "cell_type": "markdown",
   "id": "19298c40",
   "metadata": {
    "ExecuteTime": {
     "end_time": "2022-04-27T03:05:46.209548Z",
     "start_time": "2022-04-27T03:05:46.207783Z"
    }
   },
   "source": [
    "## Get plain pools"
   ]
  },
  {
   "cell_type": "code",
   "execution_count": 9,
   "id": "ef869ba5",
   "metadata": {
    "ExecuteTime": {
     "end_time": "2022-09-22T19:41:24.931756Z",
     "start_time": "2022-09-22T19:41:23.693726Z"
    }
   },
   "outputs": [
    {
     "data": {
      "text/html": [
       "<div>\n",
       "<style scoped>\n",
       "    .dataframe tbody tr th:only-of-type {\n",
       "        vertical-align: middle;\n",
       "    }\n",
       "\n",
       "    .dataframe tbody tr th {\n",
       "        vertical-align: top;\n",
       "    }\n",
       "\n",
       "    .dataframe thead th {\n",
       "        text-align: right;\n",
       "    }\n",
       "</style>\n",
       "<table border=\"1\" class=\"dataframe\">\n",
       "  <thead>\n",
       "    <tr style=\"text-align: right;\">\n",
       "      <th></th>\n",
       "      <th></th>\n",
       "      <th></th>\n",
       "      <th>transaction_hash</th>\n",
       "      <th>factory</th>\n",
       "      <th>coins</th>\n",
       "      <th>A</th>\n",
       "      <th>fee</th>\n",
       "      <th>deployer</th>\n",
       "    </tr>\n",
       "    <tr>\n",
       "      <th>block_number</th>\n",
       "      <th>transaction_index</th>\n",
       "      <th>log_index</th>\n",
       "      <th></th>\n",
       "      <th></th>\n",
       "      <th></th>\n",
       "      <th></th>\n",
       "      <th></th>\n",
       "      <th></th>\n",
       "    </tr>\n",
       "  </thead>\n",
       "  <tbody>\n",
       "    <tr>\n",
       "      <th>12913531</th>\n",
       "      <th>22</th>\n",
       "      <th>37</th>\n",
       "      <td>0x024843f829ec485c27acb115f94d5374c19f14301ceb...</td>\n",
       "      <td>0xb9fc157394af804a3578134a6585c0dc9cc990d4</td>\n",
       "      <td>('0x96e61422b6a9ba0e068b6c5add4ffabc6a4aae27',...</td>\n",
       "      <td>100</td>\n",
       "      <td>4000000</td>\n",
       "      <td>0xb424338eaa86953d82b5fabf042ce2eac544c043</td>\n",
       "    </tr>\n",
       "    <tr>\n",
       "      <th>12914704</th>\n",
       "      <th>169</th>\n",
       "      <th>31</th>\n",
       "      <td>0x471bb1cbfbca89c98ecc0eb3e00328c41c7e5d5d8490...</td>\n",
       "      <td>0xb9fc157394af804a3578134a6585c0dc9cc990d4</td>\n",
       "      <td>('0xc581b735a1688071a1746c968e0798d642ede491',...</td>\n",
       "      <td>100</td>\n",
       "      <td>4000000</td>\n",
       "      <td>0x7eeac6cddbd1d0b8af061742d41877d7f707289a</td>\n",
       "    </tr>\n",
       "    <tr>\n",
       "      <th>12925098</th>\n",
       "      <th>158</th>\n",
       "      <th>233</th>\n",
       "      <td>0x177b4b07b92004c80b773e66ea3257c12ded04df5311...</td>\n",
       "      <td>0xb9fc157394af804a3578134a6585c0dc9cc990d4</td>\n",
       "      <td>('0x95dfdc8161832e4ff7816ac4b6367ce201538253',...</td>\n",
       "      <td>100</td>\n",
       "      <td>4000000</td>\n",
       "      <td>0x2d407ddb06311396fe14d4b49da5f0471447d45c</td>\n",
       "    </tr>\n",
       "    <tr>\n",
       "      <th>12931794</th>\n",
       "      <th>112</th>\n",
       "      <th>106</th>\n",
       "      <td>0x2aa30ad95aa6b05c09c82320844d515a76bb5575639c...</td>\n",
       "      <td>0xb9fc157394af804a3578134a6585c0dc9cc990d4</td>\n",
       "      <td>('0x96e61422b6a9ba0e068b6c5add4ffabc6a4aae27',...</td>\n",
       "      <td>100</td>\n",
       "      <td>4000000</td>\n",
       "      <td>0x2d407ddb06311396fe14d4b49da5f0471447d45c</td>\n",
       "    </tr>\n",
       "    <tr>\n",
       "      <th>12983315</th>\n",
       "      <th>221</th>\n",
       "      <th>310</th>\n",
       "      <td>0x0c9d012f02f83046b4556fe7e2d4d9a90888c4e966e2...</td>\n",
       "      <td>0xb9fc157394af804a3578134a6585c0dc9cc990d4</td>\n",
       "      <td>('0xd38aeb759891882e78e957c80656572503d8c1b1',...</td>\n",
       "      <td>100</td>\n",
       "      <td>4000000</td>\n",
       "      <td>0xd3b74abc95169b9c183409218c3d0fbff4ae67ee</td>\n",
       "    </tr>\n",
       "    <tr>\n",
       "      <th>...</th>\n",
       "      <th>...</th>\n",
       "      <th>...</th>\n",
       "      <td>...</td>\n",
       "      <td>...</td>\n",
       "      <td>...</td>\n",
       "      <td>...</td>\n",
       "      <td>...</td>\n",
       "      <td>...</td>\n",
       "    </tr>\n",
       "    <tr>\n",
       "      <th>15415514</th>\n",
       "      <th>314</th>\n",
       "      <th>634</th>\n",
       "      <td>0xc80f1a8b853b54ed9eb73e879df9459b8aa0a14c6914...</td>\n",
       "      <td>0xb9fc157394af804a3578134a6585c0dc9cc990d4</td>\n",
       "      <td>('0x4104b135dbc9609fc1a9490e61369036497660c8',...</td>\n",
       "      <td>10</td>\n",
       "      <td>4000000</td>\n",
       "      <td>0x22169e0694de4a74133bd06f01857556408f2ba2</td>\n",
       "    </tr>\n",
       "    <tr>\n",
       "      <th>15459059</th>\n",
       "      <th>214</th>\n",
       "      <th>267</th>\n",
       "      <td>0x2beeb915f6bfea7cc68722034694ebf813ceb1410f37...</td>\n",
       "      <td>0xb9fc157394af804a3578134a6585c0dc9cc990d4</td>\n",
       "      <td>('0x0ec9f76202a7061eb9b3a7d6b59d36215a7e37da',...</td>\n",
       "      <td>10</td>\n",
       "      <td>4000000</td>\n",
       "      <td>0xb46bc1f36fc6482b540a3fc810c7dc7dd8ef512b</td>\n",
       "    </tr>\n",
       "    <tr>\n",
       "      <th>15499736</th>\n",
       "      <th>198</th>\n",
       "      <th>327</th>\n",
       "      <td>0x5951cb96a72043fe4be9632591bc706c9a7edb4569b6...</td>\n",
       "      <td>0xb9fc157394af804a3578134a6585c0dc9cc990d4</td>\n",
       "      <td>('0xeeeeeeeeeeeeeeeeeeeeeeeeeeeeeeeeeeeeeeee',...</td>\n",
       "      <td>100</td>\n",
       "      <td>4000000</td>\n",
       "      <td>0x5180db0237291a6449dda9ed33ad90a38787621c</td>\n",
       "    </tr>\n",
       "    <tr>\n",
       "      <th>15528387</th>\n",
       "      <th>123</th>\n",
       "      <th>210</th>\n",
       "      <td>0xdd3619f6a6ab1243db8683ab2d4685c0a3395e027d46...</td>\n",
       "      <td>0xb9fc157394af804a3578134a6585c0dc9cc990d4</td>\n",
       "      <td>('0xd533a949740bb3306d119cc777fa900ba034cd52',...</td>\n",
       "      <td>50</td>\n",
       "      <td>15000000</td>\n",
       "      <td>0x0b634a8d61b09820e9f72f79cdcbc8a4d0aad26b</td>\n",
       "    </tr>\n",
       "    <tr>\n",
       "      <th>15532321</th>\n",
       "      <th>37</th>\n",
       "      <th>35</th>\n",
       "      <td>0xffd44e65bce7d268a793d06ff62a9aa31e2f606c174b...</td>\n",
       "      <td>0xb9fc157394af804a3578134a6585c0dc9cc990d4</td>\n",
       "      <td>('0x8d6cebd76f18e1558d4db88138e2defb3909fad6',...</td>\n",
       "      <td>500</td>\n",
       "      <td>4000000</td>\n",
       "      <td>0xad95a5fe898679b927c266eb2edfabc7fe268c27</td>\n",
       "    </tr>\n",
       "  </tbody>\n",
       "</table>\n",
       "<p>87 rows × 6 columns</p>\n",
       "</div>"
      ],
      "text/plain": [
       "                                                                           transaction_hash  \\\n",
       "block_number transaction_index log_index                                                      \n",
       "12913531     22                37         0x024843f829ec485c27acb115f94d5374c19f14301ceb...   \n",
       "12914704     169               31         0x471bb1cbfbca89c98ecc0eb3e00328c41c7e5d5d8490...   \n",
       "12925098     158               233        0x177b4b07b92004c80b773e66ea3257c12ded04df5311...   \n",
       "12931794     112               106        0x2aa30ad95aa6b05c09c82320844d515a76bb5575639c...   \n",
       "12983315     221               310        0x0c9d012f02f83046b4556fe7e2d4d9a90888c4e966e2...   \n",
       "...                                                                                     ...   \n",
       "15415514     314               634        0xc80f1a8b853b54ed9eb73e879df9459b8aa0a14c6914...   \n",
       "15459059     214               267        0x2beeb915f6bfea7cc68722034694ebf813ceb1410f37...   \n",
       "15499736     198               327        0x5951cb96a72043fe4be9632591bc706c9a7edb4569b6...   \n",
       "15528387     123               210        0xdd3619f6a6ab1243db8683ab2d4685c0a3395e027d46...   \n",
       "15532321     37                35         0xffd44e65bce7d268a793d06ff62a9aa31e2f606c174b...   \n",
       "\n",
       "                                                                             factory  \\\n",
       "block_number transaction_index log_index                                               \n",
       "12913531     22                37         0xb9fc157394af804a3578134a6585c0dc9cc990d4   \n",
       "12914704     169               31         0xb9fc157394af804a3578134a6585c0dc9cc990d4   \n",
       "12925098     158               233        0xb9fc157394af804a3578134a6585c0dc9cc990d4   \n",
       "12931794     112               106        0xb9fc157394af804a3578134a6585c0dc9cc990d4   \n",
       "12983315     221               310        0xb9fc157394af804a3578134a6585c0dc9cc990d4   \n",
       "...                                                                              ...   \n",
       "15415514     314               634        0xb9fc157394af804a3578134a6585c0dc9cc990d4   \n",
       "15459059     214               267        0xb9fc157394af804a3578134a6585c0dc9cc990d4   \n",
       "15499736     198               327        0xb9fc157394af804a3578134a6585c0dc9cc990d4   \n",
       "15528387     123               210        0xb9fc157394af804a3578134a6585c0dc9cc990d4   \n",
       "15532321     37                35         0xb9fc157394af804a3578134a6585c0dc9cc990d4   \n",
       "\n",
       "                                                                                      coins  \\\n",
       "block_number transaction_index log_index                                                      \n",
       "12913531     22                37         ('0x96e61422b6a9ba0e068b6c5add4ffabc6a4aae27',...   \n",
       "12914704     169               31         ('0xc581b735a1688071a1746c968e0798d642ede491',...   \n",
       "12925098     158               233        ('0x95dfdc8161832e4ff7816ac4b6367ce201538253',...   \n",
       "12931794     112               106        ('0x96e61422b6a9ba0e068b6c5add4ffabc6a4aae27',...   \n",
       "12983315     221               310        ('0xd38aeb759891882e78e957c80656572503d8c1b1',...   \n",
       "...                                                                                     ...   \n",
       "15415514     314               634        ('0x4104b135dbc9609fc1a9490e61369036497660c8',...   \n",
       "15459059     214               267        ('0x0ec9f76202a7061eb9b3a7d6b59d36215a7e37da',...   \n",
       "15499736     198               327        ('0xeeeeeeeeeeeeeeeeeeeeeeeeeeeeeeeeeeeeeeee',...   \n",
       "15528387     123               210        ('0xd533a949740bb3306d119cc777fa900ba034cd52',...   \n",
       "15532321     37                35         ('0x8d6cebd76f18e1558d4db88138e2defb3909fad6',...   \n",
       "\n",
       "                                            A       fee  \\\n",
       "block_number transaction_index log_index                  \n",
       "12913531     22                37         100   4000000   \n",
       "12914704     169               31         100   4000000   \n",
       "12925098     158               233        100   4000000   \n",
       "12931794     112               106        100   4000000   \n",
       "12983315     221               310        100   4000000   \n",
       "...                                       ...       ...   \n",
       "15415514     314               634         10   4000000   \n",
       "15459059     214               267         10   4000000   \n",
       "15499736     198               327        100   4000000   \n",
       "15528387     123               210         50  15000000   \n",
       "15532321     37                35         500   4000000   \n",
       "\n",
       "                                                                            deployer  \n",
       "block_number transaction_index log_index                                              \n",
       "12913531     22                37         0xb424338eaa86953d82b5fabf042ce2eac544c043  \n",
       "12914704     169               31         0x7eeac6cddbd1d0b8af061742d41877d7f707289a  \n",
       "12925098     158               233        0x2d407ddb06311396fe14d4b49da5f0471447d45c  \n",
       "12931794     112               106        0x2d407ddb06311396fe14d4b49da5f0471447d45c  \n",
       "12983315     221               310        0xd3b74abc95169b9c183409218c3d0fbff4ae67ee  \n",
       "...                                                                              ...  \n",
       "15415514     314               634        0x22169e0694de4a74133bd06f01857556408f2ba2  \n",
       "15459059     214               267        0xb46bc1f36fc6482b540a3fc810c7dc7dd8ef512b  \n",
       "15499736     198               327        0x5180db0237291a6449dda9ed33ad90a38787621c  \n",
       "15528387     123               210        0x0b634a8d61b09820e9f72f79cdcbc8a4d0aad26b  \n",
       "15532321     37                35         0xad95a5fe898679b927c266eb2edfabc7fe268c27  \n",
       "\n",
       "[87 rows x 6 columns]"
      ]
     },
     "execution_count": 9,
     "metadata": {},
     "output_type": "execute_result"
    }
   ],
   "source": [
    "await curve_utils.async_get_plain_pools()"
   ]
  }
 ],
 "metadata": {
  "kernelspec": {
   "display_name": "Python 3",
   "language": "python",
   "name": "python3"
  },
  "language_info": {
   "codemirror_mode": {
    "name": "ipython",
    "version": 3
   },
   "file_extension": ".py",
   "mimetype": "text/x-python",
   "name": "python",
   "nbconvert_exporter": "python",
   "pygments_lexer": "ipython3",
   "version": "3.9.5"
  }
 },
 "nbformat": 4,
 "nbformat_minor": 5
}
