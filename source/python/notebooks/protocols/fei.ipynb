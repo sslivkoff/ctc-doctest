{
 "cells": [
  {
   "cell_type": "code",
   "execution_count": 1,
   "id": "fbc3ec21",
   "metadata": {
    "ExecuteTime": {
     "end_time": "2022-09-25T22:59:22.474904Z",
     "start_time": "2022-09-25T22:59:22.362312Z"
    }
   },
   "outputs": [],
   "source": [
    "from ctc.protocols import fei_utils"
   ]
  },
  {
   "cell_type": "markdown",
   "id": "0afaad54",
   "metadata": {
    "ExecuteTime": {
     "end_time": "2022-04-26T17:59:23.845817Z",
     "start_time": "2022-04-26T17:59:23.842451Z"
    }
   },
   "source": [
    "## Get PCV stats"
   ]
  },
  {
   "cell_type": "code",
   "execution_count": 2,
   "id": "2f9df43e",
   "metadata": {
    "ExecuteTime": {
     "end_time": "2022-09-25T22:59:22.960906Z",
     "start_time": "2022-09-25T22:59:22.476125Z"
    }
   },
   "outputs": [
    {
     "data": {
      "text/plain": [
       "{'pcv': 59598260820495064263161827,\n",
       " 'user_fei': 58131106108824886492750185,\n",
       " 'protocol_equity': 1467154711670177770411642,\n",
       " 'valid': True}"
      ]
     },
     "execution_count": 2,
     "metadata": {},
     "output_type": "execute_result"
    }
   ],
   "source": [
    "pcv_stats = await fei_utils.async_get_pcv_stats()\n",
    "\n",
    "pcv_stats"
   ]
  },
  {
   "cell_type": "markdown",
   "id": "f99a249a",
   "metadata": {
    "ExecuteTime": {
     "end_time": "2022-04-26T17:59:48.876226Z",
     "start_time": "2022-04-26T17:59:48.873165Z"
    }
   },
   "source": [
    "## Get PCV stats in a specific block"
   ]
  },
  {
   "cell_type": "code",
   "execution_count": 3,
   "id": "b1510f34",
   "metadata": {
    "ExecuteTime": {
     "end_time": "2022-09-25T22:59:24.583272Z",
     "start_time": "2022-09-25T22:59:22.961740Z"
    }
   },
   "outputs": [
    {
     "data": {
      "text/plain": [
       "{'pcv': 782812519953585480931863885,\n",
       " 'user_fei': 321723324105548204271934214,\n",
       " 'protocol_equity': 461089195848037276659929671,\n",
       " 'valid': True}"
      ]
     },
     "execution_count": 3,
     "metadata": {},
     "output_type": "execute_result"
    }
   ],
   "source": [
    "pcv_stats = await fei_utils.async_get_pcv_stats(block=14000000)\n",
    "\n",
    "pcv_stats"
   ]
  },
  {
   "cell_type": "markdown",
   "id": "ae675c59",
   "metadata": {
    "ExecuteTime": {
     "end_time": "2022-04-26T18:11:51.072524Z",
     "start_time": "2022-04-26T18:11:51.069131Z"
    }
   },
   "source": [
    "## Print PCV asset summary"
   ]
  },
  {
   "cell_type": "code",
   "execution_count": 4,
   "id": "57d9a362",
   "metadata": {
    "ExecuteTime": {
     "end_time": "2022-09-25T22:59:25.830141Z",
     "start_time": "2022-09-25T22:59:24.585050Z"
    }
   },
   "outputs": [
    {
     "data": {
      "text/html": [
       "<pre style=\"white-space:pre;overflow-x:auto;line-height:normal;font-family:Menlo,'DejaVu Sans Mono',consolas,'Courier New',monospace\">┌────────────────┐\n",
       "│ Fei PCV Assets │\n",
       "└────────────────┘\n",
       "</pre>\n"
      ],
      "text/plain": [
       "┌────────────────┐\n",
       "│ Fei PCV Assets │\n",
       "└────────────────┘\n"
      ]
     },
     "metadata": {},
     "output_type": "display_data"
    },
    {
     "name": "stdout",
     "output_type": "stream",
     "text": [
      "total $59.60M\n",
      "\n"
     ]
    },
    {
     "data": {
      "text/html": [
       "<pre style=\"white-space:pre;overflow-x:auto;line-height:normal;font-family:Menlo,'DejaVu Sans Mono',consolas,'Courier New',monospace\">  asset  │   amount  │      price  │     total  \n",
       "─────────┼───────────┼─────────────┼────────────\n",
       "   LUSD  │        0  │      $1.03  │     $0.00  \n",
       "   WETH  │   230.71  │  $1,287.97  │  $297.15K  \n",
       "    DAI  │   58.13M  │      $1.00  │   $58.11M  \n",
       "    BAL  │  226.44K  │      $5.26  │    $1.19M  \n",
       "</pre>\n"
      ],
      "text/plain": [
       "  asset  │   amount  │      price  │     total  \n",
       "─────────┼───────────┼─────────────┼────────────\n",
       "   LUSD  │        0  │      $1.03  │     $0.00  \n",
       "   WETH  │   230.71  │  $1,287.97  │  $297.15K  \n",
       "    DAI  │   58.13M  │      $1.00  │   $58.11M  \n",
       "    BAL  │  226.44K  │      $5.26  │    $1.19M  \n"
      ]
     },
     "metadata": {},
     "output_type": "display_data"
    }
   ],
   "source": [
    "await fei_utils.async_print_pcv_assets()"
   ]
  },
  {
   "cell_type": "markdown",
   "id": "dc10f398",
   "metadata": {
    "ExecuteTime": {
     "end_time": "2022-04-26T18:10:49.401016Z",
     "start_time": "2022-04-26T18:10:49.397182Z"
    }
   },
   "source": [
    "## Print PCV deposit summary"
   ]
  },
  {
   "cell_type": "code",
   "execution_count": 5,
   "id": "56318bea",
   "metadata": {
    "ExecuteTime": {
     "end_time": "2022-09-25T22:59:26.584154Z",
     "start_time": "2022-09-25T22:59:25.831359Z"
    }
   },
   "outputs": [
    {
     "data": {
      "text/html": [
       "<pre style=\"white-space:pre;overflow-x:auto;line-height:normal;font-family:Menlo,'DejaVu Sans Mono',consolas,'Courier New',monospace\">┌──────────────────┐\n",
       "│ FEI PCV Deposits │\n",
       "└──────────────────┘\n",
       "</pre>\n"
      ],
      "text/plain": [
       "┌──────────────────┐\n",
       "│ FEI PCV Deposits │\n",
       "└──────────────────┘\n"
      ]
     },
     "metadata": {},
     "output_type": "display_data"
    },
    {
     "data": {
      "text/html": [
       "<pre style=\"white-space:pre;overflow-x:auto;line-height:normal;font-family:Menlo,'DejaVu Sans Mono',consolas,'Courier New',monospace\">  asset  │    balance  │               name  │                                     address  \n",
       "─────────┼─────────────┼─────────────────────┼──────────────────────────────────────────────\n",
       "   LUSD  │      $0.00  │                     │  0x4378de2f2991fbed6616b34ac7727e7653713712  \n",
       "   WETH  │      $0.00  │                     │  0xc6d675ca5217d39c3a5e366141060fc2d1ea2b82  \n",
       "   WETH  │  $1.85e-13  │                     │  0xf24401f6992faeacbc5d6c6991db15b5f8364a1b  \n",
       "   WETH  │  $1.29e-15  │                     │  0x6e5f2745c08249a190239763706473be0b72816d  \n",
       "   WETH  │   $297.15K  │     Balancer Pool2  │  0xd8eb546726d449fc1ded06dfeca800a2fa8bb930  \n",
       "    DAI  │      $0.00  │                     │  0x8ffae111ab06f532a18418190129373d14570014  \n",
       "    DAI  │  $3.55e-12  │                     │  0xdf9ff5c077d9f3427ade67ac2d27a864be6f3187  \n",
       "    DAI  │    $58.11M  │                     │  0x7842186cdd11270c4af8c0a99a5e0589c7f249ce  \n",
       "    BAL  │      $0.00  │  Balancer BAL-WETH  │  0xcd1ac0014e2ebd972f40f24df1694e6f528b2fd4  \n",
       "    BAL  │     $1.19M  │     Balancer veBAL  │  0x8cba3149b95084a61bbab9e01110b0fb92c9a289  \n",
       "    BAL  │      $0.00  │                     │  0x66977ce30049cd0e443216bf26377966c3a109e2  \n",
       "</pre>\n"
      ],
      "text/plain": [
       "  asset  │    balance  │               name  │                                     address  \n",
       "─────────┼─────────────┼─────────────────────┼──────────────────────────────────────────────\n",
       "   LUSD  │      $0.00  │                     │  0x4378de2f2991fbed6616b34ac7727e7653713712  \n",
       "   WETH  │      $0.00  │                     │  0xc6d675ca5217d39c3a5e366141060fc2d1ea2b82  \n",
       "   WETH  │  $1.85e-13  │                     │  0xf24401f6992faeacbc5d6c6991db15b5f8364a1b  \n",
       "   WETH  │  $1.29e-15  │                     │  0x6e5f2745c08249a190239763706473be0b72816d  \n",
       "   WETH  │   $297.15K  │     Balancer Pool2  │  0xd8eb546726d449fc1ded06dfeca800a2fa8bb930  \n",
       "    DAI  │      $0.00  │                     │  0x8ffae111ab06f532a18418190129373d14570014  \n",
       "    DAI  │  $3.55e-12  │                     │  0xdf9ff5c077d9f3427ade67ac2d27a864be6f3187  \n",
       "    DAI  │    $58.11M  │                     │  0x7842186cdd11270c4af8c0a99a5e0589c7f249ce  \n",
       "    BAL  │      $0.00  │  Balancer BAL-WETH  │  0xcd1ac0014e2ebd972f40f24df1694e6f528b2fd4  \n",
       "    BAL  │     $1.19M  │     Balancer veBAL  │  0x8cba3149b95084a61bbab9e01110b0fb92c9a289  \n",
       "    BAL  │      $0.00  │                     │  0x66977ce30049cd0e443216bf26377966c3a109e2  \n"
      ]
     },
     "metadata": {},
     "output_type": "display_data"
    },
    {
     "name": "stdout",
     "output_type": "stream",
     "text": [
      "\n"
     ]
    },
    {
     "data": {
      "text/html": [
       "<pre style=\"white-space:pre;overflow-x:auto;line-height:normal;font-family:Menlo,'DejaVu Sans Mono',consolas,'Courier New',monospace\">┌─────────────────┐\n",
       "│ FEI Deployments │\n",
       "└─────────────────┘\n",
       "</pre>\n"
      ],
      "text/plain": [
       "┌─────────────────┐\n",
       "│ FEI Deployments │\n",
       "└─────────────────┘\n"
      ]
     },
     "metadata": {},
     "output_type": "display_data"
    },
    {
     "data": {
      "text/html": [
       "<pre style=\"white-space:pre;overflow-x:auto;line-height:normal;font-family:Menlo,'DejaVu Sans Mono',consolas,'Courier New',monospace\">  asset  │  balance  │  name  │                                     address  \n",
       "─────────┼───────────┼────────┼──────────────────────────────────────────────\n",
       "    FEI  │   $2.63M  │        │  0x614d46b7eb2ac1a359b8835d64954f3ee4e6f676  \n",
       "</pre>\n"
      ],
      "text/plain": [
       "  asset  │  balance  │  name  │                                     address  \n",
       "─────────┼───────────┼────────┼──────────────────────────────────────────────\n",
       "    FEI  │   $2.63M  │        │  0x614d46b7eb2ac1a359b8835d64954f3ee4e6f676  \n"
      ]
     },
     "metadata": {},
     "output_type": "display_data"
    }
   ],
   "source": [
    "await fei_utils.async_print_pcv_deposits()"
   ]
  },
  {
   "cell_type": "markdown",
   "id": "2623f64d",
   "metadata": {
    "ExecuteTime": {
     "end_time": "2022-04-26T18:22:17.396303Z",
     "start_time": "2022-04-26T18:22:17.392327Z"
    }
   },
   "source": [
    "## Create data payload for `app.fei.money/analytics`"
   ]
  },
  {
   "cell_type": "code",
   "execution_count": 6,
   "id": "0cdf6b44",
   "metadata": {
    "ExecuteTime": {
     "end_time": "2022-09-25T22:59:44.892544Z",
     "start_time": "2022-09-25T22:59:26.585296Z"
    }
   },
   "outputs": [],
   "source": [
    "payload = await fei_utils.async_create_payload(timescale='30d,1d')"
   ]
  }
 ],
 "metadata": {
  "kernelspec": {
   "display_name": "Python 3",
   "language": "python",
   "name": "python3"
  },
  "language_info": {
   "codemirror_mode": {
    "name": "ipython",
    "version": 3
   },
   "file_extension": ".py",
   "mimetype": "text/x-python",
   "name": "python",
   "nbconvert_exporter": "python",
   "pygments_lexer": "ipython3",
   "version": "3.9.5"
  }
 },
 "nbformat": 4,
 "nbformat_minor": 5
}
