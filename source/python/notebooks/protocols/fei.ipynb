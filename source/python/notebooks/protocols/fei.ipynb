{
 "cells": [
  {
   "cell_type": "code",
   "execution_count": 1,
   "id": "fbc3ec21",
   "metadata": {
    "ExecuteTime": {
     "end_time": "2022-04-26T18:22:41.060787Z",
     "start_time": "2022-04-26T18:22:40.784805Z"
    }
   },
   "outputs": [],
   "source": [
    "from ctc.protocols import fei_utils"
   ]
  },
  {
   "cell_type": "markdown",
   "id": "0afaad54",
   "metadata": {
    "ExecuteTime": {
     "end_time": "2022-04-26T17:59:23.845817Z",
     "start_time": "2022-04-26T17:59:23.842451Z"
    }
   },
   "source": [
    "## Get PCV stats"
   ]
  },
  {
   "cell_type": "code",
   "execution_count": 2,
   "id": "2f9df43e",
   "metadata": {
    "ExecuteTime": {
     "end_time": "2022-04-26T18:22:41.756665Z",
     "start_time": "2022-04-26T18:22:41.061920Z"
    }
   },
   "outputs": [
    {
     "data": {
      "text/plain": [
       "{'pcv': 653877821298495051313082711,\n",
       " 'user_fei': 280632197839593053703651951,\n",
       " 'protocol_equity': 373245623458901997609430760,\n",
       " 'valid': True}"
      ]
     },
     "execution_count": 2,
     "metadata": {},
     "output_type": "execute_result"
    }
   ],
   "source": [
    "pcv_stats = await fei_utils.async_get_pcv_stats()\n",
    "\n",
    "pcv_stats"
   ]
  },
  {
   "cell_type": "markdown",
   "id": "f99a249a",
   "metadata": {
    "ExecuteTime": {
     "end_time": "2022-04-26T17:59:48.876226Z",
     "start_time": "2022-04-26T17:59:48.873165Z"
    }
   },
   "source": [
    "## Get PCV stats in a specific block"
   ]
  },
  {
   "cell_type": "code",
   "execution_count": 3,
   "id": "b1510f34",
   "metadata": {
    "ExecuteTime": {
     "end_time": "2022-04-26T18:22:41.889955Z",
     "start_time": "2022-04-26T18:22:41.757709Z"
    }
   },
   "outputs": [
    {
     "data": {
      "text/plain": [
       "{'pcv': 782812519953585480931863885,\n",
       " 'user_fei': 321723324105548204271934214,\n",
       " 'protocol_equity': 461089195848037276659929671,\n",
       " 'valid': True}"
      ]
     },
     "execution_count": 3,
     "metadata": {},
     "output_type": "execute_result"
    }
   ],
   "source": [
    "pcv_stats = await fei_utils.async_get_pcv_stats(block=14000000)\n",
    "\n",
    "pcv_stats"
   ]
  },
  {
   "cell_type": "markdown",
   "id": "ef691cfd",
   "metadata": {
    "ExecuteTime": {
     "end_time": "2022-04-26T18:00:22.217484Z",
     "start_time": "2022-04-26T18:00:22.215072Z"
    }
   },
   "source": [
    "## Get PCV stats over multiple blocks"
   ]
  },
  {
   "cell_type": "code",
   "execution_count": 4,
   "id": "2e09f3ac",
   "metadata": {
    "ExecuteTime": {
     "end_time": "2022-04-26T18:22:44.926847Z",
     "start_time": "2022-04-26T18:22:41.891313Z"
    }
   },
   "outputs": [
    {
     "data": {
      "text/html": [
       "<div>\n",
       "<style scoped>\n",
       "    .dataframe tbody tr th:only-of-type {\n",
       "        vertical-align: middle;\n",
       "    }\n",
       "\n",
       "    .dataframe tbody tr th {\n",
       "        vertical-align: top;\n",
       "    }\n",
       "\n",
       "    .dataframe thead th {\n",
       "        text-align: right;\n",
       "    }\n",
       "</style>\n",
       "<table border=\"1\" class=\"dataframe\">\n",
       "  <thead>\n",
       "    <tr style=\"text-align: right;\">\n",
       "      <th></th>\n",
       "      <th>pcv</th>\n",
       "      <th>user_fei</th>\n",
       "      <th>protocol_equity</th>\n",
       "      <th>valid</th>\n",
       "    </tr>\n",
       "  </thead>\n",
       "  <tbody>\n",
       "    <tr>\n",
       "      <th>14000000</th>\n",
       "      <td>782812519.953585</td>\n",
       "      <td>321723324.105548</td>\n",
       "      <td>461089195.848037</td>\n",
       "      <td>True</td>\n",
       "    </tr>\n",
       "    <tr>\n",
       "      <th>14100000</th>\n",
       "      <td>603411901.290495</td>\n",
       "      <td>280650934.8377</td>\n",
       "      <td>322760966.452795</td>\n",
       "      <td>True</td>\n",
       "    </tr>\n",
       "    <tr>\n",
       "      <th>14200000</th>\n",
       "      <td>705091297.303412</td>\n",
       "      <td>328680909.169891</td>\n",
       "      <td>376410388.133522</td>\n",
       "      <td>True</td>\n",
       "    </tr>\n",
       "    <tr>\n",
       "      <th>14300000</th>\n",
       "      <td>715244196.847035</td>\n",
       "      <td>332565585.596083</td>\n",
       "      <td>382678611.250952</td>\n",
       "      <td>True</td>\n",
       "    </tr>\n",
       "    <tr>\n",
       "      <th>14400000</th>\n",
       "      <td>692683708.720875</td>\n",
       "      <td>336072876.273664</td>\n",
       "      <td>356610832.447211</td>\n",
       "      <td>True</td>\n",
       "    </tr>\n",
       "  </tbody>\n",
       "</table>\n",
       "</div>"
      ],
      "text/plain": [
       "                       pcv          user_fei   protocol_equity  valid\n",
       "14000000  782812519.953585  321723324.105548  461089195.848037   True\n",
       "14100000  603411901.290495    280650934.8377  322760966.452795   True\n",
       "14200000  705091297.303412  328680909.169891  376410388.133522   True\n",
       "14300000  715244196.847035  332565585.596083  382678611.250952   True\n",
       "14400000  692683708.720875  336072876.273664  356610832.447211   True"
      ]
     },
     "execution_count": 4,
     "metadata": {},
     "output_type": "execute_result"
    }
   ],
   "source": [
    "blocks = [14000000, 14100000, 14200000, 14300000, 14400000]\n",
    "pcv_stats_by_block = await fei_utils.async_get_pcv_stats_by_block(blocks=blocks)\n",
    "\n",
    "pcv_stats_by_block"
   ]
  },
  {
   "cell_type": "markdown",
   "id": "ae675c59",
   "metadata": {
    "ExecuteTime": {
     "end_time": "2022-04-26T18:11:51.072524Z",
     "start_time": "2022-04-26T18:11:51.069131Z"
    }
   },
   "source": [
    "## Print PCV asset summary"
   ]
  },
  {
   "cell_type": "code",
   "execution_count": 5,
   "id": "57d9a362",
   "metadata": {
    "ExecuteTime": {
     "end_time": "2022-04-26T18:22:46.907282Z",
     "start_time": "2022-04-26T18:22:44.928379Z"
    }
   },
   "outputs": [
    {
     "name": "stdout",
     "output_type": "stream",
     "text": [
      "┌────────────────┐\n",
      "│ Fei PCV Assets │\n",
      "└────────────────┘\n",
      "total $618.37M\n",
      "\n",
      "  asset  │  amount   │  price      │  total     \n",
      "─────────┼───────────┼─────────────┼────────────\n",
      "  WETH   │  163.16K  │  $2,863.54  │  $467.22M  \n",
      "  DAI    │  15.14M   │  $1.00      │  $15.13M   \n",
      "  RAI    │  6.67M    │  $2.99      │  $19.96M   \n",
      "  DPI    │  37.89K   │  $166.14    │  $6.29M    \n",
      "  LUSD   │  94.71M   │  $1.00      │  $94.74M   \n",
      "  CREAM  │  31.78K   │  $39.49     │  $1.25M    \n",
      "  agEUR  │  9.01M    │  $1.07      │  $9.61M    \n",
      "  BAL    │  258.49K  │  $16.06     │  $4.15M    \n",
      "\n"
     ]
    }
   ],
   "source": [
    "await fei_utils.async_print_pcv_assets()"
   ]
  },
  {
   "cell_type": "markdown",
   "id": "dc10f398",
   "metadata": {
    "ExecuteTime": {
     "end_time": "2022-04-26T18:10:49.401016Z",
     "start_time": "2022-04-26T18:10:49.397182Z"
    }
   },
   "source": [
    "## Print PCV deposit summary"
   ]
  },
  {
   "cell_type": "code",
   "execution_count": 6,
   "id": "56318bea",
   "metadata": {
    "ExecuteTime": {
     "end_time": "2022-04-26T18:22:48.367901Z",
     "start_time": "2022-04-26T18:22:46.908442Z"
    }
   },
   "outputs": [
    {
     "name": "stdout",
     "output_type": "stream",
     "text": [
      "┌──────────────────┐\n",
      "│ FEI PCV Deposits │\n",
      "└──────────────────┘\n",
      "  asset  │  balance   │  name                  │  address                                     \n",
      "─────────┼────────────┼────────────────────────┼──────────────────────────────────────────────\n",
      "  WETH   │  $28.64M   │  Tokemak tWETH         │  0x0961d2a545e0c1201b313d14c57023682a546b9d  \n",
      "  WETH   │  $141.67M  │  Lido stETH            │  0xa271ff86426c7fdaaae72603e6ce68c892d69ed7  \n",
      "  WETH   │  $46.96M   │  Compound ETH          │  0x0735e14d28ed395048d5fa4a8dbe6e6eb9fc0470  \n",
      "  WETH   │  $155.55M  │  AAVE ETH              │  0x43ef03755991056681f01ee2182234ef6af1f658  \n",
      "  WETH   │  $1.22M    │  Uniswap FEI-ETH       │  0x15958381e9e6dc98bd49655e36f524d2203a28bd  \n",
      "  WETH   │  $25.34K   │  FEI-ETH PSM           │  0x98e5f5706897074a4664dd3a32eb80242d6e694b  \n",
      "  WETH   │  $7.16M    │  Fuse Pool 146 ETH     │  0xc68412b72e68c30d4e6c0854b439cbbe957146e4  \n",
      "  WETH   │  $42.95M   │  DAO Timelock ETH      │  0x5e9fa7d783a7f7d4626ce450c8bd2ebbb26dfdb2  \n",
      "  WETH   │  $43.05M   │  Balancer FEI-WETH     │  0xc5bb8f0253776bec6ff450c2b40f092f7e7f5b57  \n",
      "  DAI    │  $147.13K  │  Compound DAI          │  0xfde7077aaecdaf2c4b85261aa858c96a7e737a61  \n",
      "  DAI    │  $9.96M    │  FEI-DAI PSM           │  0x2a188f9eb761f70ecea083ba6c2a40145078dfc2  \n",
      "  DAI    │  $5.03M    │  Fuse Pool 8 DAI       │  0x9cc46ab5a714f7cd24c59f33c5769039b5872491  \n",
      "  RAI    │  $9.94M    │  Fuse Pool 9 RAI       │  0xcce230c087f31032fc17621a2cf5e425a0b80c96  \n",
      "  RAI    │  $10.03M   │  AAVE RAI              │  0x1267b39c93711dd374deab15e0127e4adb259be0  \n",
      "  RAI    │  $0.00     │  DAO Timelock RAI      │  0x7339ca4ac94020b83a34f5edfa6e0f26986c434b  \n",
      "  DPI    │  $5.85M    │  DAO Timelock DPI      │  0xb250926e75b1cc6c53e77bb9426baac14ab1e24c  \n",
      "  DPI    │  $441.48K  │  Fuse Pool 19 DPI      │  0x9a774a1b1208c323eded05e6daf592e6e59caa55  \n",
      "  LUSD   │  $78.93K   │  Fuse Pool 91 LUSD     │  0x8c51e4532cc745cf3dfec5cebd835d07e7ba1002  \n",
      "  LUSD   │  $10.03M   │  Fuse Pool 7 LUSD      │  0x6026a1559cdd44a63c5ca9a078cc996a9eb68abb  \n",
      "  LUSD   │  $79.61M   │  B Protocol LUSD       │  0x374628ebe7ef6aca0574e750b618097531a26ff8  \n",
      "  LUSD   │  $1.01K    │  FEI-LUSD PSM          │  0xb0e731f036adfdec12da77c15aab0f90e8e45a0e  \n",
      "  LUSD   │  $5.03M    │  Fuse Pool 8 LUSD      │  0xf846ee6e8ee9a6fbf51c7c65105cabc041c048ad  \n",
      "  CREAM  │  $1.25M    │  CREAM Hack Repayment  │  0x3a1838ac9eca864054bebb82c32455dd7d7fc89c  \n",
      "  agEUR  │  $0.00     │                        │  0xe8633c49ace655eb4a8b720e6b12f09bd3a97812  \n",
      "  agEUR  │  $0.00     │  DAO Timelock agEUR    │  0x485d23ce5725ecde46ca9033012984d90b514ffd  \n",
      "  agEUR  │  $9.61M    │  Uniswap FEI-agEUR     │  0xd2554839c2e8a87dd2cddd013ef828b6534abc26  \n",
      "  BAL    │  $4.15M    │  Balancer BAL-WETH     │  0xcd1ac0014e2ebd972f40f24df1694e6f528b2fd4  \n",
      "\n",
      "┌─────────────────┐\n",
      "│ FEI Deployments │\n",
      "└─────────────────┘\n",
      "  asset  │  balance   │  name                │  address                                     \n",
      "─────────┼────────────┼──────────────────────┼──────────────────────────────────────────────\n",
      "  FEI    │  $39.05M   │  OA Account          │  0x7eb88140af813294aedce981b6ac08fcd139d408  \n",
      "  FEI    │  $20.79M   │  Fuse Pool 8         │  0xd6598a23418c7fef7c0dc863265515b623b720f9  \n",
      "  FEI    │  $333.90K  │  Fuse Pool 90 FEI    │  0xec54148cbc47bff8fcc5e04e5e8083adb8af9ad9  \n",
      "  FEI    │  $2.55M    │  Fuse Pool 79 FEI    │  0xb3a026b830796e43bfc8b135553a7573538ab341  \n",
      "  FEI    │  $3.17M    │  Fuse Pool 6         │  0x7aa4b1558c3e219cfffd6a356421c071f71966e7  \n",
      "  FEI    │  $600.15K  │  Fuse Pool 19        │  0x7e39bba9d0d967ee55524fae9e54900b02d9889a  \n",
      "  FEI    │  $453.51K  │  Fuse Pool 24        │  0x508f6fbd78b6569c29e9d75986a51558de9e5865  \n",
      "  FEI    │  $50.00K   │  Fuse Pool 25        │  0xb4ffd10c4c290dc13e8e30bf186f1509001515fd  \n",
      "  FEI    │  $111.02K  │  Balancer FEI-TRIBE  │  0x89dfbc12001b41985efabd7dfcae6a77b22e4ec3  \n",
      "  FEI    │  $1.05M    │  Fuse Pool 27        │  0xe2e35097638f0ff2eeca2ef70f352be37431945f  \n",
      "  FEI    │  $808.85K  │  Fuse Pool 18        │  0x07f2dd7e6a78d96c08d0a8212f4097dcc129d629  \n",
      "  FEI    │  $50.04K   │  Fuse Pool 31        │  0x05e2e93cfb0b53d36a3151ee727bb581d4b918ce  \n",
      "  FEI    │  $16.43M   │  Aave V2 FEI Pool    │  0xfac571b6054619053ac311da8112939c9a374a85  \n",
      "  FEI    │  $1.00M    │  Fuse Pool 128 FEI   │  0xa62ddde8f799873e6fcdbb3acbba75da85d9dcde  \n",
      "  FEI    │  $150.60K  │  Fuse Pool 22 FEI    │  0xa2bdbcb95d31c85bae6f0fa42d55f65d609d94ee  \n",
      "  FEI    │  $151.04K  │  Fuse Pool 72 FEI    │  0x395b1bc1800fa0ad48ae3876e66d4c10d297650c  \n",
      "  FEI    │  $10.02M   │  Fuse Pool 156       │  0x1370ca8655c255948d6c6110066d78680601b7c2  \n",
      "  FEI    │  $5.00M    │  Compound cFEI       │  0xb80b3dc4f8b30589477b2ba0e4ef2b8224bdf0a5  \n",
      "  FEI    │  $11.00M   │                      │  0x2c47fef515d2c70f2427706999e158533f7cf090  \n"
     ]
    }
   ],
   "source": [
    "await fei_utils.async_print_pcv_deposits()"
   ]
  },
  {
   "cell_type": "markdown",
   "id": "2623f64d",
   "metadata": {
    "ExecuteTime": {
     "end_time": "2022-04-26T18:22:17.396303Z",
     "start_time": "2022-04-26T18:22:17.392327Z"
    }
   },
   "source": [
    "## Create data payload for `app.fei.money/analytics`"
   ]
  },
  {
   "cell_type": "code",
   "execution_count": 7,
   "id": "0cdf6b44",
   "metadata": {
    "ExecuteTime": {
     "end_time": "2022-04-26T18:23:05.473952Z",
     "start_time": "2022-04-26T18:22:48.368718Z"
    }
   },
   "outputs": [
    {
     "name": "stdout",
     "output_type": "stream",
     "text": [
      "loading events (0.109715MB across 1 files)\n",
      "loading events (0.850739MB across 1 files)\n",
      "loading events (0.000184MB across 1 files)\n",
      "loading events (0.138906MB across 1 files)\n",
      "loading events (0.090465MB across 9 files)\n",
      "loading events (258.02MB across 28 files)\n",
      "loading events (0.752028MB across 1 files)\n",
      "loading events (0.325125MB across 1 files)\n",
      "getting events from node, block range: [14661683, 14661683]\n",
      "getting events from node, block range: [14661683, 14661683]\n",
      "getting events from node, block range: [14661683, 14661683]\n",
      "getting events from node, block range: [14661683, 14661683]\n",
      "getting events from node, block range: [14661683, 14661683]\n",
      "getting events from node, block range: [14661683, 14661683]\n",
      "getting events from node, block range: [14661683, 14661683]\n",
      "getting events from node, block range: [14661683, 14661683]\n",
      "saving events to file: /home/storm/ctc_data/mainnet/events/contract__0xbaaa1f5dba42c3389bdbc2c9d2de134f5cd0dc89/event__0x8b3e96f2b889fa771c53c981b40daf005f63f637f1869f707052d15a3dd97140/14661683__to__14661683.csv\n",
      "loading events (0.109879MB across 2 files)\n",
      "saving events to file: /home/storm/ctc_data/mainnet/events/contract__0xdf50fbde8180c8785842c8e316ebe06f542d3443/event__0xc42079f94a6350d7e6235f29174924f928cc2ac818eb64fed8004e115fbcca67/14661683__to__14661683.csv\n",
      "loading events (0.850923MB across 2 files)\n",
      "saving events to file: /home/storm/ctc_data/mainnet/events/contract__0x8c54aa2a32a779e6f6fbea568ad85a19e0109c26/event__0xc42079f94a6350d7e6235f29174924f928cc2ac818eb64fed8004e115fbcca67/14661683__to__14661683.csv\n",
      "loading events (0.752213MB across 2 files)\n",
      "saving events to file: /home/storm/ctc_data/mainnet/events/contract__0xba12222222228d8ba445958a75a0704d566bf2c8/event__0x2170c741c41531aec20e7c107c24eecfdd15e69c9bb0a8dd37b1840b9e0b207b/14661683__to__14661683.csv\n",
      "loading events (258.02MB across 29 files)\n",
      "saving events to file: /home/storm/ctc_data/mainnet/events/contract__0xbb2e5c2ff298fd96e166f90c8abacaf714df14f8/event__0xc42079f94a6350d7e6235f29174924f928cc2ac818eb64fed8004e115fbcca67/14661683__to__14661683.csv\n",
      "loading events (0.325309MB across 2 files)\n",
      "saving events to file: /home/storm/ctc_data/mainnet/events/contract__0xc69ddcd4dfef25d8a793241834d4cc4b3668ead6/event__0xc6c1e0630dbe9130cc068028486c0d118ddcea348550819defd5cb8c257f8a38/14661683__to__14661683.csv\n",
      "loading events (0.139066MB across 2 files)\n",
      "saving events to file: /home/storm/ctc_data/mainnet/events/contract__0x5180545835bd68810fb7e11c7160bb7ea4ae8744/event__0xc42079f94a6350d7e6235f29174924f928cc2ac818eb64fed8004e115fbcca67/14661683__to__14661683.csv\n",
      "loading events (0.000368MB across 2 files)\n",
      "saving events to file: /home/storm/ctc_data/mainnet/events/contract__0x06cb22615ba53e60d67bf6c341a0fd5e718e1655/event__0xd013ca23e77a65003c2c659c5442c00c805371b7fc1ebd4c206c41d1536bd90b/14661683__to__14661683.csv\n",
      "loading events (0.090629MB across 10 files)\n"
     ]
    }
   ],
   "source": [
    "payload = await fei_utils.async_create_payload(timescale='30d,1d')"
   ]
  }
 ],
 "metadata": {
  "kernelspec": {
   "display_name": "Python 3",
   "language": "python",
   "name": "python3"
  },
  "language_info": {
   "codemirror_mode": {
    "name": "ipython",
    "version": 3
   },
   "file_extension": ".py",
   "mimetype": "text/x-python",
   "name": "python",
   "nbconvert_exporter": "python",
   "pygments_lexer": "ipython3",
   "version": "3.9.5"
  }
 },
 "nbformat": 4,
 "nbformat_minor": 5
}
