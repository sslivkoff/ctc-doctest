{
 "cells": [
  {
   "cell_type": "code",
   "execution_count": 1,
   "id": "fbc3ec21",
   "metadata": {
    "ExecuteTime": {
     "end_time": "2022-09-23T03:43:06.810007Z",
     "start_time": "2022-09-23T03:43:06.698240Z"
    }
   },
   "outputs": [],
   "source": [
    "from ctc.protocols import fei_utils"
   ]
  },
  {
   "cell_type": "markdown",
   "id": "0afaad54",
   "metadata": {
    "ExecuteTime": {
     "end_time": "2022-04-26T17:59:23.845817Z",
     "start_time": "2022-04-26T17:59:23.842451Z"
    }
   },
   "source": [
    "## Get PCV stats"
   ]
  },
  {
   "cell_type": "code",
   "execution_count": 2,
   "id": "2f9df43e",
   "metadata": {
    "ExecuteTime": {
     "end_time": "2022-09-23T03:43:07.098517Z",
     "start_time": "2022-09-23T03:43:06.811038Z"
    }
   },
   "outputs": [
    {
     "data": {
      "text/plain": [
       "{'pcv': 157804493006575954389442810,\n",
       " 'user_fei': 58594123604209130554319954,\n",
       " 'protocol_equity': 99210369402366823835122856,\n",
       " 'valid': True}"
      ]
     },
     "execution_count": 2,
     "metadata": {},
     "output_type": "execute_result"
    }
   ],
   "source": [
    "pcv_stats = await fei_utils.async_get_pcv_stats()\n",
    "\n",
    "pcv_stats"
   ]
  },
  {
   "cell_type": "markdown",
   "id": "f99a249a",
   "metadata": {
    "ExecuteTime": {
     "end_time": "2022-04-26T17:59:48.876226Z",
     "start_time": "2022-04-26T17:59:48.873165Z"
    }
   },
   "source": [
    "## Get PCV stats in a specific block"
   ]
  },
  {
   "cell_type": "code",
   "execution_count": 3,
   "id": "b1510f34",
   "metadata": {
    "ExecuteTime": {
     "end_time": "2022-09-23T03:43:07.175466Z",
     "start_time": "2022-09-23T03:43:07.099631Z"
    }
   },
   "outputs": [
    {
     "data": {
      "text/plain": [
       "{'pcv': 782812519953585480931863885,\n",
       " 'user_fei': 321723324105548204271934214,\n",
       " 'protocol_equity': 461089195848037276659929671,\n",
       " 'valid': True}"
      ]
     },
     "execution_count": 3,
     "metadata": {},
     "output_type": "execute_result"
    }
   ],
   "source": [
    "pcv_stats = await fei_utils.async_get_pcv_stats(block=14000000)\n",
    "\n",
    "pcv_stats"
   ]
  },
  {
   "cell_type": "markdown",
   "id": "ef691cfd",
   "metadata": {
    "ExecuteTime": {
     "end_time": "2022-04-26T18:00:22.217484Z",
     "start_time": "2022-04-26T18:00:22.215072Z"
    }
   },
   "source": [
    "## Get PCV stats over multiple blocks"
   ]
  },
  {
   "cell_type": "code",
   "execution_count": 4,
   "id": "2e09f3ac",
   "metadata": {
    "ExecuteTime": {
     "end_time": "2022-09-23T03:43:12.669461Z",
     "start_time": "2022-09-23T03:43:07.178153Z"
    }
   },
   "outputs": [
    {
     "ename": "RpcException",
     "evalue": "RPC ERROR: execution aborted (timeout = 5s)",
     "output_type": "error",
     "traceback": [
      "\u001b[0;31m---------------------------------------------------------------------------\u001b[0m",
      "\u001b[0;31mRpcException\u001b[0m                              Traceback (most recent call last)",
      "Input \u001b[0;32mIn [4]\u001b[0m, in \u001b[0;36m<cell line: 2>\u001b[0;34m()\u001b[0m\n\u001b[1;32m      1\u001b[0m blocks \u001b[38;5;241m=\u001b[39m [\u001b[38;5;241m14000000\u001b[39m, \u001b[38;5;241m14100000\u001b[39m, \u001b[38;5;241m14200000\u001b[39m, \u001b[38;5;241m14300000\u001b[39m, \u001b[38;5;241m14400000\u001b[39m]\n\u001b[0;32m----> 2\u001b[0m pcv_stats_by_block \u001b[38;5;241m=\u001b[39m \u001b[38;5;28;01mawait\u001b[39;00m fei_utils\u001b[38;5;241m.\u001b[39masync_get_pcv_stats_by_block(blocks\u001b[38;5;241m=\u001b[39mblocks)\n\u001b[1;32m      4\u001b[0m pcv_stats_by_block\n",
      "File \u001b[0;32m~/repos/checkthechain/src/ctc/protocols/fei_utils/coracle/coracle_stats.py:101\u001b[0m, in \u001b[0;36masync_get_pcv_stats_by_block\u001b[0;34m(blocks, wrapper, provider, nullify_invalid)\u001b[0m\n\u001b[1;32m     99\u001b[0m     coroutine \u001b[38;5;241m=\u001b[39m _wrapped_call(block, to_address)\n\u001b[1;32m    100\u001b[0m     coroutines\u001b[38;5;241m.\u001b[39mappend(coroutine)\n\u001b[0;32m--> 101\u001b[0m result \u001b[38;5;241m=\u001b[39m \u001b[38;5;28;01mawait\u001b[39;00m asyncio\u001b[38;5;241m.\u001b[39mgather(\u001b[38;5;241m*\u001b[39mcoroutines)\n\u001b[1;32m    103\u001b[0m \u001b[38;5;66;03m# arrange results\u001b[39;00m\n\u001b[1;32m    104\u001b[0m transpose \u001b[38;5;241m=\u001b[39m \u001b[38;5;28mlist\u001b[39m(\u001b[38;5;28mzip\u001b[39m(\u001b[38;5;241m*\u001b[39mresult))\n",
      "File \u001b[0;32m~/repos/checkthechain/src/ctc/protocols/fei_utils/coracle/coracle_stats.py:91\u001b[0m, in \u001b[0;36masync_get_pcv_stats_by_block.<locals>._wrapped_call\u001b[0;34m(block, to_address)\u001b[0m\n\u001b[1;32m     89\u001b[0m     \u001b[38;5;28;01mreturn\u001b[39;00m [\u001b[38;5;28;01mNone\u001b[39;00m] \u001b[38;5;241m*\u001b[39m \u001b[38;5;241m4\u001b[39m\n\u001b[1;32m     90\u001b[0m \u001b[38;5;28;01melse\u001b[39;00m:\n\u001b[0;32m---> 91\u001b[0m     \u001b[38;5;28;01mraise\u001b[39;00m e\n",
      "File \u001b[0;32m~/repos/checkthechain/src/ctc/protocols/fei_utils/coracle/coracle_stats.py:72\u001b[0m, in \u001b[0;36masync_get_pcv_stats_by_block.<locals>._wrapped_call\u001b[0;34m(block, to_address)\u001b[0m\n\u001b[1;32m     68\u001b[0m \u001b[38;5;28;01masync\u001b[39;00m \u001b[38;5;28;01mdef\u001b[39;00m \u001b[38;5;21m_wrapped_call\u001b[39m(\n\u001b[1;32m     69\u001b[0m     block: spec\u001b[38;5;241m.\u001b[39mBlockNumberReference, to_address: spec\u001b[38;5;241m.\u001b[39mAddress\n\u001b[1;32m     70\u001b[0m ) \u001b[38;5;241m-\u001b[39m\u001b[38;5;241m>\u001b[39m typing\u001b[38;5;241m.\u001b[39mSequence[\u001b[38;5;28;01mNone\u001b[39;00m \u001b[38;5;241m|\u001b[39m \u001b[38;5;28mlist\u001b[39m[typing\u001b[38;5;241m.\u001b[39mAny]]:\n\u001b[1;32m     71\u001b[0m     \u001b[38;5;28;01mtry\u001b[39;00m:\n\u001b[0;32m---> 72\u001b[0m         result \u001b[38;5;241m=\u001b[39m \u001b[38;5;28;01mawait\u001b[39;00m rpc\u001b[38;5;241m.\u001b[39masync_eth_call(\n\u001b[1;32m     73\u001b[0m             function_name\u001b[38;5;241m=\u001b[39m\u001b[38;5;124m'\u001b[39m\u001b[38;5;124mpcvStats\u001b[39m\u001b[38;5;124m'\u001b[39m,\n\u001b[1;32m     74\u001b[0m             block_number\u001b[38;5;241m=\u001b[39mblock,\n\u001b[1;32m     75\u001b[0m             provider\u001b[38;5;241m=\u001b[39mprovider,\n\u001b[1;32m     76\u001b[0m             to_address\u001b[38;5;241m=\u001b[39mto_address,\n\u001b[1;32m     77\u001b[0m         )\n\u001b[1;32m     78\u001b[0m         \u001b[38;5;28;01mreturn\u001b[39;00m typing\u001b[38;5;241m.\u001b[39mcast(\n\u001b[1;32m     79\u001b[0m             typing\u001b[38;5;241m.\u001b[39mSequence[typing\u001b[38;5;241m.\u001b[39mOptional[typing\u001b[38;5;241m.\u001b[39mList[typing\u001b[38;5;241m.\u001b[39mAny]]],\n\u001b[1;32m     80\u001b[0m             result,\n\u001b[1;32m     81\u001b[0m         )\n\u001b[1;32m     82\u001b[0m     \u001b[38;5;28;01mexcept\u001b[39;00m spec\u001b[38;5;241m.\u001b[39mRpcException \u001b[38;5;28;01mas\u001b[39;00m e:\n",
      "File \u001b[0;32m~/repos/checkthechain/src/ctc/rpc/rpc_executors/rpc_state_executors.py:66\u001b[0m, in \u001b[0;36masync_eth_call\u001b[0;34m(to_address, from_address, gas, gas_price, value_sent, block_number, call_data, function_parameters, provider, decode_response, delist_single_outputs, package_named_outputs, fill_empty, empty_token, function_abi, function_name, contract_abi, n_parameters, parameter_types, function_selector)\u001b[0m\n\u001b[1;32m     53\u001b[0m request \u001b[38;5;241m=\u001b[39m rpc_constructors\u001b[38;5;241m.\u001b[39mconstruct_eth_call(\n\u001b[1;32m     54\u001b[0m     to_address\u001b[38;5;241m=\u001b[39mto_address,\n\u001b[1;32m     55\u001b[0m     from_address\u001b[38;5;241m=\u001b[39mfrom_address,\n\u001b[0;32m   (...)\u001b[0m\n\u001b[1;32m     62\u001b[0m     function_abi\u001b[38;5;241m=\u001b[39mfunction_abi,\n\u001b[1;32m     63\u001b[0m )\n\u001b[1;32m     65\u001b[0m \u001b[38;5;66;03m# make request\u001b[39;00m\n\u001b[0;32m---> 66\u001b[0m response \u001b[38;5;241m=\u001b[39m \u001b[38;5;28;01mawait\u001b[39;00m rpc_request\u001b[38;5;241m.\u001b[39masync_send(request, provider\u001b[38;5;241m=\u001b[39mprovider)\n\u001b[1;32m     68\u001b[0m \u001b[38;5;66;03m# digest response\u001b[39;00m\n\u001b[1;32m     69\u001b[0m \u001b[38;5;28;01mreturn\u001b[39;00m rpc_digestors\u001b[38;5;241m.\u001b[39mdigest_eth_call(\n\u001b[1;32m     70\u001b[0m     response,\n\u001b[1;32m     71\u001b[0m     function_abi\u001b[38;5;241m=\u001b[39mfunction_abi,\n\u001b[0;32m   (...)\u001b[0m\n\u001b[1;32m     76\u001b[0m     empty_token\u001b[38;5;241m=\u001b[39mempty_token,\n\u001b[1;32m     77\u001b[0m )\n",
      "File \u001b[0;32m~/repos/checkthechain/src/ctc/rpc/rpc_request.py:123\u001b[0m, in \u001b[0;36masync_send\u001b[0;34m(request, provider)\u001b[0m\n\u001b[1;32m    119\u001b[0m         \u001b[38;5;28;01mif\u001b[39;00m typing\u001b[38;5;241m.\u001b[39mTYPE_CHECKING:\n\u001b[1;32m    120\u001b[0m             response \u001b[38;5;241m=\u001b[39m typing\u001b[38;5;241m.\u001b[39mcast(\n\u001b[1;32m    121\u001b[0m                 spec\u001b[38;5;241m.\u001b[39mRpcSingularResponseFailure, response\n\u001b[1;32m    122\u001b[0m             )\n\u001b[0;32m--> 123\u001b[0m         \u001b[38;5;28;01mraise\u001b[39;00m spec\u001b[38;5;241m.\u001b[39mRpcException(\n\u001b[1;32m    124\u001b[0m             \u001b[38;5;124m'\u001b[39m\u001b[38;5;124mRPC ERROR: \u001b[39m\u001b[38;5;124m'\u001b[39m \u001b[38;5;241m+\u001b[39m response[\u001b[38;5;124m'\u001b[39m\u001b[38;5;124merror\u001b[39m\u001b[38;5;124m'\u001b[39m][\u001b[38;5;124m'\u001b[39m\u001b[38;5;124mmessage\u001b[39m\u001b[38;5;124m'\u001b[39m]\n\u001b[1;32m    125\u001b[0m         )\n\u001b[1;32m    126\u001b[0m \u001b[38;5;28;01melse\u001b[39;00m:\n\u001b[1;32m    127\u001b[0m     \u001b[38;5;28;01mif\u001b[39;00m typing\u001b[38;5;241m.\u001b[39mTYPE_CHECKING:\n",
      "\u001b[0;31mRpcException\u001b[0m: RPC ERROR: execution aborted (timeout = 5s)"
     ]
    }
   ],
   "source": [
    "blocks = [14000000, 14100000, 14200000, 14300000, 14400000]\n",
    "pcv_stats_by_block = await fei_utils.async_get_pcv_stats_by_block(blocks=blocks)\n",
    "\n",
    "pcv_stats_by_block"
   ]
  },
  {
   "cell_type": "markdown",
   "id": "ae675c59",
   "metadata": {
    "ExecuteTime": {
     "end_time": "2022-04-26T18:11:51.072524Z",
     "start_time": "2022-04-26T18:11:51.069131Z"
    }
   },
   "source": [
    "## Print PCV asset summary"
   ]
  },
  {
   "cell_type": "code",
   "execution_count": 5,
   "id": "57d9a362",
   "metadata": {
    "ExecuteTime": {
     "end_time": "2022-09-23T03:43:12.912883Z",
     "start_time": "2022-09-23T03:43:12.670622Z"
    }
   },
   "outputs": [
    {
     "data": {
      "text/html": [
       "<pre style=\"white-space:pre;overflow-x:auto;line-height:normal;font-family:Menlo,'DejaVu Sans Mono',consolas,'Courier New',monospace\">┌────────────────┐\n",
       "│ Fei PCV Assets │\n",
       "└────────────────┘\n",
       "</pre>\n"
      ],
      "text/plain": [
       "┌────────────────┐\n",
       "│ Fei PCV Assets │\n",
       "└────────────────┘\n"
      ]
     },
     "metadata": {},
     "output_type": "display_data"
    },
    {
     "name": "stdout",
     "output_type": "stream",
     "text": [
      "total $157.80M\n",
      "\n"
     ]
    },
    {
     "data": {
      "text/html": [
       "<pre style=\"white-space:pre;overflow-x:auto;line-height:normal;font-family:Menlo,'DejaVu Sans Mono',consolas,'Courier New',monospace\">  asset  │   amount  │      price  │    total  \n",
       "─────────┼───────────┼─────────────┼───────────\n",
       "   LUSD  │   17.19K  │      $1.03  │  $17.68K  \n",
       "   WETH  │   50.57K  │  $1,329.03  │  $67.21M  \n",
       "    DAI  │   89.26M  │      $1.00  │  $89.28M  \n",
       "    BAL  │  240.28K  │      $5.41  │   $1.30M  \n",
       "</pre>\n"
      ],
      "text/plain": [
       "  asset  │   amount  │      price  │    total  \n",
       "─────────┼───────────┼─────────────┼───────────\n",
       "   LUSD  │   17.19K  │      $1.03  │  $17.68K  \n",
       "   WETH  │   50.57K  │  $1,329.03  │  $67.21M  \n",
       "    DAI  │   89.26M  │      $1.00  │  $89.28M  \n",
       "    BAL  │  240.28K  │      $5.41  │   $1.30M  \n"
      ]
     },
     "metadata": {},
     "output_type": "display_data"
    }
   ],
   "source": [
    "await fei_utils.async_print_pcv_assets()"
   ]
  },
  {
   "cell_type": "markdown",
   "id": "dc10f398",
   "metadata": {
    "ExecuteTime": {
     "end_time": "2022-04-26T18:10:49.401016Z",
     "start_time": "2022-04-26T18:10:49.397182Z"
    }
   },
   "source": [
    "## Print PCV deposit summary"
   ]
  },
  {
   "cell_type": "code",
   "execution_count": 6,
   "id": "56318bea",
   "metadata": {
    "ExecuteTime": {
     "end_time": "2022-09-23T03:43:13.121337Z",
     "start_time": "2022-09-23T03:43:12.913910Z"
    }
   },
   "outputs": [
    {
     "data": {
      "text/html": [
       "<pre style=\"white-space:pre;overflow-x:auto;line-height:normal;font-family:Menlo,'DejaVu Sans Mono',consolas,'Courier New',monospace\">┌──────────────────┐\n",
       "│ FEI PCV Deposits │\n",
       "└──────────────────┘\n",
       "</pre>\n"
      ],
      "text/plain": [
       "┌──────────────────┐\n",
       "│ FEI PCV Deposits │\n",
       "└──────────────────┘\n"
      ]
     },
     "metadata": {},
     "output_type": "display_data"
    },
    {
     "data": {
      "text/html": [
       "<pre style=\"white-space:pre;overflow-x:auto;line-height:normal;font-family:Menlo,'DejaVu Sans Mono',consolas,'Courier New',monospace\">  asset  │    balance  │               name  │                                     address  \n",
       "─────────┼─────────────┼─────────────────────┼──────────────────────────────────────────────\n",
       "   LUSD  │    $17.68K  │                     │  0x4378de2f2991fbed6616b34ac7727e7653713712  \n",
       "   WETH  │      $0.00  │                     │  0xc6d675ca5217d39c3a5e366141060fc2d1ea2b82  \n",
       "   WETH  │  $1.83e-13  │                     │  0xf24401f6992faeacbc5d6c6991db15b5f8364a1b  \n",
       "   WETH  │    $66.90M  │                     │  0x6e5f2745c08249a190239763706473be0b72816d  \n",
       "   WETH  │   $304.13K  │     Balancer Pool2  │  0xd8eb546726d449fc1ded06dfeca800a2fa8bb930  \n",
       "    DAI  │    $82.14M  │                     │  0x8ffae111ab06f532a18418190129373d14570014  \n",
       "    DAI  │     $7.15M  │        FEI-DAI PSM  │  0x2a188f9eb761f70ecea083ba6c2a40145078dfc2  \n",
       "    DAI  │  $3.56e-12  │                     │  0xdf9ff5c077d9f3427ade67ac2d27a864be6f3187  \n",
       "    BAL  │      $0.00  │  Balancer BAL-WETH  │  0xcd1ac0014e2ebd972f40f24df1694e6f528b2fd4  \n",
       "    BAL  │     $1.23M  │     Balancer veBAL  │  0x8cba3149b95084a61bbab9e01110b0fb92c9a289  \n",
       "    BAL  │    $72.43K  │                     │  0x66977ce30049cd0e443216bf26377966c3a109e2  \n",
       "</pre>\n"
      ],
      "text/plain": [
       "  asset  │    balance  │               name  │                                     address  \n",
       "─────────┼─────────────┼─────────────────────┼──────────────────────────────────────────────\n",
       "   LUSD  │    $17.68K  │                     │  0x4378de2f2991fbed6616b34ac7727e7653713712  \n",
       "   WETH  │      $0.00  │                     │  0xc6d675ca5217d39c3a5e366141060fc2d1ea2b82  \n",
       "   WETH  │  $1.83e-13  │                     │  0xf24401f6992faeacbc5d6c6991db15b5f8364a1b  \n",
       "   WETH  │    $66.90M  │                     │  0x6e5f2745c08249a190239763706473be0b72816d  \n",
       "   WETH  │   $304.13K  │     Balancer Pool2  │  0xd8eb546726d449fc1ded06dfeca800a2fa8bb930  \n",
       "    DAI  │    $82.14M  │                     │  0x8ffae111ab06f532a18418190129373d14570014  \n",
       "    DAI  │     $7.15M  │        FEI-DAI PSM  │  0x2a188f9eb761f70ecea083ba6c2a40145078dfc2  \n",
       "    DAI  │  $3.56e-12  │                     │  0xdf9ff5c077d9f3427ade67ac2d27a864be6f3187  \n",
       "    BAL  │      $0.00  │  Balancer BAL-WETH  │  0xcd1ac0014e2ebd972f40f24df1694e6f528b2fd4  \n",
       "    BAL  │     $1.23M  │     Balancer veBAL  │  0x8cba3149b95084a61bbab9e01110b0fb92c9a289  \n",
       "    BAL  │    $72.43K  │                     │  0x66977ce30049cd0e443216bf26377966c3a109e2  \n"
      ]
     },
     "metadata": {},
     "output_type": "display_data"
    },
    {
     "name": "stdout",
     "output_type": "stream",
     "text": [
      "\n"
     ]
    },
    {
     "data": {
      "text/html": [
       "<pre style=\"white-space:pre;overflow-x:auto;line-height:normal;font-family:Menlo,'DejaVu Sans Mono',consolas,'Courier New',monospace\">┌─────────────────┐\n",
       "│ FEI Deployments │\n",
       "└─────────────────┘\n",
       "</pre>\n"
      ],
      "text/plain": [
       "┌─────────────────┐\n",
       "│ FEI Deployments │\n",
       "└─────────────────┘\n"
      ]
     },
     "metadata": {},
     "output_type": "display_data"
    },
    {
     "data": {
      "text/html": [
       "<pre style=\"white-space:pre;overflow-x:auto;line-height:normal;font-family:Menlo,'DejaVu Sans Mono',consolas,'Courier New',monospace\">  asset  │   balance  │              name  │                                     address  \n",
       "─────────┼────────────┼────────────────────┼──────────────────────────────────────────────\n",
       "    FEI  │    $2.63M  │                    │  0x614d46b7eb2ac1a359b8835d64954f3ee4e6f676  \n",
       "    FEI  │  $7.88e-5  │  Fuse Pool 79 FEI  │  0xb3a026b830796e43bfc8b135553a7573538ab341  \n",
       "</pre>\n"
      ],
      "text/plain": [
       "  asset  │   balance  │              name  │                                     address  \n",
       "─────────┼────────────┼────────────────────┼──────────────────────────────────────────────\n",
       "    FEI  │    $2.63M  │                    │  0x614d46b7eb2ac1a359b8835d64954f3ee4e6f676  \n",
       "    FEI  │  $7.88e-5  │  Fuse Pool 79 FEI  │  0xb3a026b830796e43bfc8b135553a7573538ab341  \n"
      ]
     },
     "metadata": {},
     "output_type": "display_data"
    }
   ],
   "source": [
    "await fei_utils.async_print_pcv_deposits()"
   ]
  },
  {
   "cell_type": "markdown",
   "id": "2623f64d",
   "metadata": {
    "ExecuteTime": {
     "end_time": "2022-04-26T18:22:17.396303Z",
     "start_time": "2022-04-26T18:22:17.392327Z"
    }
   },
   "source": [
    "## Create data payload for `app.fei.money/analytics`"
   ]
  },
  {
   "cell_type": "code",
   "execution_count": 7,
   "id": "0cdf6b44",
   "metadata": {
    "ExecuteTime": {
     "end_time": "2022-09-23T03:46:00.313326Z",
     "start_time": "2022-09-23T03:43:13.122503Z"
    }
   },
   "outputs": [],
   "source": [
    "payload = await fei_utils.async_create_payload(timescale='30d,1d')"
   ]
  }
 ],
 "metadata": {
  "kernelspec": {
   "display_name": "Python 3",
   "language": "python",
   "name": "python3"
  },
  "language_info": {
   "codemirror_mode": {
    "name": "ipython",
    "version": 3
   },
   "file_extension": ".py",
   "mimetype": "text/x-python",
   "name": "python",
   "nbconvert_exporter": "python",
   "pygments_lexer": "ipython3",
   "version": "3.9.5"
  }
 },
 "nbformat": 4,
 "nbformat_minor": 5
}
