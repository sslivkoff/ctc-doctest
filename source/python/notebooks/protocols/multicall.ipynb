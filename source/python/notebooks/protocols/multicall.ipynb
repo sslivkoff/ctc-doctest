{
 "cells": [
  {
   "cell_type": "markdown",
   "id": "c7dfc5e1",
   "metadata": {
    "ExecuteTime": {
     "end_time": "2022-09-25T21:42:03.567129Z",
     "start_time": "2022-09-25T21:42:03.562500Z"
    }
   },
   "source": [
    "## [Examples coming soon]"
   ]
  }
 ],
 "metadata": {
  "kernelspec": {
   "display_name": "Python 3",
   "language": "python",
   "name": "python3"
  },
  "language_info": {
   "codemirror_mode": {
    "name": "ipython",
    "version": 3
   },
   "file_extension": ".py",
   "mimetype": "text/x-python",
   "name": "python",
   "nbconvert_exporter": "python",
   "pygments_lexer": "ipython3",
   "version": "3.9.5"
  }
 },
 "nbformat": 4,
 "nbformat_minor": 5
}
