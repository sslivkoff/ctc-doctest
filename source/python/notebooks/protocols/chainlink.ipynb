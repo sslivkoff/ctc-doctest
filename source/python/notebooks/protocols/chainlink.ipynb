{
 "cells": [
  {
   "cell_type": "code",
   "execution_count": 1,
   "id": "791e4871",
   "metadata": {
    "ExecuteTime": {
     "end_time": "2022-09-22T19:35:47.166573Z",
     "start_time": "2022-09-22T19:35:47.055098Z"
    }
   },
   "outputs": [],
   "source": [
    "from ctc.protocols import chainlink_utils"
   ]
  },
  {
   "cell_type": "code",
   "execution_count": 2,
   "id": "303a3c43",
   "metadata": {
    "ExecuteTime": {
     "end_time": "2022-09-22T19:35:47.169581Z",
     "start_time": "2022-09-22T19:35:47.167792Z"
    }
   },
   "outputs": [],
   "source": [
    "feed = 'ETH_USD'"
   ]
  },
  {
   "cell_type": "markdown",
   "id": "c5509a44",
   "metadata": {
    "ExecuteTime": {
     "end_time": "2022-09-21T16:40:58.224673Z",
     "start_time": "2022-09-21T16:40:58.220866Z"
    }
   },
   "source": [
    "## Get feed address"
   ]
  },
  {
   "cell_type": "code",
   "execution_count": 3,
   "id": "b60bc9e4",
   "metadata": {
    "ExecuteTime": {
     "end_time": "2022-09-22T19:35:47.248808Z",
     "start_time": "2022-09-22T19:35:47.170590Z"
    }
   },
   "outputs": [
    {
     "data": {
      "text/plain": [
       "'0x5f4ec3df9cbd43714fe2740f5e3616155c5b8419'"
      ]
     },
     "execution_count": 3,
     "metadata": {},
     "output_type": "execute_result"
    }
   ],
   "source": [
    "await chainlink_utils.async_resolve_feed_address(feed)"
   ]
  },
  {
   "cell_type": "markdown",
   "id": "86acd9ea",
   "metadata": {
    "ExecuteTime": {
     "end_time": "2022-04-26T18:27:05.623030Z",
     "start_time": "2022-04-26T18:27:05.618801Z"
    }
   },
   "source": [
    "## Get current value of feed"
   ]
  },
  {
   "cell_type": "code",
   "execution_count": 4,
   "id": "ab0dccb6",
   "metadata": {
    "ExecuteTime": {
     "end_time": "2022-09-22T19:35:47.889450Z",
     "start_time": "2022-09-22T19:35:47.249523Z"
    }
   },
   "outputs": [
    {
     "data": {
      "text/plain": [
       "1310.71543978"
      ]
     },
     "execution_count": 4,
     "metadata": {},
     "output_type": "execute_result"
    }
   ],
   "source": [
    "await chainlink_utils.async_get_feed_datum(feed)"
   ]
  },
  {
   "cell_type": "markdown",
   "id": "05c79201",
   "metadata": {
    "ExecuteTime": {
     "end_time": "2022-04-26T18:42:19.515950Z",
     "start_time": "2022-04-26T18:42:19.511886Z"
    }
   },
   "source": [
    "## Get historical values of a feed"
   ]
  },
  {
   "cell_type": "code",
   "execution_count": 5,
   "id": "1cab4735",
   "metadata": {
    "ExecuteTime": {
     "end_time": "2022-09-22T19:35:50.639514Z",
     "start_time": "2022-09-22T19:35:47.890384Z"
    },
    "scrolled": true
   },
   "outputs": [
    {
     "data": {
      "text/plain": [
       "block_number\n",
       "10606572         399.33\n",
       "10606572         399.37\n",
       "10606572         399.33\n",
       "10606573         399.37\n",
       "10606573         399.33\n",
       "               ...     \n",
       "15590706      1302.6112\n",
       "15590769        1295.71\n",
       "15590794      1302.9245\n",
       "15590809    1303.324707\n",
       "15590890     1310.71544\n",
       "Name: answer, Length: 237346, dtype: object"
      ]
     },
     "execution_count": 5,
     "metadata": {},
     "output_type": "execute_result"
    }
   ],
   "source": [
    "feed_data = await chainlink_utils.async_get_feed_data(feed)\n",
    "\n",
    "feed_data"
   ]
  },
  {
   "cell_type": "markdown",
   "id": "cd225902",
   "metadata": {
    "ExecuteTime": {
     "end_time": "2022-04-26T18:43:24.435077Z",
     "start_time": "2022-04-26T18:43:24.431440Z"
    }
   },
   "source": [
    "## Get interpolated historical values of a feed"
   ]
  },
  {
   "cell_type": "code",
   "execution_count": 6,
   "id": "ec4a72dc",
   "metadata": {
    "ExecuteTime": {
     "end_time": "2022-09-22T19:35:55.847190Z",
     "start_time": "2022-09-22T19:35:50.640851Z"
    }
   },
   "outputs": [
    {
     "data": {
      "text/plain": [
       "block_number\n",
       "10606572     399.33000\n",
       "10606573     399.32000\n",
       "10606574     399.32500\n",
       "10606575     399.32000\n",
       "10606576     399.32000\n",
       "               ...    \n",
       "15591003    1310.71544\n",
       "15591004    1310.71544\n",
       "15591005    1310.71544\n",
       "15591006    1310.71544\n",
       "15591007    1310.71544\n",
       "Name: answer, Length: 4984436, dtype: float64"
      ]
     },
     "execution_count": 6,
     "metadata": {},
     "output_type": "execute_result"
    }
   ],
   "source": [
    "feed_data = await chainlink_utils.async_get_feed_data(feed, interpolate=True)\n",
    "\n",
    "feed_data"
   ]
  },
  {
   "cell_type": "markdown",
   "id": "bc3b9b28",
   "metadata": {
    "ExecuteTime": {
     "end_time": "2022-09-21T16:38:32.759257Z",
     "start_time": "2022-09-21T16:38:32.756739Z"
    }
   },
   "source": [
    "## Get feed aggregator history"
   ]
  },
  {
   "cell_type": "code",
   "execution_count": 7,
   "id": "506db087",
   "metadata": {
    "ExecuteTime": {
     "end_time": "2022-09-22T19:35:56.796505Z",
     "start_time": "2022-09-22T19:35:55.848167Z"
    }
   },
   "outputs": [
    {
     "data": {
      "text/plain": [
       "['0xf79d6afbb6da890132f9d7c355e3015f15f3406f',\n",
       " '0xb103ede8acd6f0c106b7a5772e9d24e34f5ebc2c',\n",
       " '0x00c7a37b03690fb9f41b5c5af8131735c7275446',\n",
       " '0xd3fcd40153e56110e6eeae13e12530e26c9cb4fd',\n",
       " '0x37bc7498f4ff12c19678ee8fe19d713b87f6a9e6']"
      ]
     },
     "execution_count": 7,
     "metadata": {},
     "output_type": "execute_result"
    }
   ],
   "source": [
    "await chainlink_utils.async_get_feed_previous_aggregators(feed)"
   ]
  },
  {
   "cell_type": "code",
   "execution_count": 8,
   "id": "b6a3f89b",
   "metadata": {
    "ExecuteTime": {
     "end_time": "2022-09-22T19:35:56.883247Z",
     "start_time": "2022-09-22T19:35:56.797550Z"
    }
   },
   "outputs": [
    {
     "data": {
      "text/plain": [
       "{'0xf79d6afbb6da890132f9d7c355e3015f15f3406f': 10606501,\n",
       " '0xb103ede8acd6f0c106b7a5772e9d24e34f5ebc2c': 10607120,\n",
       " '0x00c7a37b03690fb9f41b5c5af8131735c7275446': 11008985,\n",
       " '0xd3fcd40153e56110e6eeae13e12530e26c9cb4fd': 12187957,\n",
       " '0x37bc7498f4ff12c19678ee8fe19d713b87f6a9e6': 12453813}"
      ]
     },
     "execution_count": 8,
     "metadata": {},
     "output_type": "execute_result"
    }
   ],
   "source": [
    "# blocks where aggregators updated\n",
    "\n",
    "await chainlink_utils.async_get_feed_aggregator_history(feed)"
   ]
  }
 ],
 "metadata": {
  "kernelspec": {
   "display_name": "Python 3",
   "language": "python",
   "name": "python3"
  },
  "language_info": {
   "codemirror_mode": {
    "name": "ipython",
    "version": 3
   },
   "file_extension": ".py",
   "mimetype": "text/x-python",
   "name": "python",
   "nbconvert_exporter": "python",
   "pygments_lexer": "ipython3",
   "version": "3.9.5"
  }
 },
 "nbformat": 4,
 "nbformat_minor": 5
}
