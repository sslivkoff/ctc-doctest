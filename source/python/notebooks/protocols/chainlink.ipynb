{
 "cells": [
  {
   "cell_type": "code",
   "execution_count": 1,
   "id": "791e4871",
   "metadata": {
    "ExecuteTime": {
     "end_time": "2022-09-25T22:53:21.308661Z",
     "start_time": "2022-09-25T22:53:21.114030Z"
    }
   },
   "outputs": [],
   "source": [
    "from ctc.protocols import chainlink_utils"
   ]
  },
  {
   "cell_type": "code",
   "execution_count": 2,
   "id": "303a3c43",
   "metadata": {
    "ExecuteTime": {
     "end_time": "2022-09-25T22:53:21.313248Z",
     "start_time": "2022-09-25T22:53:21.310444Z"
    }
   },
   "outputs": [],
   "source": [
    "feed = 'ETH_USD'"
   ]
  },
  {
   "cell_type": "markdown",
   "id": "c5509a44",
   "metadata": {
    "ExecuteTime": {
     "end_time": "2022-09-21T16:40:58.224673Z",
     "start_time": "2022-09-21T16:40:58.220866Z"
    }
   },
   "source": [
    "## Get feed address"
   ]
  },
  {
   "cell_type": "code",
   "execution_count": 3,
   "id": "b60bc9e4",
   "metadata": {
    "ExecuteTime": {
     "end_time": "2022-09-25T22:53:21.432294Z",
     "start_time": "2022-09-25T22:53:21.314678Z"
    }
   },
   "outputs": [
    {
     "data": {
      "text/plain": [
       "'0x5f4ec3df9cbd43714fe2740f5e3616155c5b8419'"
      ]
     },
     "execution_count": 3,
     "metadata": {},
     "output_type": "execute_result"
    }
   ],
   "source": [
    "await chainlink_utils.async_resolve_feed_address(feed)"
   ]
  },
  {
   "cell_type": "markdown",
   "id": "86acd9ea",
   "metadata": {
    "ExecuteTime": {
     "end_time": "2022-04-26T18:27:05.623030Z",
     "start_time": "2022-04-26T18:27:05.618801Z"
    }
   },
   "source": [
    "## Get current value of feed"
   ]
  },
  {
   "cell_type": "code",
   "execution_count": 4,
   "id": "ab0dccb6",
   "metadata": {
    "ExecuteTime": {
     "end_time": "2022-09-25T22:53:21.717567Z",
     "start_time": "2022-09-25T22:53:21.433464Z"
    }
   },
   "outputs": [
    {
     "data": {
      "text/plain": [
       "1295.91"
      ]
     },
     "execution_count": 4,
     "metadata": {},
     "output_type": "execute_result"
    }
   ],
   "source": [
    "await chainlink_utils.async_get_feed_datum(feed)"
   ]
  },
  {
   "cell_type": "markdown",
   "id": "05c79201",
   "metadata": {
    "ExecuteTime": {
     "end_time": "2022-04-26T18:42:19.515950Z",
     "start_time": "2022-04-26T18:42:19.511886Z"
    }
   },
   "source": [
    "## Get historical values of a feed"
   ]
  },
  {
   "cell_type": "code",
   "execution_count": 5,
   "id": "1cab4735",
   "metadata": {
    "ExecuteTime": {
     "end_time": "2022-09-25T22:53:24.761478Z",
     "start_time": "2022-09-25T22:53:21.718486Z"
    },
    "scrolled": true
   },
   "outputs": [
    {
     "data": {
      "text/plain": [
       "block_number\n",
       "10606572         399.33\n",
       "10606572         399.37\n",
       "10606572         399.33\n",
       "10606573         399.37\n",
       "10606573         399.33\n",
       "               ...     \n",
       "15613216        1287.27\n",
       "15613248    1273.925028\n",
       "15613287    1280.742804\n",
       "15613305    1288.935935\n",
       "15613347        1295.91\n",
       "Name: answer, Length: 237563, dtype: object"
      ]
     },
     "execution_count": 5,
     "metadata": {},
     "output_type": "execute_result"
    }
   ],
   "source": [
    "feed_data = await chainlink_utils.async_get_feed_data(feed)\n",
    "\n",
    "feed_data"
   ]
  },
  {
   "cell_type": "markdown",
   "id": "cd225902",
   "metadata": {
    "ExecuteTime": {
     "end_time": "2022-04-26T18:43:24.435077Z",
     "start_time": "2022-04-26T18:43:24.431440Z"
    }
   },
   "source": [
    "## Get interpolated historical values of a feed"
   ]
  },
  {
   "cell_type": "code",
   "execution_count": 6,
   "id": "ec4a72dc",
   "metadata": {
    "ExecuteTime": {
     "end_time": "2022-09-25T22:53:32.246786Z",
     "start_time": "2022-09-25T22:53:24.763120Z"
    }
   },
   "outputs": [
    {
     "data": {
      "text/plain": [
       "block_number\n",
       "10606572     399.330\n",
       "10606573     399.320\n",
       "10606574     399.325\n",
       "10606575     399.320\n",
       "10606576     399.320\n",
       "              ...   \n",
       "15613492    1295.910\n",
       "15613493    1295.910\n",
       "15613494    1295.910\n",
       "15613495    1295.910\n",
       "15613496    1295.910\n",
       "Name: answer, Length: 5006925, dtype: float64"
      ]
     },
     "execution_count": 6,
     "metadata": {},
     "output_type": "execute_result"
    }
   ],
   "source": [
    "feed_data = await chainlink_utils.async_get_feed_data(feed, interpolate=True)\n",
    "\n",
    "feed_data"
   ]
  },
  {
   "cell_type": "markdown",
   "id": "bc3b9b28",
   "metadata": {
    "ExecuteTime": {
     "end_time": "2022-09-21T16:38:32.759257Z",
     "start_time": "2022-09-21T16:38:32.756739Z"
    }
   },
   "source": [
    "## Get feed aggregator history"
   ]
  },
  {
   "cell_type": "code",
   "execution_count": 7,
   "id": "506db087",
   "metadata": {
    "ExecuteTime": {
     "end_time": "2022-09-25T22:53:32.514379Z",
     "start_time": "2022-09-25T22:53:32.248222Z"
    }
   },
   "outputs": [
    {
     "data": {
      "text/plain": [
       "['0xf79d6afbb6da890132f9d7c355e3015f15f3406f',\n",
       " '0xb103ede8acd6f0c106b7a5772e9d24e34f5ebc2c',\n",
       " '0x00c7a37b03690fb9f41b5c5af8131735c7275446',\n",
       " '0xd3fcd40153e56110e6eeae13e12530e26c9cb4fd',\n",
       " '0x37bc7498f4ff12c19678ee8fe19d713b87f6a9e6']"
      ]
     },
     "execution_count": 7,
     "metadata": {},
     "output_type": "execute_result"
    }
   ],
   "source": [
    "await chainlink_utils.async_get_feed_previous_aggregators(feed)"
   ]
  },
  {
   "cell_type": "code",
   "execution_count": 8,
   "id": "b6a3f89b",
   "metadata": {
    "ExecuteTime": {
     "end_time": "2022-09-25T22:53:32.637775Z",
     "start_time": "2022-09-25T22:53:32.515440Z"
    }
   },
   "outputs": [
    {
     "data": {
      "text/plain": [
       "{'0xf79d6afbb6da890132f9d7c355e3015f15f3406f': 10606501,\n",
       " '0xb103ede8acd6f0c106b7a5772e9d24e34f5ebc2c': 10607120,\n",
       " '0x00c7a37b03690fb9f41b5c5af8131735c7275446': 11008985,\n",
       " '0xd3fcd40153e56110e6eeae13e12530e26c9cb4fd': 12187957,\n",
       " '0x37bc7498f4ff12c19678ee8fe19d713b87f6a9e6': 12453813}"
      ]
     },
     "execution_count": 8,
     "metadata": {},
     "output_type": "execute_result"
    }
   ],
   "source": [
    "# blocks where aggregators updated\n",
    "\n",
    "await chainlink_utils.async_get_feed_aggregator_history(feed)"
   ]
  }
 ],
 "metadata": {
  "kernelspec": {
   "display_name": "Python 3",
   "language": "python",
   "name": "python3"
  },
  "language_info": {
   "codemirror_mode": {
    "name": "ipython",
    "version": 3
   },
   "file_extension": ".py",
   "mimetype": "text/x-python",
   "name": "python",
   "nbconvert_exporter": "python",
   "pygments_lexer": "ipython3",
   "version": "3.9.5"
  }
 },
 "nbformat": 4,
 "nbformat_minor": 5
}
