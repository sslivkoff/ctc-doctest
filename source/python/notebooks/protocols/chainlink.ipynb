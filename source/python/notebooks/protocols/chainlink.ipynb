{
 "cells": [
  {
   "cell_type": "code",
   "execution_count": 1,
   "id": "791e4871",
   "metadata": {
    "ExecuteTime": {
     "end_time": "2022-04-26T20:20:53.115447Z",
     "start_time": "2022-04-26T20:20:52.839602Z"
    }
   },
   "outputs": [],
   "source": [
    "from ctc.protocols import chainlink_utils"
   ]
  },
  {
   "cell_type": "code",
   "execution_count": 2,
   "id": "303a3c43",
   "metadata": {
    "ExecuteTime": {
     "end_time": "2022-04-26T20:20:53.117993Z",
     "start_time": "2022-04-26T20:20:53.116522Z"
    }
   },
   "outputs": [],
   "source": [
    "feed = 'FEI_USD'"
   ]
  },
  {
   "cell_type": "markdown",
   "id": "74387d06",
   "metadata": {
    "ExecuteTime": {
     "end_time": "2022-04-26T18:26:34.939184Z",
     "start_time": "2022-04-26T18:26:34.937470Z"
    }
   },
   "source": [
    "## Summarize Feed"
   ]
  },
  {
   "cell_type": "code",
   "execution_count": 3,
   "id": "20d47fff",
   "metadata": {
    "ExecuteTime": {
     "end_time": "2022-04-26T20:20:54.849300Z",
     "start_time": "2022-04-26T20:20:53.118947Z"
    }
   },
   "outputs": [
    {
     "name": "stdout",
     "output_type": "stream",
     "text": [
      "┌───────────────────────────────────┐\n",
      "│ Chainlink Feed Summary: FEI / USD │\n",
      "└───────────────────────────────────┘\n",
      "- name: FEI / USD\n",
      "- address: 0x31e0a88fecb6ec0a411dbe0e9e76391498296ee9\n",
      "- aggregator: 0x1d244648d5a63618751d006886268ae3550d0dfd\n",
      "- decimals: 8\n",
      "\n",
      "\n",
      "Recent Updates\n",
      "──────────────\n",
      "\n",
      "      value       │  age         │  block     │  timestamp   │  time                  \n",
      "    ──────────────┼──────────────┼────────────┼──────────────┼────────────────────────\n",
      "      0.998108    │  15 minutes  │  14662123  │  1651003533  │  2022-04-26 20:05:33Z  \n",
      "      0.997365    │  1 hours     │  14661863  │  1650999925  │  2022-04-26 19:05:25Z  \n",
      "      0.995403    │  2 hours     │  14661614  │  1650996330  │  2022-04-26 18:05:30Z  \n",
      "      0.996719    │  3 hours     │  14661346  │  1650992723  │  2022-04-26 17:05:23Z  \n",
      "      0.996706    │  4 hours     │  14661090  │  1650989118  │  2022-04-26 16:05:18Z  \n",
      "      0.99725072  │  5 hours     │  14660817  │  1650985550  │  2022-04-26 15:05:50Z  \n",
      "      0.99548     │  6 hours     │  14660562  │  1650981933  │  2022-04-26 14:05:33Z  \n",
      "      0.996838    │  7 hours     │  14660312  │  1650978379  │  2022-04-26 13:06:19Z  \n",
      "      0.99830072  │  8 hours     │  14660046  │  1650974799  │  2022-04-26 12:06:39Z  \n",
      "      0.996877    │  9 hours     │  14659806  │  1650971206  │  2022-04-26 11:06:46Z  \n"
     ]
    }
   ],
   "source": [
    "await chainlink_utils.async_summarize_feed(feed)"
   ]
  },
  {
   "cell_type": "markdown",
   "id": "86acd9ea",
   "metadata": {
    "ExecuteTime": {
     "end_time": "2022-04-26T18:27:05.623030Z",
     "start_time": "2022-04-26T18:27:05.618801Z"
    }
   },
   "source": [
    "## Get current value of feed"
   ]
  },
  {
   "cell_type": "code",
   "execution_count": 4,
   "id": "ab0dccb6",
   "metadata": {
    "ExecuteTime": {
     "end_time": "2022-04-26T20:20:54.967112Z",
     "start_time": "2022-04-26T20:20:54.850241Z"
    }
   },
   "outputs": [
    {
     "data": {
      "text/plain": [
       "0.998108"
      ]
     },
     "execution_count": 4,
     "metadata": {},
     "output_type": "execute_result"
    }
   ],
   "source": [
    "await chainlink_utils.async_get_feed_datum(feed)"
   ]
  },
  {
   "cell_type": "markdown",
   "id": "05c79201",
   "metadata": {
    "ExecuteTime": {
     "end_time": "2022-04-26T18:42:19.515950Z",
     "start_time": "2022-04-26T18:42:19.511886Z"
    }
   },
   "source": [
    "## Get historical values of a feed"
   ]
  },
  {
   "cell_type": "code",
   "execution_count": 5,
   "id": "1cab4735",
   "metadata": {
    "ExecuteTime": {
     "end_time": "2022-04-26T20:20:55.429985Z",
     "start_time": "2022-04-26T20:20:54.968815Z"
    }
   },
   "outputs": [
    {
     "data": {
      "text/plain": [
       "block_number\n",
       "12907805    1.005519\n",
       "12908175    1.017371\n",
       "12908243    1.007141\n",
       "12914636    1.001345\n",
       "12920910    1.002064\n",
       "              ...   \n",
       "14661090    0.996706\n",
       "14661346    0.996719\n",
       "14661614    0.995403\n",
       "14661863    0.997365\n",
       "14662123    0.998108\n",
       "Name: answer, Length: 4432, dtype: object"
      ]
     },
     "execution_count": 5,
     "metadata": {},
     "output_type": "execute_result"
    }
   ],
   "source": [
    "feed_data = await chainlink_utils.async_get_feed_data(feed)\n",
    "\n",
    "feed_data"
   ]
  },
  {
   "cell_type": "markdown",
   "id": "cd225902",
   "metadata": {
    "ExecuteTime": {
     "end_time": "2022-04-26T18:43:24.435077Z",
     "start_time": "2022-04-26T18:43:24.431440Z"
    }
   },
   "source": [
    "## Get interpolated historical values of a feed"
   ]
  },
  {
   "cell_type": "code",
   "execution_count": 6,
   "id": "ec4a72dc",
   "metadata": {
    "ExecuteTime": {
     "end_time": "2022-04-26T20:20:56.595093Z",
     "start_time": "2022-04-26T20:20:55.431015Z"
    }
   },
   "outputs": [
    {
     "data": {
      "text/plain": [
       "block_number\n",
       "12907805    1.005519\n",
       "12907806    1.005519\n",
       "12907807    1.005519\n",
       "12907808    1.005519\n",
       "12907809    1.005519\n",
       "              ...   \n",
       "14662171    0.998108\n",
       "14662172    0.998108\n",
       "14662173    0.998108\n",
       "14662174    0.998108\n",
       "14662175    0.998108\n",
       "Name: answer, Length: 1754371, dtype: float64"
      ]
     },
     "execution_count": 6,
     "metadata": {},
     "output_type": "execute_result"
    }
   ],
   "source": [
    "feed_data = await chainlink_utils.async_get_feed_data(feed, interpolate=True)\n",
    "\n",
    "feed_data"
   ]
  }
 ],
 "metadata": {
  "kernelspec": {
   "display_name": "Python 3",
   "language": "python",
   "name": "python3"
  },
  "language_info": {
   "codemirror_mode": {
    "name": "ipython",
    "version": 3
   },
   "file_extension": ".py",
   "mimetype": "text/x-python",
   "name": "python",
   "nbconvert_exporter": "python",
   "pygments_lexer": "ipython3",
   "version": "3.9.5"
  }
 },
 "nbformat": 4,
 "nbformat_minor": 5
}
