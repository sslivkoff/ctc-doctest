{
 "cells": [
  {
   "cell_type": "code",
   "execution_count": 1,
   "id": "1102f146",
   "metadata": {
    "ExecuteTime": {
     "end_time": "2022-04-26T07:06:28.387453Z",
     "start_time": "2022-04-26T07:06:28.113546Z"
    }
   },
   "outputs": [],
   "source": [
    "from ctc import evm\n",
    "from ctc import binary\n",
    "from ctc import rpc"
   ]
  },
  {
   "cell_type": "code",
   "execution_count": 2,
   "id": "5d4d7955",
   "metadata": {
    "ExecuteTime": {
     "end_time": "2022-04-26T07:06:28.389956Z",
     "start_time": "2022-04-26T07:06:28.388501Z"
    }
   },
   "outputs": [],
   "source": [
    "address = '0x956f47f50a910163d8bf957cf5846d573e7f87ca'"
   ]
  },
  {
   "cell_type": "markdown",
   "id": "d6c4fe4a",
   "metadata": {
    "ExecuteTime": {
     "end_time": "2022-04-26T05:50:51.592094Z",
     "start_time": "2022-04-26T05:50:51.590308Z"
    }
   },
   "source": [
    "## Get contract ABI"
   ]
  },
  {
   "cell_type": "code",
   "execution_count": 3,
   "id": "b29c21a1",
   "metadata": {
    "ExecuteTime": {
     "end_time": "2022-04-26T07:06:28.397834Z",
     "start_time": "2022-04-26T07:06:28.390768Z"
    }
   },
   "outputs": [
    {
     "name": "stdout",
     "output_type": "stream",
     "text": [
      "38 items\n",
      "\n",
      "last item: {'inputs': [], 'name': 'unpause', 'outputs': [], 'stateMutability': 'nonpayable', 'type': 'function'}\n"
     ]
    }
   ],
   "source": [
    "contract_abi = await evm.async_get_contract_abi(contract_address=address)\n",
    "\n",
    "print(len(contract_abi), 'items')\n",
    "print()\n",
    "print('last item:', contract_abi[-1])"
   ]
  },
  {
   "cell_type": "markdown",
   "id": "fdcadde7",
   "metadata": {
    "ExecuteTime": {
     "end_time": "2022-04-26T05:49:39.395611Z",
     "start_time": "2022-04-26T05:49:39.392177Z"
    }
   },
   "source": [
    "## Get function ABI by name"
   ]
  },
  {
   "cell_type": "code",
   "execution_count": 4,
   "id": "62365171",
   "metadata": {
    "ExecuteTime": {
     "end_time": "2022-04-26T07:06:28.404305Z",
     "start_time": "2022-04-26T07:06:28.398688Z"
    }
   },
   "outputs": [
    {
     "data": {
      "text/plain": [
       "{'inputs': [],\n",
       " 'name': 'totalSupply',\n",
       " 'outputs': [{'internalType': 'uint256', 'name': '', 'type': 'uint256'}],\n",
       " 'stateMutability': 'view',\n",
       " 'type': 'function'}"
      ]
     },
     "execution_count": 4,
     "metadata": {},
     "output_type": "execute_result"
    }
   ],
   "source": [
    "await evm.async_get_function_abi(\n",
    "    contract_address=address,\n",
    "    function_name='totalSupply',\n",
    ")"
   ]
  },
  {
   "cell_type": "markdown",
   "id": "d00aea83",
   "metadata": {
    "ExecuteTime": {
     "end_time": "2022-04-26T05:50:12.000569Z",
     "start_time": "2022-04-26T05:50:11.997067Z"
    }
   },
   "source": [
    "## Get function ABI by selector"
   ]
  },
  {
   "cell_type": "code",
   "execution_count": 5,
   "id": "df904a17",
   "metadata": {
    "ExecuteTime": {
     "end_time": "2022-04-26T07:06:28.559473Z",
     "start_time": "2022-04-26T07:06:28.405149Z"
    }
   },
   "outputs": [
    {
     "data": {
      "text/plain": [
       "{'inputs': [],\n",
       " 'name': 'totalSupply',\n",
       " 'outputs': [{'internalType': 'uint256', 'name': '', 'type': 'uint256'}],\n",
       " 'stateMutability': 'view',\n",
       " 'type': 'function'}"
      ]
     },
     "execution_count": 5,
     "metadata": {},
     "output_type": "execute_result"
    }
   ],
   "source": [
    "function_abi =  await evm.async_get_function_abi(\n",
    "    contract_address=address,\n",
    "    function_selector='0x18160ddd',\n",
    ")\n",
    "\n",
    "function_abi"
   ]
  },
  {
   "cell_type": "markdown",
   "id": "4c39389b",
   "metadata": {
    "ExecuteTime": {
     "end_time": "2022-04-26T05:47:28.406325Z",
     "start_time": "2022-04-26T05:47:28.402556Z"
    }
   },
   "source": [
    "## Get event ABI by name"
   ]
  },
  {
   "cell_type": "code",
   "execution_count": 6,
   "id": "52899b82",
   "metadata": {
    "ExecuteTime": {
     "end_time": "2022-04-26T07:06:28.563196Z",
     "start_time": "2022-04-26T07:06:28.560350Z"
    }
   },
   "outputs": [
    {
     "data": {
      "text/plain": [
       "{'anonymous': False,\n",
       " 'inputs': [{'indexed': True,\n",
       "   'internalType': 'address',\n",
       "   'name': 'from',\n",
       "   'type': 'address'},\n",
       "  {'indexed': True,\n",
       "   'internalType': 'address',\n",
       "   'name': 'to',\n",
       "   'type': 'address'},\n",
       "  {'indexed': False,\n",
       "   'internalType': 'uint256',\n",
       "   'name': 'value',\n",
       "   'type': 'uint256'}],\n",
       " 'name': 'Transfer',\n",
       " 'type': 'event'}"
      ]
     },
     "execution_count": 6,
     "metadata": {},
     "output_type": "execute_result"
    }
   ],
   "source": [
    "event_abi = await evm.async_get_event_abi(\n",
    "    contract_address=address,\n",
    "    event_name='Transfer',\n",
    ")\n",
    "\n",
    "event_abi"
   ]
  },
  {
   "cell_type": "markdown",
   "id": "6384f081",
   "metadata": {
    "ExecuteTime": {
     "end_time": "2022-04-26T05:48:17.032987Z",
     "start_time": "2022-04-26T05:48:17.029386Z"
    }
   },
   "source": [
    "## Get event ABI by hash"
   ]
  },
  {
   "cell_type": "code",
   "execution_count": 7,
   "id": "f6685568",
   "metadata": {
    "ExecuteTime": {
     "end_time": "2022-04-26T07:06:28.568185Z",
     "start_time": "2022-04-26T07:06:28.563852Z"
    }
   },
   "outputs": [
    {
     "data": {
      "text/plain": [
       "{'anonymous': False,\n",
       " 'inputs': [{'indexed': True,\n",
       "   'internalType': 'address',\n",
       "   'name': 'from',\n",
       "   'type': 'address'},\n",
       "  {'indexed': True,\n",
       "   'internalType': 'address',\n",
       "   'name': 'to',\n",
       "   'type': 'address'},\n",
       "  {'indexed': False,\n",
       "   'internalType': 'uint256',\n",
       "   'name': 'value',\n",
       "   'type': 'uint256'}],\n",
       " 'name': 'Transfer',\n",
       " 'type': 'event'}"
      ]
     },
     "execution_count": 7,
     "metadata": {},
     "output_type": "execute_result"
    }
   ],
   "source": [
    "event_hash = '0xddf252ad1be2c89b69c2b068fc378daa952ba7f163c4a11628f55a4df523b3ef'\n",
    "\n",
    "event_abi = await evm.async_get_event_abi(\n",
    "    contract_address=address,\n",
    "    event_hash=event_hash,\n",
    ")\n",
    "\n",
    "event_abi"
   ]
  },
  {
   "cell_type": "markdown",
   "id": "1a168458",
   "metadata": {
    "ExecuteTime": {
     "end_time": "2022-04-26T05:55:43.643296Z",
     "start_time": "2022-04-26T05:55:43.641839Z"
    }
   },
   "source": [
    "## Parse a function ABI"
   ]
  },
  {
   "cell_type": "code",
   "execution_count": 8,
   "id": "0771a8b9",
   "metadata": {
    "ExecuteTime": {
     "end_time": "2022-04-26T07:06:28.574359Z",
     "start_time": "2022-04-26T07:06:28.568891Z"
    }
   },
   "outputs": [
    {
     "name": "stdout",
     "output_type": "stream",
     "text": [
      "function_signature: totalSupply()\n",
      "function_selector: 18160ddd\n",
      "parameter_names: []\n",
      "parameter_types: []\n",
      "output_names: ['']\n",
      "output_types: ['uint256']\n"
     ]
    }
   ],
   "source": [
    "function_signature = binary.get_function_signature(function_abi)\n",
    "function_selector = binary.get_function_selector(function_abi)\n",
    "parameter_names = binary.get_function_parameter_names(function_abi)\n",
    "parameter_types = binary.get_function_parameter_types(function_abi)\n",
    "output_names = binary.get_function_output_names(function_abi)\n",
    "output_types = binary.get_function_output_types(function_abi)\n",
    "\n",
    "print('function_signature:', function_signature)\n",
    "print('function_selector:', function_selector)\n",
    "print('parameter_names:', parameter_names)\n",
    "print('parameter_types:', parameter_types)\n",
    "print('output_names:', output_names)\n",
    "print('output_types:', output_types)"
   ]
  },
  {
   "cell_type": "markdown",
   "id": "40faa4c6",
   "metadata": {
    "ExecuteTime": {
     "end_time": "2022-04-26T05:55:37.900544Z",
     "start_time": "2022-04-26T05:55:37.897060Z"
    }
   },
   "source": [
    "## Parse an event ABI"
   ]
  },
  {
   "cell_type": "code",
   "execution_count": 9,
   "id": "bb5cd23d",
   "metadata": {
    "ExecuteTime": {
     "end_time": "2022-04-26T07:06:28.578592Z",
     "start_time": "2022-04-26T07:06:28.575102Z"
    }
   },
   "outputs": [
    {
     "name": "stdout",
     "output_type": "stream",
     "text": [
      "event_hash: 0xddf252ad1be2c89b69c2b068fc378daa952ba7f163c4a11628f55a4df523b3ef\n",
      "event_signature: Transfer(address,address,uint256)\n",
      "event_indexed_names: ['from', 'to']\n",
      "event_indexed_types: ['address', 'address']\n",
      "event_unindexed_names: ['value']\n",
      "event_unindexed_types: ['uint256']\n"
     ]
    }
   ],
   "source": [
    "event_hash = binary.get_event_hash(event_abi)\n",
    "event_signature = binary.get_event_signature(event_abi)\n",
    "event_indexed_names = binary.get_event_indexed_names(event_abi)\n",
    "event_indexed_types = binary.get_event_indexed_types(event_abi)\n",
    "event_unindexed_names = binary.get_event_unindexed_names(event_abi)\n",
    "event_unindexed_types = binary.get_event_unindexed_types(event_abi)\n",
    "\n",
    "print('event_hash:', event_hash)\n",
    "print('event_signature:', event_signature)\n",
    "print('event_indexed_names:', event_indexed_names)\n",
    "print('event_indexed_types:', event_indexed_types)\n",
    "print('event_unindexed_names:', event_unindexed_names)\n",
    "print('event_unindexed_types:', event_unindexed_types)"
   ]
  },
  {
   "cell_type": "markdown",
   "id": "5029c9bd",
   "metadata": {
    "ExecuteTime": {
     "end_time": "2022-04-26T05:44:17.929211Z",
     "start_time": "2022-04-26T05:44:17.925246Z"
    }
   },
   "source": [
    "## Decompile function ABIs from bytecode"
   ]
  },
  {
   "cell_type": "code",
   "execution_count": 10,
   "id": "793b4288",
   "metadata": {
    "ExecuteTime": {
     "end_time": "2022-04-26T07:06:29.825266Z",
     "start_time": "2022-04-26T07:06:28.579543Z"
    }
   },
   "outputs": [
    {
     "name": "stdout",
     "output_type": "stream",
     "text": [
      "0xbc701e75 incentiveContract(address)\n",
      "0xd505accf permit(address,address,uint256,uint256,uint8,bytes32,bytes32)\n",
      "0xdd62ed3e allowance(address,address)\n",
      "0xdd62ed3e remove_good(uint256[],bytes8,bool)\n",
      "0xdd62ed3e _func_5437782296(address,address)\n",
      "0xf2f4eb26 core()\n",
      "0xa9059cbb transfer(address,uint256)\n",
      "0xa9059cbb many_msg_babbage(bytes1)\n",
      "0xa9059cbb transfer(bytes4[9],bytes5[6],int48[11])\n",
      "0xa9059cbb func_2093253501(bytes)\n",
      "0xb4905897 feiBalance()\n",
      "0xb6232c99 setIncentiveContract(address,address)\n",
      "0xb86677fe tribe()\n",
      "0x8456cb59 pause()\n",
      "0x95d89b41 symbol()\n",
      "0x95d89b41 link_classic_internal(uint64,int64)\n",
      "0x9a9ba4da fei()\n",
      "0xa457c2d7 decreaseAllowance(address,uint256)\n",
      "0x79cc6790 burnFrom(address,uint256)\n",
      "0x7ecebe00 nonces(address)\n",
      "0x80009630 setCore(address)\n",
      "0x42966c68 burn(uint256)\n",
      "0x42966c68 collate_propagate_storage(bytes16)\n",
      "0x5c975abb paused()\n",
      "0x6b6dff0a tribeBalance()\n",
      "0x70a08231 balanceOf(address)\n",
      "0x70a08231 branch_passphrase_public(uint256,bytes8)\n",
      "0x70a08231 passphrase_calculate_transfer(uint64,address)\n",
      "0x39509351 increaseAllowance(address,uint256)\n",
      "0x3f4ba83a unpause()\n",
      "0x40c10f19 mint(address,uint256)\n",
      "0x23b872dd transferFrom(address,address,uint256)\n",
      "0x23b872dd gasprice_bit_ether(int128)\n",
      "0x30adf81f PERMIT_TYPEHASH()\n",
      "0x313ce567 decimals()\n",
      "0x313ce567 available_assert_time(uint16,uint64)\n",
      "0x3644e515 DOMAIN_SEPARATOR()\n",
      "0x06fdde03 name()\n",
      "0x06fdde03 message_hour(uint256,int8,uint16,bytes32)\n",
      "0x095ea7b3 approve(address,uint256)\n",
      "0x095ea7b3 sign_szabo_bytecode(bytes16,uint128)\n",
      "0x18160ddd totalSupply()\n",
      "0x18160ddd voting_var(address,uint256,int128,int128)\n"
     ]
    }
   ],
   "source": [
    "bytecode = await rpc.async_eth_get_code(address)\n",
    "function_abis = await evm.async_decompile_function_abis(bytecode)\n",
    "\n",
    "for function_abi in function_abis:\n",
    "    print(function_abi['hex_signature'], function_abi['text_signature'])"
   ]
  }
 ],
 "metadata": {
  "kernelspec": {
   "display_name": "Python 3",
   "language": "python",
   "name": "python3"
  },
  "language_info": {
   "codemirror_mode": {
    "name": "ipython",
    "version": 3
   },
   "file_extension": ".py",
   "mimetype": "text/x-python",
   "name": "python",
   "nbconvert_exporter": "python",
   "pygments_lexer": "ipython3",
   "version": "3.9.5"
  }
 },
 "nbformat": 4,
 "nbformat_minor": 5
}
