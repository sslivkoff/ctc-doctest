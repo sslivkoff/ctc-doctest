{
 "cells": [
  {
   "cell_type": "code",
   "execution_count": 1,
   "id": "1102f146",
   "metadata": {
    "ExecuteTime": {
     "end_time": "2022-09-25T22:50:02.818202Z",
     "start_time": "2022-09-25T22:50:02.804553Z"
    }
   },
   "outputs": [],
   "source": [
    "import ctc"
   ]
  },
  {
   "cell_type": "markdown",
   "id": "d6c4fe4a",
   "metadata": {
    "ExecuteTime": {
     "end_time": "2022-04-26T05:50:51.592094Z",
     "start_time": "2022-04-26T05:50:51.590308Z"
    }
   },
   "source": [
    "## Get contract ABI"
   ]
  },
  {
   "cell_type": "code",
   "execution_count": 2,
   "id": "e5a4e87d",
   "metadata": {
    "ExecuteTime": {
     "end_time": "2022-09-25T22:50:02.821308Z",
     "start_time": "2022-09-25T22:50:02.819674Z"
    }
   },
   "outputs": [],
   "source": [
    "# example contract: LUSD\n",
    "contract_address = '0x5f98805a4e8be255a32880fdec7f6728c6568ba0'"
   ]
  },
  {
   "cell_type": "code",
   "execution_count": 3,
   "id": "b29c21a1",
   "metadata": {
    "ExecuteTime": {
     "end_time": "2022-09-25T22:50:03.355216Z",
     "start_time": "2022-09-25T22:50:02.822428Z"
    }
   },
   "outputs": [
    {
     "ename": "AttributeError",
     "evalue": "module 'ctc' has no attribute 'summarize_contract_abi'",
     "output_type": "error",
     "traceback": [
      "\u001b[0;31m---------------------------------------------------------------------------\u001b[0m",
      "\u001b[0;31mAttributeError\u001b[0m                            Traceback (most recent call last)",
      "Input \u001b[0;32mIn [3]\u001b[0m, in \u001b[0;36m<cell line: 3>\u001b[0;34m()\u001b[0m\n\u001b[1;32m      1\u001b[0m contract_abi \u001b[38;5;241m=\u001b[39m \u001b[38;5;28;01mawait\u001b[39;00m ctc\u001b[38;5;241m.\u001b[39masync_get_contract_abi(contract_address)\n\u001b[0;32m----> 3\u001b[0m ctc\u001b[38;5;241m.\u001b[39msummarize_contract_abi(contract_abi)\n",
      "\u001b[0;31mAttributeError\u001b[0m: module 'ctc' has no attribute 'summarize_contract_abi'"
     ]
    }
   ],
   "source": [
    "contract_abi = await ctc.async_get_contract_abi(contract_address)\n",
    "\n",
    "ctc.summarize_contract_abi(contract_abi)"
   ]
  },
  {
   "cell_type": "markdown",
   "id": "fdcadde7",
   "metadata": {
    "ExecuteTime": {
     "end_time": "2022-04-26T05:49:39.395611Z",
     "start_time": "2022-04-26T05:49:39.392177Z"
    }
   },
   "source": [
    "## Get function ABI by name"
   ]
  },
  {
   "cell_type": "code",
   "execution_count": 4,
   "id": "62365171",
   "metadata": {
    "ExecuteTime": {
     "end_time": "2022-09-25T22:50:03.365981Z",
     "start_time": "2022-09-25T22:50:03.356179Z"
    }
   },
   "outputs": [
    {
     "data": {
      "text/plain": [
       "{'inputs': [{'internalType': 'address', 'name': 'account', 'type': 'address'}],\n",
       " 'name': 'balanceOf',\n",
       " 'outputs': [{'internalType': 'uint256', 'name': '', 'type': 'uint256'}],\n",
       " 'stateMutability': 'view',\n",
       " 'type': 'function'}"
      ]
     },
     "execution_count": 4,
     "metadata": {},
     "output_type": "execute_result"
    }
   ],
   "source": [
    "function_abi = await ctc.async_get_function_abi(\n",
    "    contract_address=contract_address,\n",
    "    function_name='balanceOf',\n",
    ")\n",
    "\n",
    "function_abi"
   ]
  },
  {
   "cell_type": "markdown",
   "id": "d00aea83",
   "metadata": {
    "ExecuteTime": {
     "end_time": "2022-04-26T05:50:12.000569Z",
     "start_time": "2022-04-26T05:50:11.997067Z"
    }
   },
   "source": [
    "## Get function ABI by selector"
   ]
  },
  {
   "cell_type": "code",
   "execution_count": 5,
   "id": "df904a17",
   "metadata": {
    "ExecuteTime": {
     "end_time": "2022-09-25T22:50:03.375349Z",
     "start_time": "2022-09-25T22:50:03.366678Z"
    }
   },
   "outputs": [
    {
     "data": {
      "text/plain": [
       "{'inputs': [{'internalType': 'address', 'name': 'account', 'type': 'address'}],\n",
       " 'name': 'balanceOf',\n",
       " 'outputs': [{'internalType': 'uint256', 'name': '', 'type': 'uint256'}],\n",
       " 'stateMutability': 'view',\n",
       " 'type': 'function'}"
      ]
     },
     "execution_count": 5,
     "metadata": {},
     "output_type": "execute_result"
    }
   ],
   "source": [
    "function_abi = await ctc.async_get_function_abi(\n",
    "    contract_address=contract_address,\n",
    "    function_selector='0x70a08231',\n",
    ")\n",
    "\n",
    "function_abi"
   ]
  },
  {
   "cell_type": "markdown",
   "id": "4c39389b",
   "metadata": {
    "ExecuteTime": {
     "end_time": "2022-04-26T05:47:28.406325Z",
     "start_time": "2022-04-26T05:47:28.402556Z"
    }
   },
   "source": [
    "## Get event ABI by name"
   ]
  },
  {
   "cell_type": "code",
   "execution_count": 6,
   "id": "52899b82",
   "metadata": {
    "ExecuteTime": {
     "end_time": "2022-09-25T22:50:03.384024Z",
     "start_time": "2022-09-25T22:50:03.376592Z"
    }
   },
   "outputs": [
    {
     "data": {
      "text/plain": [
       "{'anonymous': False,\n",
       " 'inputs': [{'indexed': True,\n",
       "   'internalType': 'address',\n",
       "   'name': 'from',\n",
       "   'type': 'address'},\n",
       "  {'indexed': True,\n",
       "   'internalType': 'address',\n",
       "   'name': 'to',\n",
       "   'type': 'address'},\n",
       "  {'indexed': False,\n",
       "   'internalType': 'uint256',\n",
       "   'name': 'value',\n",
       "   'type': 'uint256'}],\n",
       " 'name': 'Transfer',\n",
       " 'type': 'event'}"
      ]
     },
     "execution_count": 6,
     "metadata": {},
     "output_type": "execute_result"
    }
   ],
   "source": [
    "event_abi = await ctc.async_get_event_abi(\n",
    "    contract_address=contract_address,\n",
    "    event_name='Transfer',\n",
    ")\n",
    "\n",
    "event_abi"
   ]
  },
  {
   "cell_type": "markdown",
   "id": "6384f081",
   "metadata": {
    "ExecuteTime": {
     "end_time": "2022-04-26T05:48:17.032987Z",
     "start_time": "2022-04-26T05:48:17.029386Z"
    }
   },
   "source": [
    "## Get event ABI by hash"
   ]
  },
  {
   "cell_type": "code",
   "execution_count": 7,
   "id": "f6685568",
   "metadata": {
    "ExecuteTime": {
     "end_time": "2022-09-25T22:50:03.391230Z",
     "start_time": "2022-09-25T22:50:03.384848Z"
    }
   },
   "outputs": [
    {
     "data": {
      "text/plain": [
       "{'anonymous': False,\n",
       " 'inputs': [{'indexed': True,\n",
       "   'internalType': 'address',\n",
       "   'name': 'from',\n",
       "   'type': 'address'},\n",
       "  {'indexed': True,\n",
       "   'internalType': 'address',\n",
       "   'name': 'to',\n",
       "   'type': 'address'},\n",
       "  {'indexed': False,\n",
       "   'internalType': 'uint256',\n",
       "   'name': 'value',\n",
       "   'type': 'uint256'}],\n",
       " 'name': 'Transfer',\n",
       " 'type': 'event'}"
      ]
     },
     "execution_count": 7,
     "metadata": {},
     "output_type": "execute_result"
    }
   ],
   "source": [
    "event_hash = '0xddf252ad1be2c89b69c2b068fc378daa952ba7f163c4a11628f55a4df523b3ef'\n",
    "\n",
    "event_abi = await ctc.async_get_event_abi(\n",
    "    contract_address=contract_address,\n",
    "    event_hash=event_hash,\n",
    ")\n",
    "\n",
    "event_abi"
   ]
  },
  {
   "cell_type": "markdown",
   "id": "1a168458",
   "metadata": {
    "ExecuteTime": {
     "end_time": "2022-04-26T05:55:43.643296Z",
     "start_time": "2022-04-26T05:55:43.641839Z"
    }
   },
   "source": [
    "## Parse a function ABI"
   ]
  },
  {
   "cell_type": "code",
   "execution_count": 8,
   "id": "0771a8b9",
   "metadata": {
    "ExecuteTime": {
     "end_time": "2022-09-25T22:50:03.395725Z",
     "start_time": "2022-09-25T22:50:03.392106Z"
    }
   },
   "outputs": [
    {
     "name": "stdout",
     "output_type": "stream",
     "text": [
      "function_signature: balanceOf(address)\n",
      "function_selector: 70a08231\n",
      "parameter_names: ['account']\n",
      "parameter_types: ['address']\n",
      "output_names: ['']\n",
      "output_types: ['uint256']\n"
     ]
    }
   ],
   "source": [
    "function_signature = ctc.get_function_signature(function_abi)\n",
    "function_selector = ctc.get_function_selector(function_abi)\n",
    "parameter_names = ctc.get_function_parameter_names(function_abi)\n",
    "parameter_types = ctc.get_function_parameter_types(function_abi)\n",
    "output_names = ctc.get_function_output_names(function_abi)\n",
    "output_types = ctc.get_function_output_types(function_abi)\n",
    "\n",
    "print('function_signature:', function_signature)\n",
    "print('function_selector:', function_selector)\n",
    "print('parameter_names:', parameter_names)\n",
    "print('parameter_types:', parameter_types)\n",
    "print('output_names:', output_names)\n",
    "print('output_types:', output_types)"
   ]
  },
  {
   "cell_type": "markdown",
   "id": "40faa4c6",
   "metadata": {
    "ExecuteTime": {
     "end_time": "2022-04-26T05:55:37.900544Z",
     "start_time": "2022-04-26T05:55:37.897060Z"
    }
   },
   "source": [
    "## Parse an event ABI"
   ]
  },
  {
   "cell_type": "code",
   "execution_count": 9,
   "id": "bb5cd23d",
   "metadata": {
    "ExecuteTime": {
     "end_time": "2022-09-25T22:50:03.401161Z",
     "start_time": "2022-09-25T22:50:03.396851Z"
    }
   },
   "outputs": [
    {
     "name": "stdout",
     "output_type": "stream",
     "text": [
      "event_hash: 0xddf252ad1be2c89b69c2b068fc378daa952ba7f163c4a11628f55a4df523b3ef\n",
      "event_signature: Transfer(address,address,uint256)\n",
      "event_indexed_names: ['from', 'to']\n",
      "event_indexed_types: ['address', 'address']\n",
      "event_unindexed_names: ['value']\n",
      "event_unindexed_types: ['uint256']\n"
     ]
    }
   ],
   "source": [
    "event_hash = ctc.get_event_hash(event_abi)\n",
    "event_signature = ctc.get_event_signature(event_abi)\n",
    "event_indexed_names = ctc.get_event_indexed_names(event_abi)\n",
    "event_indexed_types = ctc.get_event_indexed_types(event_abi)\n",
    "event_unindexed_names = ctc.get_event_unindexed_names(event_abi)\n",
    "event_unindexed_types = ctc.get_event_unindexed_types(event_abi)\n",
    "\n",
    "print('event_hash:', event_hash)\n",
    "print('event_signature:', event_signature)\n",
    "print('event_indexed_names:', event_indexed_names)\n",
    "print('event_indexed_types:', event_indexed_types)\n",
    "print('event_unindexed_names:', event_unindexed_names)\n",
    "print('event_unindexed_types:', event_unindexed_types)"
   ]
  },
  {
   "cell_type": "markdown",
   "id": "5029c9bd",
   "metadata": {
    "ExecuteTime": {
     "end_time": "2022-04-26T05:44:17.929211Z",
     "start_time": "2022-04-26T05:44:17.925246Z"
    }
   },
   "source": [
    "## Decompile function ABIs from bytecode"
   ]
  },
  {
   "cell_type": "code",
   "execution_count": 10,
   "id": "793b4288",
   "metadata": {
    "ExecuteTime": {
     "end_time": "2022-09-25T22:50:03.740689Z",
     "start_time": "2022-09-25T22:50:03.402080Z"
    }
   },
   "outputs": [
    {
     "name": "stdout",
     "output_type": "stream",
     "text": [
      "0xa9059cbb transfer(address,uint256)\n",
      "0xa9059cbb many_msg_babbage(bytes1)\n",
      "0xa9059cbb transfer(bytes4[9],bytes5[6],int48[11])\n",
      "0xa9059cbb func_2093253501(bytes)\n",
      "0xb7f8cf9b borrowerOperationsAddress()\n",
      "0xbb997bac sendToPool(address,address,uint256)\n",
      "0xd505accf permit(address,address,uint256,uint256,uint8,bytes32,bytes32)\n",
      "0xdd62ed3e allowance(address,address)\n",
      "0xdd62ed3e remove_good(uint256[],bytes8,bool)\n",
      "0xdd62ed3e _func_5437782296(address,address)\n",
      "0xf698da25 domainSeparator()\n",
      "0x5a4d28bb troveManagerAddress()\n",
      "0x70a08231 balanceOf(address)\n",
      "0x70a08231 branch_passphrase_public(uint256,bytes8)\n",
      "0x70a08231 passphrase_calculate_transfer(uint64,address)\n",
      "0x7ecebe00 nonces(address)\n",
      "0x95d89b41 symbol()\n",
      "0x95d89b41 link_classic_internal(uint64,int64)\n",
      "0x9dc29fac burn(address,uint256)\n",
      "0xa457c2d7 decreaseAllowance(address,uint256)\n",
      "0x20c582be returnFromPool(address,address,uint256)\n",
      "0x23b872dd transferFrom(address,address,uint256)\n",
      "0x23b872dd gasprice_bit_ether(int128)\n",
      "0x313ce567 decimals()\n",
      "0x313ce567 available_assert_time(uint16,uint64)\n",
      "0x39509351 increaseAllowance(address,uint256)\n",
      "0x40c10f19 mint(address,uint256)\n",
      "0x54fd4d50 version()\n",
      "0x06fdde03 name()\n",
      "0x06fdde03 message_hour(uint256,int8,uint16,bytes32)\n",
      "0x095ea7b3 approve(address,uint256)\n",
      "0x095ea7b3 sign_szabo_bytecode(bytes16,uint128)\n",
      "0x0b622ab2 stabilityPoolAddress()\n",
      "0x10ce43bd permitTypeHash()\n",
      "0x18160ddd totalSupply()\n",
      "0x18160ddd voting_var(address,uint256,int128,int128)\n"
     ]
    }
   ],
   "source": [
    "import ctc.rpc\n",
    "\n",
    "bytecode = await ctc.rpc.async_eth_get_code(contract_address)\n",
    "function_abis = await ctc.async_decompile_function_abis(bytecode)\n",
    "\n",
    "for function_abi in function_abis:\n",
    "    print(function_abi['hex_signature'], function_abi['text_signature'])"
   ]
  }
 ],
 "metadata": {
  "kernelspec": {
   "display_name": "Python 3",
   "language": "python",
   "name": "python3"
  },
  "language_info": {
   "codemirror_mode": {
    "name": "ipython",
    "version": 3
   },
   "file_extension": ".py",
   "mimetype": "text/x-python",
   "name": "python",
   "nbconvert_exporter": "python",
   "pygments_lexer": "ipython3",
   "version": "3.9.5"
  }
 },
 "nbformat": 4,
 "nbformat_minor": 5
}
