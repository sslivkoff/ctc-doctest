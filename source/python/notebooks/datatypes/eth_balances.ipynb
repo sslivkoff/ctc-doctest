{
 "cells": [
  {
   "cell_type": "code",
   "execution_count": 1,
   "id": "0086d152",
   "metadata": {
    "ExecuteTime": {
     "end_time": "2022-09-21T15:46:50.965932Z",
     "start_time": "2022-09-21T15:46:50.947009Z"
    }
   },
   "outputs": [],
   "source": [
    "import ctc"
   ]
  },
  {
   "cell_type": "code",
   "execution_count": 2,
   "id": "1ebe8493",
   "metadata": {
    "ExecuteTime": {
     "end_time": "2022-09-21T15:46:50.971271Z",
     "start_time": "2022-09-21T15:46:50.968005Z"
    }
   },
   "outputs": [],
   "source": [
    "address = '0xd8da6bf26964af9d7eed9e03e53415d37aa96045'\n",
    "\n",
    "addresses = [\n",
    "    '0xd8da6bf26964af9d7eed9e03e53415d37aa96045',\n",
    "    '0xc02aaa39b223fe8d0a0e5c4f27ead9083c756cc2',\n",
    "    '0xf977814e90da44bfa03b6295a0616a897441acec',\n",
    "]"
   ]
  },
  {
   "cell_type": "markdown",
   "id": "e19bf465",
   "metadata": {
    "ExecuteTime": {
     "end_time": "2022-04-26T05:10:05.497061Z",
     "start_time": "2022-04-26T05:10:05.495466Z"
    }
   },
   "source": [
    "## Get ETH balance of address"
   ]
  },
  {
   "cell_type": "code",
   "execution_count": 3,
   "id": "147b712f",
   "metadata": {
    "ExecuteTime": {
     "end_time": "2022-09-21T15:46:51.298616Z",
     "start_time": "2022-09-21T15:46:50.973796Z"
    }
   },
   "outputs": [
    {
     "data": {
      "text/plain": [
       "1183.957106470267"
      ]
     },
     "execution_count": 3,
     "metadata": {},
     "output_type": "execute_result"
    }
   ],
   "source": [
    "balance = await ctc.async_get_eth_balance(address)\n",
    "\n",
    "balance"
   ]
  },
  {
   "cell_type": "markdown",
   "id": "df5e7410",
   "metadata": {
    "ExecuteTime": {
     "end_time": "2022-04-26T05:13:31.915725Z",
     "start_time": "2022-04-26T05:13:31.912218Z"
    }
   },
   "source": [
    "## Get raw un-normalized ETH balance of address"
   ]
  },
  {
   "cell_type": "code",
   "execution_count": 4,
   "id": "b0e2d3ae",
   "metadata": {
    "ExecuteTime": {
     "end_time": "2022-09-21T15:46:51.496435Z",
     "start_time": "2022-09-21T15:46:51.301690Z"
    }
   },
   "outputs": [
    {
     "data": {
      "text/plain": [
       "1183957106470267097485"
      ]
     },
     "execution_count": 4,
     "metadata": {},
     "output_type": "execute_result"
    }
   ],
   "source": [
    "balance = await ctc.async_get_eth_balance(address, normalize=False)\n",
    "\n",
    "balance"
   ]
  },
  {
   "cell_type": "markdown",
   "id": "c14a4768",
   "metadata": {
    "ExecuteTime": {
     "end_time": "2022-04-26T05:10:24.315743Z",
     "start_time": "2022-04-26T05:10:24.312176Z"
    }
   },
   "source": [
    "## Get ETH balance of address in specific block"
   ]
  },
  {
   "cell_type": "code",
   "execution_count": 5,
   "id": "b9892391",
   "metadata": {
    "ExecuteTime": {
     "end_time": "2022-09-21T15:46:51.627119Z",
     "start_time": "2022-09-21T15:46:51.499260Z"
    }
   },
   "outputs": [
    {
     "data": {
      "text/plain": [
       "30.625853991434212"
      ]
     },
     "execution_count": 5,
     "metadata": {},
     "output_type": "execute_result"
    }
   ],
   "source": [
    "balance = await ctc.async_get_eth_balance(address, block=10000000)\n",
    "\n",
    "balance"
   ]
  },
  {
   "cell_type": "markdown",
   "id": "cb39cd58",
   "metadata": {
    "ExecuteTime": {
     "end_time": "2022-04-26T05:11:40.356003Z",
     "start_time": "2022-04-26T05:11:40.352409Z"
    }
   },
   "source": [
    "## Get ETH balance of address across multiple blocks"
   ]
  },
  {
   "cell_type": "code",
   "execution_count": 6,
   "id": "f5f3a66b",
   "metadata": {
    "ExecuteTime": {
     "end_time": "2022-09-21T15:46:51.865972Z",
     "start_time": "2022-09-21T15:46:51.629822Z"
    }
   },
   "outputs": [
    {
     "data": {
      "text/plain": [
       "[30.625853991434212, 8.262617966894156, 7.209924409854158, 7606.165945835849]"
      ]
     },
     "execution_count": 6,
     "metadata": {},
     "output_type": "execute_result"
    }
   ],
   "source": [
    "blocks = range(int(10e6), int(14e6), int(1e6))\n",
    "balances = await ctc.async_get_eth_balance_by_block(address, blocks=blocks)\n",
    "\n",
    "balances"
   ]
  },
  {
   "cell_type": "markdown",
   "id": "d4aba350",
   "metadata": {
    "ExecuteTime": {
     "end_time": "2022-04-26T05:13:10.036716Z",
     "start_time": "2022-04-26T05:13:10.032498Z"
    }
   },
   "source": [
    "## Get ETH balance of multiple addresses"
   ]
  },
  {
   "cell_type": "code",
   "execution_count": 7,
   "id": "0591c736",
   "metadata": {
    "ExecuteTime": {
     "end_time": "2022-09-21T15:46:52.206096Z",
     "start_time": "2022-09-21T15:46:51.869063Z"
    }
   },
   "outputs": [
    {
     "data": {
      "text/plain": [
       "[1183.957106470267, 3906844.8565766686, 2436827.4796718187]"
      ]
     },
     "execution_count": 7,
     "metadata": {},
     "output_type": "execute_result"
    }
   ],
   "source": [
    "balances = await ctc.async_get_eth_balance_of_addresses(addresses)\n",
    "\n",
    "balances"
   ]
  }
 ],
 "metadata": {
  "kernelspec": {
   "display_name": "Python 3",
   "language": "python",
   "name": "python3"
  },
  "language_info": {
   "codemirror_mode": {
    "name": "ipython",
    "version": 3
   },
   "file_extension": ".py",
   "mimetype": "text/x-python",
   "name": "python",
   "nbconvert_exporter": "python",
   "pygments_lexer": "ipython3",
   "version": "3.9.5"
  }
 },
 "nbformat": 4,
 "nbformat_minor": 5
}
