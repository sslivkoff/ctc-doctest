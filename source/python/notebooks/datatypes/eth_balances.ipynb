{
 "cells": [
  {
   "cell_type": "code",
   "execution_count": 1,
   "id": "0086d152",
   "metadata": {
    "ExecuteTime": {
     "end_time": "2022-04-26T05:09:51.490223Z",
     "start_time": "2022-04-26T05:09:51.256704Z"
    }
   },
   "outputs": [],
   "source": [
    "from ctc import evm"
   ]
  },
  {
   "cell_type": "code",
   "execution_count": 18,
   "id": "1ebe8493",
   "metadata": {
    "ExecuteTime": {
     "end_time": "2022-04-26T05:18:03.267445Z",
     "start_time": "2022-04-26T05:18:03.263484Z"
    }
   },
   "outputs": [],
   "source": [
    "address = '0xd8da6bf26964af9d7eed9e03e53415d37aa96045'\n",
    "\n",
    "addresses = [\n",
    "    '0xd8da6bf26964af9d7eed9e03e53415d37aa96045',\n",
    "    '0xc02aaa39b223fe8d0a0e5c4f27ead9083c756cc2',\n",
    "    '0xf977814e90da44bfa03b6295a0616a897441acec',\n",
    "]"
   ]
  },
  {
   "cell_type": "markdown",
   "id": "e19bf465",
   "metadata": {
    "ExecuteTime": {
     "end_time": "2022-04-26T05:10:05.497061Z",
     "start_time": "2022-04-26T05:10:05.495466Z"
    }
   },
   "source": [
    "## Get ETH balance of address"
   ]
  },
  {
   "cell_type": "code",
   "execution_count": 9,
   "id": "147b712f",
   "metadata": {
    "ExecuteTime": {
     "end_time": "2022-04-26T05:11:19.402822Z",
     "start_time": "2022-04-26T05:11:19.288290Z"
    }
   },
   "outputs": [
    {
     "data": {
      "text/plain": [
       "6707.557688241051"
      ]
     },
     "execution_count": 9,
     "metadata": {},
     "output_type": "execute_result"
    }
   ],
   "source": [
    "balance = await evm.async_get_eth_balance(address)\n",
    "\n",
    "balance"
   ]
  },
  {
   "cell_type": "markdown",
   "id": "df5e7410",
   "metadata": {
    "ExecuteTime": {
     "end_time": "2022-04-26T05:13:31.915725Z",
     "start_time": "2022-04-26T05:13:31.912218Z"
    }
   },
   "source": [
    "## Get raw un-normalized ETH balance of address"
   ]
  },
  {
   "cell_type": "code",
   "execution_count": 17,
   "id": "b0e2d3ae",
   "metadata": {
    "ExecuteTime": {
     "end_time": "2022-04-26T05:14:31.280133Z",
     "start_time": "2022-04-26T05:14:30.901410Z"
    }
   },
   "outputs": [
    {
     "data": {
      "text/plain": [
       "6707557688241051621082"
      ]
     },
     "execution_count": 17,
     "metadata": {},
     "output_type": "execute_result"
    }
   ],
   "source": [
    "balance = await evm.async_get_eth_balance(address, normalize=False)\n",
    "\n",
    "balance"
   ]
  },
  {
   "cell_type": "markdown",
   "id": "c14a4768",
   "metadata": {
    "ExecuteTime": {
     "end_time": "2022-04-26T05:10:24.315743Z",
     "start_time": "2022-04-26T05:10:24.312176Z"
    }
   },
   "source": [
    "## Get ETH balance of address in specific block"
   ]
  },
  {
   "cell_type": "code",
   "execution_count": 10,
   "id": "b9892391",
   "metadata": {
    "ExecuteTime": {
     "end_time": "2022-04-26T05:11:25.611666Z",
     "start_time": "2022-04-26T05:11:25.464956Z"
    }
   },
   "outputs": [
    {
     "data": {
      "text/plain": [
       "30.625853991434212"
      ]
     },
     "execution_count": 10,
     "metadata": {},
     "output_type": "execute_result"
    }
   ],
   "source": [
    "balance = await evm.async_get_eth_balance(address, block=10000000)\n",
    "\n",
    "balance"
   ]
  },
  {
   "cell_type": "markdown",
   "id": "cb39cd58",
   "metadata": {
    "ExecuteTime": {
     "end_time": "2022-04-26T05:11:40.356003Z",
     "start_time": "2022-04-26T05:11:40.352409Z"
    }
   },
   "source": [
    "## Get ETH balance of address across multiple blocks"
   ]
  },
  {
   "cell_type": "code",
   "execution_count": 14,
   "id": "f5f3a66b",
   "metadata": {
    "ExecuteTime": {
     "end_time": "2022-04-26T05:12:44.937321Z",
     "start_time": "2022-04-26T05:12:44.515783Z"
    }
   },
   "outputs": [
    {
     "data": {
      "text/plain": [
       "[30.625853991434212, 8.262617966894156, 7.209924409854158, 7606.165945835849]"
      ]
     },
     "execution_count": 14,
     "metadata": {},
     "output_type": "execute_result"
    }
   ],
   "source": [
    "blocks = range(int(10e6), int(14e6), int(1e6))\n",
    "balances = await evm.async_get_eth_balance_by_block(address, blocks=blocks)\n",
    "\n",
    "balances"
   ]
  },
  {
   "cell_type": "markdown",
   "id": "d4aba350",
   "metadata": {
    "ExecuteTime": {
     "end_time": "2022-04-26T05:13:10.036716Z",
     "start_time": "2022-04-26T05:13:10.032498Z"
    }
   },
   "source": [
    "## Get ETH balance of multiple addresses"
   ]
  },
  {
   "cell_type": "code",
   "execution_count": 20,
   "id": "0591c736",
   "metadata": {
    "ExecuteTime": {
     "end_time": "2022-04-26T05:18:19.105765Z",
     "start_time": "2022-04-26T05:18:18.657509Z"
    }
   },
   "outputs": [
    {
     "data": {
      "text/plain": [
       "[6707.557688241051, 6219064.004548691, 261758.81617453485]"
      ]
     },
     "execution_count": 20,
     "metadata": {},
     "output_type": "execute_result"
    }
   ],
   "source": [
    "balances = await evm.async_get_eth_balance_of_addresses(addresses)\n",
    "\n",
    "balances"
   ]
  }
 ],
 "metadata": {
  "kernelspec": {
   "display_name": "Python 3",
   "language": "python",
   "name": "python3"
  },
  "language_info": {
   "codemirror_mode": {
    "name": "ipython",
    "version": 3
   },
   "file_extension": ".py",
   "mimetype": "text/x-python",
   "name": "python",
   "nbconvert_exporter": "python",
   "pygments_lexer": "ipython3",
   "version": "3.9.5"
  }
 },
 "nbformat": 4,
 "nbformat_minor": 5
}
