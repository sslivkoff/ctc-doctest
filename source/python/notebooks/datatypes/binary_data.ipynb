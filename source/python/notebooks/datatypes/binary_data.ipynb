{
 "cells": [
  {
   "cell_type": "code",
   "execution_count": 1,
   "id": "9a1a8937",
   "metadata": {
    "ExecuteTime": {
     "end_time": "2022-04-26T07:06:37.330202Z",
     "start_time": "2022-04-26T07:06:37.058886Z"
    }
   },
   "outputs": [],
   "source": [
    "from ctc import binary\n",
    "from ctc import evm\n",
    "from ctc import rpc"
   ]
  },
  {
   "cell_type": "code",
   "execution_count": 2,
   "id": "c49af037",
   "metadata": {
    "ExecuteTime": {
     "end_time": "2022-04-26T07:06:37.335999Z",
     "start_time": "2022-04-26T07:06:37.331191Z"
    }
   },
   "outputs": [],
   "source": [
    "contract_address = '0x956f47f50a910163d8bf957cf5846d573e7f87ca'\n",
    "wallet_address = '0x06cb22615ba53e60d67bf6c341a0fd5e718e1655'\n",
    "\n",
    "function_abi = await evm.async_get_function_abi(\n",
    "    contract_address=contract_address,\n",
    "    function_name='balanceOf',\n",
    ")"
   ]
  },
  {
   "cell_type": "markdown",
   "id": "b6a5cdd4",
   "metadata": {
    "ExecuteTime": {
     "end_time": "2022-04-26T06:42:31.753469Z",
     "start_time": "2022-04-26T06:42:31.751672Z"
    }
   },
   "source": [
    "## Get hash of data"
   ]
  },
  {
   "cell_type": "code",
   "execution_count": 3,
   "id": "985951b2",
   "metadata": {
    "ExecuteTime": {
     "end_time": "2022-04-26T07:06:37.342372Z",
     "start_time": "2022-04-26T07:06:37.336821Z"
    }
   },
   "outputs": [
    {
     "data": {
      "text/plain": [
       "'0xd4fd4e189132273036449fc9e11198c739161b4c0116a9a2dccdfa1c492006f1'"
      ]
     },
     "execution_count": 3,
     "metadata": {},
     "output_type": "execute_result"
    }
   ],
   "source": [
    "binary.keccak('0xdeadbeef')"
   ]
  },
  {
   "cell_type": "markdown",
   "id": "8dfe3851",
   "metadata": {
    "ExecuteTime": {
     "end_time": "2022-04-26T06:42:28.339698Z",
     "start_time": "2022-04-26T06:42:28.336430Z"
    }
   },
   "source": [
    "## Get hash of text"
   ]
  },
  {
   "cell_type": "code",
   "execution_count": 4,
   "id": "252fa4ad",
   "metadata": {
    "ExecuteTime": {
     "end_time": "2022-04-26T07:06:37.345307Z",
     "start_time": "2022-04-26T07:06:37.343099Z"
    }
   },
   "outputs": [
    {
     "data": {
      "text/plain": [
       "'0x795d549ea199f3d64ea49f5792287667c58f283ef1d500cba523a8fe1fc3d430'"
      ]
     },
     "execution_count": 4,
     "metadata": {},
     "output_type": "execute_result"
    }
   ],
   "source": [
    "binary.keccak_text('goodbye')"
   ]
  },
  {
   "cell_type": "markdown",
   "id": "014af8cc",
   "metadata": {
    "ExecuteTime": {
     "end_time": "2022-04-26T06:48:08.983574Z",
     "start_time": "2022-04-26T06:48:08.979329Z"
    }
   },
   "source": [
    "## Encode typed data"
   ]
  },
  {
   "cell_type": "code",
   "execution_count": 5,
   "id": "c6e4efb6",
   "metadata": {
    "ExecuteTime": {
     "end_time": "2022-04-26T07:06:37.546742Z",
     "start_time": "2022-04-26T07:06:37.346173Z"
    }
   },
   "outputs": [
    {
     "name": "stdout",
     "output_type": "stream",
     "text": [
      "b'\\x00\\x00\\x00\\x00\\x00\\x00\\x00\\x00\\x00\\x00\\x00\\x00\\x00\\x00\\x00\\x00\\x00\\x00\\x00\\x00\\x00\\x00\\x00\\x00\\x00\\x00\\x00\\x00\\x00\\x00\\x00{\\x00\\x00\\x00\\x00\\x00\\x00\\x00\\x00\\x00\\x00\\x00\\x00\\x00\\x00\\x00\\x00\\x00\\x00\\x00\\x00\\x00\\x00\\x00\\x00\\x00\\x00\\x00\\x00\\x00\\x00\\x00`\\x00\\x00\\x00\\x00\\x00\\x00\\x00\\x00\\x00\\x00\\x00\\x00\\x00\\x00\\x00\\x00\\x00\\x00\\x00\\x00\\x00\\x00\\x00\\x00\\x00\\x00\\x00\\x00\\x00\\x00\\x00\\x00\\x00\\x00\\x00\\x00\\x00\\x00\\x00\\x00\\x00\\x00\\x00\\x00\\x00\\x00\\x00\\x00\\x00\\x00\\x00\\x00\\x00\\x00\\x00\\x00\\x00\\x00\\x00\\x00\\x00\\x00\\x00\\x0bhello there\\x00\\x00\\x00\\x00\\x00\\x00\\x00\\x00\\x00\\x00\\x00\\x00\\x00\\x00\\x00\\x00\\x00\\x00\\x00\\x00\\x00'\n"
     ]
    }
   ],
   "source": [
    "encoded = binary.encode_types([123, 'hello there', False], '(int256,string,bool)')\n",
    "\n",
    "print(encoded)"
   ]
  },
  {
   "cell_type": "markdown",
   "id": "6da77743",
   "metadata": {
    "ExecuteTime": {
     "end_time": "2022-04-26T06:53:46.366472Z",
     "start_time": "2022-04-26T06:53:46.362838Z"
    }
   },
   "source": [
    "## Convert between binary formats"
   ]
  },
  {
   "cell_type": "code",
   "execution_count": 6,
   "id": "6d5f3130",
   "metadata": {
    "ExecuteTime": {
     "end_time": "2022-04-26T07:06:37.550269Z",
     "start_time": "2022-04-26T07:06:37.547935Z"
    }
   },
   "outputs": [
    {
     "name": "stdout",
     "output_type": "stream",
     "text": [
      "prefix_hex: 0x000000000000000000000000000000000000000000000000000000000000007b00000000000000000000000000000000000000000000000000000000000000600000000000000000000000000000000000000000000000000000000000000000000000000000000000000000000000000000000000000000000000000000000b68656c6c6f207468657265000000000000000000000000000000000000000000\n",
      "\n",
      "raw_hex: 000000000000000000000000000000000000000000000000000000000000007b00000000000000000000000000000000000000000000000000000000000000600000000000000000000000000000000000000000000000000000000000000000000000000000000000000000000000000000000000000000000000000000000b68656c6c6f207468657265000000000000000000000000000000000000000000\n",
      "\n",
      "integer: 22111625558806485665070453846705004223501116840990370844631899982401119124076767507060003578713901232628666407469486044049674344438842593562270734860113209479553215218506004750868419833100194159720521674790690731748671185506526887811975872991948414941797278484713587557068986247767044397253250864347991559372800\n",
      "\n",
      "binary: b'\\x00\\x00\\x00\\x00\\x00\\x00\\x00\\x00\\x00\\x00\\x00\\x00\\x00\\x00\\x00\\x00\\x00\\x00\\x00\\x00\\x00\\x00\\x00\\x00\\x00\\x00\\x00\\x00\\x00\\x00\\x00{\\x00\\x00\\x00\\x00\\x00\\x00\\x00\\x00\\x00\\x00\\x00\\x00\\x00\\x00\\x00\\x00\\x00\\x00\\x00\\x00\\x00\\x00\\x00\\x00\\x00\\x00\\x00\\x00\\x00\\x00\\x00`\\x00\\x00\\x00\\x00\\x00\\x00\\x00\\x00\\x00\\x00\\x00\\x00\\x00\\x00\\x00\\x00\\x00\\x00\\x00\\x00\\x00\\x00\\x00\\x00\\x00\\x00\\x00\\x00\\x00\\x00\\x00\\x00\\x00\\x00\\x00\\x00\\x00\\x00\\x00\\x00\\x00\\x00\\x00\\x00\\x00\\x00\\x00\\x00\\x00\\x00\\x00\\x00\\x00\\x00\\x00\\x00\\x00\\x00\\x00\\x00\\x00\\x00\\x00\\x0bhello there\\x00\\x00\\x00\\x00\\x00\\x00\\x00\\x00\\x00\\x00\\x00\\x00\\x00\\x00\\x00\\x00\\x00\\x00\\x00\\x00\\x00'\n"
     ]
    }
   ],
   "source": [
    "print('prefix_hex:', binary.convert(encoded, 'prefix_hex'))\n",
    "print()\n",
    "print('raw_hex:', binary.convert(encoded, 'raw_hex'))\n",
    "print()\n",
    "print('integer:', binary.convert(encoded, 'integer'))\n",
    "print()\n",
    "print('binary:', binary.convert(encoded, 'binary'))"
   ]
  },
  {
   "cell_type": "markdown",
   "id": "3f4f6702",
   "metadata": {
    "ExecuteTime": {
     "end_time": "2022-04-26T06:50:42.455253Z",
     "start_time": "2022-04-26T06:50:42.451604Z"
    }
   },
   "source": [
    "## Decode typed data"
   ]
  },
  {
   "cell_type": "code",
   "execution_count": 7,
   "id": "d9916484",
   "metadata": {
    "ExecuteTime": {
     "end_time": "2022-04-26T07:06:37.553859Z",
     "start_time": "2022-04-26T07:06:37.551065Z"
    }
   },
   "outputs": [
    {
     "name": "stdout",
     "output_type": "stream",
     "text": [
      "(123, 'hello there', False)\n"
     ]
    }
   ],
   "source": [
    "decoded = binary.decode_types(encoded, '(int256,string,bool)')\n",
    "\n",
    "print(decoded)"
   ]
  },
  {
   "cell_type": "markdown",
   "id": "9ea797f5",
   "metadata": {
    "ExecuteTime": {
     "end_time": "2022-04-26T05:57:29.475619Z",
     "start_time": "2022-04-26T05:57:29.473161Z"
    }
   },
   "source": [
    "## Encode call data"
   ]
  },
  {
   "cell_type": "code",
   "execution_count": 8,
   "id": "c8d86063",
   "metadata": {
    "ExecuteTime": {
     "end_time": "2022-04-26T07:06:37.559153Z",
     "start_time": "2022-04-26T07:06:37.554669Z"
    }
   },
   "outputs": [
    {
     "data": {
      "text/plain": [
       "'0x70a0823100000000000000000000000006cb22615ba53e60d67bf6c341a0fd5e718e1655'"
      ]
     },
     "execution_count": 8,
     "metadata": {},
     "output_type": "execute_result"
    }
   ],
   "source": [
    "encoded_call_data = binary.encode_call_data(\n",
    "    function_abi=function_abi,\n",
    "    parameters=[wallet_address],\n",
    ")\n",
    "\n",
    "encoded_call_data"
   ]
  },
  {
   "cell_type": "markdown",
   "id": "26ab4c7f",
   "metadata": {
    "ExecuteTime": {
     "end_time": "2022-04-26T05:59:53.805390Z",
     "start_time": "2022-04-26T05:59:53.801782Z"
    }
   },
   "source": [
    "## Decode call data"
   ]
  },
  {
   "cell_type": "code",
   "execution_count": 9,
   "id": "1f0cf917",
   "metadata": {
    "ExecuteTime": {
     "end_time": "2022-04-26T07:06:37.564679Z",
     "start_time": "2022-04-26T07:06:37.560019Z"
    }
   },
   "outputs": [
    {
     "data": {
      "text/plain": [
       "{'function_abi': {'inputs': [{'internalType': 'address',\n",
       "    'name': 'account',\n",
       "    'type': 'address'}],\n",
       "  'name': 'balanceOf',\n",
       "  'outputs': [{'internalType': 'uint256', 'name': '', 'type': 'uint256'}],\n",
       "  'stateMutability': 'view',\n",
       "  'type': 'function'},\n",
       " 'function_selector': '0x70a08231',\n",
       " 'parameters': ('0x06cb22615ba53e60d67bf6c341a0fd5e718e1655',),\n",
       " 'named_parameters': {'account': '0x06cb22615ba53e60d67bf6c341a0fd5e718e1655'}}"
      ]
     },
     "execution_count": 9,
     "metadata": {},
     "output_type": "execute_result"
    }
   ],
   "source": [
    "decoded_call_data = binary.decode_call_data(\n",
    "    encoded_call_data,\n",
    "    function_abi=function_abi,\n",
    ")\n",
    "\n",
    "decoded_call_data"
   ]
  },
  {
   "cell_type": "markdown",
   "id": "02313c7e",
   "metadata": {
    "ExecuteTime": {
     "end_time": "2022-04-26T06:01:24.371329Z",
     "start_time": "2022-04-26T06:01:24.367008Z"
    }
   },
   "source": [
    "## Decode function output"
   ]
  },
  {
   "cell_type": "code",
   "execution_count": 10,
   "id": "23bc7edb",
   "metadata": {
    "ExecuteTime": {
     "end_time": "2022-04-26T07:06:38.059260Z",
     "start_time": "2022-04-26T07:06:37.565596Z"
    }
   },
   "outputs": [
    {
     "name": "stdout",
     "output_type": "stream",
     "text": [
      "raw_function_output: 0x0000000000000000000000000000000000000000004308be532c389fd941d6f7\n",
      "auto_decoded_function_output: 81039319720644580001044215\n",
      "manually_decoded_function_output: 81039319720644580001044215\n"
     ]
    }
   ],
   "source": [
    "raw_function_output = await rpc.async_eth_call(\n",
    "    to_address=contract_address,\n",
    "    call_data=encoded_call_data,\n",
    "    decode_response=False,\n",
    ")\n",
    "auto_decoded_function_output = await rpc.async_eth_call(\n",
    "    to_address=contract_address,\n",
    "    call_data=encoded_call_data,\n",
    "    function_abi=function_abi,\n",
    "    decode_response=True,\n",
    ")\n",
    "manually_decoded_function_output = binary.decode_function_output(\n",
    "    raw_function_output,\n",
    "    function_abi=function_abi,\n",
    ")\n",
    "\n",
    "print('raw_function_output:', raw_function_output)\n",
    "print('auto_decoded_function_output:', auto_decoded_function_output)\n",
    "print('manually_decoded_function_output:', manually_decoded_function_output)"
   ]
  }
 ],
 "metadata": {
  "kernelspec": {
   "display_name": "Python 3",
   "language": "python",
   "name": "python3"
  },
  "language_info": {
   "codemirror_mode": {
    "name": "ipython",
    "version": 3
   },
   "file_extension": ".py",
   "mimetype": "text/x-python",
   "name": "python",
   "nbconvert_exporter": "python",
   "pygments_lexer": "ipython3",
   "version": "3.9.5"
  }
 },
 "nbformat": 4,
 "nbformat_minor": 5
}
