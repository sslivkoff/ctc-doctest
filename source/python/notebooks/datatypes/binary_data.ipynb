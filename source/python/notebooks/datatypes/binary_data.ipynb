{
 "cells": [
  {
   "cell_type": "code",
   "execution_count": 1,
   "id": "9a1a8937",
   "metadata": {
    "ExecuteTime": {
     "end_time": "2022-09-25T22:51:36.160767Z",
     "start_time": "2022-09-25T22:51:36.147961Z"
    }
   },
   "outputs": [],
   "source": [
    "import ctc"
   ]
  },
  {
   "cell_type": "code",
   "execution_count": 2,
   "id": "c49af037",
   "metadata": {
    "ExecuteTime": {
     "end_time": "2022-09-25T22:51:36.163395Z",
     "start_time": "2022-09-25T22:51:36.161753Z"
    }
   },
   "outputs": [],
   "source": [
    "contract_address = '0x956f47f50a910163d8bf957cf5846d573e7f87ca'\n",
    "wallet_address = '0x06cb22615ba53e60d67bf6c341a0fd5e718e1655'"
   ]
  },
  {
   "cell_type": "markdown",
   "id": "b6a5cdd4",
   "metadata": {
    "ExecuteTime": {
     "end_time": "2022-04-26T06:42:31.753469Z",
     "start_time": "2022-04-26T06:42:31.751672Z"
    }
   },
   "source": [
    "## Get hash of data"
   ]
  },
  {
   "cell_type": "code",
   "execution_count": 3,
   "id": "985951b2",
   "metadata": {
    "ExecuteTime": {
     "end_time": "2022-09-25T22:51:36.174169Z",
     "start_time": "2022-09-25T22:51:36.164598Z"
    }
   },
   "outputs": [
    {
     "data": {
      "text/plain": [
       "'0xd4fd4e189132273036449fc9e11198c739161b4c0116a9a2dccdfa1c492006f1'"
      ]
     },
     "execution_count": 3,
     "metadata": {},
     "output_type": "execute_result"
    }
   ],
   "source": [
    "ctc.keccak('0xdeadbeef')"
   ]
  },
  {
   "cell_type": "markdown",
   "id": "8dfe3851",
   "metadata": {
    "ExecuteTime": {
     "end_time": "2022-04-26T06:42:28.339698Z",
     "start_time": "2022-04-26T06:42:28.336430Z"
    }
   },
   "source": [
    "## Get hash of text"
   ]
  },
  {
   "cell_type": "code",
   "execution_count": 4,
   "id": "252fa4ad",
   "metadata": {
    "ExecuteTime": {
     "end_time": "2022-09-25T22:51:36.178193Z",
     "start_time": "2022-09-25T22:51:36.175341Z"
    }
   },
   "outputs": [
    {
     "data": {
      "text/plain": [
       "'0x795d549ea199f3d64ea49f5792287667c58f283ef1d500cba523a8fe1fc3d430'"
      ]
     },
     "execution_count": 4,
     "metadata": {},
     "output_type": "execute_result"
    }
   ],
   "source": [
    "ctc.keccak_text('goodbye')"
   ]
  },
  {
   "cell_type": "markdown",
   "id": "6da77743",
   "metadata": {
    "ExecuteTime": {
     "end_time": "2022-04-26T06:53:46.366472Z",
     "start_time": "2022-04-26T06:53:46.362838Z"
    }
   },
   "source": [
    "## Convert between binary formats"
   ]
  },
  {
   "cell_type": "code",
   "execution_count": 5,
   "id": "6d5f3130",
   "metadata": {
    "ExecuteTime": {
     "end_time": "2022-09-25T22:51:36.183136Z",
     "start_time": "2022-09-25T22:51:36.179499Z"
    }
   },
   "outputs": [
    {
     "name": "stdout",
     "output_type": "stream",
     "text": [
      "prefix_hex: 0xdeadbeef\n",
      "\n",
      "raw_hex: deadbeef\n",
      "\n",
      "integer: 3735928559\n",
      "\n",
      "binary: b'\\xde\\xad\\xbe\\xef'\n"
     ]
    }
   ],
   "source": [
    "encoded = '0xdeadbeef'\n",
    "\n",
    "print('prefix_hex:', ctc.binary_convert(encoded, 'prefix_hex'))\n",
    "print()\n",
    "print('raw_hex:', ctc.binary_convert(encoded, 'raw_hex'))\n",
    "print()\n",
    "print('integer:', ctc.binary_convert(encoded, 'integer'))\n",
    "print()\n",
    "print('binary:', ctc.binary_convert(encoded, 'binary'))"
   ]
  },
  {
   "cell_type": "markdown",
   "id": "bbe525d9",
   "metadata": {
    "ExecuteTime": {
     "end_time": "2022-09-20T04:31:33.960526Z",
     "start_time": "2022-09-20T04:31:33.956633Z"
    }
   },
   "source": [
    "## ABI Encoding / Decoding"
   ]
  },
  {
   "cell_type": "code",
   "execution_count": 6,
   "id": "e4db020b",
   "metadata": {
    "ExecuteTime": {
     "end_time": "2022-09-25T22:51:36.187771Z",
     "start_time": "2022-09-25T22:51:36.183975Z"
    }
   },
   "outputs": [],
   "source": [
    "data_to_encode = [\n",
    "    ['int128', 4000],\n",
    "    ['int16', 300],\n",
    "    [['int128', 'int16'], (4000, 300)],\n",
    "    [['int16', 'string', 'bool'], (123, 'hello there', False)],\n",
    "]"
   ]
  },
  {
   "cell_type": "code",
   "execution_count": 7,
   "id": "123f6e05",
   "metadata": {
    "ExecuteTime": {
     "end_time": "2022-09-25T22:51:36.206398Z",
     "start_time": "2022-09-25T22:51:36.188805Z"
    }
   },
   "outputs": [
    {
     "name": "stdout",
     "output_type": "stream",
     "text": [
      "\n",
      "original: 4000\n",
      "encoded: 0x0000000000000000000000000000000000000000000000000000000000000fa0\n",
      "\n",
      "original: 300\n",
      "encoded: 0x000000000000000000000000000000000000000000000000000000000000012c\n",
      "\n",
      "original: (4000, 300)\n",
      "encoded: 0x0000000000000000000000000000000000000000000000000000000000000fa0000000000000000000000000000000000000000000000000000000000000012c\n",
      "\n",
      "original: (123, 'hello there', False)\n",
      "encoded: 0x000000000000000000000000000000000000000000000000000000000000007b00000000000000000000000000000000000000000000000000000000000000600000000000000000000000000000000000000000000000000000000000000000000000000000000000000000000000000000000000000000000000000000000b68656c6c6f207468657265000000000000000000000000000000000000000000\n"
     ]
    }
   ],
   "source": [
    "# encode\n",
    "\n",
    "for types, data in data_to_encode:\n",
    "    encoded = ctc.abi_encode(data, types)\n",
    "    as_hex = ctc.binary_convert(encoded, 'prefix_hex')\n",
    "    print()\n",
    "    print('original:', data)\n",
    "    print('encoded:', as_hex)"
   ]
  },
  {
   "cell_type": "code",
   "execution_count": 8,
   "id": "57715f3b",
   "metadata": {
    "ExecuteTime": {
     "end_time": "2022-09-25T22:51:36.211388Z",
     "start_time": "2022-09-25T22:51:36.207534Z"
    }
   },
   "outputs": [
    {
     "name": "stdout",
     "output_type": "stream",
     "text": [
      "\n",
      "original: 4000\n",
      "encoded: 0x00000000000000000000000000000fa0\n",
      "\n",
      "original: 300\n",
      "encoded: 0x012c\n",
      "\n",
      "original: (4000, 300)\n",
      "encoded: 0x00000000000000000000000000000fa0012c\n",
      "\n",
      "original: (123, 'hello there', False)\n",
      "encoded: 0x007b68656c6c6f20746865726500\n"
     ]
    }
   ],
   "source": [
    "# encode packed\n",
    "\n",
    "for types, data in data_to_encode:\n",
    "    encoded = ctc.abi_encode_packed(data, types)\n",
    "    as_hex = ctc.binary_convert(encoded, 'prefix_hex')\n",
    "    print()\n",
    "    print('original:', data)\n",
    "    print('encoded:', as_hex)"
   ]
  },
  {
   "cell_type": "code",
   "execution_count": 9,
   "id": "449722cf",
   "metadata": {
    "ExecuteTime": {
     "end_time": "2022-09-25T22:51:36.215816Z",
     "start_time": "2022-09-25T22:51:36.212361Z"
    }
   },
   "outputs": [
    {
     "name": "stdout",
     "output_type": "stream",
     "text": [
      "\n",
      "original: 4000\n",
      "encoded: 0x0000000000000000000000000000000000000000000000000000000000000fa0\n",
      "decoded: 4000\n",
      "\n",
      "original: 300\n",
      "encoded: 0x000000000000000000000000000000000000000000000000000000000000012c\n",
      "decoded: 300\n",
      "\n",
      "original: (4000, 300)\n",
      "encoded: 0x0000000000000000000000000000000000000000000000000000000000000fa0000000000000000000000000000000000000000000000000000000000000012c\n",
      "decoded: (4000, 300)\n",
      "\n",
      "original: (123, 'hello there', False)\n",
      "encoded: 0x000000000000000000000000000000000000000000000000000000000000007b00000000000000000000000000000000000000000000000000000000000000600000000000000000000000000000000000000000000000000000000000000000000000000000000000000000000000000000000000000000000000000000000b68656c6c6f207468657265000000000000000000000000000000000000000000\n",
      "decoded: (123, 'hello there', False)\n"
     ]
    }
   ],
   "source": [
    "# decode\n",
    "\n",
    "for types, data in data_to_encode:\n",
    "    encoded = ctc.abi_encode(data, types)\n",
    "    as_hex = ctc.binary_convert(encoded, 'prefix_hex')\n",
    "    decoded = ctc.abi_decode(encoded, types)\n",
    "\n",
    "    print()\n",
    "    print('original:', data)\n",
    "    print('encoded:', as_hex)\n",
    "    print('decoded:', decoded)"
   ]
  },
  {
   "cell_type": "markdown",
   "id": "110090c8",
   "metadata": {
    "ExecuteTime": {
     "end_time": "2022-09-20T04:32:22.778224Z",
     "start_time": "2022-09-20T04:32:22.774980Z"
    }
   },
   "source": [
    "# RLP encoding / decoding"
   ]
  },
  {
   "cell_type": "code",
   "execution_count": 10,
   "id": "345c39b1",
   "metadata": {
    "ExecuteTime": {
     "end_time": "2022-09-25T22:51:36.221828Z",
     "start_time": "2022-09-25T22:51:36.216595Z"
    }
   },
   "outputs": [
    {
     "name": "stdout",
     "output_type": "stream",
     "text": [
      "\n",
      "original: 4000\n",
      "encoded: 0x820fa0\n",
      "decoded: 4000\n",
      "\n",
      "original: 300\n",
      "encoded: 0x82012c\n",
      "decoded: 300\n",
      "\n",
      "original: (4000, 300)\n",
      "encoded: 0xc6820fa082012c\n",
      "decoded: [4000, 300]\n",
      "\n",
      "original: (123, 'hello there', False)\n",
      "encoded: 0xce7b8b68656c6c6f20746865726580\n",
      "decoded: [123, 'hello there', False]\n"
     ]
    }
   ],
   "source": [
    "for types, data in data_to_encode:\n",
    "    \n",
    "    encoded = ctc.rlp_encode(data)\n",
    "    \n",
    "    decoded = ctc.rlp_decode(encoded, types)\n",
    "#     if isinstance(types, str):\n",
    "#         decoded = ctc.binary_convert(decoded, 'integer')\n",
    "\n",
    "    print()\n",
    "    print('original:', data)\n",
    "    print('encoded:', encoded)\n",
    "    print('decoded:', decoded)"
   ]
  },
  {
   "cell_type": "markdown",
   "id": "9ea797f5",
   "metadata": {
    "ExecuteTime": {
     "end_time": "2022-04-26T05:57:29.475619Z",
     "start_time": "2022-04-26T05:57:29.473161Z"
    }
   },
   "source": [
    "## Encode call data"
   ]
  },
  {
   "cell_type": "code",
   "execution_count": 11,
   "id": "2054bba8",
   "metadata": {
    "ExecuteTime": {
     "end_time": "2022-09-25T22:51:36.405873Z",
     "start_time": "2022-09-25T22:51:36.222634Z"
    }
   },
   "outputs": [],
   "source": [
    "function_abi = await ctc.async_get_function_abi(\n",
    "    contract_address=contract_address,\n",
    "    function_name='balanceOf',\n",
    ")"
   ]
  },
  {
   "cell_type": "code",
   "execution_count": 12,
   "id": "c8d86063",
   "metadata": {
    "ExecuteTime": {
     "end_time": "2022-09-25T22:51:36.410154Z",
     "start_time": "2022-09-25T22:51:36.407135Z"
    }
   },
   "outputs": [
    {
     "data": {
      "text/plain": [
       "'0x70a0823100000000000000000000000006cb22615ba53e60d67bf6c341a0fd5e718e1655'"
      ]
     },
     "execution_count": 12,
     "metadata": {},
     "output_type": "execute_result"
    }
   ],
   "source": [
    "encoded_call_data = ctc.encode_call_data(\n",
    "    function_abi=function_abi,\n",
    "    parameters=[wallet_address],\n",
    ")\n",
    "\n",
    "encoded_call_data"
   ]
  },
  {
   "cell_type": "markdown",
   "id": "26ab4c7f",
   "metadata": {
    "ExecuteTime": {
     "end_time": "2022-04-26T05:59:53.805390Z",
     "start_time": "2022-04-26T05:59:53.801782Z"
    }
   },
   "source": [
    "## Decode call data"
   ]
  },
  {
   "cell_type": "code",
   "execution_count": 13,
   "id": "1f0cf917",
   "metadata": {
    "ExecuteTime": {
     "end_time": "2022-09-25T22:51:36.416040Z",
     "start_time": "2022-09-25T22:51:36.411140Z"
    }
   },
   "outputs": [
    {
     "data": {
      "text/plain": [
       "{'function_abi': {'inputs': [{'internalType': 'address',\n",
       "    'name': 'account',\n",
       "    'type': 'address'}],\n",
       "  'name': 'balanceOf',\n",
       "  'outputs': [{'internalType': 'uint256', 'name': '', 'type': 'uint256'}],\n",
       "  'stateMutability': 'view',\n",
       "  'type': 'function'},\n",
       " 'function_selector': '0x70a08231',\n",
       " 'parameters': ['0x06cb22615ba53e60d67bf6c341a0fd5e718e1655'],\n",
       " 'named_parameters': {'account': '0x06cb22615ba53e60d67bf6c341a0fd5e718e1655'}}"
      ]
     },
     "execution_count": 13,
     "metadata": {},
     "output_type": "execute_result"
    }
   ],
   "source": [
    "decoded_call_data = ctc.decode_call_data(\n",
    "    encoded_call_data,\n",
    "    function_abi=function_abi,\n",
    ")\n",
    "\n",
    "decoded_call_data"
   ]
  },
  {
   "cell_type": "markdown",
   "id": "02313c7e",
   "metadata": {
    "ExecuteTime": {
     "end_time": "2022-04-26T06:01:24.371329Z",
     "start_time": "2022-04-26T06:01:24.367008Z"
    }
   },
   "source": [
    "## Decode function output"
   ]
  },
  {
   "cell_type": "code",
   "execution_count": 14,
   "id": "93f363cd",
   "metadata": {
    "ExecuteTime": {
     "end_time": "2022-09-25T22:51:36.419613Z",
     "start_time": "2022-09-25T22:51:36.416834Z"
    }
   },
   "outputs": [],
   "source": [
    "import ctc.rpc"
   ]
  },
  {
   "cell_type": "code",
   "execution_count": 15,
   "id": "23bc7edb",
   "metadata": {
    "ExecuteTime": {
     "end_time": "2022-09-25T22:51:36.807586Z",
     "start_time": "2022-09-25T22:51:36.420398Z"
    }
   },
   "outputs": [
    {
     "name": "stdout",
     "output_type": "stream",
     "text": [
      "raw_function_output: 0x00000000000000000000000000000000000000000000a5c8cfd416300389df58\n",
      "auto_decoded_function_output: 782894794107289757933400\n",
      "manually_decoded_function_output: 782894794107289757933400\n"
     ]
    }
   ],
   "source": [
    "raw_function_output = await ctc.rpc.async_eth_call(\n",
    "    to_address=contract_address,\n",
    "    call_data=encoded_call_data,\n",
    "    decode_response=False,\n",
    ")\n",
    "auto_decoded_function_output = await ctc.rpc.async_eth_call(\n",
    "    to_address=contract_address,\n",
    "    call_data=encoded_call_data,\n",
    "    function_abi=function_abi,\n",
    "    decode_response=True,\n",
    ")\n",
    "manually_decoded_function_output = ctc.decode_function_output(\n",
    "    encoded_output=raw_function_output,\n",
    "    function_abi=function_abi,\n",
    ")\n",
    "\n",
    "print('raw_function_output:', raw_function_output)\n",
    "print('auto_decoded_function_output:', auto_decoded_function_output)\n",
    "print('manually_decoded_function_output:', manually_decoded_function_output)"
   ]
  }
 ],
 "metadata": {
  "kernelspec": {
   "display_name": "Python 3",
   "language": "python",
   "name": "python3"
  },
  "language_info": {
   "codemirror_mode": {
    "name": "ipython",
    "version": 3
   },
   "file_extension": ".py",
   "mimetype": "text/x-python",
   "name": "python",
   "nbconvert_exporter": "python",
   "pygments_lexer": "ipython3",
   "version": "3.9.5"
  }
 },
 "nbformat": 4,
 "nbformat_minor": 5
}
