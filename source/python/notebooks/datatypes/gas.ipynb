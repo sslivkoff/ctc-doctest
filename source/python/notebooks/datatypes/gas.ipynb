{
 "cells": [
  {
   "cell_type": "code",
   "execution_count": 1,
   "id": "a4e877d2",
   "metadata": {
    "ExecuteTime": {
     "end_time": "2022-04-25T16:56:43.907685Z",
     "start_time": "2022-04-25T16:56:43.665631Z"
    }
   },
   "outputs": [],
   "source": [
    "from ctc import evm"
   ]
  },
  {
   "cell_type": "markdown",
   "id": "328e506c",
   "metadata": {
    "ExecuteTime": {
     "end_time": "2022-04-25T06:46:12.730968Z",
     "start_time": "2022-04-25T06:46:12.727665Z"
    }
   },
   "source": [
    "## Get Individual Block Gas Stats"
   ]
  },
  {
   "cell_type": "code",
   "execution_count": 2,
   "id": "2382d376",
   "metadata": {
    "ExecuteTime": {
     "end_time": "2022-04-25T16:56:44.460679Z",
     "start_time": "2022-04-25T16:56:43.908703Z"
    }
   },
   "outputs": [
    {
     "data": {
      "text/plain": [
       "{'base_fee': 139.541559304,\n",
       " 'min_gas_price': 140.0,\n",
       " 'median_gas_price': 142.203313325,\n",
       " 'mean_gas_price': 152.89720574486594,\n",
       " 'max_gas_price': 230.0,\n",
       " 'gas_used': 8119826,\n",
       " 'gas_limit': 30058561,\n",
       " 'n_transactions': 112}"
      ]
     },
     "execution_count": 2,
     "metadata": {},
     "output_type": "execute_result"
    }
   ],
   "source": [
    "block_gas_stats = await evm.async_get_block_gas_stats(14000000)\n",
    "\n",
    "block_gas_stats"
   ]
  },
  {
   "cell_type": "markdown",
   "id": "96656c43",
   "metadata": {
    "ExecuteTime": {
     "end_time": "2022-04-25T06:46:25.658453Z",
     "start_time": "2022-04-25T06:46:25.655305Z"
    }
   },
   "source": [
    "## Aggregate Multiple Block Gas Stats"
   ]
  },
  {
   "cell_type": "code",
   "execution_count": 3,
   "id": "edd52b30",
   "metadata": {
    "ExecuteTime": {
     "end_time": "2022-04-25T16:56:46.762585Z",
     "start_time": "2022-04-25T16:56:44.461777Z"
    }
   },
   "outputs": [
    {
     "data": {
      "text/plain": [
       "{'min_base_fee': 116.684032033,\n",
       " 'median_base_fee': 180.458274018,\n",
       " 'mean_base_fee': 5607626126.755782,\n",
       " 'max_base_fee': 212809153921,\n",
       " 'min_gas_price': 116.684032033,\n",
       " 'min_median_gas_price': 119.184032033,\n",
       " 'min_mean_gas_price': 133.06055913633344,\n",
       " 'min_max_gas_price': 136.014552098,\n",
       " 'median_min_gas_price': 180.43562949,\n",
       " 'median_median_gas_price': 181.55053352,\n",
       " 'median_mean_gas_price': 188.3772817841438,\n",
       " 'median_max_gas_price': 285.4267255985,\n",
       " 'mean_min_gas_price': 177.06014014478572,\n",
       " 'mean_median_gas_price': 178.64983315020413,\n",
       " 'mean_gas_price': 187.39525476608267,\n",
       " 'mean_max_gas_price': 587.4157569185102,\n",
       " 'max_min_gas_price': 237.755849363,\n",
       " 'max_median_gas_price': 238.255849363,\n",
       " 'max_mean_gas_price': 305.68400393096164,\n",
       " 'max_gas_price': 20263.608159707,\n",
       " 'min_gas_used': 0,\n",
       " 'median_gas_used': 14518894.0,\n",
       " 'mean_gas_used': 15731316.811881188,\n",
       " 'max_gas_used': 30099037,\n",
       " 'min_gas_limit': 29912200,\n",
       " 'median_gas_limit': 30029069.0,\n",
       " 'mean_gas_limit': 30029179.643564355,\n",
       " 'max_gas_limit': 30136881,\n",
       " 'min_n_transactions': 0,\n",
       " 'median_n_transactions': 191.0,\n",
       " 'mean_n_transactions': 201.12871287128712,\n",
       " 'max_n_transactions': 482,\n",
       " 'n_blocks': 101}"
      ]
     },
     "execution_count": 3,
     "metadata": {},
     "output_type": "execute_result"
    }
   ],
   "source": [
    "blocks_gas_stats = await evm.async_get_blocks_gas_stats(\n",
    "    start_block=14000000,\n",
    "    end_block=14000100\n",
    ")\n",
    "\n",
    "blocks_gas_stats"
   ]
  }
 ],
 "metadata": {
  "kernelspec": {
   "display_name": "Python 3",
   "language": "python",
   "name": "python3"
  },
  "language_info": {
   "codemirror_mode": {
    "name": "ipython",
    "version": 3
   },
   "file_extension": ".py",
   "mimetype": "text/x-python",
   "name": "python",
   "nbconvert_exporter": "python",
   "pygments_lexer": "ipython3",
   "version": "3.9.5"
  }
 },
 "nbformat": 4,
 "nbformat_minor": 5
}
