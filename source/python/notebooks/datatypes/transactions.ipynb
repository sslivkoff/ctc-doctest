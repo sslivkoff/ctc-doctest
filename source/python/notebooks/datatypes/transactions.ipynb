{
 "cells": [
  {
   "cell_type": "code",
   "execution_count": 1,
   "id": "fc8fa428",
   "metadata": {
    "ExecuteTime": {
     "end_time": "2022-04-26T05:43:28.002494Z",
     "start_time": "2022-04-26T05:43:27.784184Z"
    }
   },
   "outputs": [],
   "source": [
    "from ctc import evm"
   ]
  },
  {
   "cell_type": "code",
   "execution_count": 2,
   "id": "444ec449",
   "metadata": {
    "ExecuteTime": {
     "end_time": "2022-04-26T05:43:28.005183Z",
     "start_time": "2022-04-26T05:43:28.003663Z"
    }
   },
   "outputs": [],
   "source": [
    "transaction_hash = '0x6ff0860e202c61189cb2a3a38286bffd694acbc50577df6cb5a7ff40e21ea074'\n",
    "address = '0xd8da6bf26964af9d7eed9e03e53415d37aa96045'"
   ]
  },
  {
   "cell_type": "markdown",
   "id": "1cf9bcae",
   "metadata": {
    "ExecuteTime": {
     "end_time": "2022-04-26T05:38:16.168230Z",
     "start_time": "2022-04-26T05:38:16.164461Z"
    }
   },
   "source": [
    "## Get transaction by hash"
   ]
  },
  {
   "cell_type": "code",
   "execution_count": 3,
   "id": "782f1b1f",
   "metadata": {
    "ExecuteTime": {
     "end_time": "2022-04-26T05:43:28.410953Z",
     "start_time": "2022-04-26T05:43:28.006105Z"
    }
   },
   "outputs": [
    {
     "data": {
      "text/plain": [
       "{'hash': '0x6ff0860e202c61189cb2a3a38286bffd694acbc50577df6cb5a7ff40e21ea074',\n",
       " 'block_hash': '0xb7ae60b456f7733ae3d8bb927b03470eb662f0285f6c83d545b735c35634ede3',\n",
       " 'block_number': 318528,\n",
       " 'from': '0xd8da6bf26964af9d7eed9e03e53415d37aa96045',\n",
       " 'gas': 530000,\n",
       " 'gas_price': 50000000000,\n",
       " 'input': '0x5a9809ed000000000000000000000000d8da6bf26964af9d7eed9e03e53415d37aa960450000000000000000000000005ed8cee6b63b1c6afce3ad7c92f4fd7e1b8fad9f00000000000000000000000000000000000000000000000000000000000000a000000000000000000000000000000000000000000000000000001b48eb57e00000000000000000000000000000000000000000000000000000000000000000e000000000000000000000000000000000000000000000000000000000000000010000000000000000000000001db3439a222c519ab44bb1144fc28167b4fa6ee600000000000000000000000000000000000000000000000000000000000000000000000000000000000000000000000000000000000000000000000000000000',\n",
       " 'nonce': 0,\n",
       " 'r': '0x76e2003e065da19c06351639b48624b7d7ac65c74c76370668d544dee730dd79',\n",
       " 's': '0x4a25a8abc8e55a4c254d5019aea129bf02aee6e7a40438c26c83149719ade58f',\n",
       " 'to': '0x7e2d0fe0ffdd78c264f8d40d19acb7d04390c6e8',\n",
       " 'transaction_index': 1,\n",
       " 'type': '0x0',\n",
       " 'v': 27,\n",
       " 'value': 120000000000000}"
      ]
     },
     "execution_count": 3,
     "metadata": {},
     "output_type": "execute_result"
    }
   ],
   "source": [
    "transaction = await evm.async_get_transaction(transaction_hash)\n",
    "\n",
    "transaction"
   ]
  },
  {
   "cell_type": "markdown",
   "id": "18c59091",
   "metadata": {
    "ExecuteTime": {
     "end_time": "2022-04-26T05:42:19.608608Z",
     "start_time": "2022-04-26T05:42:19.605053Z"
    }
   },
   "source": [
    "## Get transaction count of address"
   ]
  },
  {
   "cell_type": "code",
   "execution_count": 4,
   "id": "40deb4c6",
   "metadata": {
    "ExecuteTime": {
     "end_time": "2022-04-26T05:43:28.549393Z",
     "start_time": "2022-04-26T05:43:28.412310Z"
    }
   },
   "outputs": [
    {
     "data": {
      "text/plain": [
       "781"
      ]
     },
     "execution_count": 4,
     "metadata": {},
     "output_type": "execute_result"
    }
   ],
   "source": [
    "transaction_count = await evm.async_get_transaction_count(address)\n",
    "\n",
    "transaction_count"
   ]
  },
  {
   "cell_type": "markdown",
   "id": "313f54c4",
   "metadata": {
    "ExecuteTime": {
     "end_time": "2022-04-26T05:37:24.821771Z",
     "start_time": "2022-04-26T05:37:24.820077Z"
    }
   },
   "source": [
    "## Get all transactions from address"
   ]
  },
  {
   "cell_type": "code",
   "execution_count": 5,
   "id": "3a7dec2e",
   "metadata": {
    "ExecuteTime": {
     "end_time": "2022-04-26T05:43:44.168579Z",
     "start_time": "2022-04-26T05:43:28.552572Z"
    }
   },
   "outputs": [
    {
     "data": {
      "text/plain": [
       "781"
      ]
     },
     "execution_count": 5,
     "metadata": {},
     "output_type": "execute_result"
    }
   ],
   "source": [
    "transactions = await evm.async_get_transactions_from_address(address)\n",
    "\n",
    "len(transactions)"
   ]
  }
 ],
 "metadata": {
  "kernelspec": {
   "display_name": "Python 3",
   "language": "python",
   "name": "python3"
  },
  "language_info": {
   "codemirror_mode": {
    "name": "ipython",
    "version": 3
   },
   "file_extension": ".py",
   "mimetype": "text/x-python",
   "name": "python",
   "nbconvert_exporter": "python",
   "pygments_lexer": "ipython3",
   "version": "3.9.5"
  }
 },
 "nbformat": 4,
 "nbformat_minor": 5
}
