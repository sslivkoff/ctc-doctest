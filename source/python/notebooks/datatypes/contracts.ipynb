{
 "cells": [
  {
   "cell_type": "code",
   "execution_count": 2,
   "id": "b8eb5db7",
   "metadata": {
    "ExecuteTime": {
     "end_time": "2022-04-26T04:13:03.249894Z",
     "start_time": "2022-04-26T04:13:03.023483Z"
    }
   },
   "outputs": [],
   "source": [
    "from ctc import evm"
   ]
  },
  {
   "cell_type": "markdown",
   "id": "f2fb80ac",
   "metadata": {
    "ExecuteTime": {
     "end_time": "2022-04-26T04:12:49.713891Z",
     "start_time": "2022-04-26T04:12:49.709823Z"
    }
   },
   "source": [
    "## Get contract creation block"
   ]
  },
  {
   "cell_type": "code",
   "execution_count": 3,
   "id": "9095eeec",
   "metadata": {
    "ExecuteTime": {
     "end_time": "2022-04-26T04:22:01.935820Z",
     "start_time": "2022-04-26T04:22:01.853108Z"
    }
   },
   "outputs": [
    {
     "data": {
      "text/plain": [
       "12125705"
      ]
     },
     "execution_count": 3,
     "metadata": {},
     "output_type": "execute_result"
    }
   ],
   "source": [
    "address = '0x956f47f50a910163d8bf957cf5846d573e7f87ca'\n",
    "\n",
    "block_number = await evm.async_get_contract_creation_block(address)\n",
    "\n",
    "block_number"
   ]
  }
 ],
 "metadata": {
  "kernelspec": {
   "display_name": "Python 3",
   "language": "python",
   "name": "python3"
  },
  "language_info": {
   "codemirror_mode": {
    "name": "ipython",
    "version": 3
   },
   "file_extension": ".py",
   "mimetype": "text/x-python",
   "name": "python",
   "nbconvert_exporter": "python",
   "pygments_lexer": "ipython3",
   "version": "3.9.5"
  }
 },
 "nbformat": 4,
 "nbformat_minor": 5
}
