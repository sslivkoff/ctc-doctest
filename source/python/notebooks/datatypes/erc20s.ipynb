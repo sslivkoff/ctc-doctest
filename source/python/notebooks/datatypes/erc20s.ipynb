{
 "cells": [
  {
   "cell_type": "markdown",
   "id": "8b9a7042",
   "metadata": {},
   "source": [
    "# TODO\n",
    "- add allowances"
   ]
  },
  {
   "cell_type": "code",
   "execution_count": 1,
   "id": "98036760",
   "metadata": {
    "ExecuteTime": {
     "end_time": "2022-09-21T15:45:34.036075Z",
     "start_time": "2022-09-21T15:45:34.008482Z"
    }
   },
   "outputs": [],
   "source": [
    "import ctc"
   ]
  },
  {
   "cell_type": "code",
   "execution_count": 2,
   "id": "93a868a2",
   "metadata": {
    "ExecuteTime": {
     "end_time": "2022-09-21T15:45:34.042792Z",
     "start_time": "2022-09-21T15:45:34.040343Z"
    }
   },
   "outputs": [],
   "source": [
    "erc20 = '0x956f47f50a910163d8bf957cf5846d573e7f87ca'\n",
    "\n",
    "erc20s = [\n",
    "    '0x956f47f50a910163d8bf957cf5846d573e7f87ca',\n",
    "    '0x5f98805a4e8be255a32880fdec7f6728c6568ba0',\n",
    "    '0x6b175474e89094c44da98b954eedeac495271d0f',\n",
    "]"
   ]
  },
  {
   "cell_type": "markdown",
   "id": "e28f949b",
   "metadata": {
    "ExecuteTime": {
     "end_time": "2022-04-26T04:30:28.047934Z",
     "start_time": "2022-04-26T04:30:28.044610Z"
    }
   },
   "source": [
    "## Get ERC20 metadata"
   ]
  },
  {
   "cell_type": "code",
   "execution_count": 3,
   "id": "f8cedbdc",
   "metadata": {
    "ExecuteTime": {
     "end_time": "2022-09-21T15:45:34.262852Z",
     "start_time": "2022-09-21T15:45:34.044321Z"
    }
   },
   "outputs": [
    {
     "name": "stdout",
     "output_type": "stream",
     "text": [
      "name: Fei USD\n",
      "symbol: FEI\n",
      "decimals: 18\n"
     ]
    }
   ],
   "source": [
    "name = await ctc.async_get_erc20_name(erc20)\n",
    "symbol = await ctc.async_get_erc20_symbol(erc20)\n",
    "decimals = await ctc.async_get_erc20_decimals(erc20)\n",
    "\n",
    "print('name:', name)\n",
    "print('symbol:', symbol)\n",
    "print('decimals:', decimals)"
   ]
  },
  {
   "cell_type": "markdown",
   "id": "0350a2e6",
   "metadata": {
    "ExecuteTime": {
     "end_time": "2022-04-26T04:30:42.318531Z",
     "start_time": "2022-04-26T04:30:42.315443Z"
    }
   },
   "source": [
    "## Get ERC20s metadata"
   ]
  },
  {
   "cell_type": "code",
   "execution_count": 4,
   "id": "ee768790",
   "metadata": {
    "ExecuteTime": {
     "end_time": "2022-09-21T15:45:34.828501Z",
     "start_time": "2022-09-21T15:45:34.264293Z"
    }
   },
   "outputs": [
    {
     "name": "stdout",
     "output_type": "stream",
     "text": [
      "names: ['Fei USD', 'LUSD Stablecoin', 'Dai Stablecoin']\n",
      "symbols: ['FEI', 'LUSD', 'DAI']\n",
      "decimals: [18, 18, 18]\n"
     ]
    }
   ],
   "source": [
    "names = await ctc.async_get_erc20s_names(erc20s)\n",
    "symbols = await ctc.async_get_erc20s_symbols(erc20s)\n",
    "decimals = await ctc.async_get_erc20s_decimals(erc20s)\n",
    "\n",
    "print('names:', names)\n",
    "print('symbols:', symbols)\n",
    "print('decimals:', decimals)"
   ]
  },
  {
   "cell_type": "markdown",
   "id": "162a2764",
   "metadata": {
    "ExecuteTime": {
     "end_time": "2022-04-26T04:36:06.804443Z",
     "start_time": "2022-04-26T04:36:06.801140Z"
    }
   },
   "source": [
    "## Get ERC20 state"
   ]
  },
  {
   "cell_type": "code",
   "execution_count": 5,
   "id": "ca02e71a",
   "metadata": {
    "ExecuteTime": {
     "end_time": "2022-09-21T15:45:34.960609Z",
     "start_time": "2022-09-21T15:45:34.829478Z"
    }
   },
   "outputs": [
    {
     "name": "stdout",
     "output_type": "stream",
     "text": [
      "total_supply: 99364749.68958248\n",
      "address_balance: 805579.0485472813\n"
     ]
    }
   ],
   "source": [
    "total_supply = await ctc.async_get_erc20_total_supply(erc20)\n",
    "address_balance = await ctc.async_get_erc20_balance(\n",
    "    '0x06cb22615ba53e60d67bf6c341a0fd5e718e1655',\n",
    "    erc20,\n",
    ")\n",
    "\n",
    "print('total_supply:', total_supply)\n",
    "print('address_balance:', address_balance)"
   ]
  },
  {
   "cell_type": "markdown",
   "id": "abbdfd65",
   "metadata": {
    "ExecuteTime": {
     "end_time": "2022-04-26T04:37:45.000157Z",
     "start_time": "2022-04-26T04:37:44.996630Z"
    }
   },
   "source": [
    "## Get raw un-normalized ERC20 state"
   ]
  },
  {
   "cell_type": "code",
   "execution_count": 6,
   "id": "d6b4574d",
   "metadata": {
    "ExecuteTime": {
     "end_time": "2022-09-21T15:45:35.113048Z",
     "start_time": "2022-09-21T15:45:34.962229Z"
    }
   },
   "outputs": [
    {
     "name": "stdout",
     "output_type": "stream",
     "text": [
      "raw_total_supply: 99364749689582484357213409\n",
      "raw_address_balance: 805579048547281286530026\n"
     ]
    }
   ],
   "source": [
    "raw_total_supply = await ctc.async_get_erc20_total_supply(\n",
    "    erc20,\n",
    "    normalize=False,\n",
    ")\n",
    "raw_address_balance = await ctc.async_get_erc20_balance(\n",
    "    '0x06cb22615ba53e60d67bf6c341a0fd5e718e1655',\n",
    "    erc20,\n",
    "    normalize=False,\n",
    ")\n",
    "\n",
    "print('raw_total_supply:', raw_total_supply)\n",
    "print('raw_address_balance:', raw_address_balance)"
   ]
  },
  {
   "cell_type": "markdown",
   "id": "a1f39354",
   "metadata": {
    "ExecuteTime": {
     "end_time": "2022-04-26T04:54:00.410327Z",
     "start_time": "2022-04-26T04:54:00.406668Z"
    }
   },
   "source": [
    "## Normalize raw un-normalized ERC20 values"
   ]
  },
  {
   "cell_type": "code",
   "execution_count": 7,
   "id": "f36e517e",
   "metadata": {
    "ExecuteTime": {
     "end_time": "2022-09-21T15:45:35.127256Z",
     "start_time": "2022-09-21T15:45:35.114546Z"
    }
   },
   "outputs": [
    {
     "name": "stdout",
     "output_type": "stream",
     "text": [
      "normalized_total_supply: 99364749.68958248\n",
      "normalized_values: [99364749.68958248, 805579.0485472813]\n"
     ]
    }
   ],
   "source": [
    "normalized_total_supply = await ctc.async_normalize_erc20_quantity(\n",
    "    raw_total_supply,\n",
    "    erc20,\n",
    ")\n",
    "normalized_values = await ctc.async_normalize_erc20_quantities(\n",
    "    [raw_total_supply, raw_address_balance],\n",
    "    erc20,\n",
    ")\n",
    "\n",
    "print('normalized_total_supply:', normalized_total_supply)\n",
    "print('normalized_values:', normalized_values)"
   ]
  },
  {
   "cell_type": "markdown",
   "id": "38f56599",
   "metadata": {
    "ExecuteTime": {
     "end_time": "2022-04-26T04:37:08.280772Z",
     "start_time": "2022-04-26T04:37:08.277009Z"
    }
   },
   "source": [
    "## Get historical ERC20 state from a specific block"
   ]
  },
  {
   "cell_type": "code",
   "execution_count": 8,
   "id": "9e35b4b6",
   "metadata": {
    "ExecuteTime": {
     "end_time": "2022-09-21T15:45:35.250069Z",
     "start_time": "2022-09-21T15:45:35.128398Z"
    }
   },
   "outputs": [
    {
     "name": "stdout",
     "output_type": "stream",
     "text": [
      "total_supply: 751748886.6295298\n",
      "address_balance: 126538335.35590503\n"
     ]
    }
   ],
   "source": [
    "total_supply = await ctc.async_get_erc20_total_supply(\n",
    "    erc20,\n",
    "    block=14000000,\n",
    ")\n",
    "address_balance = await ctc.async_get_erc20_balance(\n",
    "    '0x06cb22615ba53e60d67bf6c341a0fd5e718e1655',\n",
    "    erc20,\n",
    "    block=14000000,\n",
    ")\n",
    "\n",
    "print('total_supply:', total_supply)\n",
    "print('address_balance:', address_balance)"
   ]
  },
  {
   "cell_type": "markdown",
   "id": "5d265d33",
   "metadata": {
    "ExecuteTime": {
     "end_time": "2022-04-26T04:43:58.034729Z",
     "start_time": "2022-04-26T04:43:58.031432Z"
    }
   },
   "source": [
    "## Get historical ERC20 state across multiple blocks"
   ]
  },
  {
   "cell_type": "code",
   "execution_count": 9,
   "id": "c29ac1f7",
   "metadata": {
    "ExecuteTime": {
     "end_time": "2022-09-21T15:45:35.686806Z",
     "start_time": "2022-09-21T15:45:35.251683Z"
    }
   },
   "outputs": [
    {
     "name": "stdout",
     "output_type": "stream",
     "text": [
      "total_supplies: [751748886.62953, 528229617.5828952, 550695508.5094506]\n",
      "address_balances: [126538335.35590503, 110223666.2844692, 122075790.9010594]\n"
     ]
    }
   ],
   "source": [
    "blocks = [14000000, 14100000, 14200000]\n",
    "\n",
    "total_supplies = await ctc.async_get_erc20_total_supply_by_block(\n",
    "    erc20,\n",
    "    blocks=blocks,\n",
    ")\n",
    "address_balances = await ctc.async_get_erc20_balance_by_block(\n",
    "    '0x06cb22615ba53e60d67bf6c341a0fd5e718e1655',\n",
    "    erc20,\n",
    "    blocks=blocks,\n",
    ")\n",
    "\n",
    "print('total_supplies:', total_supplies)\n",
    "print('address_balances:', address_balances)"
   ]
  },
  {
   "cell_type": "markdown",
   "id": "de01a42f",
   "metadata": {
    "ExecuteTime": {
     "end_time": "2022-04-26T04:43:09.362267Z",
     "start_time": "2022-04-26T04:43:09.360401Z"
    }
   },
   "source": [
    "## Get state of multiple ERC20s"
   ]
  },
  {
   "cell_type": "code",
   "execution_count": 10,
   "id": "9cb814d2",
   "metadata": {
    "ExecuteTime": {
     "end_time": "2022-09-21T15:45:35.903597Z",
     "start_time": "2022-09-21T15:45:35.688124Z"
    }
   },
   "outputs": [
    {
     "name": "stdout",
     "output_type": "stream",
     "text": [
      "total_supplies: [99364749.68958248, 170165188.03390792, 6413408014.199833]\n",
      "address_balances: [805579.0485472813, 0.0, 0.0]\n"
     ]
    }
   ],
   "source": [
    "total_supplies = await ctc.async_get_erc20s_total_supplies(erc20s)\n",
    "address_balances = await ctc.async_get_erc20s_balances(\n",
    "    '0x06cb22615ba53e60d67bf6c341a0fd5e718e1655',\n",
    "    erc20s,\n",
    ")\n",
    "\n",
    "print('total_supplies:', total_supplies)\n",
    "print('address_balances:', address_balances)"
   ]
  },
  {
   "cell_type": "markdown",
   "id": "d262c54a",
   "metadata": {
    "ExecuteTime": {
     "end_time": "2022-04-26T04:50:17.218226Z",
     "start_time": "2022-04-26T04:50:17.216543Z"
    }
   },
   "source": [
    "## Get ERC20 balance of multiple addresses"
   ]
  },
  {
   "cell_type": "code",
   "execution_count": 11,
   "id": "4c069720",
   "metadata": {
    "ExecuteTime": {
     "end_time": "2022-09-21T15:45:36.000137Z",
     "start_time": "2022-09-21T15:45:35.904644Z"
    }
   },
   "outputs": [
    {
     "name": "stdout",
     "output_type": "stream",
     "text": [
      "addresses_balances: [805579.0485472813, 13430681.756974604, 37295757.32505679]\n"
     ]
    }
   ],
   "source": [
    "addresses = [\n",
    "    '0x06cb22615ba53e60d67bf6c341a0fd5e718e1655',\n",
    "    '0x9928e4046d7c6513326ccea028cd3e7a91c7590a',\n",
    "    '0x2a188f9eb761f70ecea083ba6c2a40145078dfc2',\n",
    "]\n",
    "\n",
    "addresses_balances = await ctc.async_get_erc20_balances_of_addresses(\n",
    "    addresses,\n",
    "    erc20,\n",
    ")\n",
    "\n",
    "print('addresses_balances:', addresses_balances)"
   ]
  },
  {
   "cell_type": "markdown",
   "id": "44905097",
   "metadata": {
    "ExecuteTime": {
     "end_time": "2022-04-26T04:29:05.869042Z",
     "start_time": "2022-04-26T04:29:05.867351Z"
    }
   },
   "source": [
    "## Get ERC20 transfers"
   ]
  },
  {
   "cell_type": "code",
   "execution_count": 12,
   "id": "8e16de6f",
   "metadata": {
    "ExecuteTime": {
     "end_time": "2022-09-21T15:45:40.081848Z",
     "start_time": "2022-09-21T15:45:36.002085Z"
    }
   },
   "outputs": [
    {
     "data": {
      "text/html": [
       "<div>\n",
       "<style scoped>\n",
       "    .dataframe tbody tr th:only-of-type {\n",
       "        vertical-align: middle;\n",
       "    }\n",
       "\n",
       "    .dataframe tbody tr th {\n",
       "        vertical-align: top;\n",
       "    }\n",
       "\n",
       "    .dataframe thead th {\n",
       "        text-align: right;\n",
       "    }\n",
       "</style>\n",
       "<table border=\"1\" class=\"dataframe\">\n",
       "  <thead>\n",
       "    <tr style=\"text-align: right;\">\n",
       "      <th></th>\n",
       "      <th></th>\n",
       "      <th></th>\n",
       "      <th>address</th>\n",
       "      <th>block_hash</th>\n",
       "      <th>transaction_hash</th>\n",
       "      <th>contract_address</th>\n",
       "      <th>event_name</th>\n",
       "      <th>event_hash</th>\n",
       "      <th>arg__from</th>\n",
       "      <th>arg__to</th>\n",
       "      <th>arg__amount</th>\n",
       "    </tr>\n",
       "    <tr>\n",
       "      <th>block_number</th>\n",
       "      <th>transaction_index</th>\n",
       "      <th>log_index</th>\n",
       "      <th></th>\n",
       "      <th></th>\n",
       "      <th></th>\n",
       "      <th></th>\n",
       "      <th></th>\n",
       "      <th></th>\n",
       "      <th></th>\n",
       "      <th></th>\n",
       "      <th></th>\n",
       "    </tr>\n",
       "  </thead>\n",
       "  <tbody>\n",
       "    <tr>\n",
       "      <th rowspan=\"5\" valign=\"top\">12168368</th>\n",
       "      <th rowspan=\"5\" valign=\"top\">61</th>\n",
       "      <th>29</th>\n",
       "      <td>0x956f47f50a910163d8bf957cf5846d573e7f87ca</td>\n",
       "      <td>0x3bce142af146fec596340d67569a44688690955a065f...</td>\n",
       "      <td>0xc9851f374701f76024c1f44f7166e0ef8a9945675046...</td>\n",
       "      <td>0x956f47f50a910163d8bf957cf5846d573e7f87ca</td>\n",
       "      <td>Transfer</td>\n",
       "      <td>0xddf252ad1be2c89b69c2b068fc378daa952ba7f163c4...</td>\n",
       "      <td>0x0000000000000000000000000000000000000000</td>\n",
       "      <td>0xbffb152b9392e38cddc275d818a3db7fe364596b</td>\n",
       "      <td>1302613195.326042</td>\n",
       "    </tr>\n",
       "    <tr>\n",
       "      <th>32</th>\n",
       "      <td>0x956f47f50a910163d8bf957cf5846d573e7f87ca</td>\n",
       "      <td>0x3bce142af146fec596340d67569a44688690955a065f...</td>\n",
       "      <td>0xc9851f374701f76024c1f44f7166e0ef8a9945675046...</td>\n",
       "      <td>0x956f47f50a910163d8bf957cf5846d573e7f87ca</td>\n",
       "      <td>Transfer</td>\n",
       "      <td>0xddf252ad1be2c89b69c2b068fc378daa952ba7f163c4...</td>\n",
       "      <td>0x0000000000000000000000000000000000000000</td>\n",
       "      <td>0x9b0c6299d08fe823f2c0598d97a1141507e4ad86</td>\n",
       "      <td>1315770904.36974</td>\n",
       "    </tr>\n",
       "    <tr>\n",
       "      <th>34</th>\n",
       "      <td>0x956f47f50a910163d8bf957cf5846d573e7f87ca</td>\n",
       "      <td>0x3bce142af146fec596340d67569a44688690955a065f...</td>\n",
       "      <td>0xc9851f374701f76024c1f44f7166e0ef8a9945675046...</td>\n",
       "      <td>0x956f47f50a910163d8bf957cf5846d573e7f87ca</td>\n",
       "      <td>Transfer</td>\n",
       "      <td>0xddf252ad1be2c89b69c2b068fc378daa952ba7f163c4...</td>\n",
       "      <td>0x9b0c6299d08fe823f2c0598d97a1141507e4ad86</td>\n",
       "      <td>0x94b0a3d511b6ecdb17ebf877278ab030acb0a878</td>\n",
       "      <td>1315770904.36974</td>\n",
       "    </tr>\n",
       "    <tr>\n",
       "      <th>42</th>\n",
       "      <td>0x956f47f50a910163d8bf957cf5846d573e7f87ca</td>\n",
       "      <td>0x3bce142af146fec596340d67569a44688690955a065f...</td>\n",
       "      <td>0xc9851f374701f76024c1f44f7166e0ef8a9945675046...</td>\n",
       "      <td>0x956f47f50a910163d8bf957cf5846d573e7f87ca</td>\n",
       "      <td>Transfer</td>\n",
       "      <td>0xddf252ad1be2c89b69c2b068fc378daa952ba7f163c4...</td>\n",
       "      <td>0x9b0c6299d08fe823f2c0598d97a1141507e4ad86</td>\n",
       "      <td>0x0000000000000000000000000000000000000000</td>\n",
       "      <td>0.0</td>\n",
       "    </tr>\n",
       "    <tr>\n",
       "      <th>46</th>\n",
       "      <td>0x956f47f50a910163d8bf957cf5846d573e7f87ca</td>\n",
       "      <td>0x3bce142af146fec596340d67569a44688690955a065f...</td>\n",
       "      <td>0xc9851f374701f76024c1f44f7166e0ef8a9945675046...</td>\n",
       "      <td>0x956f47f50a910163d8bf957cf5846d573e7f87ca</td>\n",
       "      <td>Transfer</td>\n",
       "      <td>0xddf252ad1be2c89b69c2b068fc378daa952ba7f163c4...</td>\n",
       "      <td>0x0000000000000000000000000000000000000000</td>\n",
       "      <td>0xbffb152b9392e38cddc275d818a3db7fe364596b</td>\n",
       "      <td>500.0</td>\n",
       "    </tr>\n",
       "    <tr>\n",
       "      <th>...</th>\n",
       "      <th>...</th>\n",
       "      <th>...</th>\n",
       "      <td>...</td>\n",
       "      <td>...</td>\n",
       "      <td>...</td>\n",
       "      <td>...</td>\n",
       "      <td>...</td>\n",
       "      <td>...</td>\n",
       "      <td>...</td>\n",
       "      <td>...</td>\n",
       "      <td>...</td>\n",
       "    </tr>\n",
       "    <tr>\n",
       "      <th rowspan=\"2\" valign=\"top\">15582485</th>\n",
       "      <th rowspan=\"2\" valign=\"top\">118</th>\n",
       "      <th>258</th>\n",
       "      <td>0x956f47f50a910163d8bf957cf5846d573e7f87ca</td>\n",
       "      <td>0x9e3ade47684f98364410e1d071478760c2263d34c23c...</td>\n",
       "      <td>0xb595cc5a8b7020b4a66ca9e4b6d5875bc571c4eb6157...</td>\n",
       "      <td>0x956f47f50a910163d8bf957cf5846d573e7f87ca</td>\n",
       "      <td>Transfer</td>\n",
       "      <td>0xddf252ad1be2c89b69c2b068fc378daa952ba7f163c4...</td>\n",
       "      <td>0xdf50fbde8180c8785842c8e316ebe06f542d3443</td>\n",
       "      <td>0xf2f400c138f9fb900576263af0bc7fcde2b1b8a8</td>\n",
       "      <td>2792.856843</td>\n",
       "    </tr>\n",
       "    <tr>\n",
       "      <th>261</th>\n",
       "      <td>0x956f47f50a910163d8bf957cf5846d573e7f87ca</td>\n",
       "      <td>0x9e3ade47684f98364410e1d071478760c2263d34c23c...</td>\n",
       "      <td>0xb595cc5a8b7020b4a66ca9e4b6d5875bc571c4eb6157...</td>\n",
       "      <td>0x956f47f50a910163d8bf957cf5846d573e7f87ca</td>\n",
       "      <td>Transfer</td>\n",
       "      <td>0xddf252ad1be2c89b69c2b068fc378daa952ba7f163c4...</td>\n",
       "      <td>0xf2f400c138f9fb900576263af0bc7fcde2b1b8a8</td>\n",
       "      <td>0x9928e4046d7c6513326ccea028cd3e7a91c7590a</td>\n",
       "      <td>2792.856843</td>\n",
       "    </tr>\n",
       "    <tr>\n",
       "      <th>15582497</th>\n",
       "      <th>5</th>\n",
       "      <th>4</th>\n",
       "      <td>0x956f47f50a910163d8bf957cf5846d573e7f87ca</td>\n",
       "      <td>0x3a697a967fc72d8b5ce620be953f09f09ce6f950bc94...</td>\n",
       "      <td>0xb956b399f870ff1ec956a3807e4e947fea1e62371a0b...</td>\n",
       "      <td>0x956f47f50a910163d8bf957cf5846d573e7f87ca</td>\n",
       "      <td>Transfer</td>\n",
       "      <td>0xddf252ad1be2c89b69c2b068fc378daa952ba7f163c4...</td>\n",
       "      <td>0x2028d7ef0223c45cadbf05e13f1823c1228012bf</td>\n",
       "      <td>0x0000e0ca771e21bd00057f54a68c30d400000000</td>\n",
       "      <td>4000.0</td>\n",
       "    </tr>\n",
       "    <tr>\n",
       "      <th rowspan=\"2\" valign=\"top\">15582519</th>\n",
       "      <th rowspan=\"2\" valign=\"top\">47</th>\n",
       "      <th>81</th>\n",
       "      <td>0x956f47f50a910163d8bf957cf5846d573e7f87ca</td>\n",
       "      <td>0x4e0df9a008abadb90da31a2faa0b642a61e4eed19ab6...</td>\n",
       "      <td>0x9e3fbdc25ba497daba48c67fea6fb795ddae3fd978f3...</td>\n",
       "      <td>0x956f47f50a910163d8bf957cf5846d573e7f87ca</td>\n",
       "      <td>Transfer</td>\n",
       "      <td>0xddf252ad1be2c89b69c2b068fc378daa952ba7f163c4...</td>\n",
       "      <td>0x2028d7ef0223c45cadbf05e13f1823c1228012bf</td>\n",
       "      <td>0x0000000000007f150bd6f54c40a34d7c3d5e9f56</td>\n",
       "      <td>11784.824</td>\n",
       "    </tr>\n",
       "    <tr>\n",
       "      <th>85</th>\n",
       "      <td>0x956f47f50a910163d8bf957cf5846d573e7f87ca</td>\n",
       "      <td>0x4e0df9a008abadb90da31a2faa0b642a61e4eed19ab6...</td>\n",
       "      <td>0x9e3fbdc25ba497daba48c67fea6fb795ddae3fd978f3...</td>\n",
       "      <td>0x956f47f50a910163d8bf957cf5846d573e7f87ca</td>\n",
       "      <td>Transfer</td>\n",
       "      <td>0xddf252ad1be2c89b69c2b068fc378daa952ba7f163c4...</td>\n",
       "      <td>0x0000000000007f150bd6f54c40a34d7c3d5e9f56</td>\n",
       "      <td>0xdf50fbde8180c8785842c8e316ebe06f542d3443</td>\n",
       "      <td>11784.824</td>\n",
       "    </tr>\n",
       "  </tbody>\n",
       "</table>\n",
       "<p>275652 rows × 9 columns</p>\n",
       "</div>"
      ],
      "text/plain": [
       "                                                                             address  \\\n",
       "block_number transaction_index log_index                                               \n",
       "12168368     61                29         0x956f47f50a910163d8bf957cf5846d573e7f87ca   \n",
       "                               32         0x956f47f50a910163d8bf957cf5846d573e7f87ca   \n",
       "                               34         0x956f47f50a910163d8bf957cf5846d573e7f87ca   \n",
       "                               42         0x956f47f50a910163d8bf957cf5846d573e7f87ca   \n",
       "                               46         0x956f47f50a910163d8bf957cf5846d573e7f87ca   \n",
       "...                                                                              ...   \n",
       "15582485     118               258        0x956f47f50a910163d8bf957cf5846d573e7f87ca   \n",
       "                               261        0x956f47f50a910163d8bf957cf5846d573e7f87ca   \n",
       "15582497     5                 4          0x956f47f50a910163d8bf957cf5846d573e7f87ca   \n",
       "15582519     47                81         0x956f47f50a910163d8bf957cf5846d573e7f87ca   \n",
       "                               85         0x956f47f50a910163d8bf957cf5846d573e7f87ca   \n",
       "\n",
       "                                                                                 block_hash  \\\n",
       "block_number transaction_index log_index                                                      \n",
       "12168368     61                29         0x3bce142af146fec596340d67569a44688690955a065f...   \n",
       "                               32         0x3bce142af146fec596340d67569a44688690955a065f...   \n",
       "                               34         0x3bce142af146fec596340d67569a44688690955a065f...   \n",
       "                               42         0x3bce142af146fec596340d67569a44688690955a065f...   \n",
       "                               46         0x3bce142af146fec596340d67569a44688690955a065f...   \n",
       "...                                                                                     ...   \n",
       "15582485     118               258        0x9e3ade47684f98364410e1d071478760c2263d34c23c...   \n",
       "                               261        0x9e3ade47684f98364410e1d071478760c2263d34c23c...   \n",
       "15582497     5                 4          0x3a697a967fc72d8b5ce620be953f09f09ce6f950bc94...   \n",
       "15582519     47                81         0x4e0df9a008abadb90da31a2faa0b642a61e4eed19ab6...   \n",
       "                               85         0x4e0df9a008abadb90da31a2faa0b642a61e4eed19ab6...   \n",
       "\n",
       "                                                                           transaction_hash  \\\n",
       "block_number transaction_index log_index                                                      \n",
       "12168368     61                29         0xc9851f374701f76024c1f44f7166e0ef8a9945675046...   \n",
       "                               32         0xc9851f374701f76024c1f44f7166e0ef8a9945675046...   \n",
       "                               34         0xc9851f374701f76024c1f44f7166e0ef8a9945675046...   \n",
       "                               42         0xc9851f374701f76024c1f44f7166e0ef8a9945675046...   \n",
       "                               46         0xc9851f374701f76024c1f44f7166e0ef8a9945675046...   \n",
       "...                                                                                     ...   \n",
       "15582485     118               258        0xb595cc5a8b7020b4a66ca9e4b6d5875bc571c4eb6157...   \n",
       "                               261        0xb595cc5a8b7020b4a66ca9e4b6d5875bc571c4eb6157...   \n",
       "15582497     5                 4          0xb956b399f870ff1ec956a3807e4e947fea1e62371a0b...   \n",
       "15582519     47                81         0x9e3fbdc25ba497daba48c67fea6fb795ddae3fd978f3...   \n",
       "                               85         0x9e3fbdc25ba497daba48c67fea6fb795ddae3fd978f3...   \n",
       "\n",
       "                                                                    contract_address  \\\n",
       "block_number transaction_index log_index                                               \n",
       "12168368     61                29         0x956f47f50a910163d8bf957cf5846d573e7f87ca   \n",
       "                               32         0x956f47f50a910163d8bf957cf5846d573e7f87ca   \n",
       "                               34         0x956f47f50a910163d8bf957cf5846d573e7f87ca   \n",
       "                               42         0x956f47f50a910163d8bf957cf5846d573e7f87ca   \n",
       "                               46         0x956f47f50a910163d8bf957cf5846d573e7f87ca   \n",
       "...                                                                              ...   \n",
       "15582485     118               258        0x956f47f50a910163d8bf957cf5846d573e7f87ca   \n",
       "                               261        0x956f47f50a910163d8bf957cf5846d573e7f87ca   \n",
       "15582497     5                 4          0x956f47f50a910163d8bf957cf5846d573e7f87ca   \n",
       "15582519     47                81         0x956f47f50a910163d8bf957cf5846d573e7f87ca   \n",
       "                               85         0x956f47f50a910163d8bf957cf5846d573e7f87ca   \n",
       "\n",
       "                                         event_name  \\\n",
       "block_number transaction_index log_index              \n",
       "12168368     61                29          Transfer   \n",
       "                               32          Transfer   \n",
       "                               34          Transfer   \n",
       "                               42          Transfer   \n",
       "                               46          Transfer   \n",
       "...                                             ...   \n",
       "15582485     118               258         Transfer   \n",
       "                               261         Transfer   \n",
       "15582497     5                 4           Transfer   \n",
       "15582519     47                81          Transfer   \n",
       "                               85          Transfer   \n",
       "\n",
       "                                                                                 event_hash  \\\n",
       "block_number transaction_index log_index                                                      \n",
       "12168368     61                29         0xddf252ad1be2c89b69c2b068fc378daa952ba7f163c4...   \n",
       "                               32         0xddf252ad1be2c89b69c2b068fc378daa952ba7f163c4...   \n",
       "                               34         0xddf252ad1be2c89b69c2b068fc378daa952ba7f163c4...   \n",
       "                               42         0xddf252ad1be2c89b69c2b068fc378daa952ba7f163c4...   \n",
       "                               46         0xddf252ad1be2c89b69c2b068fc378daa952ba7f163c4...   \n",
       "...                                                                                     ...   \n",
       "15582485     118               258        0xddf252ad1be2c89b69c2b068fc378daa952ba7f163c4...   \n",
       "                               261        0xddf252ad1be2c89b69c2b068fc378daa952ba7f163c4...   \n",
       "15582497     5                 4          0xddf252ad1be2c89b69c2b068fc378daa952ba7f163c4...   \n",
       "15582519     47                81         0xddf252ad1be2c89b69c2b068fc378daa952ba7f163c4...   \n",
       "                               85         0xddf252ad1be2c89b69c2b068fc378daa952ba7f163c4...   \n",
       "\n",
       "                                                                           arg__from  \\\n",
       "block_number transaction_index log_index                                               \n",
       "12168368     61                29         0x0000000000000000000000000000000000000000   \n",
       "                               32         0x0000000000000000000000000000000000000000   \n",
       "                               34         0x9b0c6299d08fe823f2c0598d97a1141507e4ad86   \n",
       "                               42         0x9b0c6299d08fe823f2c0598d97a1141507e4ad86   \n",
       "                               46         0x0000000000000000000000000000000000000000   \n",
       "...                                                                              ...   \n",
       "15582485     118               258        0xdf50fbde8180c8785842c8e316ebe06f542d3443   \n",
       "                               261        0xf2f400c138f9fb900576263af0bc7fcde2b1b8a8   \n",
       "15582497     5                 4          0x2028d7ef0223c45cadbf05e13f1823c1228012bf   \n",
       "15582519     47                81         0x2028d7ef0223c45cadbf05e13f1823c1228012bf   \n",
       "                               85         0x0000000000007f150bd6f54c40a34d7c3d5e9f56   \n",
       "\n",
       "                                                                             arg__to  \\\n",
       "block_number transaction_index log_index                                               \n",
       "12168368     61                29         0xbffb152b9392e38cddc275d818a3db7fe364596b   \n",
       "                               32         0x9b0c6299d08fe823f2c0598d97a1141507e4ad86   \n",
       "                               34         0x94b0a3d511b6ecdb17ebf877278ab030acb0a878   \n",
       "                               42         0x0000000000000000000000000000000000000000   \n",
       "                               46         0xbffb152b9392e38cddc275d818a3db7fe364596b   \n",
       "...                                                                              ...   \n",
       "15582485     118               258        0xf2f400c138f9fb900576263af0bc7fcde2b1b8a8   \n",
       "                               261        0x9928e4046d7c6513326ccea028cd3e7a91c7590a   \n",
       "15582497     5                 4          0x0000e0ca771e21bd00057f54a68c30d400000000   \n",
       "15582519     47                81         0x0000000000007f150bd6f54c40a34d7c3d5e9f56   \n",
       "                               85         0xdf50fbde8180c8785842c8e316ebe06f542d3443   \n",
       "\n",
       "                                                arg__amount  \n",
       "block_number transaction_index log_index                     \n",
       "12168368     61                29         1302613195.326042  \n",
       "                               32          1315770904.36974  \n",
       "                               34          1315770904.36974  \n",
       "                               42                       0.0  \n",
       "                               46                     500.0  \n",
       "...                                                     ...  \n",
       "15582485     118               258              2792.856843  \n",
       "                               261              2792.856843  \n",
       "15582497     5                 4                     4000.0  \n",
       "15582519     47                81                 11784.824  \n",
       "                               85                 11784.824  \n",
       "\n",
       "[275652 rows x 9 columns]"
      ]
     },
     "execution_count": 12,
     "metadata": {},
     "output_type": "execute_result"
    }
   ],
   "source": [
    "transfers = await ctc.async_get_erc20_transfers(erc20, verbose=False)\n",
    "\n",
    "transfers"
   ]
  },
  {
   "cell_type": "markdown",
   "id": "0c3c89cf",
   "metadata": {
    "ExecuteTime": {
     "end_time": "2022-04-26T04:29:20.960459Z",
     "start_time": "2022-04-26T04:29:20.958756Z"
    }
   },
   "source": [
    "## Get ERC20 balances from transfers"
   ]
  },
  {
   "cell_type": "code",
   "execution_count": 13,
   "id": "8f5806f8",
   "metadata": {
    "ExecuteTime": {
     "end_time": "2022-09-21T15:45:43.513624Z",
     "start_time": "2022-09-21T15:45:40.083125Z"
    }
   },
   "outputs": [
    {
     "data": {
      "text/plain": [
       "address\n",
       "0x2a188f9eb761f70ecea083ba6c2a40145078dfc2     37295757325056792766954167\n",
       "0x3a24fea1509e1baeb2d2a7c819a191aa441825ea     23649097120164751841622097\n",
       "0x9928e4046d7c6513326ccea028cd3e7a91c7590a     13430681756974603200780032\n",
       "0xc69ddcd4dfef25d8a793241834d4cc4b3668ead6      3396966631011854590048258\n",
       "0xfafc562265a49975e8b20707eac966473795cf90      2634540334855403348554034\n",
       "                                                         ...             \n",
       "0x5d47e5d242a8f66a6286b0a2353868875f5d6068                              0\n",
       "0x5d45be1fb9c7251a90e970b5e20744496f29616f                              0\n",
       "0x5d430f475dcc5e47ec527cb9e07f59bbd377c583                              0\n",
       "0x5d41d6ab6d1e95d50f7f11234e503e5c8c6b5a0a                              0\n",
       "0x0000000000000000000000000000000000000000    -99364749689582484357213409\n",
       "Name: balance, Length: 20864, dtype: object"
      ]
     },
     "execution_count": 13,
     "metadata": {},
     "output_type": "execute_result"
    }
   ],
   "source": [
    "transfers = await ctc.async_get_erc20_transfers(\n",
    "    erc20,\n",
    "    normalize=False,\n",
    "    verbose=False,\n",
    ")\n",
    "holders = await ctc.async_get_erc20_balances_from_transfers(transfers)\n",
    "\n",
    "holders"
   ]
  }
 ],
 "metadata": {
  "kernelspec": {
   "display_name": "Python 3",
   "language": "python",
   "name": "python3"
  },
  "language_info": {
   "codemirror_mode": {
    "name": "ipython",
    "version": 3
   },
   "file_extension": ".py",
   "mimetype": "text/x-python",
   "name": "python",
   "nbconvert_exporter": "python",
   "pygments_lexer": "ipython3",
   "version": "3.9.5"
  }
 },
 "nbformat": 4,
 "nbformat_minor": 5
}
