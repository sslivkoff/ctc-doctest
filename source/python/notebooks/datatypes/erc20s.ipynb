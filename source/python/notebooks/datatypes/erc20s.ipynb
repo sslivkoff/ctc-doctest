{
 "cells": [
  {
   "cell_type": "code",
   "execution_count": 1,
   "id": "98036760",
   "metadata": {
    "ExecuteTime": {
     "end_time": "2022-04-26T05:07:27.056766Z",
     "start_time": "2022-04-26T05:07:26.817158Z"
    }
   },
   "outputs": [],
   "source": [
    "from ctc import evm"
   ]
  },
  {
   "cell_type": "code",
   "execution_count": 2,
   "id": "93a868a2",
   "metadata": {
    "ExecuteTime": {
     "end_time": "2022-04-26T05:07:27.059550Z",
     "start_time": "2022-04-26T05:07:27.057818Z"
    }
   },
   "outputs": [],
   "source": [
    "erc20 = '0x956f47f50a910163d8bf957cf5846d573e7f87ca'\n",
    "\n",
    "erc20s = [\n",
    "    '0x956f47f50a910163d8bf957cf5846d573e7f87ca',\n",
    "    '0x5f98805a4e8be255a32880fdec7f6728c6568ba0',\n",
    "    '0x6b175474e89094c44da98b954eedeac495271d0f',\n",
    "]"
   ]
  },
  {
   "cell_type": "markdown",
   "id": "e28f949b",
   "metadata": {
    "ExecuteTime": {
     "end_time": "2022-04-26T04:30:28.047934Z",
     "start_time": "2022-04-26T04:30:28.044610Z"
    }
   },
   "source": [
    "## Get ERC20 metadata"
   ]
  },
  {
   "cell_type": "code",
   "execution_count": 3,
   "id": "f8cedbdc",
   "metadata": {
    "ExecuteTime": {
     "end_time": "2022-04-26T05:07:28.504791Z",
     "start_time": "2022-04-26T05:07:27.060583Z"
    }
   },
   "outputs": [
    {
     "name": "stdout",
     "output_type": "stream",
     "text": [
      "name: Fei USD\n",
      "symbol: FEI\n",
      "decimals: 18\n"
     ]
    }
   ],
   "source": [
    "name = await evm.async_get_erc20_name(erc20)\n",
    "symbol = await evm.async_get_erc20_symbol(erc20)\n",
    "decimals = await evm.async_get_erc20_decimals(erc20)\n",
    "\n",
    "print('name:', name)\n",
    "print('symbol:', symbol)\n",
    "print('decimals:', decimals)"
   ]
  },
  {
   "cell_type": "markdown",
   "id": "0350a2e6",
   "metadata": {
    "ExecuteTime": {
     "end_time": "2022-04-26T04:30:42.318531Z",
     "start_time": "2022-04-26T04:30:42.315443Z"
    }
   },
   "source": [
    "## Get ERC20s metadata"
   ]
  },
  {
   "cell_type": "code",
   "execution_count": 4,
   "id": "ee768790",
   "metadata": {
    "ExecuteTime": {
     "end_time": "2022-04-26T05:07:28.899779Z",
     "start_time": "2022-04-26T05:07:28.508811Z"
    }
   },
   "outputs": [
    {
     "name": "stdout",
     "output_type": "stream",
     "text": [
      "names: ['Fei USD', 'LUSD Stablecoin', 'Dai Stablecoin']\n",
      "symbols: ['FEI', 'LUSD', 'DAI']\n",
      "decimals: [18, 18, 18]\n"
     ]
    }
   ],
   "source": [
    "names = await evm.async_get_erc20s_names(erc20s)\n",
    "symbols = await evm.async_get_erc20s_symbols(erc20s)\n",
    "decimals = await evm.async_get_erc20s_decimals(erc20s)\n",
    "\n",
    "print('names:', names)\n",
    "print('symbols:', symbols)\n",
    "print('decimals:', decimals)"
   ]
  },
  {
   "cell_type": "markdown",
   "id": "162a2764",
   "metadata": {
    "ExecuteTime": {
     "end_time": "2022-04-26T04:36:06.804443Z",
     "start_time": "2022-04-26T04:36:06.801140Z"
    }
   },
   "source": [
    "## Get ERC20 state"
   ]
  },
  {
   "cell_type": "code",
   "execution_count": 5,
   "id": "ca02e71a",
   "metadata": {
    "ExecuteTime": {
     "end_time": "2022-04-26T05:07:29.376940Z",
     "start_time": "2022-04-26T05:07:28.903559Z"
    }
   },
   "outputs": [
    {
     "name": "stdout",
     "output_type": "stream",
     "text": [
      "total_supply: 559506382.6688191\n",
      "address_balance: 82013460.60914315\n"
     ]
    }
   ],
   "source": [
    "total_supply = await evm.async_get_erc20_total_supply(erc20)\n",
    "address_balance = await evm.async_get_erc20_balance_of(\n",
    "    '0x06cb22615ba53e60d67bf6c341a0fd5e718e1655',\n",
    "    erc20,\n",
    ")\n",
    "\n",
    "print('total_supply:', total_supply)\n",
    "print('address_balance:', address_balance)"
   ]
  },
  {
   "cell_type": "markdown",
   "id": "abbdfd65",
   "metadata": {
    "ExecuteTime": {
     "end_time": "2022-04-26T04:37:45.000157Z",
     "start_time": "2022-04-26T04:37:44.996630Z"
    }
   },
   "source": [
    "## Get raw un-normalized ERC20 state"
   ]
  },
  {
   "cell_type": "code",
   "execution_count": 6,
   "id": "d6b4574d",
   "metadata": {
    "ExecuteTime": {
     "end_time": "2022-04-26T05:07:29.599193Z",
     "start_time": "2022-04-26T05:07:29.380171Z"
    }
   },
   "outputs": [
    {
     "name": "stdout",
     "output_type": "stream",
     "text": [
      "raw_total_supply: 559506382668819036430800521\n",
      "raw_address_balance: 82013460609143161348292841\n"
     ]
    }
   ],
   "source": [
    "raw_total_supply = await evm.async_get_erc20_total_supply(\n",
    "    erc20,\n",
    "    normalize=False,\n",
    ")\n",
    "raw_address_balance = await evm.async_get_erc20_balance_of(\n",
    "    '0x06cb22615ba53e60d67bf6c341a0fd5e718e1655',\n",
    "    erc20,\n",
    "    normalize=False,\n",
    ")\n",
    "\n",
    "print('raw_total_supply:', raw_total_supply)\n",
    "print('raw_address_balance:', raw_address_balance)"
   ]
  },
  {
   "cell_type": "markdown",
   "id": "a1f39354",
   "metadata": {
    "ExecuteTime": {
     "end_time": "2022-04-26T04:54:00.410327Z",
     "start_time": "2022-04-26T04:54:00.406668Z"
    }
   },
   "source": [
    "## Normalize raw un-normalized ERC20 values"
   ]
  },
  {
   "cell_type": "code",
   "execution_count": 7,
   "id": "f36e517e",
   "metadata": {
    "ExecuteTime": {
     "end_time": "2022-04-26T05:07:29.811794Z",
     "start_time": "2022-04-26T05:07:29.602341Z"
    }
   },
   "outputs": [
    {
     "name": "stdout",
     "output_type": "stream",
     "text": [
      "normalized_total_supply: 559506382.6688191\n",
      "normalized_values: [559506382.6688191, 82013460.60914317]\n"
     ]
    }
   ],
   "source": [
    "normalized_total_supply = await evm.async_normalize_erc20_quantity(\n",
    "    raw_total_supply,\n",
    "    erc20,\n",
    ")\n",
    "normalized_values = await evm.async_normalize_erc20_quantities(\n",
    "    [raw_total_supply, raw_address_balance],\n",
    "    erc20,\n",
    ")\n",
    "\n",
    "print('normalized_total_supply:', normalized_total_supply)\n",
    "print('normalized_values:', normalized_values)"
   ]
  },
  {
   "cell_type": "markdown",
   "id": "38f56599",
   "metadata": {
    "ExecuteTime": {
     "end_time": "2022-04-26T04:37:08.280772Z",
     "start_time": "2022-04-26T04:37:08.277009Z"
    }
   },
   "source": [
    "## Get historical ERC20 state from a specific block"
   ]
  },
  {
   "cell_type": "code",
   "execution_count": 8,
   "id": "9e35b4b6",
   "metadata": {
    "ExecuteTime": {
     "end_time": "2022-04-26T05:07:30.296356Z",
     "start_time": "2022-04-26T05:07:29.814097Z"
    }
   },
   "outputs": [
    {
     "name": "stdout",
     "output_type": "stream",
     "text": [
      "total_supply: 751748886.6295298\n",
      "address_balance: 126538335.35590503\n"
     ]
    }
   ],
   "source": [
    "total_supply = await evm.async_get_erc20_total_supply(\n",
    "    erc20,\n",
    "    block=14000000,\n",
    ")\n",
    "address_balance = await evm.async_get_erc20_balance_of(\n",
    "    '0x06cb22615ba53e60d67bf6c341a0fd5e718e1655',\n",
    "    erc20,\n",
    "    block=14000000,\n",
    ")\n",
    "\n",
    "print('total_supply:', total_supply)\n",
    "print('address_balance:', address_balance)"
   ]
  },
  {
   "cell_type": "markdown",
   "id": "5d265d33",
   "metadata": {
    "ExecuteTime": {
     "end_time": "2022-04-26T04:43:58.034729Z",
     "start_time": "2022-04-26T04:43:58.031432Z"
    }
   },
   "source": [
    "## Get historical ERC20 state across multiple blocks"
   ]
  },
  {
   "cell_type": "code",
   "execution_count": 9,
   "id": "c29ac1f7",
   "metadata": {
    "ExecuteTime": {
     "end_time": "2022-04-26T05:07:31.059104Z",
     "start_time": "2022-04-26T05:07:30.300063Z"
    }
   },
   "outputs": [
    {
     "name": "stdout",
     "output_type": "stream",
     "text": [
      "total_supplies: [751748886.62953, 528229617.5828952, 550695508.5094506]\n",
      "address_balances: [126538335.35590503, 110223666.2844692, 122075790.9010594]\n"
     ]
    }
   ],
   "source": [
    "blocks = [14000000, 14100000, 14200000]\n",
    "\n",
    "total_supplies = await evm.async_get_erc20_total_supply_by_block(\n",
    "    erc20,\n",
    "    blocks=blocks,\n",
    ")\n",
    "address_balances = await evm.async_get_erc20_balance_of_by_block(\n",
    "    '0x06cb22615ba53e60d67bf6c341a0fd5e718e1655',\n",
    "    erc20,\n",
    "    blocks=blocks,\n",
    ")\n",
    "\n",
    "print('total_supplies:', total_supplies)\n",
    "print('address_balances:', address_balances)"
   ]
  },
  {
   "cell_type": "markdown",
   "id": "de01a42f",
   "metadata": {
    "ExecuteTime": {
     "end_time": "2022-04-26T04:43:09.362267Z",
     "start_time": "2022-04-26T04:43:09.360401Z"
    }
   },
   "source": [
    "## Get state of multiple ERC20s"
   ]
  },
  {
   "cell_type": "code",
   "execution_count": 10,
   "id": "9cb814d2",
   "metadata": {
    "ExecuteTime": {
     "end_time": "2022-04-26T05:07:31.568405Z",
     "start_time": "2022-04-26T05:07:31.062612Z"
    }
   },
   "outputs": [
    {
     "name": "stdout",
     "output_type": "stream",
     "text": [
      "total_supplies: [559506382.6688191, 486343744.2968917, 8667121220.280003]\n",
      "address_balances: [82013460.60914317, 0.0, 0.0]\n"
     ]
    }
   ],
   "source": [
    "total_supplies = await evm.async_get_erc20s_total_supplies(erc20s)\n",
    "address_balances = await evm.async_get_erc20s_balance_of(\n",
    "    '0x06cb22615ba53e60d67bf6c341a0fd5e718e1655',\n",
    "    erc20s,\n",
    ")\n",
    "\n",
    "print('total_supplies:', total_supplies)\n",
    "print('address_balances:', address_balances)"
   ]
  },
  {
   "cell_type": "markdown",
   "id": "d262c54a",
   "metadata": {
    "ExecuteTime": {
     "end_time": "2022-04-26T04:50:17.218226Z",
     "start_time": "2022-04-26T04:50:17.216543Z"
    }
   },
   "source": [
    "## Get ERC20 balance of multiple addresses"
   ]
  },
  {
   "cell_type": "code",
   "execution_count": 11,
   "id": "4c069720",
   "metadata": {
    "ExecuteTime": {
     "end_time": "2022-04-26T05:07:31.931157Z",
     "start_time": "2022-04-26T05:07:31.571621Z"
    }
   },
   "outputs": [
    {
     "name": "stdout",
     "output_type": "stream",
     "text": [
      "addresses_balances: [82013460.60914317, 81847315.3602611, 50080265.77634068]\n"
     ]
    }
   ],
   "source": [
    "addresses = [\n",
    "    '0x06cb22615ba53e60d67bf6c341a0fd5e718e1655',\n",
    "    '0x9928e4046d7c6513326ccea028cd3e7a91c7590a',\n",
    "    '0x2a188f9eb761f70ecea083ba6c2a40145078dfc2',\n",
    "]\n",
    "\n",
    "addresses_balances = await evm.async_get_erc20_balance_of_addresses(\n",
    "    addresses,\n",
    "    erc20,\n",
    ")\n",
    "\n",
    "print('addresses_balances:', addresses_balances)"
   ]
  },
  {
   "cell_type": "markdown",
   "id": "44905097",
   "metadata": {
    "ExecuteTime": {
     "end_time": "2022-04-26T04:29:05.869042Z",
     "start_time": "2022-04-26T04:29:05.867351Z"
    }
   },
   "source": [
    "## Get ERC20 transfers"
   ]
  },
  {
   "cell_type": "code",
   "execution_count": 12,
   "id": "8e16de6f",
   "metadata": {
    "ExecuteTime": {
     "end_time": "2022-04-26T05:07:34.782488Z",
     "start_time": "2022-04-26T05:07:31.931962Z"
    }
   },
   "outputs": [
    {
     "data": {
      "text/html": [
       "<div>\n",
       "<style scoped>\n",
       "    .dataframe tbody tr th:only-of-type {\n",
       "        vertical-align: middle;\n",
       "    }\n",
       "\n",
       "    .dataframe tbody tr th {\n",
       "        vertical-align: top;\n",
       "    }\n",
       "\n",
       "    .dataframe thead th {\n",
       "        text-align: right;\n",
       "    }\n",
       "</style>\n",
       "<table border=\"1\" class=\"dataframe\">\n",
       "  <thead>\n",
       "    <tr style=\"text-align: right;\">\n",
       "      <th></th>\n",
       "      <th></th>\n",
       "      <th></th>\n",
       "      <th>address</th>\n",
       "      <th>transaction_hash</th>\n",
       "      <th>block_hash</th>\n",
       "      <th>contract_address</th>\n",
       "      <th>event_name</th>\n",
       "      <th>event_hash</th>\n",
       "      <th>arg__from</th>\n",
       "      <th>arg__to</th>\n",
       "      <th>arg__amount</th>\n",
       "    </tr>\n",
       "    <tr>\n",
       "      <th>block_number</th>\n",
       "      <th>transaction_index</th>\n",
       "      <th>log_index</th>\n",
       "      <th></th>\n",
       "      <th></th>\n",
       "      <th></th>\n",
       "      <th></th>\n",
       "      <th></th>\n",
       "      <th></th>\n",
       "      <th></th>\n",
       "      <th></th>\n",
       "      <th></th>\n",
       "    </tr>\n",
       "  </thead>\n",
       "  <tbody>\n",
       "    <tr>\n",
       "      <th rowspan=\"5\" valign=\"top\">12168368</th>\n",
       "      <th rowspan=\"5\" valign=\"top\">61</th>\n",
       "      <th>29</th>\n",
       "      <td>0x956f47f50a910163d8bf957cf5846d573e7f87ca</td>\n",
       "      <td>0xc9851f374701f76024c1f44f7166e0ef8a9945675046...</td>\n",
       "      <td>0x3bce142af146fec596340d67569a44688690955a065f...</td>\n",
       "      <td>0x956f47f50a910163d8bf957cf5846d573e7f87ca</td>\n",
       "      <td>Transfer</td>\n",
       "      <td>0xddf252ad1be2c89b69c2b068fc378daa952ba7f163c4...</td>\n",
       "      <td>0x0000000000000000000000000000000000000000</td>\n",
       "      <td>0xbffb152b9392e38cddc275d818a3db7fe364596b</td>\n",
       "      <td>1302613195.326042</td>\n",
       "    </tr>\n",
       "    <tr>\n",
       "      <th>32</th>\n",
       "      <td>0x956f47f50a910163d8bf957cf5846d573e7f87ca</td>\n",
       "      <td>0xc9851f374701f76024c1f44f7166e0ef8a9945675046...</td>\n",
       "      <td>0x3bce142af146fec596340d67569a44688690955a065f...</td>\n",
       "      <td>0x956f47f50a910163d8bf957cf5846d573e7f87ca</td>\n",
       "      <td>Transfer</td>\n",
       "      <td>0xddf252ad1be2c89b69c2b068fc378daa952ba7f163c4...</td>\n",
       "      <td>0x0000000000000000000000000000000000000000</td>\n",
       "      <td>0x9b0c6299d08fe823f2c0598d97a1141507e4ad86</td>\n",
       "      <td>1315770904.36974</td>\n",
       "    </tr>\n",
       "    <tr>\n",
       "      <th>34</th>\n",
       "      <td>0x956f47f50a910163d8bf957cf5846d573e7f87ca</td>\n",
       "      <td>0xc9851f374701f76024c1f44f7166e0ef8a9945675046...</td>\n",
       "      <td>0x3bce142af146fec596340d67569a44688690955a065f...</td>\n",
       "      <td>0x956f47f50a910163d8bf957cf5846d573e7f87ca</td>\n",
       "      <td>Transfer</td>\n",
       "      <td>0xddf252ad1be2c89b69c2b068fc378daa952ba7f163c4...</td>\n",
       "      <td>0x9b0c6299d08fe823f2c0598d97a1141507e4ad86</td>\n",
       "      <td>0x94b0a3d511b6ecdb17ebf877278ab030acb0a878</td>\n",
       "      <td>1315770904.36974</td>\n",
       "    </tr>\n",
       "    <tr>\n",
       "      <th>42</th>\n",
       "      <td>0x956f47f50a910163d8bf957cf5846d573e7f87ca</td>\n",
       "      <td>0xc9851f374701f76024c1f44f7166e0ef8a9945675046...</td>\n",
       "      <td>0x3bce142af146fec596340d67569a44688690955a065f...</td>\n",
       "      <td>0x956f47f50a910163d8bf957cf5846d573e7f87ca</td>\n",
       "      <td>Transfer</td>\n",
       "      <td>0xddf252ad1be2c89b69c2b068fc378daa952ba7f163c4...</td>\n",
       "      <td>0x9b0c6299d08fe823f2c0598d97a1141507e4ad86</td>\n",
       "      <td>0x0000000000000000000000000000000000000000</td>\n",
       "      <td>0.0</td>\n",
       "    </tr>\n",
       "    <tr>\n",
       "      <th>46</th>\n",
       "      <td>0x956f47f50a910163d8bf957cf5846d573e7f87ca</td>\n",
       "      <td>0xc9851f374701f76024c1f44f7166e0ef8a9945675046...</td>\n",
       "      <td>0x3bce142af146fec596340d67569a44688690955a065f...</td>\n",
       "      <td>0x956f47f50a910163d8bf957cf5846d573e7f87ca</td>\n",
       "      <td>Transfer</td>\n",
       "      <td>0xddf252ad1be2c89b69c2b068fc378daa952ba7f163c4...</td>\n",
       "      <td>0x0000000000000000000000000000000000000000</td>\n",
       "      <td>0xbffb152b9392e38cddc275d818a3db7fe364596b</td>\n",
       "      <td>500.0</td>\n",
       "    </tr>\n",
       "    <tr>\n",
       "      <th>...</th>\n",
       "      <th>...</th>\n",
       "      <th>...</th>\n",
       "      <td>...</td>\n",
       "      <td>...</td>\n",
       "      <td>...</td>\n",
       "      <td>...</td>\n",
       "      <td>...</td>\n",
       "      <td>...</td>\n",
       "      <td>...</td>\n",
       "      <td>...</td>\n",
       "      <td>...</td>\n",
       "    </tr>\n",
       "    <tr>\n",
       "      <th rowspan=\"2\" valign=\"top\">14658112</th>\n",
       "      <th rowspan=\"2\" valign=\"top\">29</th>\n",
       "      <th>70</th>\n",
       "      <td>0x956f47f50a910163d8bf957cf5846d573e7f87ca</td>\n",
       "      <td>0x6380ed1ff7267489f6e0c3d911f5fb7b5eb5ed800505...</td>\n",
       "      <td>0x30aa8e2534a5871dd4b55b97c209a9b037ee9ac23121...</td>\n",
       "      <td>0x956f47f50a910163d8bf957cf5846d573e7f87ca</td>\n",
       "      <td>Transfer</td>\n",
       "      <td>0xddf252ad1be2c89b69c2b068fc378daa952ba7f163c4...</td>\n",
       "      <td>0x81e289cdb4c163eda38a85d98e6e3e18106b0577</td>\n",
       "      <td>0x4188fbd7adc72853e3275f1c3503e170994888d7</td>\n",
       "      <td>214110.904466</td>\n",
       "    </tr>\n",
       "    <tr>\n",
       "      <th>74</th>\n",
       "      <td>0x956f47f50a910163d8bf957cf5846d573e7f87ca</td>\n",
       "      <td>0x6380ed1ff7267489f6e0c3d911f5fb7b5eb5ed800505...</td>\n",
       "      <td>0x30aa8e2534a5871dd4b55b97c209a9b037ee9ac23121...</td>\n",
       "      <td>0x956f47f50a910163d8bf957cf5846d573e7f87ca</td>\n",
       "      <td>Transfer</td>\n",
       "      <td>0xddf252ad1be2c89b69c2b068fc378daa952ba7f163c4...</td>\n",
       "      <td>0x4188fbd7adc72853e3275f1c3503e170994888d7</td>\n",
       "      <td>0xd8553552f8868c1ef160eedf031cf0bcf9686945</td>\n",
       "      <td>214110.904466</td>\n",
       "    </tr>\n",
       "    <tr>\n",
       "      <th>14658180</th>\n",
       "      <th>312</th>\n",
       "      <th>472</th>\n",
       "      <td>0x956f47f50a910163d8bf957cf5846d573e7f87ca</td>\n",
       "      <td>0x5fbedf40dc8736edaa2dff2f0efecc67968e664e6961...</td>\n",
       "      <td>0x9b0d83344416e39e705b3b1bc94ad599282ce113739d...</td>\n",
       "      <td>0x956f47f50a910163d8bf957cf5846d573e7f87ca</td>\n",
       "      <td>Transfer</td>\n",
       "      <td>0xddf252ad1be2c89b69c2b068fc378daa952ba7f163c4...</td>\n",
       "      <td>0x94b0a3d511b6ecdb17ebf877278ab030acb0a878</td>\n",
       "      <td>0xbc99c4bd93c24db1bf553f2c7f9348be639fe5b6</td>\n",
       "      <td>100.0</td>\n",
       "    </tr>\n",
       "    <tr>\n",
       "      <th rowspan=\"2\" valign=\"top\">14658188</th>\n",
       "      <th rowspan=\"2\" valign=\"top\">27</th>\n",
       "      <th>75</th>\n",
       "      <td>0x956f47f50a910163d8bf957cf5846d573e7f87ca</td>\n",
       "      <td>0xd583165618e774fddd86ad295213d08b1555bba9baee...</td>\n",
       "      <td>0xfb587295db467998b8f66b97d4ca02d5478654586fb2...</td>\n",
       "      <td>0x956f47f50a910163d8bf957cf5846d573e7f87ca</td>\n",
       "      <td>Transfer</td>\n",
       "      <td>0xddf252ad1be2c89b69c2b068fc378daa952ba7f163c4...</td>\n",
       "      <td>0xbc99c4bd93c24db1bf553f2c7f9348be639fe5b6</td>\n",
       "      <td>0x4188fbd7adc72853e3275f1c3503e170994888d7</td>\n",
       "      <td>100.0</td>\n",
       "    </tr>\n",
       "    <tr>\n",
       "      <th>79</th>\n",
       "      <td>0x956f47f50a910163d8bf957cf5846d573e7f87ca</td>\n",
       "      <td>0xd583165618e774fddd86ad295213d08b1555bba9baee...</td>\n",
       "      <td>0xfb587295db467998b8f66b97d4ca02d5478654586fb2...</td>\n",
       "      <td>0x956f47f50a910163d8bf957cf5846d573e7f87ca</td>\n",
       "      <td>Transfer</td>\n",
       "      <td>0xddf252ad1be2c89b69c2b068fc378daa952ba7f163c4...</td>\n",
       "      <td>0x4188fbd7adc72853e3275f1c3503e170994888d7</td>\n",
       "      <td>0xd8553552f8868c1ef160eedf031cf0bcf9686945</td>\n",
       "      <td>100.0</td>\n",
       "    </tr>\n",
       "  </tbody>\n",
       "</table>\n",
       "<p>230803 rows × 9 columns</p>\n",
       "</div>"
      ],
      "text/plain": [
       "                                                                             address  \\\n",
       "block_number transaction_index log_index                                               \n",
       "12168368     61                29         0x956f47f50a910163d8bf957cf5846d573e7f87ca   \n",
       "                               32         0x956f47f50a910163d8bf957cf5846d573e7f87ca   \n",
       "                               34         0x956f47f50a910163d8bf957cf5846d573e7f87ca   \n",
       "                               42         0x956f47f50a910163d8bf957cf5846d573e7f87ca   \n",
       "                               46         0x956f47f50a910163d8bf957cf5846d573e7f87ca   \n",
       "...                                                                              ...   \n",
       "14658112     29                70         0x956f47f50a910163d8bf957cf5846d573e7f87ca   \n",
       "                               74         0x956f47f50a910163d8bf957cf5846d573e7f87ca   \n",
       "14658180     312               472        0x956f47f50a910163d8bf957cf5846d573e7f87ca   \n",
       "14658188     27                75         0x956f47f50a910163d8bf957cf5846d573e7f87ca   \n",
       "                               79         0x956f47f50a910163d8bf957cf5846d573e7f87ca   \n",
       "\n",
       "                                                                           transaction_hash  \\\n",
       "block_number transaction_index log_index                                                      \n",
       "12168368     61                29         0xc9851f374701f76024c1f44f7166e0ef8a9945675046...   \n",
       "                               32         0xc9851f374701f76024c1f44f7166e0ef8a9945675046...   \n",
       "                               34         0xc9851f374701f76024c1f44f7166e0ef8a9945675046...   \n",
       "                               42         0xc9851f374701f76024c1f44f7166e0ef8a9945675046...   \n",
       "                               46         0xc9851f374701f76024c1f44f7166e0ef8a9945675046...   \n",
       "...                                                                                     ...   \n",
       "14658112     29                70         0x6380ed1ff7267489f6e0c3d911f5fb7b5eb5ed800505...   \n",
       "                               74         0x6380ed1ff7267489f6e0c3d911f5fb7b5eb5ed800505...   \n",
       "14658180     312               472        0x5fbedf40dc8736edaa2dff2f0efecc67968e664e6961...   \n",
       "14658188     27                75         0xd583165618e774fddd86ad295213d08b1555bba9baee...   \n",
       "                               79         0xd583165618e774fddd86ad295213d08b1555bba9baee...   \n",
       "\n",
       "                                                                                 block_hash  \\\n",
       "block_number transaction_index log_index                                                      \n",
       "12168368     61                29         0x3bce142af146fec596340d67569a44688690955a065f...   \n",
       "                               32         0x3bce142af146fec596340d67569a44688690955a065f...   \n",
       "                               34         0x3bce142af146fec596340d67569a44688690955a065f...   \n",
       "                               42         0x3bce142af146fec596340d67569a44688690955a065f...   \n",
       "                               46         0x3bce142af146fec596340d67569a44688690955a065f...   \n",
       "...                                                                                     ...   \n",
       "14658112     29                70         0x30aa8e2534a5871dd4b55b97c209a9b037ee9ac23121...   \n",
       "                               74         0x30aa8e2534a5871dd4b55b97c209a9b037ee9ac23121...   \n",
       "14658180     312               472        0x9b0d83344416e39e705b3b1bc94ad599282ce113739d...   \n",
       "14658188     27                75         0xfb587295db467998b8f66b97d4ca02d5478654586fb2...   \n",
       "                               79         0xfb587295db467998b8f66b97d4ca02d5478654586fb2...   \n",
       "\n",
       "                                                                    contract_address  \\\n",
       "block_number transaction_index log_index                                               \n",
       "12168368     61                29         0x956f47f50a910163d8bf957cf5846d573e7f87ca   \n",
       "                               32         0x956f47f50a910163d8bf957cf5846d573e7f87ca   \n",
       "                               34         0x956f47f50a910163d8bf957cf5846d573e7f87ca   \n",
       "                               42         0x956f47f50a910163d8bf957cf5846d573e7f87ca   \n",
       "                               46         0x956f47f50a910163d8bf957cf5846d573e7f87ca   \n",
       "...                                                                              ...   \n",
       "14658112     29                70         0x956f47f50a910163d8bf957cf5846d573e7f87ca   \n",
       "                               74         0x956f47f50a910163d8bf957cf5846d573e7f87ca   \n",
       "14658180     312               472        0x956f47f50a910163d8bf957cf5846d573e7f87ca   \n",
       "14658188     27                75         0x956f47f50a910163d8bf957cf5846d573e7f87ca   \n",
       "                               79         0x956f47f50a910163d8bf957cf5846d573e7f87ca   \n",
       "\n",
       "                                         event_name  \\\n",
       "block_number transaction_index log_index              \n",
       "12168368     61                29          Transfer   \n",
       "                               32          Transfer   \n",
       "                               34          Transfer   \n",
       "                               42          Transfer   \n",
       "                               46          Transfer   \n",
       "...                                             ...   \n",
       "14658112     29                70          Transfer   \n",
       "                               74          Transfer   \n",
       "14658180     312               472         Transfer   \n",
       "14658188     27                75          Transfer   \n",
       "                               79          Transfer   \n",
       "\n",
       "                                                                                 event_hash  \\\n",
       "block_number transaction_index log_index                                                      \n",
       "12168368     61                29         0xddf252ad1be2c89b69c2b068fc378daa952ba7f163c4...   \n",
       "                               32         0xddf252ad1be2c89b69c2b068fc378daa952ba7f163c4...   \n",
       "                               34         0xddf252ad1be2c89b69c2b068fc378daa952ba7f163c4...   \n",
       "                               42         0xddf252ad1be2c89b69c2b068fc378daa952ba7f163c4...   \n",
       "                               46         0xddf252ad1be2c89b69c2b068fc378daa952ba7f163c4...   \n",
       "...                                                                                     ...   \n",
       "14658112     29                70         0xddf252ad1be2c89b69c2b068fc378daa952ba7f163c4...   \n",
       "                               74         0xddf252ad1be2c89b69c2b068fc378daa952ba7f163c4...   \n",
       "14658180     312               472        0xddf252ad1be2c89b69c2b068fc378daa952ba7f163c4...   \n",
       "14658188     27                75         0xddf252ad1be2c89b69c2b068fc378daa952ba7f163c4...   \n",
       "                               79         0xddf252ad1be2c89b69c2b068fc378daa952ba7f163c4...   \n",
       "\n",
       "                                                                           arg__from  \\\n",
       "block_number transaction_index log_index                                               \n",
       "12168368     61                29         0x0000000000000000000000000000000000000000   \n",
       "                               32         0x0000000000000000000000000000000000000000   \n",
       "                               34         0x9b0c6299d08fe823f2c0598d97a1141507e4ad86   \n",
       "                               42         0x9b0c6299d08fe823f2c0598d97a1141507e4ad86   \n",
       "                               46         0x0000000000000000000000000000000000000000   \n",
       "...                                                                              ...   \n",
       "14658112     29                70         0x81e289cdb4c163eda38a85d98e6e3e18106b0577   \n",
       "                               74         0x4188fbd7adc72853e3275f1c3503e170994888d7   \n",
       "14658180     312               472        0x94b0a3d511b6ecdb17ebf877278ab030acb0a878   \n",
       "14658188     27                75         0xbc99c4bd93c24db1bf553f2c7f9348be639fe5b6   \n",
       "                               79         0x4188fbd7adc72853e3275f1c3503e170994888d7   \n",
       "\n",
       "                                                                             arg__to  \\\n",
       "block_number transaction_index log_index                                               \n",
       "12168368     61                29         0xbffb152b9392e38cddc275d818a3db7fe364596b   \n",
       "                               32         0x9b0c6299d08fe823f2c0598d97a1141507e4ad86   \n",
       "                               34         0x94b0a3d511b6ecdb17ebf877278ab030acb0a878   \n",
       "                               42         0x0000000000000000000000000000000000000000   \n",
       "                               46         0xbffb152b9392e38cddc275d818a3db7fe364596b   \n",
       "...                                                                              ...   \n",
       "14658112     29                70         0x4188fbd7adc72853e3275f1c3503e170994888d7   \n",
       "                               74         0xd8553552f8868c1ef160eedf031cf0bcf9686945   \n",
       "14658180     312               472        0xbc99c4bd93c24db1bf553f2c7f9348be639fe5b6   \n",
       "14658188     27                75         0x4188fbd7adc72853e3275f1c3503e170994888d7   \n",
       "                               79         0xd8553552f8868c1ef160eedf031cf0bcf9686945   \n",
       "\n",
       "                                                arg__amount  \n",
       "block_number transaction_index log_index                     \n",
       "12168368     61                29         1302613195.326042  \n",
       "                               32          1315770904.36974  \n",
       "                               34          1315770904.36974  \n",
       "                               42                       0.0  \n",
       "                               46                     500.0  \n",
       "...                                                     ...  \n",
       "14658112     29                70             214110.904466  \n",
       "                               74             214110.904466  \n",
       "14658180     312               472                    100.0  \n",
       "14658188     27                75                     100.0  \n",
       "                               79                     100.0  \n",
       "\n",
       "[230803 rows x 9 columns]"
      ]
     },
     "execution_count": 12,
     "metadata": {},
     "output_type": "execute_result"
    }
   ],
   "source": [
    "transfers = await evm.async_get_erc20_transfers(erc20, verbose=False)\n",
    "\n",
    "transfers"
   ]
  },
  {
   "cell_type": "markdown",
   "id": "0c3c89cf",
   "metadata": {
    "ExecuteTime": {
     "end_time": "2022-04-26T04:29:20.960459Z",
     "start_time": "2022-04-26T04:29:20.958756Z"
    }
   },
   "source": [
    "## Get ERC20 holdings from transfers"
   ]
  },
  {
   "cell_type": "code",
   "execution_count": 13,
   "id": "8f5806f8",
   "metadata": {
    "ExecuteTime": {
     "end_time": "2022-04-26T05:07:39.185778Z",
     "start_time": "2022-04-26T05:07:34.783688Z"
    }
   },
   "outputs": [
    {
     "data": {
      "text/plain": [
       "address\n",
       "0x06cb22615ba53e60d67bf6c341a0fd5e718e1655      82013460609143161348292841\n",
       "0x9928e4046d7c6513326ccea028cd3e7a91c7590a      81847315360261096266963204\n",
       "0x2a188f9eb761f70ecea083ba6c2a40145078dfc2      50080265776340681042249402\n",
       "0xdf50fbde8180c8785842c8e316ebe06f542d3443      46065744752632102671172954\n",
       "0xbc9c084a12678ef5b516561df902fdc426d95483      39071315320916302703293699\n",
       "                                                          ...             \n",
       "0x5e8c6d1b31c681f0759e86f186c085b1e00195bc                               0\n",
       "0x5e8f0803d03dfbf397bf732c3232f6bebd2e0c0d                               0\n",
       "0x5e945fe1851a2bfc86d618e200708d6209bb9bb6                               0\n",
       "0x5e986b9794cba744d06299e214217ae5f926b244                               0\n",
       "0x0000000000000000000000000000000000000000    -559506382668819036430800521\n",
       "Name: balance, Length: 19605, dtype: object"
      ]
     },
     "execution_count": 13,
     "metadata": {},
     "output_type": "execute_result"
    }
   ],
   "source": [
    "transfers = await evm.async_get_erc20_transfers(\n",
    "    erc20,\n",
    "    normalize=False,\n",
    "    verbose=False,\n",
    ")\n",
    "holders = await evm.async_get_erc20_holdings_from_transfers(transfers)\n",
    "\n",
    "holders"
   ]
  }
 ],
 "metadata": {
  "kernelspec": {
   "display_name": "Python 3",
   "language": "python",
   "name": "python3"
  },
  "language_info": {
   "codemirror_mode": {
    "name": "ipython",
    "version": 3
   },
   "file_extension": ".py",
   "mimetype": "text/x-python",
   "name": "python",
   "nbconvert_exporter": "python",
   "pygments_lexer": "ipython3",
   "version": "3.9.5"
  }
 },
 "nbformat": 4,
 "nbformat_minor": 5
}
