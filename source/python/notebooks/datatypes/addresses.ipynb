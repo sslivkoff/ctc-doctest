{
 "cells": [
  {
   "cell_type": "code",
   "execution_count": 1,
   "id": "b8eb5db7",
   "metadata": {
    "ExecuteTime": {
     "end_time": "2022-09-25T22:51:11.679983Z",
     "start_time": "2022-09-25T22:51:11.667524Z"
    }
   },
   "outputs": [],
   "source": [
    "import ctc"
   ]
  },
  {
   "cell_type": "code",
   "execution_count": 2,
   "id": "70b7ce0a",
   "metadata": {
    "ExecuteTime": {
     "end_time": "2022-09-25T22:51:11.682450Z",
     "start_time": "2022-09-25T22:51:11.681000Z"
    }
   },
   "outputs": [],
   "source": [
    "address = '0xa0b86991c6218b36c1d19d4a2e9eb0ce3606eb48'"
   ]
  },
  {
   "cell_type": "markdown",
   "id": "d7180d12",
   "metadata": {
    "ExecuteTime": {
     "end_time": "2022-09-21T04:35:54.804372Z",
     "start_time": "2022-09-21T04:35:54.802667Z"
    }
   },
   "source": [
    "## Get proxy implementation"
   ]
  },
  {
   "cell_type": "code",
   "execution_count": 3,
   "id": "83496c4f",
   "metadata": {
    "ExecuteTime": {
     "end_time": "2022-09-25T22:51:12.311152Z",
     "start_time": "2022-09-25T22:51:11.683275Z"
    }
   },
   "outputs": [
    {
     "data": {
      "text/plain": [
       "'0xa2327a938febf5fec13bacfb16ae10ecbc4cbdcf'"
      ]
     },
     "execution_count": 3,
     "metadata": {},
     "output_type": "execute_result"
    }
   ],
   "source": [
    "implementation = await ctc.async_get_proxy_implementation(address)\n",
    "\n",
    "implementation"
   ]
  },
  {
   "cell_type": "code",
   "execution_count": 4,
   "id": "3765f967",
   "metadata": {
    "ExecuteTime": {
     "end_time": "2022-09-25T22:51:12.856723Z",
     "start_time": "2022-09-25T22:51:12.311925Z"
    }
   },
   "outputs": [
    {
     "data": {
      "text/plain": [
       "{'implementation': '0xa2327a938febf5fec13bacfb16ae10ecbc4cbdcf',\n",
       " 'proxy_type': 'openzeppelin'}"
      ]
     },
     "execution_count": 4,
     "metadata": {},
     "output_type": "execute_result"
    }
   ],
   "source": [
    "await ctc.async_get_proxy_metadata(address)"
   ]
  },
  {
   "cell_type": "markdown",
   "id": "f2fb80ac",
   "metadata": {
    "ExecuteTime": {
     "end_time": "2022-04-26T04:12:49.713891Z",
     "start_time": "2022-04-26T04:12:49.709823Z"
    }
   },
   "source": [
    "## Get contract creation block"
   ]
  },
  {
   "cell_type": "code",
   "execution_count": 5,
   "id": "9095eeec",
   "metadata": {
    "ExecuteTime": {
     "end_time": "2022-09-25T22:51:13.008172Z",
     "start_time": "2022-09-25T22:51:12.857721Z"
    }
   },
   "outputs": [
    {
     "data": {
      "text/plain": [
       "6082465"
      ]
     },
     "execution_count": 5,
     "metadata": {},
     "output_type": "execute_result"
    }
   ],
   "source": [
    "block_number = await ctc.async_get_contract_creation_block(address)\n",
    "\n",
    "block_number"
   ]
  },
  {
   "cell_type": "markdown",
   "id": "f728750b",
   "metadata": {
    "ExecuteTime": {
     "end_time": "2022-09-21T04:38:33.587773Z",
     "start_time": "2022-09-21T04:38:33.583745Z"
    }
   },
   "source": [
    "## Check whether address is a contract"
   ]
  },
  {
   "cell_type": "code",
   "execution_count": 6,
   "id": "e1d8e702",
   "metadata": {
    "ExecuteTime": {
     "end_time": "2022-09-25T22:51:13.150953Z",
     "start_time": "2022-09-25T22:51:13.009228Z"
    }
   },
   "outputs": [
    {
     "data": {
      "text/plain": [
       "True"
      ]
     },
     "execution_count": 6,
     "metadata": {},
     "output_type": "execute_result"
    }
   ],
   "source": [
    "await ctc.async_is_contract_address(address)"
   ]
  },
  {
   "cell_type": "markdown",
   "id": "dbe6eb08",
   "metadata": {
    "ExecuteTime": {
     "end_time": "2022-09-21T04:42:04.660510Z",
     "start_time": "2022-09-21T04:42:04.656893Z"
    }
   },
   "source": [
    "## Resolve address"
   ]
  },
  {
   "cell_type": "code",
   "execution_count": 7,
   "id": "ae2fd7c2",
   "metadata": {
    "ExecuteTime": {
     "end_time": "2022-09-25T22:51:13.428235Z",
     "start_time": "2022-09-25T22:51:13.153838Z"
    }
   },
   "outputs": [
    {
     "name": "stdout",
     "output_type": "stream",
     "text": [
      "0xd8da6bf26964af9d7eed9e03e53415d37aa96045\n",
      "0xd8da6bf26964af9d7eed9e03e53415d37aa96045\n"
     ]
    }
   ],
   "source": [
    "# for more detailed tools, see ctc.protocols.ens_utils\n",
    "\n",
    "address = await ctc.async_resolve_address('vitalik.eth')\n",
    "print(address)\n",
    "\n",
    "address = await ctc.async_resolve_address('vitalik.eth', block=14000000)\n",
    "print(address)"
   ]
  },
  {
   "cell_type": "code",
   "execution_count": 8,
   "id": "bed0f4f9",
   "metadata": {
    "ExecuteTime": {
     "end_time": "2022-09-25T22:51:13.700576Z",
     "start_time": "2022-09-25T22:51:13.431729Z"
    }
   },
   "outputs": [
    {
     "data": {
      "text/plain": [
       "['0xd8da6bf26964af9d7eed9e03e53415d37aa96045',\n",
       " '0xd61415f6c5d93027778ceab5f099f64c29f58fd7',\n",
       " '0x465e7c8cd7126dad1a905624ea5d85eb717ef41f']"
      ]
     },
     "execution_count": 8,
     "metadata": {},
     "output_type": "execute_result"
    }
   ],
   "source": [
    "await ctc.async_resolve_addresses(\n",
    "    ['vitalik.eth', 'paradigm.eth', 'tetranode.eth'],\n",
    ")"
   ]
  },
  {
   "cell_type": "code",
   "execution_count": 9,
   "id": "be429902",
   "metadata": {
    "ExecuteTime": {
     "end_time": "2022-09-25T22:51:13.936134Z",
     "start_time": "2022-09-25T22:51:13.702706Z"
    }
   },
   "outputs": [
    {
     "data": {
      "text/plain": [
       "['0xf7832ae2ae254326c9fb9b7ea1e1fa74d867f05c',\n",
       " '0xf7832ae2ae254326c9fb9b7ea1e1fa74d867f05c',\n",
       " '0xf7832ae2ae254326c9fb9b7ea1e1fa74d867f05c',\n",
       " '0x465e7c8cd7126dad1a905624ea5d85eb717ef41f']"
      ]
     },
     "execution_count": 9,
     "metadata": {},
     "output_type": "execute_result"
    }
   ],
   "source": [
    "await ctc.async_resolve_address_by_block(\n",
    "    'tetranode.eth',\n",
    "    blocks=[13000000, 14000000, 14500000, 15000000],\n",
    ")"
   ]
  },
  {
   "cell_type": "markdown",
   "id": "6e16b042",
   "metadata": {
    "ExecuteTime": {
     "end_time": "2022-09-21T04:36:18.103145Z",
     "start_time": "2022-09-21T04:36:18.099638Z"
    }
   },
   "source": [
    "## Get address checksum"
   ]
  },
  {
   "cell_type": "code",
   "execution_count": 10,
   "id": "ade1f02e",
   "metadata": {
    "ExecuteTime": {
     "end_time": "2022-09-25T22:51:13.939277Z",
     "start_time": "2022-09-25T22:51:13.937062Z"
    },
    "scrolled": true
   },
   "outputs": [
    {
     "data": {
      "text/plain": [
       "'0xd8dA6BF26964aF9D7eEd9e03E53415D37aA96045'"
      ]
     },
     "execution_count": 10,
     "metadata": {},
     "output_type": "execute_result"
    }
   ],
   "source": [
    "ctc.get_address_checksum(address)"
   ]
  },
  {
   "cell_type": "markdown",
   "id": "d461e665",
   "metadata": {
    "ExecuteTime": {
     "end_time": "2022-09-21T04:38:15.706834Z",
     "start_time": "2022-09-21T04:38:15.702377Z"
    }
   },
   "source": [
    "## Get CREATE and CREATE2 addresses"
   ]
  },
  {
   "cell_type": "code",
   "execution_count": 11,
   "id": "b922db1b",
   "metadata": {
    "ExecuteTime": {
     "end_time": "2022-09-25T22:51:13.943306Z",
     "start_time": "2022-09-25T22:51:13.940298Z"
    },
    "scrolled": true
   },
   "outputs": [
    {
     "data": {
      "text/plain": [
       "'0x1740e833ed8c289d79323054524cdbd52de500b8'"
      ]
     },
     "execution_count": 11,
     "metadata": {},
     "output_type": "execute_result"
    }
   ],
   "source": [
    "# CREATE\n",
    "\n",
    "ctc.get_created_address(sender=address, nonce=42)"
   ]
  },
  {
   "cell_type": "code",
   "execution_count": 12,
   "id": "45d17815",
   "metadata": {
    "ExecuteTime": {
     "end_time": "2022-09-25T22:51:13.949314Z",
     "start_time": "2022-09-25T22:51:13.944015Z"
    }
   },
   "outputs": [
    {
     "data": {
      "text/plain": [
       "'0x752083dd1c2e2f0b44de3a41a42ea21ed0345575'"
      ]
     },
     "execution_count": 12,
     "metadata": {},
     "output_type": "execute_result"
    }
   ],
   "source": [
    "# CREATE2\n",
    "\n",
    "ctc.get_created_address(\n",
    "    sender=address,\n",
    "    salt='0xdeadbeef',\n",
    "    init_code='0xdeadbeef',\n",
    ")"
   ]
  }
 ],
 "metadata": {
  "kernelspec": {
   "display_name": "Python 3",
   "language": "python",
   "name": "python3"
  },
  "language_info": {
   "codemirror_mode": {
    "name": "ipython",
    "version": 3
   },
   "file_extension": ".py",
   "mimetype": "text/x-python",
   "name": "python",
   "nbconvert_exporter": "python",
   "pygments_lexer": "ipython3",
   "version": "3.9.5"
  }
 },
 "nbformat": 4,
 "nbformat_minor": 5
}
